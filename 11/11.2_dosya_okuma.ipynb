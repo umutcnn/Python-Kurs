{
 "cells": [
  {
   "cell_type": "code",
   "execution_count": 6,
   "id": "9e36bb70",
   "metadata": {},
   "outputs": [
    {
     "name": "stdout",
     "output_type": "stream",
     "text": [
      "<_io.TextIOWrapper name='newfile.txt' mode='r' encoding='utf-8'>\n"
     ]
    }
   ],
   "source": [
    "file=open(\"newfile.txt\",\"r\",encoding='utf-8')\n",
    "\n",
    "print(file)"
   ]
  },
  {
   "cell_type": "code",
   "execution_count": 7,
   "id": "8c3e90da",
   "metadata": {},
   "outputs": [
    {
     "name": "stdout",
     "output_type": "stream",
     "text": [
      "<_io.TextIOWrapper name='newwfile.txt' mode='r' encoding='utf-8'>\n"
     ]
    }
   ],
   "source": [
    "file=open(\"newwfile.txt\",\"r\",encoding='utf-8')\n",
    "\n",
    "print(file)"
   ]
  },
  {
   "cell_type": "code",
   "execution_count": 10,
   "id": "506bcf3c",
   "metadata": {},
   "outputs": [
    {
     "name": "stdout",
     "output_type": "stream",
     "text": [
      "dosya okuma hatasi\n",
      "dosya kapandi\n",
      "<_io.TextIOWrapper name='newwfile.txt' mode='r' encoding='utf-8'>\n"
     ]
    }
   ],
   "source": [
    "\n",
    "try:\n",
    "    file=open(\"newfilee.txt\",\"r\",encoding='utf-8')\n",
    "except FileNotFoundError:\n",
    "    print(\"dosya okuma hatasi\")\n",
    "finally:\n",
    "    file.close()\n",
    "    print(\"dosya kapandi\")\n",
    "print(file)"
   ]
  },
  {
   "cell_type": "code",
   "execution_count": 14,
   "id": "6e49a520",
   "metadata": {},
   "outputs": [
    {
     "name": "stdout",
     "output_type": "stream",
     "text": [
      "umut can yıldız\n"
     ]
    }
   ],
   "source": [
    "file=open(\"newfile.txt\",\"r\",encoding='utf-8')\n",
    "#for dongusu ile okuma\n",
    "for i in file:\n",
    "    print(i)"
   ]
  },
  {
   "cell_type": "code",
   "execution_count": 16,
   "id": "3dc343d2",
   "metadata": {},
   "outputs": [
    {
     "name": "stdout",
     "output_type": "stream",
     "text": [
      "umut can yıldız\n"
     ]
    }
   ],
   "source": [
    "file=open(\"newfile.txt\",\"r\",encoding='utf-8')\n",
    "#read fonksiyonu ile okuma\n",
    "content=file.read()\n",
    "print(content)"
   ]
  },
  {
   "cell_type": "code",
   "execution_count": 18,
   "id": "98ca12f1",
   "metadata": {},
   "outputs": [
    {
     "name": "stdout",
     "output_type": "stream",
     "text": [
      "icerik 1\n",
      "umut can yıldız\n",
      "icerik 2\n",
      "\n"
     ]
    }
   ],
   "source": [
    "file=open(\"newfile.txt\",\"r\",encoding='utf-8')\n",
    "\n",
    "\n",
    "content1=file.read()\n",
    "print(\"icerik 1\")\n",
    "print(content1)\n",
    "\n",
    "content2=file.read()\n",
    "print(\"icerik 2\")\n",
    "print(content2)\n"
   ]
  },
  {
   "cell_type": "code",
   "execution_count": 21,
   "id": "f28219d8",
   "metadata": {},
   "outputs": [
    {
     "name": "stdout",
     "output_type": "stream",
     "text": [
      "umut \n",
      "can \n",
      "yıldız\n"
     ]
    },
    {
     "data": {
      "text/plain": [
       "<function TextIOWrapper.close()>"
      ]
     },
     "execution_count": 21,
     "metadata": {},
     "output_type": "execute_result"
    }
   ],
   "source": [
    "file=open(\"newfile.txt\",\"r\",encoding='utf-8')\n",
    "\n",
    "content=file.read(5)\n",
    "print(content)\n",
    "content=file.read(4)\n",
    "print(content)\n",
    "content=file.read(7)\n",
    "print(content)\n",
    "file.close"
   ]
  },
  {
   "cell_type": "code",
   "execution_count": 22,
   "id": "68c28fbb",
   "metadata": {},
   "outputs": [
    {
     "name": "stdout",
     "output_type": "stream",
     "text": [
      "umut can yıldız\n"
     ]
    }
   ],
   "source": [
    "file=open(\"newfile.txt\",\"r\",encoding='utf-8')\n",
    "content=file.readline()\n",
    "print(content)"
   ]
  },
  {
   "cell_type": "code",
   "execution_count": 24,
   "id": "7b9c04c9",
   "metadata": {},
   "outputs": [
    {
     "name": "stdout",
     "output_type": "stream",
     "text": [
      "['umut can yıldız']\n"
     ]
    }
   ],
   "source": [
    "file=open(\"newfile.txt\",\"r\",encoding='utf-8')\n",
    "liste=file.readlines()\n",
    "print(liste)"
   ]
  },
  {
   "cell_type": "code",
   "execution_count": null,
   "id": "a3a3fa0e",
   "metadata": {},
   "outputs": [],
   "source": []
  }
 ],
 "metadata": {
  "kernelspec": {
   "display_name": "Python 3 (ipykernel)",
   "language": "python",
   "name": "python3"
  },
  "language_info": {
   "codemirror_mode": {
    "name": "ipython",
    "version": 3
   },
   "file_extension": ".py",
   "mimetype": "text/x-python",
   "name": "python",
   "nbconvert_exporter": "python",
   "pygments_lexer": "ipython3",
   "version": "3.9.12"
  }
 },
 "nbformat": 4,
 "nbformat_minor": 5
}
