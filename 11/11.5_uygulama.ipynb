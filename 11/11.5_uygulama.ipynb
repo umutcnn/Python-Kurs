{
 "cells": [
  {
   "cell_type": "code",
   "execution_count": 3,
   "id": "056a33f9",
   "metadata": {},
   "outputs": [
    {
     "name": "stdout",
     "output_type": "stream",
     "text": [
      "1- notları oku\n",
      "2-not gir\n",
      "3-notları kaydet\n",
      "4-cıkıs\n",
      "3\n",
      "1- notları oku\n",
      "2-not gir\n",
      "3-notları kaydet\n",
      "4-cıkıs\n",
      "4\n"
     ]
    }
   ],
   "source": [
    "def not_hesapla(satir):\n",
    "    satir=satir[:-1]\n",
    "    liste=satir.split(':')\n",
    "    \n",
    "    ogrenciAdi=liste[0]\n",
    "    notlar=liste[1].split(',')\n",
    "    \n",
    "    not1=int(notlar[0])\n",
    "    not2=int(notlar[1])\n",
    "    not3=int(notlar[2])\n",
    "    \n",
    "    ortalama=(not1+not2+not3)/3\n",
    "    if ortalama>=90 and ortalama<=100:\n",
    "        harf=\"AA\"\n",
    "    elif ortalama>=85 and ortalama<=89:\n",
    "        harf=\"BA\"\n",
    "    elif ortalama>=80 and ortalama<=84:\n",
    "        harf=\"BB\"\n",
    "    elif ortalama>=75 and ortalama<=79:\n",
    "        harf=\"CB\"\n",
    "    elif ortalama>=70 and ortalama<=74:\n",
    "        harf=\"CC\"\n",
    "    elif ortalama>=65 and ortalama<=69:\n",
    "        harf=\"DC\"\n",
    "    elif ortalama>=60 and ortalama<=64:\n",
    "        harf=\"DD\"\n",
    "    elif ortalama>=50 and ortalama<=59:\n",
    "        harf=\"FD\"\n",
    "    else:\n",
    "        harf==\"FF\"\n",
    "    return ogrenciAdi+\": \"+ harf+\"\\n\" \n",
    "    \n",
    "def ortalamalari_oku():\n",
    "    with open(\"sinav_notlari.txt\",\"r\",encoding=\"utf-8\") as file:\n",
    "        for satir in file:\n",
    "            print(not_hesapla(satir))\n",
    "\n",
    "def not_gir():\n",
    "    ad=input('ogrenci adi: ')\n",
    "    soyad=input('ogrenci soyadi: ')\n",
    "    not1=input('not1: ')\n",
    "    not2=input('not2: ')\n",
    "    not3=input('not3: ')\n",
    "    with open(\"sinav_notlari.txt\",\"a\",encoding=\"utf-8\") as file:\n",
    "        file.write(ad+' '+soyad+' : '+not1+','+not2+','+not3+'\\n')\n",
    "def notlari_kayit_et():\n",
    "    with open(\"sinav_notlari.txt\",\"r\",encoding=\"utf-8\") as file:\n",
    "        liste=[]\n",
    "        for i in file:\n",
    "            liste.append(not_hesapla(i))\n",
    "    with open(\"sonuclar.txt\",\"w\",encoding=\"utf-8\") as file2:\n",
    "        for i in liste:\n",
    "            file2.write(i)\n",
    "    \n",
    "    \n",
    "    \n",
    "\n",
    "while True:\n",
    "    islem=input(\"1- notları oku\\n2-not gir\\n3-notları kaydet\\n4-cıkıs\\n\")\n",
    "    if islem=='1':\n",
    "        ortalamalari_oku()\n",
    "    elif islem=='2':\n",
    "        not_gir()\n",
    "    elif islem=='3':\n",
    "        notlari_kayit_et()\n",
    "    elif islem=='4':\n",
    "        break"
   ]
  },
  {
   "cell_type": "code",
   "execution_count": null,
   "id": "e51a0612",
   "metadata": {},
   "outputs": [],
   "source": []
  }
 ],
 "metadata": {
  "kernelspec": {
   "display_name": "Python 3 (ipykernel)",
   "language": "python",
   "name": "python3"
  },
  "language_info": {
   "codemirror_mode": {
    "name": "ipython",
    "version": 3
   },
   "file_extension": ".py",
   "mimetype": "text/x-python",
   "name": "python",
   "nbconvert_exporter": "python",
   "pygments_lexer": "ipython3",
   "version": "3.9.12"
  }
 },
 "nbformat": 4,
 "nbformat_minor": 5
}
