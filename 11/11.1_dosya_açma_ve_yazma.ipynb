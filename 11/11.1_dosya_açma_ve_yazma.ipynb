{
 "cells": [
  {
   "cell_type": "code",
   "execution_count": 5,
   "id": "1fdcc9c4",
   "metadata": {},
   "outputs": [],
   "source": [
    "#\"w\": write yazma modu. dosyayı konumda olusturur\n",
    "#\"a\": append ekleme. dosyayı konumda olusturur\n",
    "#\"x\": create olusturma. dosyayı konumda olusturur dosya zaten varsa hata verir\n",
    "#\"r\": okuma. varsayılan dosya konumda yoksa hata verir\n",
    "file=open(\"newfile.txt\",\"w\")\n",
    "file.close()#dosya kapanir"
   ]
  },
  {
   "cell_type": "code",
   "execution_count": 8,
   "id": "3f99c272",
   "metadata": {},
   "outputs": [
    {
     "name": "stdout",
     "output_type": "stream",
     "text": [
      "<_io.TextIOWrapper name='C:/Users/UMUT/Desktop/newfile.txt' mode='w' encoding='cp1254'>\n"
     ]
    }
   ],
   "source": [
    "file=open(\"C:/Users/UMUT/Desktop/newfile.txt\",\"w\") #dosya olusturma\n",
    "print(file)"
   ]
  },
  {
   "cell_type": "code",
   "execution_count": 10,
   "id": "09710d72",
   "metadata": {},
   "outputs": [],
   "source": [
    "file=open(\"newfile.txt\",\"w\",encoding='utf-8')\n",
    "file.write(\"umut can yıldız\")\n",
    "file.close()"
   ]
  },
  {
   "cell_type": "code",
   "execution_count": null,
   "id": "df0058a2",
   "metadata": {},
   "outputs": [],
   "source": [
    "file=open(\"newfile.txt\",\"a\",encoding='utf-8')\n",
    "file.write(\"\\numut can yıldız\")\n",
    "file.close()"
   ]
  },
  {
   "cell_type": "code",
   "execution_count": 12,
   "id": "9b1586f4",
   "metadata": {},
   "outputs": [],
   "source": [
    "file=open(\"newwfile.txt\",\"x\",encoding='utf-8')\n"
   ]
  },
  {
   "cell_type": "code",
   "execution_count": null,
   "id": "9a2def84",
   "metadata": {},
   "outputs": [],
   "source": []
  }
 ],
 "metadata": {
  "kernelspec": {
   "display_name": "Python 3 (ipykernel)",
   "language": "python",
   "name": "python3"
  },
  "language_info": {
   "codemirror_mode": {
    "name": "ipython",
    "version": 3
   },
   "file_extension": ".py",
   "mimetype": "text/x-python",
   "name": "python",
   "nbconvert_exporter": "python",
   "pygments_lexer": "ipython3",
   "version": "3.9.12"
  }
 },
 "nbformat": 4,
 "nbformat_minor": 5
}
