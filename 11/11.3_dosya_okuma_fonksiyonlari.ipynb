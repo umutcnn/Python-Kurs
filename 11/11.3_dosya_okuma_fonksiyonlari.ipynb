{
 "cells": [
  {
   "cell_type": "code",
   "execution_count": 5,
   "id": "5ab0458f",
   "metadata": {},
   "outputs": [
    {
     "name": "stdout",
     "output_type": "stream",
     "text": [
      "umut can yıldız\n",
      "17\n",
      "\n"
     ]
    }
   ],
   "source": [
    "with open(\"newfile.txt\",\"r\",encoding='utf-8') as file:\n",
    "    content=file.read()\n",
    "    print(content)\n",
    "    print(file.tell())#imlecin nerede olduğunu soyler\n",
    "    content2=file.read()#imlec 17 de olduğu için ve devamı bos olduğu için bir sey yazmaz\n",
    "    print(content2)"
   ]
  },
  {
   "cell_type": "code",
   "execution_count": 7,
   "id": "9e1737cf",
   "metadata": {},
   "outputs": [
    {
     "name": "stdout",
     "output_type": "stream",
     "text": [
      "umut can yıldız\n",
      "0\n",
      "umut can yıldız\n"
     ]
    }
   ],
   "source": [
    "with open(\"newfile.txt\",\"r\",encoding='utf-8') as file:\n",
    "    content=file.read()\n",
    "    print(content)\n",
    "    file.seek(0)#index numarasını 0 yapar\n",
    "    print(file.tell())#imlecin nerede olduğunu soyler\n",
    "    content2=file.read()#imlec 17 de olduğu için ve devamı bos olduğu için bir sey yazmaz\n",
    "    print(content2)"
   ]
  },
  {
   "cell_type": "code",
   "execution_count": null,
   "id": "076bca91",
   "metadata": {},
   "outputs": [],
   "source": []
  }
 ],
 "metadata": {
  "kernelspec": {
   "display_name": "Python 3 (ipykernel)",
   "language": "python",
   "name": "python3"
  },
  "language_info": {
   "codemirror_mode": {
    "name": "ipython",
    "version": 3
   },
   "file_extension": ".py",
   "mimetype": "text/x-python",
   "name": "python",
   "nbconvert_exporter": "python",
   "pygments_lexer": "ipython3",
   "version": "3.9.12"
  }
 },
 "nbformat": 4,
 "nbformat_minor": 5
}
