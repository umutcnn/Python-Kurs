{
 "cells": [
  {
   "cell_type": "code",
   "execution_count": 4,
   "id": "ad6ac58d",
   "metadata": {},
   "outputs": [
    {
     "name": "stdout",
     "output_type": "stream",
     "text": [
      "denemean yıldız\n",
      "can yıldız\n",
      "berkay yıldız\n",
      "ali yıldız\n"
     ]
    }
   ],
   "source": [
    "with open(\"newfile.txt\",\"r+\",encoding='utf-8')as file:\n",
    "    file.write(\"deneme\")\n",
    "with open(\"newfile.txt\",\"r+\",encoding='utf-8')as file:\n",
    "    print(file.read())"
   ]
  },
  {
   "cell_type": "code",
   "execution_count": 5,
   "id": "64d8bd88",
   "metadata": {},
   "outputs": [
    {
     "name": "stdout",
     "output_type": "stream",
     "text": [
      "denemean yıldız\n",
      "can yıldız\n",
      "berkay yıldız\n",
      "ali yıldız\n",
      "umut CAns YİLDİZ\n"
     ]
    }
   ],
   "source": [
    "#sayfanin sonuna ekleme\n",
    "with open(\"newfile.txt\",\"a\",encoding='utf-8')as file:\n",
    "    file.write(\"\\numut CAns YİLDİZ\")\n",
    "with open(\"newfile.txt\",\"r+\",encoding='utf-8')as file:\n",
    "    print(file.read())"
   ]
  },
  {
   "cell_type": "code",
   "execution_count": 10,
   "id": "0f98c8b9",
   "metadata": {},
   "outputs": [
    {
     "name": "stdout",
     "output_type": "stream",
     "text": [
      "umuttt can\n",
      "umuttt can\n",
      "denemean yıldız\n",
      "can yıldız\n",
      "berkay yıldız\n",
      "ali yıldız\n",
      "umut CAns YİLDİZ\n"
     ]
    }
   ],
   "source": [
    "#sayfanin basinda ekleme\n",
    "\n",
    "with open(\"newfile.txt\",\"r+\",encoding='utf-8')as file:\n",
    "    content=file.read()\n",
    "    content=\"umuttt can\\n\"+content\n",
    "    file.seek(0)\n",
    "    file.write(content)\n",
    "with open(\"newfile.txt\",\"r\",encoding='utf-8')as file:\n",
    "    print(file.read())"
   ]
  },
  {
   "cell_type": "code",
   "execution_count": 17,
   "id": "49b2712a",
   "metadata": {},
   "outputs": [
    {
     "name": "stdout",
     "output_type": "stream",
     "text": [
      "umuttt can\n",
      "buse yıldız\n",
      "ali korkmaz\n",
      "ali korkmazali korkmazali korkmazumuttt can\n",
      "denemean yıldız\n",
      "can yıldız\n",
      "berkay yıldız\n",
      "ali yıldız\n",
      "umut CAns YİLDİZ\n"
     ]
    }
   ],
   "source": [
    "#sayfanin ortasina ekleme\n",
    "\n",
    "with open(\"newfile.txt\",\"r+\",encoding='utf-8')as file:\n",
    "    liste=file.readlines()\n",
    "    liste.insert(1,\"buse yıldız\\n\")\n",
    "    file.seek(0)\n",
    "    for i in liste:\n",
    "        file.write(i)\n",
    "with open(\"newfile.txt\",\"r\",encoding='utf-8')as file:\n",
    "    print(file.read())"
   ]
  },
  {
   "cell_type": "code",
   "execution_count": null,
   "id": "b5d05c93",
   "metadata": {},
   "outputs": [],
   "source": []
  }
 ],
 "metadata": {
  "kernelspec": {
   "display_name": "Python 3 (ipykernel)",
   "language": "python",
   "name": "python3"
  },
  "language_info": {
   "codemirror_mode": {
    "name": "ipython",
    "version": 3
   },
   "file_extension": ".py",
   "mimetype": "text/x-python",
   "name": "python",
   "nbconvert_exporter": "python",
   "pygments_lexer": "ipython3",
   "version": "3.9.12"
  }
 },
 "nbformat": 4,
 "nbformat_minor": 5
}
