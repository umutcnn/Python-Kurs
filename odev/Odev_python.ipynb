{
 "cells": [
  {
   "cell_type": "markdown",
   "metadata": {},
   "source": [
    "Örnek 1: Ekrana “Merhaba Dünya” yazdıran python kodu yazınız.\n",
    "\n"
   ]
  },
  {
   "cell_type": "code",
   "execution_count": null,
   "metadata": {},
   "outputs": [],
   "source": [
    "print(\"hello world\")"
   ]
  },
  {
   "cell_type": "markdown",
   "metadata": {},
   "source": [
    "Örnek 2: Girilen kullanıcı ismine göre ekrana “Merhaba Kullanıcı” yazdıran python kodunu yazınız.\n",
    "\n"
   ]
  },
  {
   "cell_type": "code",
   "execution_count": 3,
   "metadata": {},
   "outputs": [
    {
     "name": "stdout",
     "output_type": "stream",
     "text": [
      "lutfen adinizi giriniz: umut\n",
      "merhaba umut\n"
     ]
    }
   ],
   "source": [
    "ad=input(\"lutfen adinizi giriniz: \")\n",
    "print(\"merhaba \"+ad)"
   ]
  },
  {
   "cell_type": "markdown",
   "metadata": {},
   "source": [
    "Örnek 3: Klavyeden girilen iki sayıyı toplayan ve sonucu ekranda gösteren python kodunu yazınız.\n",
    "\n"
   ]
  },
  {
   "cell_type": "code",
   "execution_count": 5,
   "metadata": {},
   "outputs": [
    {
     "name": "stdout",
     "output_type": "stream",
     "text": [
      "toplamamı istedigin 2 sayidan 1. sini giriniz: 5\n",
      "toplamamı istedigin 2. sayiyi giriniz: 2\n",
      "7\n"
     ]
    }
   ],
   "source": [
    "def toplam(x,y):\n",
    "    return x+y\n",
    "\n",
    "sayi1=int(input(\"toplamamı istedigin 2 sayidan 1. sini giriniz: \"))\n",
    "sayi2=int(input(\"toplamamı istedigin 2. sayiyi giriniz: \"))\n",
    "\n",
    "print(toplam(sayi1,sayi2))"
   ]
  },
  {
   "cell_type": "markdown",
   "metadata": {},
   "source": [
    "Örnek 4: Klavyeden girilen iki sayıyının ortalamasını bulan ve sonucu ekranda gösteren python kodunu yazınız.\n",
    "\n"
   ]
  },
  {
   "cell_type": "code",
   "execution_count": 6,
   "metadata": {},
   "outputs": [
    {
     "name": "stdout",
     "output_type": "stream",
     "text": [
      "ortalamasını bulmamı istedigin 2 sayidan 1. sini giriniz: 8\n",
      "ortalamasını bulmamı istedigin 2. sayiyi giriniz: 10\n",
      "9.0\n"
     ]
    }
   ],
   "source": [
    "def ort(x,y):\n",
    "    return (x+y)/2\n",
    "\n",
    "sayi1=int(input(\"ortalamasını bulmamı istedigin 2 sayidan 1. sini giriniz: \"))\n",
    "sayi2=int(input(\"ortalamasını bulmamı istedigin 2. sayiyi giriniz: \"))\n",
    "\n",
    "print(ort(sayi1,sayi2))"
   ]
  },
  {
   "cell_type": "markdown",
   "metadata": {},
   "source": [
    "Örnek 5: Klavyeden girilen vize ve final notuna göre vizenin %40 ve finalin %60 ını alan ve sonucu ekranda gösteren python kodunu yazınız.\n",
    "\n"
   ]
  },
  {
   "cell_type": "code",
   "execution_count": 1,
   "metadata": {},
   "outputs": [
    {
     "name": "stdout",
     "output_type": "stream",
     "text": [
      "vize notunu giriniz: 60\n",
      "final notunu giriniz: 70\n",
      "66.0\n"
     ]
    }
   ],
   "source": [
    "def ort(x,y):\n",
    "    x*=0.4\n",
    "    y*=0.6\n",
    "    return x+y\n",
    "\n",
    "sayi1=int(input(\"vize notunu giriniz: \"))\n",
    "sayi2=int(input(\"final notunu giriniz: \"))\n",
    "\n",
    "print(ort(sayi1,sayi2))"
   ]
  },
  {
   "cell_type": "markdown",
   "metadata": {},
   "source": [
    "Örnek 6: Klavyeden girilen üç yazılı notunun ortalamasını bulan ekranda gösteren python kodunu yazınız.\n",
    "\n"
   ]
  },
  {
   "cell_type": "code",
   "execution_count": 3,
   "metadata": {},
   "outputs": [
    {
     "name": "stdout",
     "output_type": "stream",
     "text": [
      "1. notu giriniz:25\n",
      "2. notu giriniz:60\n",
      "3. notu giriniz:70\n",
      "51.666666666666664\n"
     ]
    }
   ],
   "source": [
    "notlar=[]\n",
    "for x in range(3):\n",
    "    yazili= int(input(str(x+1)+\". notu giriniz:\"))\n",
    "    notlar+=[yazili]\n",
    "ort=sum(notlar)/3\n",
    "print(ort)"
   ]
  },
  {
   "cell_type": "markdown",
   "metadata": {},
   "source": [
    "Örnek 7: Bir dersin ortalaması girilen öğrencinin o dersten geçip geçmediğini gösteren python kodunu yazınız. (50den büyükse geçti değilse kaldı yazdıran örnek python kodu)\n",
    "\n"
   ]
  },
  {
   "cell_type": "code",
   "execution_count": 4,
   "metadata": {},
   "outputs": [
    {
     "name": "stdout",
     "output_type": "stream",
     "text": [
      "ogrencinin ortalamasini giriniz: 40\n",
      "geçmiş olsun\n"
     ]
    }
   ],
   "source": [
    "ortalama= int(input(\"ogrencinin ortalamasini giriniz: \"))\n",
    "if ortalama>50:\n",
    "    print(\"gectiniz tebrikler\")\n",
    "else:\n",
    "    print(\"geçmiş olsun\")"
   ]
  },
  {
   "cell_type": "markdown",
   "metadata": {},
   "source": [
    "Örnek 8:  Klavyeden girilen sayının tek mi çift mi olduğunu yazdıran python kod örneğini yapınız.\n",
    "\n"
   ]
  },
  {
   "cell_type": "code",
   "execution_count": 6,
   "metadata": {},
   "outputs": [
    {
     "name": "stdout",
     "output_type": "stream",
     "text": [
      "tek cift kontrolu yapmami istedigin sayiyi gir: 7\n",
      "tek\n"
     ]
    }
   ],
   "source": [
    "sayi= int(input(\"tek cift kontrolu yapmami istedigin sayiyi gir: \"))\n",
    "if sayi%2==0:\n",
    "    print(\"cift\")\n",
    "else:\n",
    "    print(\"tek\")"
   ]
  },
  {
   "cell_type": "markdown",
   "metadata": {},
   "source": [
    "Örnek 9:  Klavyeden girilen sayının pozitif mi negatif mi yoksa sıfır mı olduğunu bulan python kodunu yazınız.\n",
    "\n"
   ]
  },
  {
   "cell_type": "code",
   "execution_count": 7,
   "metadata": {},
   "outputs": [
    {
     "name": "stdout",
     "output_type": "stream",
     "text": [
      "pozitif negatif sıfır kontrolu yapmami istedigin sayiyi gir: 5\n",
      "pozitif\n"
     ]
    }
   ],
   "source": [
    "sayi= int(input(\"pozitif negatif sıfır kontrolu yapmami istedigin sayiyi gir: \"))\n",
    "if sayi<0:\n",
    "    print(\"negatif\")\n",
    "elif sayi==0:\n",
    "    print(\"sifir\")\n",
    "else:\n",
    "    print(\"pozitif\")"
   ]
  },
  {
   "cell_type": "markdown",
   "metadata": {},
   "source": [
    "Örnek 10:  Klavyeden girilen yaşa göre ehliyet alıp alamayacağını bulan python kodunu yazınız.\n",
    "\n"
   ]
  },
  {
   "cell_type": "code",
   "execution_count": 8,
   "metadata": {},
   "outputs": [
    {
     "name": "stdout",
     "output_type": "stream",
     "text": [
      "yasinizi giriniz: 18\n",
      "ehliyet alabilirsin\n"
     ]
    }
   ],
   "source": [
    "yas= int(input(\"yasinizi giriniz: \"))\n",
    "if yas<18:\n",
    "    print(\"maalesef ehliyet alacak yasa gelmedin\")\n",
    "else:\n",
    "    print(\"ehliyet alabilirsin\")"
   ]
  },
  {
   "cell_type": "markdown",
   "metadata": {},
   "source": [
    "Örnek 11:  1 den 10 a kadar olan sayıları alt alta yazdıran python kodunu yazınız.\n",
    "\n"
   ]
  },
  {
   "cell_type": "code",
   "execution_count": 9,
   "metadata": {},
   "outputs": [
    {
     "name": "stdout",
     "output_type": "stream",
     "text": [
      "1\n",
      "2\n",
      "3\n",
      "4\n",
      "5\n",
      "6\n",
      "7\n",
      "8\n",
      "9\n",
      "10\n"
     ]
    }
   ],
   "source": [
    "for x in range(1,11):\n",
    "    print(x)"
   ]
  },
  {
   "cell_type": "markdown",
   "metadata": {},
   "source": [
    "Örnek 12:  1 den 20 ye kadar olan çift sayıları alt alta yazdıran python kodunu yazınız.\n",
    "\n"
   ]
  },
  {
   "cell_type": "code",
   "execution_count": 12,
   "metadata": {},
   "outputs": [
    {
     "name": "stdout",
     "output_type": "stream",
     "text": [
      "2\n",
      "4\n",
      "6\n",
      "8\n",
      "10\n",
      "12\n",
      "14\n",
      "16\n",
      "18\n",
      "20\n"
     ]
    }
   ],
   "source": [
    "for x in range(1,21):\n",
    "    if x%2==0:\n",
    "        print(x)\n"
   ]
  },
  {
   "cell_type": "markdown",
   "metadata": {},
   "source": [
    "Örnek 13:  1 den 20 ye kadar olan tek sayıları alt alta yazdıran python kodunu yazınız.\n",
    "\n"
   ]
  },
  {
   "cell_type": "code",
   "execution_count": 13,
   "metadata": {},
   "outputs": [
    {
     "name": "stdout",
     "output_type": "stream",
     "text": [
      "1\n",
      "3\n",
      "5\n",
      "7\n",
      "9\n",
      "11\n",
      "13\n",
      "15\n",
      "17\n",
      "19\n"
     ]
    }
   ],
   "source": [
    "for x in range(1,21):\n",
    "    if x%2==1:\n",
    "        print(x)\n"
   ]
  },
  {
   "cell_type": "markdown",
   "metadata": {},
   "source": [
    "Örnek 14:  1 den 100 e kadar olan sayılardan aynı anda 3 ve 5 e tam bölünen sayıları alt alta yazdıran python kodunu yazınız.\n",
    "\n"
   ]
  },
  {
   "cell_type": "code",
   "execution_count": 15,
   "metadata": {},
   "outputs": [
    {
     "name": "stdout",
     "output_type": "stream",
     "text": [
      "15\n",
      "30\n",
      "45\n",
      "60\n",
      "75\n",
      "90\n"
     ]
    }
   ],
   "source": [
    "for x in range(1,101):\n",
    "    if x%3==0|x%5==0:\n",
    "        print(x)\n"
   ]
  },
  {
   "cell_type": "markdown",
   "metadata": {},
   "source": [
    "Örnek 15:  Klavyeden girilen sayıya kadar olan sayıları alt alta yazdıran python kodunu yazınız.\n",
    "\n"
   ]
  },
  {
   "cell_type": "code",
   "execution_count": 19,
   "metadata": {},
   "outputs": [
    {
     "name": "stdout",
     "output_type": "stream",
     "text": [
      "baslangıc degerini giriniz: 7\n",
      "bitis degerini giriniz: 10\n",
      "7\n",
      "8\n",
      "9\n",
      "10\n"
     ]
    }
   ],
   "source": [
    "baslangıc= int(input(\"baslangıc degerini giriniz: \"))\n",
    "bitis= int(input(\"bitis degerini giriniz: \"))\n",
    "if baslangıc<bitis:\n",
    "    for i in range(baslangıc,bitis+1):\n",
    "        print(i)\n",
    "else:\n",
    "    print(\"baslangıc degeri bitis degerinden buyuk olamaz\")"
   ]
  },
  {
   "cell_type": "markdown",
   "metadata": {},
   "source": [
    "Örnek 16:  Klavyeden kısa kenar uzunluğu ve uzun kenar uzunluğu girilen dikdörtgenin alan ve çevresini hesaplayan python kodunu yazınız.\n",
    "\n"
   ]
  },
  {
   "cell_type": "code",
   "execution_count": 20,
   "metadata": {},
   "outputs": [
    {
     "name": "stdout",
     "output_type": "stream",
     "text": [
      "kısa kenar giriniz: 5\n",
      "uzun kenar giriniz: 4\n",
      "cevre: 18 alan:20 \n"
     ]
    }
   ],
   "source": [
    "k_kenar= int(input(\"kısa kenar giriniz: \"))\n",
    "u_kenar= int(input(\"uzun kenar giriniz: \"))\n",
    "alan=k_kenar*u_kenar\n",
    "cevre=(k_kenar+u_kenar)*2\n",
    "print(f\"cevre: {cevre} alan:{alan} \")"
   ]
  },
  {
   "cell_type": "markdown",
   "metadata": {},
   "source": [
    "Örnek 17:  Klavyeden girilen bir metnin harflerini alt alta yazdıran python kodunu yazınız.\n",
    "\n"
   ]
  },
  {
   "cell_type": "code",
   "execution_count": 21,
   "metadata": {},
   "outputs": [
    {
     "name": "stdout",
     "output_type": "stream",
     "text": [
      "metin giriniz: umut\n",
      "u\n",
      "m\n",
      "u\n",
      "t\n"
     ]
    }
   ],
   "source": [
    "metin= input(\"metin giriniz: \")\n",
    "for i in metin:\n",
    "    print(i)"
   ]
  },
  {
   "cell_type": "markdown",
   "metadata": {},
   "source": [
    "Örnek 18:  Klavyeden girilen iki sayı arasındaki sayıları toplayan python kodunu yazınız.\n",
    "\n"
   ]
  },
  {
   "cell_type": "code",
   "execution_count": 22,
   "metadata": {},
   "outputs": [
    {
     "name": "stdout",
     "output_type": "stream",
     "text": [
      "baslangıc degerini giriniz: 20\n",
      "bitis degerini giriniz: 22\n",
      "20-22 sayilari arasindaki sayilarin toplami 21 dır\n"
     ]
    }
   ],
   "source": [
    "baslangıc= int(input(\"baslangıc degerini giriniz: \"))\n",
    "bitis= int(input(\"bitis degerini giriniz: \"))\n",
    "toplam=0\n",
    "if baslangıc<bitis:\n",
    "    for i in range(baslangıc+1,bitis):\n",
    "        toplam+=i\n",
    "    print(f\"{baslangıc}-{bitis} sayilari arasindaki sayilarin toplami {toplam} dır\")\n",
    "else:\n",
    "    print(\"baslangıc degeri bitis degerinden buyuk olamaz\")\n"
   ]
  },
  {
   "cell_type": "markdown",
   "metadata": {},
   "source": [
    "Örnek 19:  Klavyeden girilen sayının asal sayı olup olmadığını bulan python kodunu yazınız.\n",
    "\n"
   ]
  },
  {
   "cell_type": "code",
   "execution_count": 26,
   "metadata": {},
   "outputs": [
    {
     "name": "stdout",
     "output_type": "stream",
     "text": [
      "asal kontrol giriniz: 6\n",
      "sayi asal degildir\n"
     ]
    }
   ],
   "source": [
    "def asal_mi(x):\n",
    "    sayac=0\n",
    "    for i in (2,x):\n",
    "        if x%i==0:\n",
    "            sayac+=1\n",
    "    return sayac\n",
    "a_sayi= int(input(\"asal kontrol giriniz: \"))\n",
    "bolen_sayisi=asal_mi(a_sayi)\n",
    "if bolen_sayisi<2:\n",
    "    print(\"sayi asaldir\")\n",
    "else:\n",
    "    print(\"sayi asal degildir\")"
   ]
  },
  {
   "cell_type": "markdown",
   "metadata": {},
   "source": [
    "Örnek 20:  Klavyeden girilen sayıya kadar olan sayılardan tek sayıların toplamını ve çift sayıların toplamını ayrı ayrı bulan python kodunu yazınız.\n",
    "\n"
   ]
  },
  {
   "cell_type": "code",
   "execution_count": 20,
   "metadata": {},
   "outputs": [
    {
     "name": "stdout",
     "output_type": "stream",
     "text": [
      "tek cift topla: 5\n",
      "tek toplami: 9, cift toplami: 6\n"
     ]
    }
   ],
   "source": [
    "def tek_cift_topla(sayi):\n",
    "    tek=0\n",
    "    cift=0\n",
    "    for i in range(1,sayi+1):\n",
    "        if(i%2==0):\n",
    "            cift+=i\n",
    "        else:                      \n",
    "            tek+=i\n",
    "    return cift,tek\n",
    "sayi= int(input(\"tek cift topla: \"))\n",
    "cift,tek=tek_cift_topla(sayi)\n",
    "print(f\"tek toplami: {tek}, cift toplami: {cift}\")"
   ]
  },
  {
   "cell_type": "markdown",
   "metadata": {},
   "source": [
    "Örnek 21:  Klavyeden maaşı ve zam oranı girilen kişinin zamlı maaşını hesaplayan python kodunu yazınız.\n",
    "\n"
   ]
  },
  {
   "cell_type": "code",
   "execution_count": 22,
   "metadata": {},
   "outputs": [
    {
     "name": "stdout",
     "output_type": "stream",
     "text": [
      "maas giriniz: 500\n",
      "zam giriniz: 10\n",
      " %10 zamla birlikte yeni maasınız 550.0 tl olmustur\n"
     ]
    }
   ],
   "source": [
    "maas= int(input(\"maas giriniz: \"))\n",
    "zam= int(input(\"zam giriniz: \"))\n",
    "maas+=(maas*zam)/100\n",
    "print(f\"%{zam} zamla birlikte yeni maasınız {maas} tl olmustur\")"
   ]
  },
  {
   "cell_type": "markdown",
   "metadata": {},
   "source": [
    "Örnek 22:  Klavyeden yarıçapı girilen dairenin çevresini ve alanını hesaplayan python kodunu yazınız.\n",
    "\n"
   ]
  },
  {
   "cell_type": "code",
   "execution_count": 24,
   "metadata": {},
   "outputs": [
    {
     "name": "stdout",
     "output_type": "stream",
     "text": [
      "cevresini ve alanini hesaplamami istediginiz dairenin yari capini giriniz3\n",
      "dairenin alani 28.26,dairenin cevresi 18.84\n"
     ]
    }
   ],
   "source": [
    "pi=3.14\n",
    "def d_alan(r):\n",
    "    alan=pi*r**2\n",
    "    return(alan)\n",
    "def d_cevre(r):\n",
    "    cevre=2*pi*r\n",
    "    return cevre\n",
    "yari_cap=int(input(\"cevresini ve alanini hesaplamami istediginiz dairenin yari capini giriniz\"))\n",
    "cevre=d_cevre(yari_cap)\n",
    "alan=d_alan(yari_cap)\n",
    "print(\"dairenin alani {},dairenin cevresi {}\".format(alan,cevre))"
   ]
  },
  {
   "cell_type": "markdown",
   "metadata": {},
   "source": [
    "Örnek 23:  Klavyeden kısa kenar ve uzun kenar uzunluğu girilen dikdörtgenin alanını fonksiyon kullanarak hesaplayan python kodunu yazınız."
   ]
  },
  {
   "cell_type": "code",
   "execution_count": 25,
   "metadata": {},
   "outputs": [
    {
     "name": "stdout",
     "output_type": "stream",
     "text": [
      "kısa kenar giriniz: 5\n",
      "uzun kenar giriniz: 4\n",
      "cevre: 18 alan:20 \n"
     ]
    }
   ],
   "source": [
    "\n",
    "def d_alan(k,u):\n",
    "    alan=k*u\n",
    "    return(alan)\n",
    "def d_cevre(k,u):\n",
    "    cevre=2*(k+u)\n",
    "    return cevre\n",
    "\n",
    "k_kenar= int(input(\"kısa kenar giriniz: \"))\n",
    "u_kenar= int(input(\"uzun kenar giriniz: \"))\n",
    "alan=d_alan(k_kenar,u_kenar)\n",
    "cevre=d_cevre(k_kenar,u_kenar)\n",
    "print(f\"cevre: {cevre} alan:{alan} \")"
   ]
  },
  {
   "cell_type": "markdown",
   "metadata": {},
   "source": [
    "Örnek 24:  Önceden belirlenen bir liste içerisinde bulunan sayılardan kaç tanesinin 5’in katı olduğunu bulan python kodunu yazınız.\n",
    "\n",
    "sayilar = [18,15,22,19,85,32,65,30,95,10,12,20,32,55,34,28,101,5,4,32]\n"
   ]
  },
  {
   "cell_type": "code",
   "execution_count": 28,
   "metadata": {},
   "outputs": [
    {
     "name": "stdout",
     "output_type": "stream",
     "text": [
      "9\n"
     ]
    }
   ],
   "source": [
    "sayilar = [18,15,22,19,85,32,65,30,95,10,12,20,32,55,34,28,101,5,4,32]\n",
    "sayac=0\n",
    "for i in sayilar:\n",
    "    if i%5==0:\n",
    "        sayac+=1\n",
    "print(sayac)"
   ]
  },
  {
   "cell_type": "markdown",
   "metadata": {},
   "source": [
    "Örnek 25:  Klavyeden girilen başlangıç ve bitiş sayıları arasında bulunan çift sayıların ortalamasını bulan python kodunu yazınız.\n",
    "\n"
   ]
  },
  {
   "cell_type": "code",
   "execution_count": 30,
   "metadata": {},
   "outputs": [
    {
     "name": "stdout",
     "output_type": "stream",
     "text": [
      "baslangıc degerini giriniz: 5\n",
      "bitis degerini giriniz: 8\n",
      "tek ort 6.0, cift ort7.0\n"
     ]
    }
   ],
   "source": [
    "baslangıc= int(input(\"baslangıc degerini giriniz: \"))\n",
    "bitis= int(input(\"bitis degerini giriniz: \"))\n",
    "tek_toplam=0\n",
    "tek=0\n",
    "cift_toplam=0\n",
    "cift=0\n",
    "if baslangıc<bitis:\n",
    "    for i in range(baslangıc,bitis+1):\n",
    "        if i%2==0:\n",
    "            cift_toplam+=i\n",
    "            cift+=1\n",
    "        else:\n",
    "            tek_toplam+=i\n",
    "            tek+=1\n",
    "    tek_ort=tek_toplam/tek\n",
    "    cift_ort=cift_toplam/cift\n",
    "    print(\"tek ort {}, cift ort{}\".format(tek_ort,cift_ort))\n",
    "else:\n",
    "    print(\"baslangıc degeri bitis degerinden buyuk olamaz\")\n"
   ]
  },
  {
   "cell_type": "markdown",
   "metadata": {},
   "source": [
    "Örnek 26:  Klavyeden girilen başlangıç ve bitiş sayıları arasında bulunan tek sayıların ortalamasını bulan python kodunu yazınız.\n",
    "\n"
   ]
  },
  {
   "cell_type": "markdown",
   "metadata": {},
   "source": [
    "Örnek 27:  Klavyeden girilen başlangıç ve bitiş sayıları arasında bulunan sayıların ortalamasını bulan python kodunu yazınız.\n",
    "\n"
   ]
  },
  {
   "cell_type": "code",
   "execution_count": 33,
   "metadata": {},
   "outputs": [
    {
     "name": "stdout",
     "output_type": "stream",
     "text": [
      "baslangıc degerini giriniz: 12\n",
      "bitis degerini giriniz: 25\n",
      "ort 18.5\n"
     ]
    }
   ],
   "source": [
    "baslangıc= int(input(\"baslangıc degerini giriniz: \"))\n",
    "bitis= int(input(\"bitis degerini giriniz: \"))\n",
    "toplam=0\n",
    "if baslangıc<bitis:\n",
    "    for i in range(baslangıc,bitis+1):\n",
    "        toplam+=i\n",
    "    ort=toplam/(bitis-baslangıc+1)\n",
    "    print(\"ort {}\".format(ort))\n",
    "else:\n",
    "    print(\"baslangıc degeri bitis degerinden buyuk olamaz\")\n"
   ]
  },
  {
   "cell_type": "markdown",
   "metadata": {},
   "source": [
    "Örnek 28:  Klavyeden girilen başlangıç ve bitiş sayıları arasında bulunan sayıların toplamını bulan python kodunu yazınız.\n",
    "\n"
   ]
  },
  {
   "cell_type": "code",
   "execution_count": 34,
   "metadata": {},
   "outputs": [
    {
     "name": "stdout",
     "output_type": "stream",
     "text": [
      "baslangıc degerini giriniz: 1\n",
      "bitis degerini giriniz: 10\n",
      "toplam 55\n"
     ]
    }
   ],
   "source": [
    "baslangıc= int(input(\"baslangıc degerini giriniz: \"))\n",
    "bitis= int(input(\"bitis degerini giriniz: \"))\n",
    "toplam=0\n",
    "if baslangıc<bitis:\n",
    "    for i in range(baslangıc,bitis+1):\n",
    "        toplam+=i\n",
    "    print(\"toplam {}\".format(toplam))\n",
    "else:\n",
    "    print(\"baslangıc degeri bitis degerinden buyuk olamaz\")"
   ]
  },
  {
   "cell_type": "markdown",
   "metadata": {},
   "source": [
    "Örnek 29:  Klavyeden girilen başlangıç ve bitiş sayıları arasında bulunan çift sayıların toplamını bulan python kodunu yazınız.\n",
    "\n"
   ]
  },
  {
   "cell_type": "code",
   "execution_count": 36,
   "metadata": {},
   "outputs": [
    {
     "name": "stdout",
     "output_type": "stream",
     "text": [
      "baslangıc degerini giriniz: 5\n",
      "bitis degerini giriniz: 7\n",
      "tek  12, cift 6\n"
     ]
    }
   ],
   "source": [
    "baslangıc= int(input(\"baslangıc degerini giriniz: \"))\n",
    "bitis= int(input(\"bitis degerini giriniz: \"))\n",
    "tek_toplam=0\n",
    "cift_toplam=0\n",
    "if baslangıc<bitis:\n",
    "    for i in range(baslangıc,bitis+1):\n",
    "        if i%2==0:\n",
    "            cift_toplam+=i\n",
    "            cift+=1\n",
    "        else:\n",
    "            tek_toplam+=i\n",
    "            tek+=1\n",
    "    print(\"tek  {}, cift {}\".format(tek_toplam,cift_toplam))\n",
    "else:\n",
    "    print(\"baslangıc degeri bitis degerinden buyuk olamaz\")"
   ]
  },
  {
   "cell_type": "markdown",
   "metadata": {},
   "source": [
    "Örnek 30:  Klavyeden girilen başlangıç ve bitiş sayıları arasında bulunan tek sayıların toplamını bulan python kodunu yazınız.\n",
    "\n"
   ]
  },
  {
   "cell_type": "markdown",
   "metadata": {},
   "source": [
    "Örnek 35:  Klavyeden girilen sayının tek sayı mı çift sayı mı olduğunu bulan ve sonucu ekranda gösteren python kodunu yazınız.\n",
    "\n"
   ]
  },
  {
   "cell_type": "code",
   "execution_count": 37,
   "metadata": {},
   "outputs": [
    {
     "name": "stdout",
     "output_type": "stream",
     "text": [
      "cift tek kontrolu yapmami istedigin sayiyi gir: 25\n",
      "tek\n"
     ]
    }
   ],
   "source": [
    "sayi= int(input(\"cift tek kontrolu yapmami istedigin sayiyi gir: \"))\n",
    "if sayi%2==0:\n",
    "    print(\"cift\")\n",
    "\n",
    "else:\n",
    "    print(\"tek\")"
   ]
  },
  {
   "cell_type": "markdown",
   "metadata": {},
   "source": [
    "Örnek 36:  Örnek :Bir otoparkın ücret tarifesi aşağıdaki gibidir:\n",
    "\n",
    "1 saate kadar: 5 TL\n",
    "1-5 saat arası: Saat başı 4 TL\\\n",
    "5 saatten fazla: Saat başı 3 TL\\\n",
    "Buna göre kullanıcının girdiği otoparkta kalınan saat süresine göre ödenecek miktarı bularak ekrana yazdırınız.\n",
    "\n"
   ]
  },
  {
   "cell_type": "code",
   "execution_count": 56,
   "metadata": {},
   "outputs": [
    {
     "name": "stdout",
     "output_type": "stream",
     "text": [
      "kac saat otoparkta kaldi: 10\n",
      "36\n"
     ]
    }
   ],
   "source": [
    "saat= int(input(\"kac saat otoparkta kaldi: \"))\n",
    "ucret=5\n",
    "if saat>5:\n",
    "    for i in range(5,saat):\n",
    "        saat-=1\n",
    "        ucret+=3\n",
    "if 1<saat|saat<=5:\n",
    "    for i in range(1,saat):\n",
    "        saat-=1\n",
    "        ucret+=4\n",
    "print(ucret)"
   ]
  },
  {
   "cell_type": "markdown",
   "metadata": {},
   "source": [
    "Örnek 37:  Klavyeden girilen bir ifadeyi ekrana 10 defa yazdıran python kodunu yazınız.\n",
    "\n"
   ]
  },
  {
   "cell_type": "code",
   "execution_count": 57,
   "metadata": {},
   "outputs": [
    {
     "name": "stdout",
     "output_type": "stream",
     "text": [
      "bir sey yaziniz: 1\n",
      "1111111111\n"
     ]
    }
   ],
   "source": [
    "ifade=input(\"bir sey yaziniz: \")\n",
    "print(ifade*10)"
   ]
  },
  {
   "cell_type": "markdown",
   "metadata": {},
   "source": [
    "Örnek 38:  Klavyeden girilen bir ifadeyi klavyeden girilen bir sayı kadar ekrana yazdıran python kodunu yazınız.\n",
    "\n"
   ]
  },
  {
   "cell_type": "code",
   "execution_count": 59,
   "metadata": {},
   "outputs": [
    {
     "name": "stdout",
     "output_type": "stream",
     "text": [
      "bir sey yaziniz: umut\n",
      "kac defa yazdirayim: 5\n",
      "umutumutumutumutumut\n"
     ]
    }
   ],
   "source": [
    "ifade=input(\"bir sey yaziniz: \")\n",
    "sayi=int(input(\"kac defa yazdirayim: \"))\n",
    "print(ifade*sayi)"
   ]
  },
  {
   "cell_type": "markdown",
   "metadata": {},
   "source": [
    "Örnek 39:  Klavyeden aralarına virgül konularak yazılan tüm sayıları toplayan python kodunu yazınız.\n",
    "\n"
   ]
  },
  {
   "cell_type": "code",
   "execution_count": null,
   "metadata": {},
   "outputs": [],
   "source": [
    "string=input(\"toplamami istedigin sayilari aralarina virgul koyarak orn;(5,4,3) diye yaz: \")\n",
    "liste=[]\n",
    "liste=string.split(',')\n",
    "uzunluk=len(liste)\n",
    "toplam=0\n",
    "for i in range(0,uzunluk):\n",
    "    toplam+=int(liste[i])\n",
    "print(toplam)\n"
   ]
  },
  {
   "cell_type": "markdown",
   "metadata": {},
   "source": [
    "Örnek 40:  Klavyeden aralarına virgül konularak yazılan tüm sayıların ortalamasını hesaplayan python kodunu yazınız.\n",
    "\n"
   ]
  },
  {
   "cell_type": "code",
   "execution_count": 76,
   "metadata": {},
   "outputs": [
    {
     "name": "stdout",
     "output_type": "stream",
     "text": [
      "ortalamasını bulmamı istedigin sayilari aralarina virgul koyarak orn;(5,4,3) diye yaz5,7,5,7\n",
      "6.0\n"
     ]
    }
   ],
   "source": [
    "string=input(\"ortalamasını bulmamı istedigin sayilari aralarina virgul koyarak orn;(5,4,3) diye yaz: \")\n",
    "liste=[]\n",
    "liste=string.split(',')\n",
    "uzunluk=len(liste)\n",
    "toplam=0\n",
    "for i in range(0,uzunluk):\n",
    "    toplam+=int(liste[i])\n",
    "print(toplam/uzunluk)\n"
   ]
  },
  {
   "cell_type": "markdown",
   "metadata": {},
   "source": [
    "Örnek 41:  Klavyeden başlangıç değeri, bitiş değeri ve artış miktarı girilen sayıları alt alta yazdıran python kodunu yazınız.\n",
    "\n"
   ]
  },
  {
   "cell_type": "code",
   "execution_count": 60,
   "metadata": {},
   "outputs": [
    {
     "name": "stdout",
     "output_type": "stream",
     "text": [
      "baslangıc degerini giriniz: 5\n",
      "bitis degerini giriniz: 10\n",
      "artis degerini giriniz: 2\n",
      "5\n",
      "7\n",
      "9\n"
     ]
    }
   ],
   "source": [
    "baslangıc= int(input(\"baslangıc degerini giriniz: \"))\n",
    "bitis= int(input(\"bitis degerini giriniz: \"))\n",
    "artis= int(input(\"artis degerini giriniz: \"))\n",
    "for i in range(baslangıc,bitis+1,artis):\n",
    "    print(i)"
   ]
  },
  {
   "cell_type": "markdown",
   "metadata": {},
   "source": [
    "Örnek 42:  0 dan 100 e kadar olan çift sayıların toplamını hesaplayan ve sonucu yazdıran python kodunu while döngüsü kullanarak yapan kodunu yazınız.\n",
    "\n"
   ]
  },
  {
   "cell_type": "code",
   "execution_count": 26,
   "metadata": {},
   "outputs": [
    {
     "name": "stdout",
     "output_type": "stream",
     "text": [
      "2550\n"
     ]
    }
   ],
   "source": [
    "sayi=0\n",
    "toplam=0\n",
    "while(sayi!=101):\n",
    "    if(sayi%2==0):\n",
    "        toplam+=sayi\n",
    "    sayi+=1\n",
    "print(toplam)"
   ]
  },
  {
   "cell_type": "markdown",
   "metadata": {},
   "source": [
    "Örnek 43:  0 dan 100 e kadar olan tek sayıların toplamını hesaplayan ve sonucu yazdıran python kodunu while döngüsü kullanarak yapan kodunu yazınız.\n",
    "\n"
   ]
  },
  {
   "cell_type": "code",
   "execution_count": 64,
   "metadata": {},
   "outputs": [
    {
     "name": "stdout",
     "output_type": "stream",
     "text": [
      "2500\n"
     ]
    }
   ],
   "source": [
    "sayi=0\n",
    "toplam=0\n",
    "while(sayi!=101):\n",
    "    if(sayi%2==1):\n",
    "        toplam+=sayi\n",
    "    sayi+=1\n",
    "print(toplam)"
   ]
  },
  {
   "cell_type": "markdown",
   "metadata": {},
   "source": [
    "Örnek 44:  Klavyeden girilen sayıya kadar olan sayıların toplamını hesaplayan ve sonucu yazdıran python kodunu while döngüsü kullanarak yapan kodunu yazınız.\n",
    "\n"
   ]
  },
  {
   "cell_type": "code",
   "execution_count": 66,
   "metadata": {},
   "outputs": [
    {
     "name": "stdout",
     "output_type": "stream",
     "text": [
      "sayi giriniz100\n",
      "5050\n"
     ]
    }
   ],
   "source": [
    "sayi=int(input(\"sayi giriniz\"))\n",
    "toplam=0\n",
    "while(sayi!=0):\n",
    "    toplam+=sayi\n",
    "    sayi-=1\n",
    "print(toplam)"
   ]
  },
  {
   "cell_type": "markdown",
   "metadata": {},
   "source": [
    "Örnek 45:  Klavyeden girilen sayıya kadar olan tek sayıların toplamını hesaplayan ve sonucu yazdıran python kodunu while döngüsü kullanarak yapan kodunu yazınız.\n",
    "\n"
   ]
  },
  {
   "cell_type": "code",
   "execution_count": 67,
   "metadata": {},
   "outputs": [
    {
     "name": "stdout",
     "output_type": "stream",
     "text": [
      "sayi giriniz100\n",
      "2500\n"
     ]
    }
   ],
   "source": [
    "sayi=int(input(\"sayi giriniz\"))\n",
    "toplam=0\n",
    "while(sayi!=0):\n",
    "    if(sayi%2==1):\n",
    "        toplam+=sayi\n",
    "    sayi-=1\n",
    "print(toplam)"
   ]
  },
  {
   "cell_type": "markdown",
   "metadata": {},
   "source": [
    "Örnek 46:  Klavyeden girilen sayıya kadar olan çift sayıların toplamını hesaplayan ve sonucu yazdıran python kodunu while döngüsü kullanarak yapan kodunu yazınız.\n",
    "\n"
   ]
  },
  {
   "cell_type": "code",
   "execution_count": 68,
   "metadata": {},
   "outputs": [
    {
     "name": "stdout",
     "output_type": "stream",
     "text": [
      "sayi giriniz100\n",
      "2550\n"
     ]
    }
   ],
   "source": [
    "sayi=int(input(\"sayi giriniz\"))\n",
    "toplam=0\n",
    "while(sayi!=0):\n",
    "    if(sayi%2==0):\n",
    "        toplam+=sayi\n",
    "    sayi-=1\n",
    "print(toplam)"
   ]
  },
  {
   "cell_type": "markdown",
   "metadata": {},
   "source": [
    "Örnek 47:  Klavyeden girilen bir metni harflarine ayıran python programını while döngüsü ile yazdıran kodunu yazınız.\n",
    "\n"
   ]
  },
  {
   "cell_type": "code",
   "execution_count": 2,
   "metadata": {},
   "outputs": [
    {
     "name": "stdout",
     "output_type": "stream",
     "text": [
      "metin girinizumut\n",
      "u\n",
      "m\n",
      "u\n",
      "t\n"
     ]
    }
   ],
   "source": [
    "metin=input(\"metin giriniz\")\n",
    "toplam=len(metin)\n",
    "while(toplam!=0):\n",
    "    print(metin[-toplam])\n",
    "    toplam-=1"
   ]
  },
  {
   "cell_type": "markdown",
   "metadata": {},
   "source": [
    "Örnek 48:  0 ile 100 arasında 10 tane rastgele tam sayı üreten ve bu sayılardan en büyüğü ile en küçüğünü bulan ve ekranda gösteren python kodunu yazınız.\n",
    "\n"
   ]
  },
  {
   "cell_type": "code",
   "execution_count": 5,
   "metadata": {},
   "outputs": [
    {
     "name": "stdout",
     "output_type": "stream",
     "text": [
      "69\n",
      "6\n"
     ]
    }
   ],
   "source": [
    "import numpy as np\n",
    "sayi=np.random.randint(0,100,10)\n",
    "result=sayi.max()\n",
    "print(result)\n",
    "result=sayi.min()\n",
    "print(result)"
   ]
  },
  {
   "cell_type": "markdown",
   "metadata": {},
   "source": [
    "Örnek 49:  Kullanıcının klavyeden kilo bilgisi alınarak kilo 50 ve altında ise zayıfsın, 50-80 arası fitsin, 80 ve üstü ise kilo almışsın şeklinde ekranda yazdıran python kodunu yazınız.\n",
    "\n"
   ]
  },
  {
   "cell_type": "code",
   "execution_count": 40,
   "metadata": {},
   "outputs": [
    {
     "name": "stdout",
     "output_type": "stream",
     "text": [
      "kac kilosun:80\n",
      "kilo almışsın\n"
     ]
    }
   ],
   "source": [
    "kilo=int(input(\"kac kilosun:\"))\n",
    "if kilo<=50:\n",
    "    print(\"zayıfsın\")\n",
    "elif kilo>50 and kilo<80:\n",
    "    print(\"fitsin\")\n",
    "elif kilo>=80:\n",
    "    print(\"kilo almışsın\")"
   ]
  },
  {
   "cell_type": "markdown",
   "metadata": {},
   "source": [
    "Örnek 50:  Kullanıcının klavyeden yaş bilgisi alınıp 18 yaşından küçükse çocuk 18-40 yaş arası ise genç, 40-60 yaş arası ise orta yaşlı 60 yaştan büyükse yaşlı şeklinde ekrana yazdıran programın python kodlarını yazınız.\n",
    "\n"
   ]
  },
  {
   "cell_type": "code",
   "execution_count": 49,
   "metadata": {},
   "outputs": [
    {
     "name": "stdout",
     "output_type": "stream",
     "text": [
      "yaşınız:21\n",
      "genc\n"
     ]
    }
   ],
   "source": [
    "yas=int(input(\"yaşınız:\"))\n",
    "if yas<18:\n",
    "    print(\"cocuk\")\n",
    "elif yas>=18 and yas<40:\n",
    "    print(\"genc\")\n",
    "elif yas>=40 and yas<60:\n",
    "    print(\"orta yasli\")\n",
    "else:\n",
    "    print(\"yasli\")"
   ]
  },
  {
   "cell_type": "markdown",
   "metadata": {},
   "source": [
    "Örnek 51:  Klavyeden girilen iki sayının yine klavyeden girilen aritmetik operatör işaretlerine göre (toplama, çıkarma, çarpma bölme) dört işlem yapan ve sonucu ekranda gösteren python kodunu yazınız.\n",
    "\n"
   ]
  },
  {
   "cell_type": "code",
   "execution_count": 4,
   "metadata": {},
   "outputs": [
    {
     "name": "stdout",
     "output_type": "stream",
     "text": [
      "1. sayiyi giriniz5\n",
      "2. sayiyi giriniz4\n",
      "+ , - , * , / hangisini yapacaksaniz secin+\n",
      "9\n"
     ]
    }
   ],
   "source": [
    "sayi1=int(input(\"1. sayiyi giriniz\"))\n",
    "sayi2=int(input(\"2. sayiyi giriniz\"))\n",
    "secim=input(\"+ , - , * , / hangisini yapacaksaniz secin: \")\n",
    "if secim=='+':\n",
    "    toplam=sayi1+sayi2\n",
    "    print(toplam)\n",
    "elif secim=='-':\n",
    "    cikarma=sayi1-sayi2\n",
    "    print(cikarma)\n",
    "elif secim=='*':\n",
    "    carpma=sayi1*sayi2\n",
    "    print(carpma)\n",
    "elif secim=='/':\n",
    "    bolme=sayi1/sayi2\n",
    "    print(bolme)\n",
    "else:\n",
    "    print(\"yanlis deger girdiniz\")"
   ]
  },
  {
   "cell_type": "markdown",
   "metadata": {},
   "source": [
    "Örnek 52:  Klavyeden girilen bir sayının rakamlarının toplamını bulan ve ekranda gösteren python kodunu yazınız.\n",
    "\n"
   ]
  },
  {
   "cell_type": "code",
   "execution_count": 59,
   "metadata": {},
   "outputs": [
    {
     "name": "stdout",
     "output_type": "stream",
     "text": [
      "rakamlarini toplamamı istedigin sayiyi giriniz: 125\n",
      "8\n"
     ]
    }
   ],
   "source": [
    "toplam = 0\n",
    "sayac=0\n",
    "sayi = input(\"rakamlarini toplamamı istedigin sayiyi giriniz: \")\n",
    "hane = len(sayi)\n",
    "while hane!=sayac :\n",
    "    toplam += int(sayi[sayac])\n",
    "    sayac+=1\n",
    "print(toplam)"
   ]
  },
  {
   "cell_type": "markdown",
   "metadata": {},
   "source": [
    "Örnek 53:  Program çalıştırıldığı anda o anın tarih ve saat bilgilerini ekrana yazdıran python kodunu yazınız.\n",
    "\n"
   ]
  },
  {
   "cell_type": "code",
   "execution_count": 9,
   "metadata": {},
   "outputs": [
    {
     "name": "stdout",
     "output_type": "stream",
     "text": [
      "2022-11-21 18:52:27.790556\n"
     ]
    }
   ],
   "source": [
    "import datetime\n",
    "\n",
    "x = datetime.datetime.now()\n",
    "print(x)"
   ]
  },
  {
   "cell_type": "markdown",
   "metadata": {},
   "source": [
    "Örnek 54:  Şu anki sistemin tarihini ekrana yazdıran python kodunu yazınız.\n",
    "\n"
   ]
  },
  {
   "cell_type": "code",
   "execution_count": 10,
   "metadata": {},
   "outputs": [
    {
     "name": "stdout",
     "output_type": "stream",
     "text": [
      "2022-11-21 18:52:41.240290\n"
     ]
    }
   ],
   "source": [
    "import datetime\n",
    "\n",
    "x = datetime.datetime.now()\n",
    "print(x)"
   ]
  },
  {
   "cell_type": "markdown",
   "metadata": {},
   "source": [
    "Örnek 55:  Klavyeden Fahrenheit cinsinden girilen sıcaklığı Dereceye çeviren python kodunu yazınız.\n",
    "\n"
   ]
  },
  {
   "cell_type": "code",
   "execution_count": 7,
   "metadata": {},
   "outputs": [
    {
     "name": "stdout",
     "output_type": "stream",
     "text": [
      "fahrenheit cinsinden sicakligi giriniz: 273\n",
      "273 fahrenheit 0 dereceye denk gelmektedir\n"
     ]
    }
   ],
   "source": [
    "fahrenheit=int(input(\"fahrenheit cinsinden sicakligi giriniz: \"))\n",
    "derece=fahrenheit-273\n",
    "print(f\"{fahrenheit} fahrenheit {derece} dereceye denk gelmektedir\")"
   ]
  },
  {
   "cell_type": "markdown",
   "metadata": {},
   "source": [
    "Örnek 56:  Klavyeden bir kenar uzunluğu girilen karenin alanını ve çevresini bulan ve ekrana yazdıran python kodunu yazınız.\n",
    "\n"
   ]
  },
  {
   "cell_type": "code",
   "execution_count": 9,
   "metadata": {},
   "outputs": [
    {
     "name": "stdout",
     "output_type": "stream",
     "text": [
      "karenin bir kenarinin uzunlugunu giriniz: 4\n",
      "4 cm uzunlugundaki karenin alanı 16, cevresi 16\n"
     ]
    }
   ],
   "source": [
    "def k_alan(x):\n",
    "    alan=x*x\n",
    "    return alan\n",
    "def k_cevre(x):\n",
    "    cevre=x*4\n",
    "    return cevre\n",
    "kenar=int(input(\"karenin bir kenarinin uzunlugunu giriniz: \"))\n",
    "alan=k_alan(kenar)\n",
    "cevre=k_cevre(kenar)\n",
    "print(f\"{kenar} cm uzunlugundaki karenin alanı {alan}, cevresi {cevre}\")"
   ]
  },
  {
   "cell_type": "markdown",
   "metadata": {},
   "source": [
    "Örnek 57:  Klavyeden girilen saniye değerinin kaç saat kaç dakika ve kaç saniye olduğunu bulan python kodunu yazınız.\n",
    "\n"
   ]
  },
  {
   "cell_type": "code",
   "execution_count": 78,
   "metadata": {},
   "outputs": [
    {
     "name": "stdout",
     "output_type": "stream",
     "text": [
      "hesaplamami istedigin saniyeyi giriniz giriniz: 5550\n",
      "girdigin sayi 1 saat 32 dakika 30 saniye yapıyor \n"
     ]
    }
   ],
   "source": [
    "saniye=int(input(\"hesaplamami istedigin saniyeyi giriniz giriniz: \"))\n",
    "saat=0\n",
    "dakika=0\n",
    "while saniye>3600:\n",
    "    saat+=1\n",
    "    saniye-=3600\n",
    "while saniye>60:\n",
    "    dakika+=1\n",
    "    saniye-=60\n",
    "print(f\"girdigin sayi {saat} saat {dakika} dakika {saniye} saniye yapıyor \")"
   ]
  },
  {
   "cell_type": "markdown",
   "metadata": {},
   "source": [
    "Örnek 58:  Klavyeden boy ve kilo bilgileri girilen kişinin beden kitle endeksini hesaplayan python kodunu yazınız.\n",
    "\n"
   ]
  },
  {
   "cell_type": "code",
   "execution_count": 8,
   "metadata": {},
   "outputs": [
    {
     "name": "stdout",
     "output_type": "stream",
     "text": [
      "kilonuzu giriniz: 92\n",
      "boyunuzu giriniz: 1.80\n",
      "28.39506172839506\n"
     ]
    }
   ],
   "source": [
    "kilo = float(input(\"kilonuzu giriniz: \"))\n",
    "boy = float(input(\"boyunuzu giriniz: \"))\n",
    "endeks=kilo/(boy**2)\n",
    "print(endeks)"
   ]
  },
  {
   "cell_type": "markdown",
   "metadata": {},
   "source": [
    "Örnek 59:  Klavyeden girilen iki sayıdan büyük olanı bulan ve ekranda gösteren python kodunu yazınız.\n",
    "\n"
   ]
  },
  {
   "cell_type": "code",
   "execution_count": 10,
   "metadata": {},
   "outputs": [
    {
     "name": "stdout",
     "output_type": "stream",
     "text": [
      "1. sayiyi giriniz: 5\n",
      "2. sayiyi giriniz: 4\n",
      "5\n"
     ]
    }
   ],
   "source": [
    "sayi1 = int(input(\"1. sayiyi giriniz: \"))\n",
    "sayi2 = int(input(\"2. sayiyi giriniz: \"))\n",
    "if(sayi1<sayi2):\n",
    "    print(sayi2)\n",
    "elif(sayi1>sayi2):\n",
    "    print(sayi1)\n",
    "else:\n",
    "    print(\"sayi1 ve sayi2 esittir\")"
   ]
  },
  {
   "cell_type": "markdown",
   "metadata": {},
   "source": [
    "Örnek 60:  Klavyeden girilen not ortalamasına göre kişinin takdir teşekkür normal geçme yada sınıf tekrarı yapması gerektiğini gösteren python kodunu yazınız.\n",
    "\n"
   ]
  },
  {
   "cell_type": "code",
   "execution_count": 4,
   "metadata": {},
   "outputs": [
    {
     "name": "stdout",
     "output_type": "stream",
     "text": [
      "ortalamanizi giriniz: 55\n",
      "gectin tebrikler\n"
     ]
    }
   ],
   "source": [
    "ort = int(input(\"ortalamanizi giriniz: \"))\n",
    "if ort>=85:\n",
    "    print(\"takdir aldin tebrikler inek\")\n",
    "elif ort>=70 and ort<85:\n",
    "    print(\"tesekkur aldin tebrikler\")\n",
    "elif ort>50 and ort<70:\n",
    "    print(\"gectin tebrikler\")\n",
    "else:\n",
    "    print(\"uzulme\")"
   ]
  },
  {
   "cell_type": "markdown",
   "metadata": {},
   "source": [
    "Örnek 61:  Klavyeden girilen bir sayının 0-10 arasında olup olmadığını kontrol eden python kodunu yazınız.\n",
    "\n"
   ]
  },
  {
   "cell_type": "code",
   "execution_count": null,
   "metadata": {},
   "outputs": [],
   "source": [
    "sayi = int(input(\"bir sayi giriniz: \"))\n",
    "if sayi>0 and sayi<10:\n",
    "    print(\"sayi 0 ile 10 arasindadir\")\n",
    "else:\n",
    "    print(\"sayi 0 ile 10 arasinda degildir\")"
   ]
  },
  {
   "cell_type": "markdown",
   "metadata": {},
   "source": [
    "Örnek 62:  Klavyeden girilen şifrenin “bilişim” olup olmadığını kontrol eden ve ona göre yönlendirme yapan python kodunu yazınız.\n",
    "\n"
   ]
  },
  {
   "cell_type": "code",
   "execution_count": null,
   "metadata": {},
   "outputs": [],
   "source": [
    "string = input(\"bilisim yaz gulum: \")\n",
    "if string=='bilisim':\n",
    "    print(\"teprikler bilisim yazabildin\")\n",
    "else:\n",
    "    print(\"lütfen bilisim yaziniz\")"
   ]
  },
  {
   "cell_type": "markdown",
   "metadata": {},
   "source": [
    "Örnek 63:  Klavyeden girilen bölünen ve bölen sayılarına göre bölen sayının sıfır olup olmadığını kontrol eden ve ona göre sonuç yada uyarı veren python kodunu yazınız.\n",
    "\n"
   ]
  },
  {
   "cell_type": "code",
   "execution_count": 85,
   "metadata": {},
   "outputs": [
    {
     "name": "stdout",
     "output_type": "stream",
     "text": [
      "bolunmesini istedigin sayiyi giriniz: 12\n",
      "bolen sayiyi giriniz: 4\n",
      "12 sayisinin 4 bolunmesi durumunda, bolum 3 kalan ise 0 dir\n"
     ]
    }
   ],
   "source": [
    "bolunen=int(input(\"bolunmesini istedigin sayiyi giriniz: \"))\n",
    "bolen=int(input(\"bolen sayiyi giriniz: \"))\n",
    "if(bolen==0):\n",
    "    print(\"bolen sayi 0 olamaz\")\n",
    "else:\n",
    "    bolum=bolunen//bolen\n",
    "    kalan=bolunen-(bolum*bolen)\n",
    "    print(f\"{bolunen} sayisinin {bolen} bolunmesi durumunda, bolum {bolum} kalan ise {kalan} dir\")"
   ]
  },
  {
   "cell_type": "markdown",
   "metadata": {},
   "source": [
    "Örnek 64:  Klavyeden 1 ile 5 arasında bir değer giren ve bu değeri yazı ile yazdıran bu değerlerin dışında bir değer girildiğinde uyarı mesajı veren python kodunu yazınız.\n",
    "\n"
   ]
  },
  {
   "cell_type": "code",
   "execution_count": 84,
   "metadata": {},
   "outputs": [
    {
     "name": "stdout",
     "output_type": "stream",
     "text": [
      "bir sayi giriniz: 1\n",
      "1\n",
      "bir sayi giriniz: 2\n",
      "2\n",
      "bir sayi giriniz: 3\n",
      "3\n",
      "bir sayi giriniz: 5\n",
      "5\n",
      "bir sayi giriniz: 8\n"
     ]
    }
   ],
   "source": [
    "sayi=int(input(\"bir sayi giriniz: \"))\n",
    "while (sayi<=5) and (sayi>=1):\n",
    "    print(sayi)\n",
    "    sayi=int(input(\"bir sayi giriniz: \"))"
   ]
  },
  {
   "cell_type": "markdown",
   "metadata": {},
   "source": [
    "Örnek 65:  Klavyeden girilen bir sayının 2 ve 3 e veya sadece 2 ye veya sadece 3 e tam bölünüp bölünmediğini yada hiç birine bölünmediğini kontrol eden python kodunu yazınız.\n",
    "\n"
   ]
  },
  {
   "cell_type": "code",
   "execution_count": 14,
   "metadata": {},
   "outputs": [
    {
     "name": "stdout",
     "output_type": "stream",
     "text": [
      "bir sayi giriniz: 5\n",
      "sayi 2 ye ve 3e bolunmuyor\n"
     ]
    }
   ],
   "source": [
    "sayi = int(input(\"bir sayi giriniz: \"))\n",
    "if(sayi%6==0):\n",
    "    print(\"sayi hem 2 ye hem de 3e bolunuyor\")\n",
    "elif(sayi%2==0):\n",
    "    print(\"sayi  2 ye bolunuyor\")\n",
    "elif(sayi%3==0):\n",
    "    print(\"sayi  3 ye bolunuyor\")\n",
    "else:\n",
    "    print(\"sayi 2 ye ve 3e bolunmuyor\")"
   ]
  },
  {
   "cell_type": "markdown",
   "metadata": {},
   "source": [
    "Örnek 66:  0 dan 30’a kadar olan sayılardan 2 ve 3 bölünenleri ekranda sıralayan programın python kodlarını yazınız.\n",
    "\n"
   ]
  },
  {
   "cell_type": "code",
   "execution_count": 16,
   "metadata": {},
   "outputs": [
    {
     "name": "stdout",
     "output_type": "stream",
     "text": [
      "bir sayi giriniz: 24\n",
      "0\n",
      "6\n",
      "12\n",
      "18\n"
     ]
    }
   ],
   "source": [
    "sayi = int(input(\"bir sayi giriniz: \"))\n",
    "for i in range(sayi):\n",
    "    if(i%2==0) and (i%3==0):\n",
    "        print(i)\n",
    "    "
   ]
  },
  {
   "cell_type": "markdown",
   "metadata": {},
   "source": [
    "Örnek 67:  Klayeden girilen beş adet sayının toplamını bulan ve bulunan toplamın tek sayımı yoksa çift sayı mı olduğunu bulan python kodunu yazınız.\n",
    "\n"
   ]
  },
  {
   "cell_type": "code",
   "execution_count": 86,
   "metadata": {},
   "outputs": [
    {
     "name": "stdout",
     "output_type": "stream",
     "text": [
      "bir sayi giriniz: 5\n",
      "bir sayi giriniz: 5\n",
      "bir sayi giriniz: 5\n",
      "bir sayi giriniz: 5\n",
      "bir sayi giriniz: 5\n",
      "tek\n"
     ]
    }
   ],
   "source": [
    "toplam=0\n",
    "for i in range(5):\n",
    "    sayi= int(input(\"bir sayi giriniz: \"))\n",
    "    toplam+=sayi\n",
    "if(toplam%2==0):\n",
    "    print(\"cift\")\n",
    "else:\n",
    "    print(\"tek\")"
   ]
  },
  {
   "cell_type": "markdown",
   "metadata": {},
   "source": [
    "Örnek 68:  0 ile 50 sayısı arasında 4 e bölünen sayıları listeleyen programın python kodlarını yazınız.\n",
    "\n"
   ]
  },
  {
   "cell_type": "code",
   "execution_count": 1,
   "metadata": {},
   "outputs": [
    {
     "name": "stdout",
     "output_type": "stream",
     "text": [
      "0\n",
      "4\n",
      "8\n",
      "12\n",
      "16\n",
      "20\n",
      "24\n",
      "28\n",
      "32\n",
      "36\n",
      "40\n",
      "44\n",
      "48\n"
     ]
    }
   ],
   "source": [
    "for i in range(50):\n",
    "    if(i%4==0):\n",
    "        print(i)"
   ]
  },
  {
   "cell_type": "markdown",
   "metadata": {},
   "source": [
    "Örnek 69:  Klavyeden girilen beş tane sayıdan en büyüğünü bulup ekranda gösteren python kodunu yazınız.\n",
    "\n"
   ]
  },
  {
   "cell_type": "code",
   "execution_count": 5,
   "metadata": {},
   "outputs": [
    {
     "name": "stdout",
     "output_type": "stream",
     "text": [
      "bir sayi giriniz: 1\n",
      "bir sayi giriniz: 2\n",
      "bir sayi giriniz: 3\n",
      "bir sayi giriniz: 4\n",
      "bir sayi giriniz: 5\n",
      "5\n"
     ]
    }
   ],
   "source": [
    "liste=[]\n",
    "en_buyuk=0\n",
    "for i in range(5):\n",
    "    sayi = int(input(\"bir sayi giriniz: \"))\n",
    "    liste.append(sayi)\n",
    "for i in range(5):\n",
    "    if en_buyuk<liste[i]:\n",
    "        en_buyuk=liste[i]\n",
    "print(en_buyuk)"
   ]
  },
  {
   "cell_type": "markdown",
   "metadata": {},
   "source": [
    "Örnek 70:  Klavyeden kullanıcının girdiği ismin kaç harfli olduğunu bulan programın python kodlarını yazınız.\n",
    "\n"
   ]
  },
  {
   "cell_type": "code",
   "execution_count": 6,
   "metadata": {},
   "outputs": [
    {
     "name": "stdout",
     "output_type": "stream",
     "text": [
      "adınızı bahşeder misiniz? : umut\n",
      "4\n"
     ]
    }
   ],
   "source": [
    "string = input(\"adınızı bahşeder misiniz? : \")\n",
    "string=len(string)\n",
    "print(string)"
   ]
  },
  {
   "cell_type": "markdown",
   "metadata": {},
   "source": [
    "Örnek 71:  Klavyeden 0 rakamı girilene kadar girilen tüm sayıların kaç tane olduğunu ve bu sayıların toplamını bulan ve ekranda gösteren python kodunu yazınız.\n",
    "\n"
   ]
  },
  {
   "cell_type": "code",
   "execution_count": 1,
   "metadata": {},
   "outputs": [
    {
     "name": "stdout",
     "output_type": "stream",
     "text": [
      "sayi giriniz 5\n",
      "sayi giriniz 6\n",
      "sayi giriniz 7\n",
      "sayi giriniz 0\n",
      "sayilarin toplami 18 dir. 4 tane sayi girdiniz\n"
     ]
    }
   ],
   "source": [
    "sayac=0\n",
    "toplam=-1\n",
    "sayi=1\n",
    "while sayi!=0:\n",
    "    toplam+=sayi\n",
    "    sayac+=1\n",
    "    sayi=int(input(\"sayi giriniz \"))\n",
    "print(f\"sayilarin toplami {toplam} dir. {sayac} tane sayi girdiniz\")"
   ]
  },
  {
   "cell_type": "markdown",
   "metadata": {},
   "source": [
    "Örnek 72:  Klavyeden 0 rakamı girilene kadar girilen tüm sayıların kaç tane olduğunu ve bu sayıların ortalamasını bulan ve ekranda gösteren python kodunu yazınız.\n",
    "\n"
   ]
  },
  {
   "cell_type": "code",
   "execution_count": 2,
   "metadata": {},
   "outputs": [
    {
     "name": "stdout",
     "output_type": "stream",
     "text": [
      "sayi giriniz 5\n",
      "sayi giriniz 5\n",
      "sayi giriniz 5\n",
      "sayi giriniz 0\n",
      "sayilarin ort 3.75 dir. 4 tane sayi girdiniz\n"
     ]
    }
   ],
   "source": [
    "sayac=0\n",
    "toplam=-1\n",
    "sayi=1\n",
    "while sayi!=0:\n",
    "    toplam+=sayi\n",
    "    sayac+=1\n",
    "    sayi=int(input(\"sayi giriniz \"))\n",
    "toplam=toplam/sayac\n",
    "print(f\"sayilarin ort {toplam} dir. {sayac} tane sayi girdiniz\")"
   ]
  },
  {
   "cell_type": "markdown",
   "metadata": {},
   "source": [
    "Örnek 73:  Klavyeden girilen taban ve üs değerine göre o sayının üssünü hesaplayan ve sonucu ekranda gösteren python kodunu yazınız.\n",
    "\n"
   ]
  },
  {
   "cell_type": "code",
   "execution_count": 3,
   "metadata": {},
   "outputs": [
    {
     "name": "stdout",
     "output_type": "stream",
     "text": [
      "taban giriniz 2\n",
      "us giriniz 4\n",
      "16\n"
     ]
    }
   ],
   "source": [
    "def us_alma(x,y):\n",
    "    x=x**y\n",
    "    return x\n",
    "taban=int(input(\"taban giriniz \"))\n",
    "us=int(input(\"us giriniz \"))\n",
    "us=us_alma(taban,us)\n",
    "print(us)"
   ]
  },
  {
   "cell_type": "markdown",
   "metadata": {},
   "source": [
    "Örnek 74:  Klavyeden girilen bir sayının karekökünü bulan ve ekranda gösteren python kodunu yazınız.\n",
    "\n"
   ]
  },
  {
   "cell_type": "code",
   "execution_count": 7,
   "metadata": {},
   "outputs": [
    {
     "name": "stdout",
     "output_type": "stream",
     "text": [
      "karekokunu almami istedigin sayiyi gir256\n",
      "16.0\n"
     ]
    }
   ],
   "source": [
    "import numpy as np\n",
    "sayi=int(input(\"karekokunu almami istedigin sayiyi gir: \"))\n",
    "sayi=np.sqrt(sayi)\n",
    "print(sayi)"
   ]
  },
  {
   "cell_type": "markdown",
   "metadata": {},
   "source": [
    "Örnek 75:  Klavyeden girilen iki sayının EKOK ve EBOB’unu bulan ve ekranda gösteren python kodunu yazınız.\n",
    "\n"
   ]
  },
  {
   "cell_type": "code",
   "execution_count": 8,
   "metadata": {},
   "outputs": [
    {
     "name": "stdout",
     "output_type": "stream",
     "text": [
      "Sayı1: 5\n",
      "Sayı2: 25\n",
      "Ebob:  5\n",
      "Ekok:  25.0\n"
     ]
    }
   ],
   "source": [
    "def ebob_bulma(sayı1 , sayı2):\n",
    "    i = 1\n",
    "    ebob = 1\n",
    "    while (i <= sayı1 and i <= sayı2):\n",
    "        if not sayı1 % i and not sayı2 % i :\n",
    "            ebob = i\n",
    "        i += 1\n",
    "\n",
    "    return ebob\n",
    "\n",
    "def ekok_bulma(sayı1, sayı2):\n",
    "    return sayı1 * sayı2 / ebob_bulma(sayı1,sayı2)\n",
    "\n",
    "sayı1 = int(input(\"Sayı1: \"))\n",
    "sayı2 = int(input(\"Sayı2: \"))\n",
    "\n",
    "print(\"Ebob: \",ebob_bulma(sayı1,sayı2))\n",
    "print(\"Ekok: \",ekok_bulma(sayı1,sayı2))"
   ]
  },
  {
   "cell_type": "markdown",
   "metadata": {},
   "source": [
    "Örnek 76:  Klavyeden girilen bir sayının faktöriyelini bulan ve ekranda gösteren python kodunu yazınız.\n",
    "\n"
   ]
  },
  {
   "cell_type": "code",
   "execution_count": 9,
   "metadata": {},
   "outputs": [
    {
     "name": "stdout",
     "output_type": "stream",
     "text": [
      "faktoriyelini almami istedigin sayiyi giriniz5\n",
      "120\n"
     ]
    }
   ],
   "source": [
    "sayi=int(input(\"faktoriyelini almami istedigin sayiyi giriniz\"))\n",
    "faktoriyel=1\n",
    "for i in range(1,sayi+1):\n",
    "    faktoriyel*=i\n",
    "print(faktoriyel)"
   ]
  },
  {
   "cell_type": "markdown",
   "metadata": {},
   "source": [
    "Örnek 77:  Klavyeden girilen bir sayının mutlak değerini bulan ve ekranda gösteren python kodunu yazınız.\n",
    "\n"
   ]
  },
  {
   "cell_type": "code",
   "execution_count": 10,
   "metadata": {},
   "outputs": [
    {
     "name": "stdout",
     "output_type": "stream",
     "text": [
      "mutlak degerini almami istedigin sayiyi giriniz-5\n",
      "5\n"
     ]
    }
   ],
   "source": [
    "sayi=int(input(\"mutlak degerini almami istedigin sayiyi giriniz\"))\n",
    "if sayi<0:\n",
    "    sayi*=-1\n",
    "print(sayi)"
   ]
  },
  {
   "cell_type": "markdown",
   "metadata": {},
   "source": [
    "Örnek 78:  Daha önceden belirlenmiş bir liste içerisinden rastgele bir sayı seçen ve ekranda gösteren python kodunu yazınız.\n",
    "\n",
    "liste=[1,2,3,4,5,6,7,8,9,10,11,12,13,14,15,16,17,18,19,20,21,22,23,24,25,26,27,28,29,30]\n"
   ]
  },
  {
   "cell_type": "code",
   "execution_count": 17,
   "metadata": {},
   "outputs": [
    {
     "name": "stdout",
     "output_type": "stream",
     "text": [
      "13\n"
     ]
    }
   ],
   "source": [
    "import numpy as np\n",
    "liste=[1,2,3,4,5,6,7,8,9,10,11,12,13,14,15,16,17,18,19,20,21,22,23,24,25,26,27,28,29,30]\n",
    "a=len(liste)\n",
    "rastgele=np.random.randint(0,a)\n",
    "print(liste[rastgele])\n"
   ]
  },
  {
   "cell_type": "markdown",
   "metadata": {},
   "source": [
    "Örnek 79:  Klavyeden girilen a,b,c değerlerine göre 2. dereceden bir denklemin köklerini bulan ve ekranda gösteren python kodunu yazınız.\n",
    "\n"
   ]
  },
  {
   "cell_type": "code",
   "execution_count": 19,
   "metadata": {},
   "outputs": [
    {
     "name": "stdout",
     "output_type": "stream",
     "text": [
      "2.Dereceden Bir Denklemin Kökünü Bulma\n",
      "a : 1\n",
      "b : 12\n",
      "c : 36\n",
      "Birinci Kök : -6.0\n",
      "İkinci Kök : -6.0\n"
     ]
    }
   ],
   "source": [
    "import numpy as np\n",
    "print(\"2.Dereceden Bir Denklemin Kökünü Bulma\")\n",
    " \n",
    "a=int(input(\"a : \"))\n",
    "b=int(input(\"b : \"))\n",
    "c=int(input(\"c : \"))\n",
    " \n",
    "delta=b**2-4*a*c\n",
    " \n",
    "x1=(-b-(np.sqrt(delta)))/(2*a)\n",
    "x2=(-b+(np.sqrt(delta)))/(2*a)\n",
    " \n",
    "print(\"Birinci Kök : {}\\nİkinci Kök : {}\".format(x1,x2))"
   ]
  },
  {
   "cell_type": "markdown",
   "metadata": {},
   "source": [
    "Örnek 80:  Klavyeden girilen yıl ve o yılın ayının takvimini ekranda gösteren python kodunu yazınız.\n",
    "\n"
   ]
  },
  {
   "cell_type": "markdown",
   "metadata": {},
   "source": [
    "Örnek 81:  Klavyeden 10’luk tabanda girilmiş bir sayıyı 2’lik, 8’lik ve 16’lık tabana çeviren ve ekranda gösteren python kodunu yazınız.\n",
    "\n"
   ]
  },
  {
   "cell_type": "markdown",
   "metadata": {},
   "source": [
    "Örnek 82:  Klavyeden girilen bir ismin klavyeden girilen bir sayı kadar yan yana yazdıran python kodunu yazınız.\n",
    "\n"
   ]
  },
  {
   "cell_type": "code",
   "execution_count": 20,
   "metadata": {},
   "outputs": [
    {
     "name": "stdout",
     "output_type": "stream",
     "text": [
      "sevdiginin adini soyleyokki\n",
      "kac kere yazdirayim5\n",
      "yokkiyokkiyokkiyokkiyokki\n"
     ]
    }
   ],
   "source": [
    "isim=input(\"sevdiginin adini soyle\")\n",
    "sayi=int(input(\"kac kere yazdirayim\"))\n",
    "print(isim*sayi)"
   ]
  },
  {
   "cell_type": "markdown",
   "metadata": {},
   "source": [
    "Örnek 83:  Klavyeden girilen bir sayının karesini ve küpünü bulan ve ekranda gösteren python kodunu yazınız.\n",
    "\n"
   ]
  },
  {
   "cell_type": "code",
   "execution_count": 21,
   "metadata": {},
   "outputs": [
    {
     "name": "stdout",
     "output_type": "stream",
     "text": [
      "karesini ve kupunu almami istediğin sayiyi gir2\n",
      "2 sayisinin karesi 4, kupu 8 tür \n"
     ]
    }
   ],
   "source": [
    "sayi=int(input(\"karesini ve kupunu almami istediğin sayiyi gir\"))\n",
    "kare=sayi**2\n",
    "kup=sayi**3\n",
    "print(f\"{sayi} sayisinin karesi {kare}, kupu {kup} tür \")"
   ]
  },
  {
   "cell_type": "markdown",
   "metadata": {},
   "source": [
    "Örnek 84:  Klavyeden girilen 3 tane açının toplamının 180 olup olmadığını kontrol eden ve üçgen oluşturup oluşturmadığını kontrol eden python kodunu yazınız.\n",
    "\n"
   ]
  },
  {
   "cell_type": "code",
   "execution_count": 30,
   "metadata": {},
   "outputs": [
    {
     "name": "stdout",
     "output_type": "stream",
     "text": [
      "derece giriniz: 30\n",
      "derece giriniz: 60\n",
      "derece giriniz: 90\n",
      "derecelerin toplami 180 ucgen olusturabilirsin\n"
     ]
    }
   ],
   "source": [
    "toplam=0\n",
    "for i in range(3):\n",
    "    sayi=int(input(\"derece giriniz: \"))\n",
    "    toplam+=sayi\n",
    "if toplam==180:\n",
    "    print(f\"derecelerin toplami {toplam} ucgen olusturabilirsin\")\n",
    "else:\n",
    "    print(f\"derecelerin toplami {toplam} ucgen olusmaz\")\n",
    "    \n",
    "    "
   ]
  },
  {
   "cell_type": "markdown",
   "metadata": {},
   "source": [
    "Örnek 85:  Kullanıcının girdiği iki ürünün toplam fiyatı 200 TL ve altıysa “Ödenecek miktar=…. TL”; 200 TL’yi geçerse %25 indirim yaparak “Ödenecek miktar, indirimden sonra ….. TL’dir.” çıktılarını veren kodu yazınız.\n",
    "\n"
   ]
  },
  {
   "cell_type": "code",
   "execution_count": 31,
   "metadata": {},
   "outputs": [
    {
     "name": "stdout",
     "output_type": "stream",
     "text": [
      "1. urunun fiyatını giriniz: 200\n",
      "2. urunun fiyatını giriniz: 100\n",
      "Ödenecek miktar=225.0 \n"
     ]
    }
   ],
   "source": [
    "urun1=int(input(\"1. urunun fiyatını giriniz: \"))\n",
    "urun2=int(input(\"2. urunun fiyatını giriniz: \"))\n",
    "toplams=urun1+urun2\n",
    "if toplams<200:\n",
    "    print(f\"Ödenecek miktar={toplams} \")\n",
    "else:\n",
    "    toplams*=0.75\n",
    "    print(f\"Ödenecek miktar={toplams} \")"
   ]
  },
  {
   "cell_type": "markdown",
   "metadata": {},
   "source": [
    "Örnek 86:  Kullanıcıya yabancı dil ve ofis programlarını bilip bilmediği sorulsun. Her iki soruya da “Evet” cevabı verilirse “İşe alındınız.”; diğer durumlarda ise “İşe alınmadınız.” çıktıları veren programı yazınız.\n",
    "\n"
   ]
  },
  {
   "cell_type": "code",
   "execution_count": 34,
   "metadata": {},
   "outputs": [
    {
     "name": "stdout",
     "output_type": "stream",
     "text": [
      "yabanci dil biliyor musunevet\n",
      "ofis programlarini biliyor musunhayır\n",
      "ise alinmadiniz\n"
     ]
    }
   ],
   "source": [
    "y_dil=input(\"yabanci dil biliyor musun: \")\n",
    "o_prg=input(\"ofis programlarini biliyor musun: \")\n",
    "if((y_dil=='evet') and (o_prg=='evet')):\n",
    "    print(\"ise alindiniz\")\n",
    "else:\n",
    "    print(\"ise alinmadiniz\")"
   ]
  },
  {
   "cell_type": "markdown",
   "metadata": {},
   "source": [
    "Örnek 87:  Bir mülakatta katılımcının başarılı olabilmesi için İngilizce ya da Fransızcadan birini bilmesi ve yaşının 40’tan küçük olması gerekmektedir. Katılımcıya yukarıdaki bilgileri, adını ve soyadını sorarak mülakat sonucunu “Başarılı” ya da “Başarısız” çıktıları ile gösteriniz.\n",
    "\n"
   ]
  },
  {
   "cell_type": "code",
   "execution_count": null,
   "metadata": {},
   "outputs": [],
   "source": [
    "ad=input(\"adını ve soyadını yaz: \")\n",
    "ing=input(\"ingilizce biliyor musun: \")\n",
    "fr=input(\"Fransızca biliyor musun: \")\n",
    "yas=int(input(\"kac yasindasin\"))\n",
    "if((ing=='evet') and (fr=='evet') and (yas<40)):\n",
    "    print(f\"tebrikler {ad} ise alindiniz\")\n",
    "else:\n",
    "    print(f\"uzgunum {ad} ise alinmadiniz\")"
   ]
  },
  {
   "cell_type": "markdown",
   "metadata": {},
   "source": [
    "Örnek 88 : Girilen iki sayıya ve operatöre (+,-,*,/) göre toplama, çıkarma, çarpma ya da bölme işlemlerini yapan; bu operatörler dışında bir değer girildiğinde “Yanlış işlem girdiniz.” uyarısı veren kodu yazınız.\n",
    "\n"
   ]
  },
  {
   "cell_type": "code",
   "execution_count": 35,
   "metadata": {},
   "outputs": [
    {
     "name": "stdout",
     "output_type": "stream",
     "text": [
      "1. sayiyi giriniz5\n",
      "2. sayiyi giriniz3\n",
      "+ , - , * , / hangisini yapacaksaniz secin: 5\n",
      "yanlis deger girdiniz\n"
     ]
    }
   ],
   "source": [
    "sayi1=int(input(\"1. sayiyi giriniz\"))\n",
    "sayi2=int(input(\"2. sayiyi giriniz\"))\n",
    "secim=input(\"+ , - , * , / hangisini yapacaksaniz secin: \")\n",
    "if secim=='+':\n",
    "    toplam=sayi1+sayi2\n",
    "    print(toplam)\n",
    "elif secim=='-':\n",
    "    cikarma=sayi1-sayi2\n",
    "    print(cikarma)\n",
    "elif secim=='*':\n",
    "    carpma=sayi1*sayi2\n",
    "    print(carpma)\n",
    "elif secim=='/':\n",
    "    bolme=sayi1/sayi2\n",
    "    print(bolme)\n",
    "else:\n",
    "    print(\"yanlis deger girdiniz\")"
   ]
  },
  {
   "cell_type": "markdown",
   "metadata": {},
   "source": [
    "Örnek 89 : Klavyeden girilen başlangıç, bitiş ve artış miktarı girilen sayıları alt alta ekranda yazdıran python kodunu yazınız.\n",
    "\n"
   ]
  },
  {
   "cell_type": "code",
   "execution_count": 36,
   "metadata": {},
   "outputs": [
    {
     "name": "stdout",
     "output_type": "stream",
     "text": [
      "bas sayisini giriniz2\n",
      "bitis sayisiyi giriniz12\n",
      "artis miktarini giriniz2\n",
      "2\n",
      "4\n",
      "6\n",
      "8\n",
      "10\n",
      "12\n"
     ]
    }
   ],
   "source": [
    "sayi1=int(input(\"bas sayisini giriniz\"))\n",
    "sayi2=int(input(\"bitis sayisiyi giriniz\"))\n",
    "artis=int(input(\"artis miktarini giriniz\"))\n",
    "for i in range(sayi1,sayi2+1,artis):\n",
    "    print(i)"
   ]
  },
  {
   "cell_type": "markdown",
   "metadata": {},
   "source": [
    "Örnek 90:  Klavyeden girilen sayıdan itibaren sıfıra kadar olan sayıları ekrana yazan python kodunu yazınız.\n",
    "\n"
   ]
  },
  {
   "cell_type": "code",
   "execution_count": 39,
   "metadata": {},
   "outputs": [
    {
     "name": "stdout",
     "output_type": "stream",
     "text": [
      "sayi giriniz5\n",
      "5\n",
      "4\n",
      "3\n",
      "2\n",
      "1\n",
      "0\n"
     ]
    }
   ],
   "source": [
    "sayi1=int(input(\"sayi giriniz\"))\n",
    "for i in range(sayi1,-1,-1):\n",
    "    print(i)"
   ]
  },
  {
   "cell_type": "markdown",
   "metadata": {},
   "source": [
    "Örnek 91:  Klavyeden girilen sayıdan itibaren sıfıra kadar 2 şer 2 şer yazdıran python kodunu yazınız.\n",
    "\n"
   ]
  },
  {
   "cell_type": "code",
   "execution_count": 40,
   "metadata": {},
   "outputs": [
    {
     "name": "stdout",
     "output_type": "stream",
     "text": [
      "sayi giriniz20\n",
      "20\n",
      "18\n",
      "16\n",
      "14\n",
      "12\n",
      "10\n",
      "8\n",
      "6\n",
      "4\n",
      "2\n",
      "0\n"
     ]
    }
   ],
   "source": [
    "sayi1=int(input(\"sayi giriniz\"))\n",
    "for i in range(sayi1,-1,-2):\n",
    "    print(i)"
   ]
  },
  {
   "cell_type": "markdown",
   "metadata": {},
   "source": [
    "Örnek 92:  Klavyeden girilen iki sayı arasındaki sayıların toplamını bulan python kodunu yazınız.\n",
    "\n"
   ]
  },
  {
   "cell_type": "code",
   "execution_count": 43,
   "metadata": {},
   "outputs": [
    {
     "name": "stdout",
     "output_type": "stream",
     "text": [
      "bas sayisini giriniz2\n",
      "bitis sayisiyi giriniz3\n",
      "5\n"
     ]
    }
   ],
   "source": [
    "toplam=0\n",
    "sayi1=int(input(\"bas sayisini giriniz\"))\n",
    "sayi2=int(input(\"bitis sayisiyi giriniz\"))\n",
    "for i in range(sayi1,sayi2+1):\n",
    "    toplam+=i\n",
    "print(toplam)"
   ]
  },
  {
   "cell_type": "markdown",
   "metadata": {},
   "source": [
    "Örnek 93:  Klavyeden girilen iki sayı arasındaki sayıların ortalamasını bulan python kodunu yazınız.\n",
    "\n"
   ]
  },
  {
   "cell_type": "code",
   "execution_count": 44,
   "metadata": {},
   "outputs": [
    {
     "name": "stdout",
     "output_type": "stream",
     "text": [
      "baslangıc degerini giriniz: 3\n",
      "bitis degerini giriniz: 5\n",
      "ort 4.0\n"
     ]
    }
   ],
   "source": [
    "baslangıc= int(input(\"baslangıc degerini giriniz: \"))\n",
    "bitis= int(input(\"bitis degerini giriniz: \"))\n",
    "toplam=0\n",
    "if baslangıc<bitis:\n",
    "    for i in range(baslangıc,bitis+1):\n",
    "        toplam+=i\n",
    "    ort=toplam/(bitis-baslangıc+1)\n",
    "    print(\"ort {}\".format(ort))\n",
    "else:\n",
    "    print(\"baslangıc degeri bitis degerinden buyuk olamaz\")"
   ]
  },
  {
   "cell_type": "markdown",
   "metadata": {},
   "source": [
    "Örnek 94:  Klavyeden girilen bir karakteri istenilen satır kadar piramit şeklinde yazdıran python kodunu yazınız.\n",
    "\n"
   ]
  },
  {
   "cell_type": "code",
   "execution_count": 47,
   "metadata": {},
   "outputs": [
    {
     "name": "stdout",
     "output_type": "stream",
     "text": [
      "piramit olusturmak istedigin karakteri giriniz: *\n",
      "kac satir yazdirayim: 5\n",
      "    *\n",
      "   ***\n",
      "  *****\n",
      " *******\n",
      "*********\n"
     ]
    }
   ],
   "source": [
    "karakter= input(\"piramit olusturmak istedigin karakteri giriniz: \")\n",
    "satir=int(input(\"kac satir yazdirayim: \"))\n",
    "for i in range(satir):\n",
    "    print(' '*(satir-i-1) + f'{karakter}'*(2*i+1))"
   ]
  },
  {
   "cell_type": "markdown",
   "metadata": {},
   "source": [
    "Örnek 95:  Klavyeden girilen bir ifadeyi 10 defa ekrana while döngüsü ile yazdıran python kodunu yazınız.\n",
    "\n"
   ]
  },
  {
   "cell_type": "code",
   "execution_count": 22,
   "metadata": {},
   "outputs": [
    {
     "name": "stdout",
     "output_type": "stream",
     "text": [
      "sayi giriniz 0\n",
      "sayilarin toplami 0 dir.\n"
     ]
    }
   ],
   "source": [
    "sayi=1\n",
    "toplam=-1\n",
    "while sayi!=0:\n",
    "    toplam+=sayi\n",
    "    sayi=int(input(\"sayi giriniz \"))\n",
    "print(f\"sayilarin toplami {toplam} dir.\")"
   ]
  },
  {
   "cell_type": "markdown",
   "metadata": {},
   "source": [
    "Örnek 96:  Klavyeden girilen bir ifadeyi istenilen sayı kadar ekrana while döngüsü ile yazdıran python kodunu yazınız.\n",
    "\n"
   ]
  },
  {
   "cell_type": "code",
   "execution_count": 48,
   "metadata": {},
   "outputs": [
    {
     "name": "stdout",
     "output_type": "stream",
     "text": [
      "yazdirmak istedigin giriniz: umut\n",
      "kac satir yazdirayim: 2\n",
      "umutumut\n"
     ]
    }
   ],
   "source": [
    "sayac=1\n",
    "karakter= input(\"yazdirmak istedigin giriniz: \")\n",
    "satir=int(input(\"kac satir yazdirayim: \"))\n",
    "while(sayac!=satir):\n",
    "    print(karakter*satir)\n",
    "    sayac+=1"
   ]
  },
  {
   "cell_type": "markdown",
   "metadata": {},
   "source": [
    "Örnek 97:  Klavyeden girilen bir sayının faktöriyelini while döngüsü kullanarak yapan python kodunu yazınız.\n",
    "\n"
   ]
  },
  {
   "cell_type": "code",
   "execution_count": 51,
   "metadata": {},
   "outputs": [
    {
     "name": "stdout",
     "output_type": "stream",
     "text": [
      "faktoriyelini almami istedigin sayiyi yaz: 5\n",
      "120\n"
     ]
    }
   ],
   "source": [
    "sayac=1\n",
    "satir=int(input(\"faktoriyelini almami istedigin sayiyi yaz: \"))\n",
    "fak=1\n",
    "while(sayac<satir+1):\n",
    "    fak*=sayac\n",
    "    sayac+=1\n",
    "print(fak)"
   ]
  },
  {
   "cell_type": "markdown",
   "metadata": {},
   "source": [
    "Örnek 98: 0-100 (100 dâhil) arasındaki sayılardan 5’e tam bölünenleri while döngüsü ile ekrana yazdıran python kodunu yazınız.\n",
    "\n"
   ]
  },
  {
   "cell_type": "code",
   "execution_count": 53,
   "metadata": {},
   "outputs": [
    {
     "name": "stdout",
     "output_type": "stream",
     "text": [
      "0\n",
      "5\n",
      "10\n",
      "15\n",
      "20\n",
      "25\n",
      "30\n",
      "35\n",
      "40\n",
      "45\n",
      "50\n",
      "55\n",
      "60\n",
      "65\n",
      "70\n",
      "75\n",
      "80\n",
      "85\n",
      "90\n",
      "95\n",
      "100\n"
     ]
    }
   ],
   "source": [
    "sayac=0\n",
    "while(sayac!=101):\n",
    "    if sayac%5==0:\n",
    "        print(sayac)\n",
    "    sayac+=1"
   ]
  },
  {
   "cell_type": "markdown",
   "metadata": {},
   "source": [
    "Örnek 99:  Klavyeden Girilen sayı 0 (sıfır) olana kadar girilen tüm sayıları toplayan ve ekranda gösteren python programını while döngüsü ile yazınız.\n",
    "\n"
   ]
  },
  {
   "cell_type": "code",
   "execution_count": 55,
   "metadata": {},
   "outputs": [
    {
     "name": "stdout",
     "output_type": "stream",
     "text": [
      "toplamami istedigin sayiyi: 5\n",
      "toplamami istedigin sayiyi: 5\n",
      "toplamami istedigin sayiyi: 0\n",
      "10\n"
     ]
    }
   ],
   "source": [
    "toplam=0\n",
    "sayi=1\n",
    "while(sayi!=0):\n",
    "    sayi=int(input(\"toplamami istedigin sayiyi: \"))\n",
    "    toplam+=sayi\n",
    "print(toplam)"
   ]
  },
  {
   "cell_type": "markdown",
   "metadata": {},
   "source": [
    "Örnek 100:  3×3 bir matrisin eleman indislerini yazdıran python kodunu yazınız.\n",
    "\n"
   ]
  },
  {
   "cell_type": "code",
   "execution_count": 57,
   "metadata": {},
   "outputs": [
    {
     "name": "stdout",
     "output_type": "stream",
     "text": [
      "[[42 41 40]\n",
      " [31 20 44]\n",
      " [49 49 40]]\n"
     ]
    }
   ],
   "source": [
    "import numpy as np\n",
    "result=np.random.randint(10,50,9).reshape(3,3)\n",
    "print(result)"
   ]
  },
  {
   "cell_type": "markdown",
   "metadata": {},
   "source": [
    "Örnek 101:  Klavyeden girilen bir şifrenin karakterlerini kontrol ederek girilen şifrenin 4 karakter olana kadar yeni şifre isteyen, girilince de doğru şifreyi ekranda gösteren python kodunu yazınız.\n",
    "\n"
   ]
  },
  {
   "cell_type": "code",
   "execution_count": null,
   "metadata": {},
   "outputs": [],
   "source": [
    "# bir sifre olustur buyuk harf kucuk harf sayı olsun ve en az 16 karakter olsun\n",
    "kucukHarfSorgula=False\n",
    "buyukHarfSorgula=False\n",
    "sayiSorgula=False\n",
    "karakterSayisi=0\n",
    "\n",
    "\n",
    "sifre=input(\"Lutfen kontrol etmemi istediginiz sifrenizi yaziniz: \")\n",
    "\n",
    "for ch in sifre:\n",
    "    \n",
    "    if buyukHarfSorgula==False and ch>=\"A\" and ch<=\"Z\":\n",
    "        buyukHarfSorgula=True\n",
    "        \n",
    "    elif kucukHarfSorgula==False and ch>='a' and ch<='z':\n",
    "        kucukHarfSorgula=True\n",
    "        \n",
    "    elif sayiSorgula==False and ch>='0' and ch<='9':\n",
    "        sayiSorgula=True\n",
    "        \n",
    "    karakterSayisi+=1\n",
    "    \n",
    "    \n",
    "if buyukHarfSorgula==False:\n",
    "    print(\"sifrede BUYUK harf kullanilmalidir\")\n",
    "elif kucukHarfSorgula==False:\n",
    "    print(\"sifrede KUCUK harf kullanilmalidir\")\n",
    "elif sayiSorgula==False:\n",
    "    print(\"sifrede SAYİ kullanilmalidir\")\n",
    "elif karakterSayisi<=8:\n",
    "    print(\"sifrede en az 8 karakter bulunmalidir\")\n",
    "else:\n",
    "    print(\"tebrikler mukemmel bir sifre girdiniz\")"
   ]
  },
  {
   "cell_type": "markdown",
   "metadata": {},
   "source": []
  }
 ],
 "metadata": {
  "kernelspec": {
   "display_name": "Python 3 (ipykernel)",
   "language": "python",
   "name": "python3"
  },
  "language_info": {
   "codemirror_mode": {
    "name": "ipython",
    "version": 3
   },
   "file_extension": ".py",
   "mimetype": "text/x-python",
   "name": "python",
   "nbconvert_exporter": "python",
   "pygments_lexer": "ipython3",
   "version": "3.9.12"
  },
  "vscode": {
   "interpreter": {
    "hash": "916dbcbb3f70747c44a77c7bcd40155683ae19c65e1c03b4aa3499c5328201f1"
   }
  }
 },
 "nbformat": 4,
 "nbformat_minor": 2
}
