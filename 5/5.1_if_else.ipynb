{
 "cells": [
  {
   "cell_type": "code",
   "execution_count": 4,
   "id": "c2049fc8",
   "metadata": {},
   "outputs": [
    {
     "name": "stdout",
     "output_type": "stream",
     "text": [
      "hosgeldiniz\n"
     ]
    }
   ],
   "source": [
    "if 3>2:\n",
    "    print(\"hosgeldiniz\")"
   ]
  },
  {
   "cell_type": "code",
   "execution_count": 6,
   "id": "5d5c919d",
   "metadata": {},
   "outputs": [],
   "source": [
    "if 3>3:\n",
    "    print(\"hosgeldiniz\")"
   ]
  },
  {
   "cell_type": "code",
   "execution_count": 7,
   "id": "aee5e032",
   "metadata": {},
   "outputs": [
    {
     "name": "stdout",
     "output_type": "stream",
     "text": [
      "hosgeldiniz\n"
     ]
    }
   ],
   "source": [
    "if 3==3:\n",
    "    print(\"hosgeldiniz\")"
   ]
  },
  {
   "cell_type": "code",
   "execution_count": 8,
   "id": "955bac1d",
   "metadata": {},
   "outputs": [],
   "source": [
    "if False:\n",
    "    print(\"hosgeldiniz\")"
   ]
  },
  {
   "cell_type": "code",
   "execution_count": 9,
   "id": "ccdae1ed",
   "metadata": {},
   "outputs": [
    {
     "name": "stdout",
     "output_type": "stream",
     "text": [
      "hosgeldiniz\n"
     ]
    }
   ],
   "source": [
    "if True:\n",
    "    print(\"hosgeldiniz\")"
   ]
  },
  {
   "cell_type": "code",
   "execution_count": 10,
   "id": "f96c2d90",
   "metadata": {},
   "outputs": [
    {
     "name": "stdout",
     "output_type": "stream",
     "text": [
      "hosgeldiniz\n"
     ]
    }
   ],
   "source": [
    "isLoggedin=True\n",
    "if isLoggedin:\n",
    "    print(\"hosgeldiniz\")"
   ]
  },
  {
   "cell_type": "code",
   "execution_count": 11,
   "id": "da06c84a",
   "metadata": {},
   "outputs": [
    {
     "name": "stdout",
     "output_type": "stream",
     "text": [
      "hosgeldiniz\n"
     ]
    }
   ],
   "source": [
    "isLoggedin=True\n",
    "if isLoggedin==True:\n",
    "    print(\"hosgeldiniz\")"
   ]
  },
  {
   "cell_type": "code",
   "execution_count": 13,
   "id": "394f63d7",
   "metadata": {},
   "outputs": [
    {
     "name": "stdout",
     "output_type": "stream",
     "text": [
      "hosgeldiniz\n"
     ]
    }
   ],
   "source": [
    "username='umut can'\n",
    "password='abc123'\n",
    "isLoggedin = (username=='umut can')and (password=='abc123')\n",
    "if isLoggedin==True:\n",
    "    print(\"hosgeldiniz\")"
   ]
  },
  {
   "cell_type": "code",
   "execution_count": 14,
   "id": "cd731a97",
   "metadata": {},
   "outputs": [
    {
     "name": "stdout",
     "output_type": "stream",
     "text": [
      "username ya da parola yanlis\n"
     ]
    }
   ],
   "source": [
    "username='umut can'\n",
    "password='abc123'\n",
    "isLoggedin = (username=='umutcan')and (password=='abc123')\n",
    "if isLoggedin==True:\n",
    "    print(\"hosgeldiniz\")\n",
    "else:\n",
    "    print(\"username ya da parola yanlis\")"
   ]
  },
  {
   "cell_type": "code",
   "execution_count": 15,
   "id": "400392ea",
   "metadata": {},
   "outputs": [
    {
     "name": "stdout",
     "output_type": "stream",
     "text": [
      "username yanlis\n"
     ]
    }
   ],
   "source": [
    "username='umut can'\n",
    "password='abc123'\n",
    "if (username=='umut can'):\n",
    "    if(password=='abc123'):\n",
    "        print(\"hosgeldiniz\")\n",
    "    else:\n",
    "        print(\"parola yanlis\")\n",
    "else:\n",
    "    print(\"username yanlis\")"
   ]
  },
  {
   "cell_type": "code",
   "execution_count": null,
   "id": "31cdc75b",
   "metadata": {},
   "outputs": [],
   "source": []
  }
 ],
 "metadata": {
  "kernelspec": {
   "display_name": "Python 3 (ipykernel)",
   "language": "python",
   "name": "python3"
  },
  "language_info": {
   "codemirror_mode": {
    "name": "ipython",
    "version": 3
   },
   "file_extension": ".py",
   "mimetype": "text/x-python",
   "name": "python",
   "nbconvert_exporter": "python",
   "pygments_lexer": "ipython3",
   "version": "3.9.12"
  }
 },
 "nbformat": 4,
 "nbformat_minor": 5
}
