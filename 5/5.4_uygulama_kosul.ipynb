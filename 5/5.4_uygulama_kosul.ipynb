{
 "cells": [
  {
   "cell_type": "code",
   "execution_count": null,
   "id": "f79d6dd2",
   "metadata": {},
   "outputs": [],
   "source": [
    "x=float(input(\"0 ve 100 arasında bir sayi giriniz\"))\n",
    "if (x>0) and (x<=100):\n",
    "    print(\"sayi 0-100 arasindadir\")\n",
    "else:\n",
    "    print(f\"sayi 0-100 arasinda degildir\")"
   ]
  },
  {
   "cell_type": "code",
   "execution_count": 8,
   "id": "1c725295",
   "metadata": {},
   "outputs": [
    {
     "name": "stdout",
     "output_type": "stream",
     "text": [
      "pozitif ve cift bir sayi giriniz7\n",
      "sayi pozitif ama cift degildir\n"
     ]
    }
   ],
   "source": [
    "x=int(input(\"pozitif ve cift bir sayi giriniz\"))\n",
    "if (x>0) :\n",
    "    if (x%2==0):\n",
    "        print(\"sayi pozitif ve cift sayidir\")\n",
    "    else:\n",
    "        print(\"sayi pozitif ama cift degildir\")\n",
    "else:\n",
    "    print(\"sayi pozitif degildir\")"
   ]
  },
  {
   "cell_type": "code",
   "execution_count": 11,
   "id": "381aa685",
   "metadata": {},
   "outputs": [
    {
     "name": "stdout",
     "output_type": "stream",
     "text": [
      "Emailinizi girinizumutcan@gmail.co\n",
      "Sifrenizi girinizabc123\n",
      "Girdiginiz e posta yanlis\n"
     ]
    }
   ],
   "source": [
    "email=\"umutcan@gmail.com\"\n",
    "password=\"abc123\"\n",
    "girilen_email=input(\"Emailinizi giriniz\")\n",
    "girilen_password=input(\"Sifrenizi giriniz\")\n",
    "if(email==girilen_email):\n",
    "    if(password==girilen_password):\n",
    "        print(\"Girdiginiz e posta ve sifre dogru\")\n",
    "    else:\n",
    "        print(\"girdiginiz parola yanlistir\")\n",
    "else:\n",
    "    print(\"Girdiginiz e posta yanlis\")"
   ]
  },
  {
   "cell_type": "code",
   "execution_count": null,
   "id": "a7d947f4",
   "metadata": {},
   "outputs": [],
   "source": [
    "x=int(input(\"x: giriniz: \"))\n",
    "y=int(input(\"y: giriniz: \"))\n",
    "z=int(input(\"z: giriniz: \"))\n",
    "\n",
    "if (x>y) and  (x>z):\n",
    "    print(\"x en buyuk sayidir\")\n",
    "\n",
    "elif  (y>x) and  (y>z):\n",
    "    print(\"y en buyuk sayidir\")\n",
    "\n",
    "elif (z>x) and  (z>y):\n",
    "    print(\"z en buyuk sayidir\")\n",
    "    \n",
    "else: \n",
    "    print(\"hay aksi bir seyler yanlis gitmis olmali \")"
   ]
  },
  {
   "cell_type": "code",
   "execution_count": 13,
   "id": "55c48b0f",
   "metadata": {},
   "outputs": [
    {
     "name": "stdout",
     "output_type": "stream",
     "text": [
      "vize1 notunu giriniz70\n",
      "vize2 notunu giriniz50\n",
      "final notunu giriniz50\n",
      "ogrencinin ortalamasi: 56.0 ve gecme durumu: gecti\n"
     ]
    }
   ],
   "source": [
    "vize1=int(input(\"vize1 notunu giriniz\"))\n",
    "vize2=int(input(\"vize2 notunu giriniz\"))\n",
    "final=int(input(\"final notunu giriniz\"))\n",
    "ort=(((vize1+vize2)/2)*0.6+(final*0.4))\n",
    "if(ort>50):\n",
    "    if (final>=50):\n",
    "        print(f\"ogrencinin ortalamasi: {ort} ve gecme durumu: gecti\")\n",
    "    else:\n",
    "        print(f\"ogrencinin ortalamasi: {ort} ve gecme durumu: başarisiz. finalden en az 50 almalisiniz\")\n",
    "elif(final>=70): \n",
    "    print(f\"ogrencinin ortalamasi: {ort} ve gecme durumu: gecti. finalden 70 üstü alirsaniz geçersiniz\")\n",
    "else:\n",
    "    print(f\"ogrencinin ortalamasi: {ort} ve gecme durumu: kaldi\")"
   ]
  },
  {
   "cell_type": "code",
   "execution_count": null,
   "id": "be2d0e01",
   "metadata": {},
   "outputs": [],
   "source": [
    "ad=input(\"adinizi giriniz: \")\n",
    "kilo=float(input(\"kilonuzu giriniz: \"))\n",
    "boy=float(input(\"boyunuzu giriniz: \"))\n",
    "    \n",
    "kilo_index=(kilo/(boy**2))    \n",
    "if (kilo_index>=0)and(kilo_index<=18.4):\n",
    "    print(f\"adı: {ad}, kilo indexin : {kilo_index}ve durumu: zayif\")\n",
    "elif(kilo_index>18.5)and  (kilo_index<=24.9):\n",
    "    print(f\"adı: {ad}, kilo indexin : {kilo_index}ve durumu: normal\") \n",
    "elif(kilo_index>25)and  (kilo_index<=29.9):\n",
    "    print(f\"adı: {ad}, kilo indexin : {kilo_index}ve durumu: kilolu\") \n",
    "elif(kilo_index>30)and  (kilo_index<=34.9):\n",
    "    print(f\"adı: {ad}, kilo indexin : {kilo_index}ve durumu: obez\") \n"
   ]
  },
  {
   "cell_type": "code",
   "execution_count": null,
   "id": "1af30f65",
   "metadata": {},
   "outputs": [],
   "source": []
  }
 ],
 "metadata": {
  "kernelspec": {
   "display_name": "Python 3 (ipykernel)",
   "language": "python",
   "name": "python3"
  },
  "language_info": {
   "codemirror_mode": {
    "name": "ipython",
    "version": 3
   },
   "file_extension": ".py",
   "mimetype": "text/x-python",
   "name": "python",
   "nbconvert_exporter": "python",
   "pygments_lexer": "ipython3",
   "version": "3.9.12"
  }
 },
 "nbformat": 4,
 "nbformat_minor": 5
}
