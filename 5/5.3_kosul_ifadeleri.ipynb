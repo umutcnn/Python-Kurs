{
 "cells": [
  {
   "cell_type": "code",
   "execution_count": 10,
   "id": "5c22eeea",
   "metadata": {},
   "outputs": [
    {
     "name": "stdout",
     "output_type": "stream",
     "text": [
      "adiniz: umut can\n",
      "yasiniz: 15\n",
      "egitiminiz: lise\n",
      "Yaştan dolayi alamazsiniz\n"
     ]
    }
   ],
   "source": [
    "ad=input(\"adiniz: \")\n",
    "yas=int(input(\"yasiniz: \"))\n",
    "egitim=input(\"egitiminiz: \")\n",
    "if(yas>17):\n",
    "    if egitim=='lise' or egitim=='universite':\n",
    "        print(f\"{ad}ehliyet almaya uygunsunuz\")\n",
    "    else:\n",
    "        print(f\"{ad}egitim durumunuz yetersiz \")\n",
    "    \n",
    "else: \n",
    "    print(f\"{ad}Yaştan dolayi alamazsiniz\")"
   ]
  },
  {
   "cell_type": "code",
   "execution_count": 12,
   "id": "553e5a40",
   "metadata": {},
   "outputs": [
    {
     "name": "stdout",
     "output_type": "stream",
     "text": [
      "1. yazili notunuzu giriniz: 80\n",
      "2. yazili notunuzu giriniz: 80\n",
      "sozlu notunuzu giriniz: 80\n",
      "not ortalamaniz 80.0 , not bilginiz 4\n"
     ]
    }
   ],
   "source": [
    "yazili1=int(input(\"1. yazili notunuzu giriniz: \"))\n",
    "yazili2=int(input(\"2. yazili notunuzu giriniz: \"))\n",
    "sozlu=int(input(\"sozlu notunuzu giriniz: \"))\n",
    "ort=(yazili1+yazili2+sozlu)/3\n",
    "if ort<24:\n",
    "    print(f\"not ortalamaniz {ort} , not bilginiz 0\")\n",
    "elif 25<=ort<44:\n",
    "    print(f\"not ortalamaniz {ort} , not bilginiz 1\")\n",
    "elif 45<=ort<54:\n",
    "    print(f\"not ortalamaniz {ort} , not bilginiz 2\")\n",
    "elif 55<=ort<69:\n",
    "    print(f\"not ortalamaniz {ort} , not bilginiz 3\")\n",
    "elif 70<=ort<84:\n",
    "    print(f\"not ortalamaniz {ort} , not bilginiz 4\")\n",
    "elif 85<=ort<100:\n",
    "    print(f\"not ortalamaniz {ort} , not bilginiz 5\")\n",
    "else: \n",
    "    print(\"yanlis bilgi girdiniz\")\n",
    "    "
   ]
  },
  {
   "cell_type": "code",
   "execution_count": 2,
   "id": "7979a224",
   "metadata": {},
   "outputs": [
    {
     "name": "stdout",
     "output_type": "stream",
     "text": [
      "araciniz kac gundur trafikte1023\n",
      "3. servis aralıgı\n"
     ]
    }
   ],
   "source": [
    "days=int(input(\"araciniz kac gundur trafikte\"))\n",
    "if days<=365:\n",
    "    print(\"1. servis aralıgı\")\n",
    "elif 365<days<=(365*2):\n",
    "    print(\"2. servis aralıgı\")\n",
    "elif (365*2)<days<=(365*3):\n",
    "    print(\"3. servis aralıgı\")\n",
    "else: \n",
    "    print(\"yanlis bilgi girdiniz\")"
   ]
  },
  {
   "cell_type": "code",
   "execution_count": 10,
   "id": "60d9d2bc",
   "metadata": {},
   "outputs": [
    {
     "name": "stdout",
     "output_type": "stream",
     "text": [
      "araciniz tarihte trafige cikti(2019/8/16)2022/10/8\n",
      "2022\n",
      "10\n",
      "8\n",
      "araciniz30 gündür trafikte. 1. servis aralıgı\n"
     ]
    }
   ],
   "source": [
    "import datetime\n",
    "tarih=input(\"araciniz tarihte trafige cikti(2019/8/16)\")\n",
    "tarih=tarih.split('/')\n",
    "print(tarih[0])\n",
    "print(tarih[1])\n",
    "print(tarih[2])\n",
    "trafigeCikis=datetime.datetime(int(tarih[0]),int(tarih[1]),int(tarih[2]))\n",
    "simdi=datetime.datetime.now()\n",
    "fark=simdi-trafigeCikis\n",
    "days=fark.days\n",
    "if days<=365:\n",
    "    print(f\"araciniz{days} gündür trafikte. servis aralıgı = 1 \")\n",
    "elif 365<days<=(365*2):\n",
    "    print(f\"araciniz{days} gündür trafikte. servis aralıgı = 2\")\n",
    "elif (365*2)<days<=(365*3):\n",
    "    print(f\"araciniz{days} gündür trafikte. servis aralıgı = 3\")\n",
    "else: \n",
    "    print(\"yanlis bilgi girdiniz\")"
   ]
  },
  {
   "cell_type": "code",
   "execution_count": null,
   "id": "36d6f155",
   "metadata": {},
   "outputs": [],
   "source": []
  }
 ],
 "metadata": {
  "kernelspec": {
   "display_name": "Python 3 (ipykernel)",
   "language": "python",
   "name": "python3"
  },
  "language_info": {
   "codemirror_mode": {
    "name": "ipython",
    "version": 3
   },
   "file_extension": ".py",
   "mimetype": "text/x-python",
   "name": "python",
   "nbconvert_exporter": "python",
   "pygments_lexer": "ipython3",
   "version": "3.9.12"
  }
 },
 "nbformat": 4,
 "nbformat_minor": 5
}
