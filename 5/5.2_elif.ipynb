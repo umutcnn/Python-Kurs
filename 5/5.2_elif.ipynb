{
 "cells": [
  {
   "cell_type": "code",
   "execution_count": 2,
   "id": "4ee37319",
   "metadata": {},
   "outputs": [
    {
     "name": "stdout",
     "output_type": "stream",
     "text": [
      "x: 5\n",
      "y: 5\n",
      "x ve y eşittir\n"
     ]
    }
   ],
   "source": [
    "x=int(input(\"x: \"))\n",
    "y=int(input(\"y: \"))\n",
    "\n",
    "if x>y:\n",
    "    print(\"x y den büyük\")\n",
    "elif x==y:\n",
    "    print(\"x ve y eşittir\")\n",
    "else:\n",
    "    print(\"y xt en büyük\")"
   ]
  },
  {
   "cell_type": "code",
   "execution_count": 3,
   "id": "030824a0",
   "metadata": {},
   "outputs": [
    {
     "name": "stdout",
     "output_type": "stream",
     "text": [
      "sayi: 8\n",
      "pozitif\n"
     ]
    }
   ],
   "source": [
    "num=int(input(\"sayi: \"))\n",
    "if num>0:\n",
    "    print(\"pozitif\")\n",
    "elif num==0:\n",
    "    print(\"sıfırdır\")\n",
    "else:\n",
    "    print(\"negatif\")"
   ]
  },
  {
   "cell_type": "code",
   "execution_count": null,
   "id": "306fe010",
   "metadata": {},
   "outputs": [],
   "source": []
  }
 ],
 "metadata": {
  "kernelspec": {
   "display_name": "Python 3 (ipykernel)",
   "language": "python",
   "name": "python3"
  },
  "language_info": {
   "codemirror_mode": {
    "name": "ipython",
    "version": 3
   },
   "file_extension": ".py",
   "mimetype": "text/x-python",
   "name": "python",
   "nbconvert_exporter": "python",
   "pygments_lexer": "ipython3",
   "version": "3.9.12"
  }
 },
 "nbformat": 4,
 "nbformat_minor": 5
}
