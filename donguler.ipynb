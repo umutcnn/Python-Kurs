{
 "cells": [
  {
   "cell_type": "markdown",
   "id": "9db5ed75",
   "metadata": {},
   "source": [
    "# While"
   ]
  },
  {
   "cell_type": "code",
   "execution_count": null,
   "id": "422e2d6c",
   "metadata": {},
   "outputs": [
    {
     "name": "stdout",
     "output_type": "stream",
     "text": [
      "0 1 2 3 4 5 6 7 8 9 \n",
      "dongu sonlandi\n"
     ]
    }
   ],
   "source": [
    "i=0\n",
    "while(i<10):\n",
    "    print(i,end=\" \")\n",
    "    i+=1\n",
    "print(\"\\ndongu sonlandi\")"
   ]
  },
  {
   "cell_type": "code",
   "execution_count": null,
   "id": "cf7901ea",
   "metadata": {},
   "outputs": [
    {
     "name": "stdout",
     "output_type": "stream",
     "text": [
      "0 1 2 3 4 \n",
      "Dongu sonlandi\n"
     ]
    }
   ],
   "source": [
    "i=0 \n",
    "j=5\n",
    "while i<10 and j<10:\n",
    "    print(i,end=\" \")\n",
    "    i+=1\n",
    "    j+=1\n",
    "print(\"\\nDongu sonlandi\")"
   ]
  },
  {
   "cell_type": "markdown",
   "id": "19c4cdc4",
   "metadata": {},
   "source": [
    "# For"
   ]
  },
  {
   "cell_type": "code",
   "execution_count": null,
   "id": "ddce7dd5",
   "metadata": {
    "scrolled": true
   },
   "outputs": [
    {
     "name": "stdout",
     "output_type": "stream",
     "text": [
      "U m u t C a n Y ı l d ı z "
     ]
    }
   ],
   "source": [
    "str1=\"UmutCanYıldız\"\n",
    "for x in str1:\n",
    "    print(x,end=\" \")"
   ]
  },
  {
   "cell_type": "code",
   "execution_count": null,
   "id": "1f93cc3b",
   "metadata": {},
   "outputs": [
    {
     "name": "stdout",
     "output_type": "stream",
     "text": [
      "1 2 3 4 5 "
     ]
    }
   ],
   "source": [
    "rakamlar=[1,2,3,4,5]\n",
    "for rakam in rakamlar:\n",
    "    print(rakam,end=\" \")"
   ]
  },
  {
   "cell_type": "markdown",
   "id": "be17ac20",
   "metadata": {},
   "source": [
    "# range = sıralı sayı"
   ]
  },
  {
   "cell_type": "code",
   "execution_count": null,
   "id": "0c887861",
   "metadata": {},
   "outputs": [
    {
     "name": "stdout",
     "output_type": "stream",
     "text": [
      "0 1 2 3 4 5 6 7 8 9 10 11 12 13 14 15 16 17 18 19 20 21 22 23 24 25 26 27 28 29 30 31 32 33 34 35 36 37 38 39 40 41 42 43 44 45 46 47 48 49 50 51 52 53 54 55 56 57 58 59 60 61 62 63 64 65 66 67 68 69 70 71 72 73 74 75 76 77 78 79 80 81 82 83 84 85 86 87 88 89 90 91 92 93 94 95 96 97 98 99 "
     ]
    }
   ],
   "source": [
    "for sayi in range(100):\n",
    "    print(sayi,end=\" \")"
   ]
  },
  {
   "cell_type": "code",
   "execution_count": null,
   "id": "8f63909a",
   "metadata": {},
   "outputs": [
    {
     "name": "stdout",
     "output_type": "stream",
     "text": [
      "50 51 52 53 54 55 56 57 58 59 60 61 62 63 64 65 66 67 68 69 70 71 72 73 74 75 76 77 78 79 80 81 82 83 84 85 86 87 88 89 90 91 92 93 94 95 96 97 98 99 "
     ]
    }
   ],
   "source": [
    "for sayi in range(50,100):\n",
    "    print(sayi,end=\" \")"
   ]
  },
  {
   "cell_type": "code",
   "execution_count": null,
   "id": "cc5bed10",
   "metadata": {},
   "outputs": [
    {
     "name": "stdout",
     "output_type": "stream",
     "text": [
      "10 15 20 25 30 35 40 45 50 55 60 65 70 75 80 85 90 95 100 105 110 115 120 125 130 135 140 145 150 155 160 165 170 175 180 185 190 195 "
     ]
    }
   ],
   "source": [
    "for sayi in range(10,200,5):\n",
    "    print(sayi,end=\" \")"
   ]
  },
  {
   "cell_type": "markdown",
   "id": "932271f0",
   "metadata": {},
   "source": [
    "# dongu sonuna yazılacak ifadeler(break-continue-pass)"
   ]
  },
  {
   "cell_type": "markdown",
   "id": "eb2bd84c",
   "metadata": {},
   "source": [
    "break"
   ]
  },
  {
   "cell_type": "code",
   "execution_count": null,
   "id": "6346b42a",
   "metadata": {},
   "outputs": [
    {
     "name": "stdout",
     "output_type": "stream",
     "text": [
      "0 2 4 6 8 10 12 14 16 18 20 22 24 26 28 30 32 34 36 38 40 42 44 46 48 50 52 "
     ]
    }
   ],
   "source": [
    "i=0\n",
    "while True:\n",
    "    print(i,end=\" \")\n",
    "    if i>50:\n",
    "        break\n",
    "    i+=2"
   ]
  },
  {
   "cell_type": "markdown",
   "id": "d1c8b105",
   "metadata": {},
   "source": [
    "continue"
   ]
  },
  {
   "cell_type": "code",
   "execution_count": null,
   "id": "55c2cc06",
   "metadata": {},
   "outputs": [
    {
     "name": "stdout",
     "output_type": "stream",
     "text": [
      "0 5 10 15 20 25 30 35 40 45 50 55 60 65 70 75 80 85 90 95 "
     ]
    }
   ],
   "source": [
    "for i in range(100):\n",
    "    if not i%5==0:\n",
    "        continue\n",
    "    print(i,end=\" \")"
   ]
  },
  {
   "cell_type": "markdown",
   "id": "e8b30450",
   "metadata": {},
   "source": [
    "pass"
   ]
  },
  {
   "cell_type": "code",
   "execution_count": 2,
   "id": "ad5ce7ac",
   "metadata": {},
   "outputs": [
    {
     "name": "stdout",
     "output_type": "stream",
     "text": [
      "0 1 2 3 4 5 6 7 8 9 10 11 12 13 14 15 16 17 18 19 20 21 22 23 24 25 26 27 28 29 30 31 32 33 34 35 36 37 38 39 40 41 42 43 44 45 46 47 48 49 50 51 52 53 54 55 56 57 58 59 60 61 62 63 64 65 66 67 68 69 70 71 72 73 74 75 76 77 78 79 80 81 82 83 84 85 86 87 88 89 90 91 92 93 94 95 96 97 98 99 "
     ]
    }
   ],
   "source": [
    "for i in range(100):\n",
    "    if not i%5==0:\n",
    "        pass\n",
    "    print(i,end=\" \")"
   ]
  },
  {
   "cell_type": "markdown",
   "id": "0e820763",
   "metadata": {},
   "source": [
    "# faktöriel hesaplama"
   ]
  },
  {
   "cell_type": "code",
   "execution_count": 16,
   "id": "5347b0c3",
   "metadata": {},
   "outputs": [
    {
     "name": "stdout",
     "output_type": "stream",
     "text": [
      "faktorieli alinmasini istediginiz sayiyi giriniz5\n",
      "5! = 120\n"
     ]
    }
   ],
   "source": [
    "sayi=int(input(\"faktorieli alinmasini istediginiz sayiyi giriniz: \"))\n",
    "sonuc=1\n",
    "for i in range(1,sayi+1):\n",
    "    sonuc*=i\n",
    "print(\"{}! = {}\".format(sayi,sonuc))"
   ]
  },
  {
   "cell_type": "code",
   "execution_count": 18,
   "id": "a99ad947",
   "metadata": {},
   "outputs": [
    {
     "name": "stdout",
     "output_type": "stream",
     "text": [
      "faktorieli alinmasini istediginiz sayiyi giriniz: 5\n",
      "0! = 120\n"
     ]
    }
   ],
   "source": [
    "sayi=int(input(\"faktorieli alinmasini istediginiz sayiyi giriniz: \"))\n",
    "sonuc=1\n",
    "while sayi!=0:\n",
    "    sonuc*=sayi\n",
    "    sayi-=1\n",
    "print(sonuc)"
   ]
  },
  {
   "cell_type": "code",
   "execution_count": 19,
   "id": "fdb9f6a2",
   "metadata": {},
   "outputs": [
    {
     "name": "stdout",
     "output_type": "stream",
     "text": [
      "faktorieli alinmasini istediginiz sayiyi giriniz: 5\n",
      "5! = 120\n"
     ]
    }
   ],
   "source": [
    "sayi=int(input(\"faktorieli alinmasini istediginiz sayiyi giriniz: \"))\n",
    "sonuc=1\n",
    "sayac=2\n",
    "while sayac<=sayi:\n",
    "    sonuc*=sayac\n",
    "    sayac+=1\n",
    "print(\"{}! = {}\".format(sayi,sonuc))"
   ]
  },
  {
   "cell_type": "markdown",
   "id": "654758e5",
   "metadata": {},
   "source": [
    "# Girilen sayı kaç basamaklıdır "
   ]
  },
  {
   "cell_type": "code",
   "execution_count": 2,
   "id": "15ab9c32",
   "metadata": {},
   "outputs": [
    {
     "name": "stdout",
     "output_type": "stream",
     "text": [
      "Kaç basmaklı olduğunu bulmamı istedigin sayıyı gir: 0\n",
      "girdiginiz sayinin basamak sayısı 1.\n"
     ]
    }
   ],
   "source": [
    "sayi=int(input(\"Kaç basamakli oldugunu bulmami istedigin sayiyi gir: \"))\n",
    "basamakSayisi=0\n",
    "while sayi>9:\n",
    "    sayi/=10\n",
    "    basamakSayisi+=1\n",
    "basamakSayisi+=1\n",
    "print(\"girdiginiz sayinin basamak sayisi {}.\".format(basamakSayisi))"
   ]
  },
  {
   "cell_type": "markdown",
   "id": "9a18a697",
   "metadata": {},
   "source": [
    "# Asal sayı olup olmadığını bulan program                                                                                                                                                                                                              "
   ]
  },
  {
   "cell_type": "code",
   "execution_count": 23,
   "id": "051455e1",
   "metadata": {},
   "outputs": [
    {
     "name": "stdout",
     "output_type": "stream",
     "text": [
      "asal sayı olup olmadığını kontrol etmemi istediğin sayıyı giriniz: 3\n",
      "girdigin sayı asaldır.\n"
     ]
    }
   ],
   "source": [
    "AsalSayi=int(input(\"asal sayi olup olmadigini kontrol etmemi istedigin sayiyi giriniz: \"))\n",
    "sayac=0\n",
    "sayi=1\n",
    "while AsalSayi>=sayi:\n",
    "    if AsalSayi%sayi==0:\n",
    "        sayac+=1\n",
    "    sayi+=1\n",
    "if sayac>2:\n",
    "    print(\"Girdigin sayı asal degildir.\")\n",
    "else :\n",
    "    print(\"Girdigin sayi asaldir.\")"
   ]
  },
  {
   "cell_type": "code",
   "execution_count": 26,
   "id": "bf7f9318",
   "metadata": {},
   "outputs": [
    {
     "name": "stdout",
     "output_type": "stream",
     "text": [
      "asal sayı olup olmadığını kontrol etmemi istediğin sayıyı giriniz: 4\n",
      "girdigin sayı asal degildır.\n"
     ]
    }
   ],
   "source": [
    "AsalSayi=int(input(\"asal sayi olup olmadigini kontrol etmemi istedigin sayiyi giriniz: \"))\n",
    "sayac=0\n",
    "for x in range(1,AsalSayi+1):\n",
    "    if AsalSayi%x==0:\n",
    "        sayac+=1\n",
    "if sayac>2:\n",
    "    print(\"Girdigin sayı asal degildir.\")\n",
    "else :\n",
    "    print(\"Girdigin sayi asaldir.\")"
   ]
  },
  {
   "cell_type": "code",
   "execution_count": 27,
   "id": "0b042b24",
   "metadata": {},
   "outputs": [
    {
     "name": "stdout",
     "output_type": "stream",
     "text": [
      "asal sayı olup olmadığını kontrol etmemi istediğin sayıyı giriniz: 5\n",
      "girdigin sayı asaldır.\n"
     ]
    }
   ],
   "source": [
    "AsalSayi=int(input(\"asal sayi olup olmadigini kontrol etmemi istedigin sayiyi giriniz: \"))\n",
    "bolunduMu=False\n",
    "for i in range(2,AsalSayi):\n",
    "    if AsalSayi%i==0:\n",
    "        bolunduMu=True\n",
    "        break\n",
    "if bolunduMu:\n",
    "    print(\"Girdigin sayı asal degildir.\")\n",
    "else:\n",
    "    print(\"Girdigin sayi asaldir.\")"
   ]
  },
  {
   "cell_type": "markdown",
   "id": "35340d24",
   "metadata": {},
   "source": [
    "# Ebob-Ekok hesaplama"
   ]
  },
  {
   "cell_type": "code",
   "execution_count": 35,
   "id": "8a42cab9",
   "metadata": {},
   "outputs": [
    {
     "name": "stdout",
     "output_type": "stream",
     "text": [
      "lutfen Ebob-Ekok alınacak iki sayıyı giriniz: 7,37\n",
      "7 ve 37 sayilarinin Ebob degeri: 1, Ekok degeri: 259 dir\n"
     ]
    }
   ],
   "source": [
    "sayi1,sayi2=map(int,input(\"lutfen Ebob-Ekok alınacak iki sayıyı giriniz: \").split(\",\"))\n",
    "buyukSayi=int()\n",
    "kucukSayi=int()\n",
    "EKOK=int()\n",
    "EBOB=int()\n",
    "if sayi1>sayi2:\n",
    "    buyukSayi=sayi1\n",
    "    kucukSayi=sayi2\n",
    "else:\n",
    "    buyukSayi=sayi2\n",
    "    kucukSayi=sayi1\n",
    "#ekok hesaplama\n",
    "sayac=buyukSayi\n",
    "while True:\n",
    "    if sayac%buyukSayi==0 and sayac%kucukSayi==0:\n",
    "        EKOK=sayac\n",
    "        break\n",
    "    sayac+=1\n",
    "#ebob hesaplama\n",
    "sayac=kucukSayi\n",
    "while True:\n",
    "    if buyukSayi%sayac==0 and kucukSayi%sayac==0:\n",
    "        EBOB=sayac\n",
    "        break\n",
    "    sayac-=1\n",
    "print(\"{} ve {} sayilarinin Ebob degeri: {}, Ekok degeri: {} dir\".format(sayi1,sayi2,EBOB,EKOK))"
   ]
  },
  {
   "cell_type": "markdown",
   "id": "7bfa2230",
   "metadata": {},
   "source": [
    "# Cümledeki boşluk sayısını bulma"
   ]
  },
  {
   "cell_type": "code",
   "execution_count": 38,
   "id": "64ad455b",
   "metadata": {},
   "outputs": [
    {
     "name": "stdout",
     "output_type": "stream",
     "text": [
      "Lutfen cumle yaziniz: umut can yıldız \n",
      "umut can yıldız  cumlesinde 3 tane bosluk vardir\n"
     ]
    }
   ],
   "source": [
    "boslukSayisi=0\n",
    "cumle=input(\"Lutfen cumle yaziniz: \")\n",
    "for harf in cumle:\n",
    "    if harf== \" \":\n",
    "        boslukSayisi+=1\n",
    "print(\"{} cumlesinde {} tane bosluk vardir\".format(cumle,boslukSayisi))"
   ]
  },
  {
   "cell_type": "markdown",
   "id": "f67cb93c",
   "metadata": {},
   "source": [
    "# Bir sayının tersi nasıl yazılır"
   ]
  },
  {
   "cell_type": "code",
   "execution_count": 1,
   "id": "0907ff9e",
   "metadata": {},
   "outputs": [
    {
     "name": "stdout",
     "output_type": "stream",
     "text": [
      "Lutfen tersini bulmamı istediginiz sayiyi yaziniz: 256\n",
      "256 sayisinin tersi 652 sayısıdır\n"
     ]
    }
   ],
   "source": [
    "sayi=int(input(\"Lutfen tersini bulmamı istediginiz sayiyi yaziniz: \"))\n",
    "geciciSayi=sayi\n",
    "tersSayi=0\n",
    "while geciciSayi!=0:\n",
    "    kalan=geciciSayi%10\n",
    "    tersSayi=tersSayi*10+kalan\n",
    "    geciciSayi//=10\n",
    "print(\"{} sayisinin tersi {} sayısıdır\".format(sayi,tersSayi))"
   ]
  },
  {
   "cell_type": "markdown",
   "id": "5390a8ad",
   "metadata": {},
   "source": [
    "# Döngü yardımıyla üçgen çizdirmek"
   ]
  },
  {
   "cell_type": "code",
   "execution_count": 4,
   "id": "f235fbdd",
   "metadata": {},
   "outputs": [
    {
     "name": "stdout",
     "output_type": "stream",
     "text": [
      "Lutfen cizmemi istediginiz ucgeni yaziniz: 8\n",
      "x\n",
      "xx\n",
      "xxx\n",
      "xxxx\n",
      "xxxxx\n",
      "xxxxxx\n",
      "xxxxxxx\n",
      "xxxxxxxx\n"
     ]
    }
   ],
   "source": [
    "ucgenLimit=int(input(\"Lutfen cizmemi istediginiz ucgeni yaziniz: \"))\n",
    "for i in range(1,ucgenLimit+1):\n",
    "    for j in range(0,i):\n",
    "        print(\"x\",end=\"\")\n",
    "    print(end=\"\\n\")"
   ]
  },
  {
   "cell_type": "code",
   "execution_count": 6,
   "id": "52b1b82b",
   "metadata": {},
   "outputs": [
    {
     "name": "stdout",
     "output_type": "stream",
     "text": [
      "Lutfen cizmemi istediginiz ucgeni yaziniz: 8\n",
      "xxxxxxxx\n",
      "xxxxxxx\n",
      "xxxxxx\n",
      "xxxxx\n",
      "xxxx\n",
      "xxx\n",
      "xx\n",
      "x\n"
     ]
    }
   ],
   "source": [
    "ucgenLimit=int(input(\"Lutfen cizmemi istediginiz ucgeni yaziniz: \"))\n",
    "for i in range(0,ucgenLimit):\n",
    "    for j in range(ucgenLimit-i,0,-1):\n",
    "        print(\"x\",end=\"\")\n",
    "    print(end=\"\\n\")"
   ]
  },
  {
   "cell_type": "code",
   "execution_count": 9,
   "id": "c3d90279",
   "metadata": {},
   "outputs": [
    {
     "name": "stdout",
     "output_type": "stream",
     "text": [
      "Lutfen cizmemi istediginiz ucgeni yaziniz: 12\n",
      "xxxxxxxxxxx\n",
      "xxxxxxxxx\n",
      "xxxxxxx\n",
      "xxxxx\n",
      "xxx\n",
      "x\n"
     ]
    }
   ],
   "source": [
    "ucgenLimit=int(input(\"Lutfen cizmemi istediginiz ucgeni yaziniz: \"))\n",
    "for i in range(1,ucgenLimit,+2):\n",
    "    for j in range(ucgenLimit-i,0,-1):\n",
    "        print(\"x\",end=\"\")\n",
    "    print(end=\"\\n\")"
   ]
  },
  {
   "cell_type": "code",
   "execution_count": 16,
   "id": "7f28e044",
   "metadata": {},
   "outputs": [
    {
     "name": "stdout",
     "output_type": "stream",
     "text": [
      "Lutfen cizmemi istediginiz ucgeni yaziniz: 17\n",
      "        x        \n",
      "       xxx       \n",
      "      xxxxx      \n",
      "     xxxxxxx     \n",
      "    xxxxxxxxx    \n",
      "   xxxxxxxxxxx   \n",
      "  xxxxxxxxxxxxx  \n",
      " xxxxxxxxxxxxxxx \n",
      "xxxxxxxxxxxxxxxxx\n"
     ]
    }
   ],
   "source": [
    "ucgenLimit=int(input(\"Lutfen cizmemi istediginiz ucgeni yaziniz: \"))\n",
    "for i in range(1,ucgenLimit+1,2):\n",
    "    for j in range(0,(ucgenLimit-i)//2):\n",
    "        print(end=\" \")\n",
    "    for j in range(0,i):\n",
    "        print(\"x\",end=\"\")\n",
    "    for j in range(0,(ucgenLimit-i)//2):\n",
    "        print(end=\" \")\n",
    "    print(end=\"\\n\")"
   ]
  },
  {
   "cell_type": "markdown",
   "id": "aa9516f2",
   "metadata": {},
   "source": [
    "# şifre sorgulama"
   ]
  },
  {
   "cell_type": "code",
   "execution_count": 7,
   "id": "c25393fd",
   "metadata": {},
   "outputs": [
    {
     "name": "stdout",
     "output_type": "stream",
     "text": [
      "Lutfen kontrol etmemi istediginiz sifrenizi yaziniz: Umurtjdsfbkf13214\n",
      "tebrikler mukemmel bir sifre girdiniz\n"
     ]
    }
   ],
   "source": [
    "# bir sifre olustur buyuk harf kucuk harf sayı olsun ve en az 16 karakter olsun\n",
    "kucukHarfSorgula=False\n",
    "buyukHarfSorgula=False\n",
    "sayiSorgula=False\n",
    "karakterSayisi=0\n",
    "\n",
    "\n",
    "sifre=input(\"Lutfen kontrol etmemi istediginiz sifrenizi yaziniz: \")\n",
    "\n",
    "for ch in sifre:\n",
    "    \n",
    "    if buyukHarfSorgula==False and ch>=\"A\" and ch<=\"Z\":\n",
    "        buyukHarfSorgula=True\n",
    "        \n",
    "    elif kucukHarfSorgula==False and ch>='a' and ch<='z':\n",
    "        kucukHarfSorgula=True\n",
    "        \n",
    "    elif sayiSorgula==False and ch>='0' and ch<='9':\n",
    "        sayiSorgula=True\n",
    "        \n",
    "    karakterSayisi+=1\n",
    "    \n",
    "    \n",
    "if buyukHarfSorgula==False:\n",
    "    print(\"sifrede BUYUK harf kullanilmalidir\")\n",
    "elif kucukHarfSorgula==False:\n",
    "    print(\"sifrede KUCUK harf kullanilmalidir\")\n",
    "elif sayiSorgula==False:\n",
    "    print(\"sifrede SAYİ kullanilmalidir\")\n",
    "elif karakterSayisi<=8:\n",
    "    print(\"sifrede en az 8 karakter bulunmalidir\")\n",
    "else:\n",
    "    print(\"tebrikler mukemmel bir sifre girdiniz\")"
   ]
  },
  {
   "cell_type": "code",
   "execution_count": null,
   "id": "541350c9",
   "metadata": {},
   "outputs": [],
   "source": []
  },
  {
   "cell_type": "code",
   "execution_count": null,
   "id": "0aeefe92",
   "metadata": {},
   "outputs": [],
   "source": []
  }
 ],
 "metadata": {
  "kernelspec": {
   "display_name": "Python 3 (ipykernel)",
   "language": "python",
   "name": "python3"
  },
  "language_info": {
   "codemirror_mode": {
    "name": "ipython",
    "version": 3
   },
   "file_extension": ".py",
   "mimetype": "text/x-python",
   "name": "python",
   "nbconvert_exporter": "python",
   "pygments_lexer": "ipython3",
   "version": "3.9.12"
  },
  "vscode": {
   "interpreter": {
    "hash": "5179d32cf6ec497baf3f8a3ef987cc77c5d2dc691fdde20a56316522f61a7323"
   }
  }
 },
 "nbformat": 4,
 "nbformat_minor": 5
}
