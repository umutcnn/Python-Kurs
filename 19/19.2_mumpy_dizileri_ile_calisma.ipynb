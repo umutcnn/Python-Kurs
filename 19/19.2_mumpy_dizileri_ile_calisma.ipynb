{
 "cells": [
  {
   "cell_type": "code",
   "execution_count": 4,
   "id": "e96f0ad7",
   "metadata": {},
   "outputs": [
    {
     "name": "stdout",
     "output_type": "stream",
     "text": [
      "[1 3 5 7 9]\n"
     ]
    }
   ],
   "source": [
    "import numpy as np\n",
    "result = np.array([1,3,5,7,9])\n",
    "print(result)"
   ]
  },
  {
   "cell_type": "code",
   "execution_count": 13,
   "id": "8fc65015",
   "metadata": {},
   "outputs": [
    {
     "name": "stdout",
     "output_type": "stream",
     "text": [
      "[1 2 3 4 5 6 7 8 9]\n"
     ]
    }
   ],
   "source": [
    "result = np.arange(1,10)#1 den 10 a kadar sayilari yazdir\n",
    "print(result)"
   ]
  },
  {
   "cell_type": "code",
   "execution_count": 12,
   "id": "89c0982d",
   "metadata": {},
   "outputs": [
    {
     "name": "stdout",
     "output_type": "stream",
     "text": [
      "[10 13 16 19 22 25 28 31 34 37 40 43 46 49 52 55 58 61 64 67 70 73 76 79\n",
      " 82 85 88 91 94 97]\n"
     ]
    }
   ],
   "source": [
    "result = np.arange(10,100,3)#10 dan 100 a kadar sayilari 3 er arttirarak yazdir\n",
    "print(result)"
   ]
  },
  {
   "cell_type": "code",
   "execution_count": 7,
   "id": "3f849da1",
   "metadata": {},
   "outputs": [
    {
     "name": "stdout",
     "output_type": "stream",
     "text": [
      "[0. 0. 0. 0. 0. 0. 0. 0. 0. 0.]\n"
     ]
    }
   ],
   "source": [
    "result = np.zeros([10])#10 tane 0 olusturur\n",
    "print(result)"
   ]
  },
  {
   "cell_type": "code",
   "execution_count": 6,
   "id": "bd215823",
   "metadata": {},
   "outputs": [
    {
     "name": "stdout",
     "output_type": "stream",
     "text": [
      "[1. 1. 1. 1. 1. 1. 1. 1. 1. 1.]\n"
     ]
    }
   ],
   "source": [
    "result = np.ones([10])#10 tane 1 olusturur\n",
    "print(result)"
   ]
  },
  {
   "cell_type": "code",
   "execution_count": 14,
   "id": "4678583c",
   "metadata": {},
   "outputs": [
    {
     "name": "stdout",
     "output_type": "stream",
     "text": [
      "[  0.  25.  50.  75. 100.]\n"
     ]
    }
   ],
   "source": [
    "result = np.linspace(0,100,5)#başlangıç ve bitiş değerini 5 e boler ve sayilari ona göre yazdirir\n",
    "print(result)"
   ]
  },
  {
   "cell_type": "code",
   "execution_count": 15,
   "id": "a1926679",
   "metadata": {},
   "outputs": [
    {
     "name": "stdout",
     "output_type": "stream",
     "text": [
      "[0.   1.25 2.5  3.75 5.  ]\n"
     ]
    }
   ],
   "source": [
    "result = np.linspace(0,5,5)\n",
    "print(result)"
   ]
  },
  {
   "cell_type": "code",
   "execution_count": 18,
   "id": "3210f8f1",
   "metadata": {},
   "outputs": [
    {
     "name": "stdout",
     "output_type": "stream",
     "text": [
      "3\n"
     ]
    }
   ],
   "source": [
    "result =np.random.randint(0,10)#0 ile 10 arasında random bir sayi olustur\n",
    "print(result)"
   ]
  },
  {
   "cell_type": "code",
   "execution_count": 23,
   "id": "7cfde498",
   "metadata": {},
   "outputs": [
    {
     "name": "stdout",
     "output_type": "stream",
     "text": [
      "14\n"
     ]
    }
   ],
   "source": [
    "result =np.random.randint(20)#0 ile 10 arasında random bir sayi olustur\n",
    "print(result)"
   ]
  },
  {
   "cell_type": "code",
   "execution_count": 26,
   "id": "9ab2fd13",
   "metadata": {},
   "outputs": [
    {
     "name": "stdout",
     "output_type": "stream",
     "text": [
      "[4 8 1]\n"
     ]
    }
   ],
   "source": [
    "result =np.random.randint(1,10,3)#1 ile 10 arasında random 3 tane sayi olustur\n",
    "print(result)"
   ]
  },
  {
   "cell_type": "code",
   "execution_count": 28,
   "id": "6ee4c3dd",
   "metadata": {},
   "outputs": [
    {
     "name": "stdout",
     "output_type": "stream",
     "text": [
      "[0.26917656 0.18062057 0.83068592 0.22378142 0.82824411]\n"
     ]
    }
   ],
   "source": [
    "result =np.random.rand(5)#0 ile 1 arasında 5 tane sayi üretir\n",
    "print(result)"
   ]
  },
  {
   "cell_type": "code",
   "execution_count": 31,
   "id": "bcb5b975",
   "metadata": {},
   "outputs": [
    {
     "name": "stdout",
     "output_type": "stream",
     "text": [
      "[-0.4683967   0.61431188  0.66522259 -0.71807419  0.66889101]\n"
     ]
    }
   ],
   "source": [
    "result =np.random.randn(5)#-1 ile 1 arasında 5 tane sayi üretir\n",
    "print(result)"
   ]
  },
  {
   "cell_type": "code",
   "execution_count": 37,
   "id": "86471521",
   "metadata": {},
   "outputs": [
    {
     "name": "stdout",
     "output_type": "stream",
     "text": [
      "[ 45 145 245 345 445]\n",
      "[100 105 110 115 120 125 130 135 140 145]\n",
      "[[ 0  1  2  3  4  5  6  7  8  9]\n",
      " [10 11 12 13 14 15 16 17 18 19]\n",
      " [20 21 22 23 24 25 26 27 28 29]\n",
      " [30 31 32 33 34 35 36 37 38 39]\n",
      " [40 41 42 43 44 45 46 47 48 49]]\n"
     ]
    }
   ],
   "source": [
    "np_array =np.arange(50)#0 dan 50 ye kadar sayi üretir\n",
    "np_multi=np_array.reshape(5,10)\n",
    "print(np_multi.sum(axis=1))#satirlarin toplamini verir\n",
    "print(np_multi.sum(axis=0))#sutunlarin toplamini verir\n",
    "print(np_multi)"
   ]
  },
  {
   "cell_type": "code",
   "execution_count": 44,
   "id": "992f94c8",
   "metadata": {},
   "outputs": [
    {
     "name": "stdout",
     "output_type": "stream",
     "text": [
      "[94 31 35 70 73 74 96 45 91 66]\n",
      "96\n",
      "6\n",
      "31\n",
      "1\n",
      "67.5\n"
     ]
    }
   ],
   "source": [
    "rnd_numbers =np.random.randint(1,100,10)#1 ile 100 arasında 10 tane sayi üretir\n",
    "result_max=rnd_numbers.max()#üretilen sayilar içerisinden en buyugunu alir\n",
    "result_min=rnd_numbers.min()#üretilen sayilar içerisinden en kucugunu alir\n",
    "result_ort=rnd_numbers.mean()#üretilen sayilarin ort alir\n",
    "result_max_index=rnd_numbers.argmax()#en buyuk sayinin indexi\n",
    "result_min_index=rnd_numbers.argmin()#en kucuk sayinin indexi\n",
    "print(rnd_numbers)\n",
    "print(result_max)\n",
    "print(result_max_index)\n",
    "print(result_min)\n",
    "print(result_min_index)\n",
    "print(result_ort)"
   ]
  },
  {
   "cell_type": "code",
   "execution_count": null,
   "id": "1ea2cfef",
   "metadata": {},
   "outputs": [],
   "source": []
  }
 ],
 "metadata": {
  "kernelspec": {
   "display_name": "Python 3 (ipykernel)",
   "language": "python",
   "name": "python3"
  },
  "language_info": {
   "codemirror_mode": {
    "name": "ipython",
    "version": 3
   },
   "file_extension": ".py",
   "mimetype": "text/x-python",
   "name": "python",
   "nbconvert_exporter": "python",
   "pygments_lexer": "ipython3",
   "version": "3.9.12"
  }
 },
 "nbformat": 4,
 "nbformat_minor": 5
}
