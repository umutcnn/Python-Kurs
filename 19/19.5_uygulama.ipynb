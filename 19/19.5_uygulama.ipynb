{
 "cells": [
  {
   "cell_type": "code",
   "execution_count": 2,
   "id": "f6af7a25",
   "metadata": {},
   "outputs": [],
   "source": [
    "import numpy as np"
   ]
  },
  {
   "cell_type": "code",
   "execution_count": 5,
   "id": "ed1d9c0a",
   "metadata": {},
   "outputs": [
    {
     "name": "stdout",
     "output_type": "stream",
     "text": [
      "[10 15 30 45 60]\n"
     ]
    }
   ],
   "source": [
    "result=np.array([10,15,30,45,60])\n",
    "print(result)"
   ]
  },
  {
   "cell_type": "code",
   "execution_count": 7,
   "id": "263fa5e3",
   "metadata": {},
   "outputs": [
    {
     "name": "stdout",
     "output_type": "stream",
     "text": [
      "[ 5  6  7  8  9 10 11 12 13 14]\n"
     ]
    }
   ],
   "source": [
    "#5-15 arasindaki sayilardan olusan numpy dizisi olustur\n",
    "result=np.arange(5,15)\n",
    "print(result)"
   ]
  },
  {
   "cell_type": "code",
   "execution_count": 8,
   "id": "b269a9ef",
   "metadata": {},
   "outputs": [
    {
     "name": "stdout",
     "output_type": "stream",
     "text": [
      "[50 55 60 65 70 75 80 85 90 95]\n"
     ]
    }
   ],
   "source": [
    "#50-100 arasindaki sayilari +5 leyerek numpy dizisi olustur\n",
    "result=np.arange(50,100,5)\n",
    "print(result)"
   ]
  },
  {
   "cell_type": "code",
   "execution_count": null,
   "id": "dbbe691d",
   "metadata": {},
   "outputs": [],
   "source": [
    "# 10 tane sıfırdan olusan dizi\n",
    "result=np.zeros(10)\n",
    "print(result)"
   ]
  },
  {
   "cell_type": "code",
   "execution_count": null,
   "id": "e40fbf3a",
   "metadata": {},
   "outputs": [],
   "source": [
    "# 10 birden sıfırdan olusan dizi\n",
    "result=np.ones(10)\n",
    "print(result)"
   ]
  },
  {
   "cell_type": "code",
   "execution_count": 9,
   "id": "ec6bbcf0",
   "metadata": {},
   "outputs": [
    {
     "name": "stdout",
     "output_type": "stream",
     "text": [
      "[  0.  25.  50.  75. 100.]\n"
     ]
    }
   ],
   "source": [
    "#0-100 arasında esit aralıklı 5 sayi üret\n",
    "result=np.linspace(0,100,5)\n",
    "print(result)"
   ]
  },
  {
   "cell_type": "code",
   "execution_count": 10,
   "id": "28ba8219",
   "metadata": {},
   "outputs": [
    {
     "name": "stdout",
     "output_type": "stream",
     "text": [
      "[11 20 19 23 21]\n"
     ]
    }
   ],
   "source": [
    "#10-30 arasında rastgele 5 tam sayi üret\n",
    "result=np.random.randint(10,30,5)\n",
    "print(result)"
   ]
  },
  {
   "cell_type": "code",
   "execution_count": 11,
   "id": "9a1669ae",
   "metadata": {},
   "outputs": [
    {
     "name": "stdout",
     "output_type": "stream",
     "text": [
      "[ 1.96179795 -1.14899693 -0.96310912  1.01601653  1.72122009 -0.37998517\n",
      " -1.58654889 -0.19227122 -1.91994017 -0.52671892]\n"
     ]
    }
   ],
   "source": [
    "#-1,1 arasında 10 sayı üret\n",
    "result=np.random.randn(10)\n",
    "print(result)"
   ]
  },
  {
   "cell_type": "code",
   "execution_count": 12,
   "id": "98d261e7",
   "metadata": {},
   "outputs": [
    {
     "name": "stdout",
     "output_type": "stream",
     "text": [
      "[[20 10 44 47 39]\n",
      " [11 14 25 44 48]\n",
      " [26 42 42 33 17]]\n"
     ]
    }
   ],
   "source": [
    "#(3x5) boyutlarinda 10-50 arasındaki sayilardan rastgele bir matris olustur\n",
    "result=np.random.randint(10,50,15).reshape(3,5)\n",
    "print(result)"
   ]
  },
  {
   "cell_type": "code",
   "execution_count": 16,
   "id": "af03def1",
   "metadata": {},
   "outputs": [
    {
     "name": "stdout",
     "output_type": "stream",
     "text": [
      "[[24 16 31 16 28]\n",
      " [49 10 40 20 45]\n",
      " [31 15 32 44 28]]\n",
      "[115 164 150]\n",
      "[104  41 103  80 101]\n"
     ]
    }
   ],
   "source": [
    "#üretilen matrisin satir ve sutun sayılarının toplamini hesaplayiniz\n",
    "result=np.random.randint(10,50,15).reshape(3,5)\n",
    "rowTotal=result.sum(axis=1)\n",
    "colTotal=result.sum(axis=0)\n",
    "print(result)\n",
    "print(rowTotal)\n",
    "print(colTotal)"
   ]
  },
  {
   "cell_type": "code",
   "execution_count": 18,
   "id": "2fa1bf21",
   "metadata": {},
   "outputs": [
    {
     "name": "stdout",
     "output_type": "stream",
     "text": [
      "[[27 27 35 35 21]\n",
      " [28 18 47 31 35]\n",
      " [41 23 48 27 31]]\n",
      "48\n",
      "48\n",
      "48.0\n"
     ]
    }
   ],
   "source": [
    "#uretilen matrixin en buyuk en kucuk ve ortalamasini bul\n",
    "result=np.random.randint(10,50,15).reshape(3,5)\n",
    "print(result)\n",
    "result=result.max()\n",
    "print(result)\n",
    "result=result.min()\n",
    "print(result)\n",
    "result=result.mean()\n",
    "print(result)"
   ]
  },
  {
   "cell_type": "code",
   "execution_count": 25,
   "id": "d3a29fb9",
   "metadata": {},
   "outputs": [
    {
     "name": "stdout",
     "output_type": "stream",
     "text": [
      "[[26 16 10 49 27]\n",
      " [30 42 44 26 18]\n",
      " [30 28 43 23 19]]\n",
      "3\n",
      "2\n"
     ]
    }
   ],
   "source": [
    "#en buyuk ve en kucuk degerinin indexi\n",
    "result=np.random.randint(10,50,15).reshape(3,5)\n",
    "print(result)\n",
    "results=result.argmax()\n",
    "print(results)\n",
    "resulta=result.argmin()\n",
    "print(resulta)"
   ]
  },
  {
   "cell_type": "code",
   "execution_count": 26,
   "id": "eb38b4d1",
   "metadata": {},
   "outputs": [
    {
     "name": "stdout",
     "output_type": "stream",
     "text": [
      "[10 11 12 13 14 15 16 17 18 19]\n",
      "[10 11 12]\n"
     ]
    }
   ],
   "source": [
    "#10-20 arasındaki sayılari içeren dizinin ilk 3 elemanini seciniz\n",
    "arr=np.arange(10,20)\n",
    "print(arr)\n",
    "result=arr[:3]\n",
    "print(result)"
   ]
  },
  {
   "cell_type": "code",
   "execution_count": 27,
   "id": "e9c4864b",
   "metadata": {},
   "outputs": [
    {
     "name": "stdout",
     "output_type": "stream",
     "text": [
      "[19 18 17 16 15 14 13 12 11 10]\n"
     ]
    }
   ],
   "source": [
    "#dizinin elemanlarini tersten yazdir\n",
    "result=arr[::-1]\n",
    "print(result)"
   ]
  },
  {
   "cell_type": "code",
   "execution_count": 28,
   "id": "02a109bd",
   "metadata": {},
   "outputs": [
    {
     "name": "stdout",
     "output_type": "stream",
     "text": [
      "[41 22 29 37 36]\n"
     ]
    }
   ],
   "source": [
    "#üretilen matrisin ilk satirini seciniz\n",
    "result=np.random.randint(10,50,15).reshape(3,5)\n",
    "result=result[0]\n",
    "print(result)"
   ]
  },
  {
   "cell_type": "code",
   "execution_count": 29,
   "id": "521a1f15",
   "metadata": {},
   "outputs": [
    {
     "name": "stdout",
     "output_type": "stream",
     "text": [
      "43\n"
     ]
    }
   ],
   "source": [
    "#üretilen matrisin 2. satir 3. sutunundaki eleman?\n",
    "result=np.random.randint(10,50,15).reshape(3,5)\n",
    "result=result[1,2]\n",
    "print(result)"
   ]
  },
  {
   "cell_type": "code",
   "execution_count": 30,
   "id": "34ad8960",
   "metadata": {},
   "outputs": [
    {
     "name": "stdout",
     "output_type": "stream",
     "text": [
      "[45 40 25]\n"
     ]
    }
   ],
   "source": [
    "#üretilen matrisin tüm satirlarindaki ilk eleman?\n",
    "result=np.random.randint(10,50,15).reshape(3,5)\n",
    "result=result[:,0]\n",
    "print(result)"
   ]
  },
  {
   "cell_type": "code",
   "execution_count": 31,
   "id": "f8850ee8",
   "metadata": {},
   "outputs": [
    {
     "name": "stdout",
     "output_type": "stream",
     "text": [
      "[[ 900 1521 1089 2116 1936]\n",
      " [ 361 1369 2025 2025 1681]\n",
      " [ 256  289 1600  841 1296]]\n"
     ]
    }
   ],
   "source": [
    "#üretilen matrisin her bir elemanının karesi?\n",
    "result=np.random.randint(10,50,15).reshape(3,5)\n",
    "result=result**2\n",
    "print(result)"
   ]
  },
  {
   "cell_type": "code",
   "execution_count": 35,
   "id": "030e8298",
   "metadata": {},
   "outputs": [
    {
     "name": "stdout",
     "output_type": "stream",
     "text": [
      "[38]\n"
     ]
    }
   ],
   "source": [
    "#üretilen matrisin hangisi çift pozitiftir\n",
    "result=np.random.randint(-50,50,5)\n",
    "ciftler=result[result%2==0]\n",
    "result=ciftler[ciftler>0]\n",
    "print(result)"
   ]
  }
 ],
 "metadata": {
  "kernelspec": {
   "display_name": "Python 3 (ipykernel)",
   "language": "python",
   "name": "python3"
  },
  "language_info": {
   "codemirror_mode": {
    "name": "ipython",
    "version": 3
   },
   "file_extension": ".py",
   "mimetype": "text/x-python",
   "name": "python",
   "nbconvert_exporter": "python",
   "pygments_lexer": "ipython3",
   "version": "3.9.12"
  }
 },
 "nbformat": 4,
 "nbformat_minor": 5
}
