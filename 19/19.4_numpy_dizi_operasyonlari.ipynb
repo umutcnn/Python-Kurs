{
 "cells": [
  {
   "cell_type": "code",
   "execution_count": 6,
   "id": "ec1bc294",
   "metadata": {},
   "outputs": [
    {
     "name": "stdout",
     "output_type": "stream",
     "text": [
      "[99 92 82 81 45 50]\n",
      "[90 90 74 91 21 70]\n",
      "[189 182 156 172  66 120]\n",
      "[109 102  92  91  55  60]\n",
      "[  9   2   8 -10  24 -20]\n",
      "[89 82 72 71 35 40]\n",
      "[8910 8280 6068 7371  945 3500]\n",
      "[990 920 820 810 450 500]\n",
      "[1.1        1.02222222 1.10810811 0.89010989 2.14285714 0.71428571]\n",
      "[9.9 9.2 8.2 8.1 4.5 5. ]\n",
      "[189 182 156 172  66 120]\n",
      "[-0.99920683 -0.77946607  0.31322878 -0.62988799  0.85090352 -0.26237485]\n",
      "[ 0.03982088 -0.62644445  0.9496777   0.77668598  0.52532199  0.96496603]\n",
      "[9.94987437 9.59166305 9.05538514 9.         6.70820393 7.07106781]\n",
      "[4.59511985 4.52178858 4.40671925 4.39444915 3.80666249 3.91202301]\n"
     ]
    }
   ],
   "source": [
    "import numpy as np\n",
    "num1=np.random.randint(10,100,6)\n",
    "num2=np.random.randint(10,100,6)\n",
    "print(num1)\n",
    "print(num2)\n",
    "result=num1+num2\n",
    "print(result)\n",
    "result=num1+10\n",
    "print(result)\n",
    "result=num1-num2\n",
    "print(result)\n",
    "result=num1-10\n",
    "print(result)\n",
    "result=num1*num2\n",
    "print(result)\n",
    "result=num1*10\n",
    "print(result)\n",
    "result=num1/num2\n",
    "print(result)\n",
    "result=num1/10\n",
    "print(result)\n",
    "result=num1+num2\n",
    "print(result)\n",
    "result=np.sin(num1)\n",
    "print(result)\n",
    "result=np.cos(num1)\n",
    "print(result)\n",
    "result=np.sqrt(num1)#karekök\n",
    "print(result)\n",
    "result=np.log(num1)#log\n",
    "print(result)\n"
   ]
  },
  {
   "cell_type": "code",
   "execution_count": 10,
   "id": "5b959139",
   "metadata": {},
   "outputs": [
    {
     "name": "stdout",
     "output_type": "stream",
     "text": [
      "[[99 92 82]\n",
      " [81 45 50]]\n",
      "[[90 90 74]\n",
      " [91 21 70]]\n",
      "[[99 92 82 90 90 74]\n",
      " [81 45 50 91 21 70]]\n"
     ]
    }
   ],
   "source": [
    "mnum1=num1.reshape(2,3)#2x3 luk matrix yap\n",
    "print(mnum1)\n",
    "mnum2=num2.reshape(2,3)\n",
    "print(mnum2)\n",
    "\n",
    "result= np.vstack((mnum1,mnum2))#2x3 lük iki matrisi birlestirdi 4x3 e donustu\n",
    "result= np.hstack((mnum1,mnum2))\n",
    "#2x3 lük iki matrixren 2. matrixin 1. satirini alip, 1.matrixin 1. satirina ekledi.\n",
    "#ayni islemi 2. matrisin 2. satiri için de yapti böylelikle yeni matrix 2x6 lık oldu\n",
    "print(result)\n"
   ]
  },
  {
   "cell_type": "code",
   "execution_count": 12,
   "id": "4ac6578b",
   "metadata": {},
   "outputs": [
    {
     "name": "stdout",
     "output_type": "stream",
     "text": [
      "[99 92 82 81 45 50]\n",
      "[ True  True  True  True  True  True]\n",
      "[False  True  True False False  True]\n"
     ]
    }
   ],
   "source": [
    "print(num1)\n",
    "result =num1>=5#tüm elemanlari tek tek kontrol eder ve 5 ten buyuk olup olmadiğini yazdirir \n",
    "print(result)\n",
    "result =num1%2==0 #tüm elemanlari tek tek kontrol eder ve çift olanlara True çevirir\n",
    "print(result)"
   ]
  },
  {
   "cell_type": "code",
   "execution_count": null,
   "id": "07e1ba25",
   "metadata": {},
   "outputs": [],
   "source": []
  }
 ],
 "metadata": {
  "kernelspec": {
   "display_name": "Python 3 (ipykernel)",
   "language": "python",
   "name": "python3"
  },
  "language_info": {
   "codemirror_mode": {
    "name": "ipython",
    "version": 3
   },
   "file_extension": ".py",
   "mimetype": "text/x-python",
   "name": "python",
   "nbconvert_exporter": "python",
   "pygments_lexer": "ipython3",
   "version": "3.9.12"
  }
 },
 "nbformat": 4,
 "nbformat_minor": 5
}
