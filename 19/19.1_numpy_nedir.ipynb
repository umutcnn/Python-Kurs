{
 "cells": [
  {
   "cell_type": "code",
   "execution_count": 1,
   "id": "7fc9fec1",
   "metadata": {
    "scrolled": true
   },
   "outputs": [
    {
     "name": "stdout",
     "output_type": "stream",
     "text": [
      "[0 1 2 3 4 5]\n"
     ]
    }
   ],
   "source": [
    "import numpy as np \n",
    "a = np.arange(6)\n",
    "print(a)\n"
   ]
  },
  {
   "cell_type": "code",
   "execution_count": 4,
   "id": "f8e0bb09",
   "metadata": {},
   "outputs": [
    {
     "name": "stdout",
     "output_type": "stream",
     "text": [
      "<class 'list'>\n",
      "<class 'numpy.ndarray'>\n"
     ]
    }
   ],
   "source": [
    "py_list=[1,2,3,4,5,6,7,8,9]\n",
    "np_array= np.array([1,2,3,4,5,6,7,8,9])\n",
    "print(type(py_list))\n",
    "print(type(np_array))"
   ]
  },
  {
   "cell_type": "code",
   "execution_count": 17,
   "id": "9bbe6352",
   "metadata": {},
   "outputs": [
    {
     "name": "stdout",
     "output_type": "stream",
     "text": [
      "[[1 2 3]\n",
      " [4 5 6]\n",
      " [7 8 9]]\n",
      "[[1, 2, 3], [4, 5, 6], [7, 8, 9]]\n",
      "1\n",
      "2\n",
      "(9,)\n",
      "(3, 3)\n"
     ]
    }
   ],
   "source": [
    "np_array= np.array([1,2,3,4,5,6,7,8,9])\n",
    "py_multi=[[1,2,3],[4,5,6],[7,8,9]] \n",
    "mp_multi=np_array.reshape(3,3)#3 satir 3 sutunluk 2 boyutlu bir matris olusturur\n",
    "print(mp_multi)\n",
    "print(py_multi)\n",
    "print(np_array.ndim)#boyutunu gösterir\n",
    "print(mp_multi.ndim)\n",
    "\n",
    "print(np_array.shape)#kaça kaçlık oldugunu gösterir mesela 9 eleman(sütun) var 1 satir (9,1) \n",
    "print(mp_multi.shape)"
   ]
  },
  {
   "cell_type": "code",
   "execution_count": null,
   "id": "19f79fb8",
   "metadata": {},
   "outputs": [],
   "source": []
  }
 ],
 "metadata": {
  "kernelspec": {
   "display_name": "Python 3 (ipykernel)",
   "language": "python",
   "name": "python3"
  },
  "language_info": {
   "codemirror_mode": {
    "name": "ipython",
    "version": 3
   },
   "file_extension": ".py",
   "mimetype": "text/x-python",
   "name": "python",
   "nbconvert_exporter": "python",
   "pygments_lexer": "ipython3",
   "version": "3.9.12"
  }
 },
 "nbformat": 4,
 "nbformat_minor": 5
}
