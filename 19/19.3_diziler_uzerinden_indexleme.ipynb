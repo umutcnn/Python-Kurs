{
 "cells": [
  {
   "cell_type": "code",
   "execution_count": 5,
   "id": "3833dfa9",
   "metadata": {},
   "outputs": [
    {
     "name": "stdout",
     "output_type": "stream",
     "text": [
      "50\n",
      "75\n",
      "[ 0  5 10]\n",
      "[ 0  5 10]\n",
      "[ 0  5 10 15 25 50 75]\n",
      "[75 50 25 15 10  5  0]\n"
     ]
    }
   ],
   "source": [
    "import numpy as np\n",
    "\n",
    "numbers=np.array([0,5,10,15,25,50,75])\n",
    "\n",
    "result=numbers[5]\n",
    "print(result)\n",
    "result=numbers[-1]\n",
    "print(result)\n",
    "result=numbers[0:3]\n",
    "print(result)\n",
    "result=numbers[:3]\n",
    "print(result)\n",
    "result=numbers[::]\n",
    "print(result)\n",
    "result=numbers[::-1]\n",
    "print(result)\n",
    "result=numbers[::-2]\n",
    "print(result)"
   ]
  },
  {
   "cell_type": "code",
   "execution_count": 15,
   "id": "d08d1068",
   "metadata": {},
   "outputs": [
    {
     "name": "stdout",
     "output_type": "stream",
     "text": [
      "[ 0  5 10]\n",
      "[50 75 85]\n",
      "10\n",
      "75\n",
      "[10 25 85]\n",
      "[ 0 15 50]\n",
      "[[ 0  5]\n",
      " [15 20]\n",
      " [50 75]]\n",
      "[50 75 85]\n",
      "[[ 0  5 10]\n",
      " [15 20 25]\n",
      " [50 75 85]]\n",
      "[[ 0  5]\n",
      " [15 20]]\n"
     ]
    }
   ],
   "source": [
    "numbers2=np.array([[0,5,10],[15,20,25],[50,75,85]])\n",
    "\n",
    "result=numbers2[0]\n",
    "print(result)\n",
    "result=numbers2[2]\n",
    "print(result)\n",
    "result=numbers2[0,2]#0. satirın 2. indexindeki sayiyi almıs oluyoruz\n",
    "print(result)\n",
    "result=numbers2[2,1]#ikinci satirın 1. indexindeki sayiyi almıs oluyoruz\n",
    "print(result)\n",
    "result=numbers2[:,2]#tüm satirlardan 2. indextekileri almıs oluyoruz\n",
    "print(result)\n",
    "result=numbers2[:,0]#tüm satirların 0. indextekileri almıs oluyoruz\n",
    "print(result)\n",
    "result=numbers2[:,0:2]#tüm satirların 0. ve 1. indextekileri almıs oluyoruz\n",
    "print(result)\n",
    "result=numbers2[-1,:]#son satirları almıs oluyoruz\n",
    "print(result)\n",
    "result=numbers2[:3,:3]#tum satirları ve sutunlari almıs oluyoruz\n",
    "print(result)\n",
    "result=numbers2[:2,:2]#0 ve 1  satirin ve 0 ve 1. sutunlari almıs oluyoruz\n",
    "print(result)"
   ]
  },
  {
   "cell_type": "code",
   "execution_count": 17,
   "id": "1ad0d156",
   "metadata": {},
   "outputs": [
    {
     "name": "stdout",
     "output_type": "stream",
     "text": [
      "[0 1 2 3 4 5 6 7 8 9]\n",
      "[0 1 2 3 4 5 6 7 8 9]\n"
     ]
    }
   ],
   "source": [
    "arr1=np.arange(0,10)\n",
    "arr2=arr1 #ayni adresi vermis oluyoruz\n",
    "print(arr2)\n",
    "print(arr1)\n",
    "arr2[0]=20\n",
    "print(arr2)\n",
    "print(arr1)\n",
    "#ikisinde de 0. indeksteki sayilar değişti çünkü bellek üzerinde aynı adreste tutulan aynı verileri listeliyoruz\n"
   ]
  },
  {
   "cell_type": "code",
   "execution_count": 19,
   "id": "f0a79964",
   "metadata": {},
   "outputs": [
    {
     "name": "stdout",
     "output_type": "stream",
     "text": [
      "[0 1 2 3 4 5 6 7 8 9]\n",
      "[0 1 2 3 4 5 6 7 8 9]\n",
      "[20  1  2  3  4  5  6  7  8  9]\n",
      "[0 1 2 3 4 5 6 7 8 9]\n"
     ]
    }
   ],
   "source": [
    "arr1=np.arange(0,10)\n",
    "arr2=arr1.copy() \n",
    "print(arr2)\n",
    "print(arr1)\n",
    "arr2[0]=20\n",
    "print(arr2)\n",
    "print(arr1)\n",
    "#arr1 deki listeyi arr2 ye kopyaladık bu nedenle arr1 deki veri degismedi ikisinin de bellekteki yerleri farklidir\n"
   ]
  },
  {
   "cell_type": "code",
   "execution_count": null,
   "id": "2b6f5fcf",
   "metadata": {},
   "outputs": [],
   "source": []
  }
 ],
 "metadata": {
  "kernelspec": {
   "display_name": "Python 3 (ipykernel)",
   "language": "python",
   "name": "python3"
  },
  "language_info": {
   "codemirror_mode": {
    "name": "ipython",
    "version": 3
   },
   "file_extension": ".py",
   "mimetype": "text/x-python",
   "name": "python",
   "nbconvert_exporter": "python",
   "pygments_lexer": "ipython3",
   "version": "3.9.12"
  }
 },
 "nbformat": 4,
 "nbformat_minor": 5
}
