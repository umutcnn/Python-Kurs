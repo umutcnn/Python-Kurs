{
 "cells": [
  {
   "cell_type": "code",
   "execution_count": 2,
   "id": "95d94994",
   "metadata": {},
   "outputs": [
    {
     "name": "stdout",
     "output_type": "stream",
     "text": [
      "fonksiyondan önceki islemler\n",
      "hello\n",
      "fonksiyondan sonraki islemler\n",
      "fonksiyondan önceki islemler\n",
      "greeting\n",
      "fonksiyondan sonraki islemler\n"
     ]
    }
   ],
   "source": [
    "def my_decorator(func):\n",
    "    def wrapper():\n",
    "        print(\"fonksiyondan önceki islemler\")\n",
    "        func()\n",
    "        print(\"fonksiyondan sonraki islemler\")\n",
    "    return wrapper\n",
    "\n",
    "def sayHello():\n",
    "    print(\"hello\")\n",
    "def sayGreeting():\n",
    "    print(\"greeting\")\n",
    "sayHello=my_decorator(sayHello)\n",
    "sayHello()\n",
    "sayGreeting=my_decorator(sayGreeting)\n",
    "sayGreeting()"
   ]
  },
  {
   "cell_type": "code",
   "execution_count": 8,
   "id": "cff51d1c",
   "metadata": {},
   "outputs": [
    {
     "name": "stdout",
     "output_type": "stream",
     "text": [
      "fonksiyondan önceki islemler\n",
      "hello ali\n",
      "fonksiyondan sonraki islemler\n"
     ]
    }
   ],
   "source": [
    "def my_decorator(func):\n",
    "    def wrapper(name):\n",
    "        print(\"fonksiyondan önceki islemler\")\n",
    "        func(name)\n",
    "        print(\"fonksiyondan sonraki islemler\")\n",
    "    return wrapper\n",
    "@my_decorator\n",
    "def sayHello(name):\n",
    "    print(\"hello\",name)\n",
    "sayHello(\"ali\")"
   ]
  },
  {
   "cell_type": "code",
   "execution_count": 21,
   "id": "85352a03",
   "metadata": {},
   "outputs": [
    {
     "name": "stdout",
     "output_type": "stream",
     "text": [
      "8.0\n",
      "fonksiyon usalma 1.0110702514648438 saniye sürdü\n",
      "24\n",
      "fonksiyon faktoriyel 1.0092341899871826 saniye sürdü\n",
      "30\n",
      "fonksiyon toplam 1.0004379749298096 saniye sürdü\n"
     ]
    }
   ],
   "source": [
    "import math\n",
    "import time\n",
    "def calculate_time(func):\n",
    "    def inner(*args,**kwargs):\n",
    "        start=time.time()\n",
    "        time.sleep(1)\n",
    "        func(*args,**kwargs)\n",
    "        finish=time.time()\n",
    "        print(\"fonksiyon \"+func.__name__+\" \"+str(finish-start)+\" saniye sürdü\")\n",
    "    return inner\n",
    "@calculate_time\n",
    "def usalma(a,b):\n",
    "    print(math.pow(a,b))\n",
    "@calculate_time    \n",
    "def faktoriyel(num):\n",
    "    print(math.factorial(num))\n",
    "\n",
    "@calculate_time  \n",
    "def toplam(a,b):\n",
    "    print(a+b)\n",
    "    \n",
    "usalma(2,3)\n",
    "faktoriyel(4)\n",
    "toplam(10,20)"
   ]
  },
  {
   "cell_type": "code",
   "execution_count": null,
   "id": "15b46a9d",
   "metadata": {},
   "outputs": [],
   "source": []
  }
 ],
 "metadata": {
  "kernelspec": {
   "display_name": "Python 3 (ipykernel)",
   "language": "python",
   "name": "python3"
  },
  "language_info": {
   "codemirror_mode": {
    "name": "ipython",
    "version": 3
   },
   "file_extension": ".py",
   "mimetype": "text/x-python",
   "name": "python",
   "nbconvert_exporter": "python",
   "pygments_lexer": "ipython3",
   "version": "3.9.12"
  }
 },
 "nbformat": 4,
 "nbformat_minor": 5
}
