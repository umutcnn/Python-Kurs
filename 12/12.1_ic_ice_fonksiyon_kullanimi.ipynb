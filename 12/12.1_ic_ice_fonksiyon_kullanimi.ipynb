{
 "cells": [
  {
   "cell_type": "code",
   "execution_count": 1,
   "id": "56376fa4",
   "metadata": {},
   "outputs": [
    {
     "name": "stdout",
     "output_type": "stream",
     "text": [
      "hello ali\n",
      "None\n",
      "<function greeting at 0x000001F2DC391DC0>\n"
     ]
    }
   ],
   "source": [
    "def greeting(name):\n",
    "    print(\"hello\",name)\n",
    "print(greeting('ali'))\n",
    "print(greeting)"
   ]
  },
  {
   "cell_type": "code",
   "execution_count": 2,
   "id": "e6f69f70",
   "metadata": {},
   "outputs": [
    {
     "name": "stdout",
     "output_type": "stream",
     "text": [
      "<function greeting at 0x000001F2DC391CA0>\n",
      "<function greeting at 0x000001F2DC391CA0>\n"
     ]
    }
   ],
   "source": [
    "def greeting(name):\n",
    "    print(\"hello\",name)\n",
    "sayHello=greeting\n",
    "print(sayHello)\n",
    "print(greeting)"
   ]
  },
  {
   "cell_type": "code",
   "execution_count": 3,
   "id": "61fe581e",
   "metadata": {},
   "outputs": [
    {
     "name": "stdout",
     "output_type": "stream",
     "text": [
      "hello ali\n",
      "None\n",
      "hello ali\n",
      "None\n"
     ]
    }
   ],
   "source": [
    "print(greeting('ali'))\n",
    "print(sayHello('ali'))"
   ]
  },
  {
   "cell_type": "code",
   "execution_count": 10,
   "id": "c9e89d0e",
   "metadata": {},
   "outputs": [
    {
     "name": "stdout",
     "output_type": "stream",
     "text": [
      "<function greeting at 0x000001F2DC391E50>\n"
     ]
    }
   ],
   "source": [
    "def greeting(name):\n",
    "    print(\"hello\",name)\n",
    "sayHello=greeting\n",
    "\n",
    "del sayHello\n",
    "#print(sayHello)\n",
    "print(greeting)"
   ]
  },
  {
   "cell_type": "code",
   "execution_count": 16,
   "id": "9586b090",
   "metadata": {},
   "outputs": [
    {
     "name": "stdout",
     "output_type": "stream",
     "text": [
      "outer\n",
      "inner\n",
      "10\n",
      "11\n"
     ]
    }
   ],
   "source": [
    "#encapsulation\n",
    "def outer(num1):\n",
    "    print('outer')\n",
    "    def inner_increment(num1):\n",
    "        print('inner')\n",
    "        return num1+1\n",
    "    num2=inner_increment(num1)\n",
    "    print(num1)\n",
    "    print(num2)\n",
    "outer(10) \n",
    "#inner_increment(10) #sadece outer kapsamında çalışır"
   ]
  },
  {
   "cell_type": "code",
   "execution_count": 28,
   "id": "02ab9d69",
   "metadata": {},
   "outputs": [
    {
     "name": "stdout",
     "output_type": "stream",
     "text": [
      "479001600\n"
     ]
    }
   ],
   "source": [
    "def factorial(number):\n",
    "    if not isinstance(number,int):\n",
    "        raise TypeError(\"number must be a integer\")\n",
    "        \n",
    "    if not number>=0:\n",
    "        raise ValueError(\"number must be zero or possitive\")\n",
    "    \n",
    "    def inner_factorial(number):\n",
    "        if number<=1:\n",
    "            return 1\n",
    "        return number*inner_factorial(number-1)\n",
    "    return inner_factorial(number)\n",
    "try:\n",
    "    print(factorial(12))\n",
    "except Exception as ex:\n",
    "    print(ex)\n",
    "    "
   ]
  },
  {
   "cell_type": "code",
   "execution_count": null,
   "id": "90689390",
   "metadata": {},
   "outputs": [],
   "source": []
  }
 ],
 "metadata": {
  "kernelspec": {
   "display_name": "Python 3 (ipykernel)",
   "language": "python",
   "name": "python3"
  },
  "language_info": {
   "codemirror_mode": {
    "name": "ipython",
    "version": 3
   },
   "file_extension": ".py",
   "mimetype": "text/x-python",
   "name": "python",
   "nbconvert_exporter": "python",
   "pygments_lexer": "ipython3",
   "version": "3.9.12"
  }
 },
 "nbformat": 4,
 "nbformat_minor": 5
}
