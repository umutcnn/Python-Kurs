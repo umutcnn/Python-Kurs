{
 "cells": [
  {
   "cell_type": "code",
   "execution_count": 4,
   "id": "a12066e3",
   "metadata": {},
   "outputs": [
    {
     "name": "stdout",
     "output_type": "stream",
     "text": [
      "8\n",
      "81\n"
     ]
    }
   ],
   "source": [
    "def ustalma(number):\n",
    "    def inner(power):\n",
    "        return number ** power\n",
    "    return inner\n",
    "\n",
    "two=ustalma(2)\n",
    "print(two(3))\n",
    "there=ustalma(3)\n",
    "print(there(4))"
   ]
  },
  {
   "cell_type": "code",
   "execution_count": 11,
   "id": "01d3f870",
   "metadata": {},
   "outputs": [
    {
     "name": "stdout",
     "output_type": "stream",
     "text": [
      "admin rolunun product edit sayfasina ulasabilir.\n",
      "user rolu product edit sayfasina ulasamaz.\n"
     ]
    }
   ],
   "source": [
    "def yetki_sorgula(page):\n",
    "    def inner(role):\n",
    "        if role=='admin':\n",
    "            return \"{0} rolunun {1} sayfasina ulasabilir.\".format(role,page)\n",
    "        else:\n",
    "            return \"{0} rolu {1} sayfasina ulasamaz.\".format(role,page)\n",
    "    return inner\n",
    "user1=yetki_sorgula(\"product edit\")\n",
    "print(user1(\"admin\"))\n",
    "user2=yetki_sorgula(\"product edit\")\n",
    "print(user2(\"user\"))"
   ]
  },
  {
   "cell_type": "code",
   "execution_count": 15,
   "id": "6baaa5ed",
   "metadata": {},
   "outputs": [
    {
     "name": "stdout",
     "output_type": "stream",
     "text": [
      "111\n",
      "144\n"
     ]
    }
   ],
   "source": [
    "def islem(islem_adi):\n",
    "    def toplam(*args):\n",
    "        toplam=0\n",
    "        for i in args:\n",
    "            toplam+=i\n",
    "        return toplam\n",
    "    def carpma(*args):\n",
    "        carpim=1\n",
    "        for i in args:\n",
    "            carpim*=i\n",
    "        return carpim\n",
    "    if islem_adi == \"toplama\":\n",
    "        return toplam\n",
    "    else:\n",
    "        return carpma\n",
    "toplama=islem(\"toplama\")\n",
    "print(toplama(1,2,3,6,5,25,69))\n",
    "carpma=islem(\"carpma\")\n",
    "print(carpma(1,2,3,4,6))"
   ]
  },
  {
   "cell_type": "code",
   "execution_count": null,
   "id": "ab9023c7",
   "metadata": {},
   "outputs": [],
   "source": []
  }
 ],
 "metadata": {
  "kernelspec": {
   "display_name": "Python 3 (ipykernel)",
   "language": "python",
   "name": "python3"
  },
  "language_info": {
   "codemirror_mode": {
    "name": "ipython",
    "version": 3
   },
   "file_extension": ".py",
   "mimetype": "text/x-python",
   "name": "python",
   "nbconvert_exporter": "python",
   "pygments_lexer": "ipython3",
   "version": "3.9.12"
  }
 },
 "nbformat": 4,
 "nbformat_minor": 5
}
