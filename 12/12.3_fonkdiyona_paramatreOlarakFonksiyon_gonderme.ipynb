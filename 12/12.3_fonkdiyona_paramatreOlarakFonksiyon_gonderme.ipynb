{
 "cells": [
  {
   "cell_type": "code",
   "execution_count": 3,
   "id": "de956d87",
   "metadata": {},
   "outputs": [
    {
     "name": "stdout",
     "output_type": "stream",
     "text": [
      "9\n",
      "3\n",
      "18\n",
      "2.0\n"
     ]
    }
   ],
   "source": [
    "def toplama(a,b):\n",
    "    return a+b\n",
    "def cikarma(a,b):\n",
    "    return a-b\n",
    "def carpma(a,b):\n",
    "    return a*b\n",
    "def bolme(a,b):\n",
    "    return a/b\n",
    "\n",
    "def islem(f1,f2,f3,f4,islem_adi):\n",
    "    if islem_adi==\"toplama\":\n",
    "        print(f1(6,3))\n",
    "    elif islem_adi==\"cikarma\":\n",
    "        print(f2(6,3))\n",
    "    elif islem_adi==\"carpma\":\n",
    "        print(f3(6,3))\n",
    "    elif islem_adi==\"bolme\":\n",
    "        print(f4(6,3))\n",
    "    else:\n",
    "        print(\"gecersiz islem\")\n",
    "    \n",
    "islem(toplama,cikarma,carpma,bolme,\"toplama\")\n",
    "islem(toplama,cikarma,carpma,bolme,\"cikarma\")\n",
    "islem(toplama,cikarma,carpma,bolme,\"carpma\")\n",
    "islem(toplama,cikarma,carpma,bolme,\"bolme\")"
   ]
  },
  {
   "cell_type": "code",
   "execution_count": null,
   "id": "10b23cc4",
   "metadata": {},
   "outputs": [],
   "source": []
  }
 ],
 "metadata": {
  "kernelspec": {
   "display_name": "Python 3 (ipykernel)",
   "language": "python",
   "name": "python3"
  },
  "language_info": {
   "codemirror_mode": {
    "name": "ipython",
    "version": 3
   },
   "file_extension": ".py",
   "mimetype": "text/x-python",
   "name": "python",
   "nbconvert_exporter": "python",
   "pygments_lexer": "ipython3",
   "version": "3.9.12"
  }
 },
 "nbformat": 4,
 "nbformat_minor": 5
}
