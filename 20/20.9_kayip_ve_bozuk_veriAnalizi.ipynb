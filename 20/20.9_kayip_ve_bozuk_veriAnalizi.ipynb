{
 "cells": [
  {
   "cell_type": "code",
   "execution_count": 18,
   "id": "9cc315da",
   "metadata": {},
   "outputs": [
    {
     "name": "stdout",
     "output_type": "stream",
     "text": [
      "   column1  column2  column3  column4\n",
      "a     56.0     51.0     96.0      NaN\n",
      "b      NaN      NaN      NaN     30.0\n",
      "c     65.0     43.0     81.0      NaN\n",
      "d      NaN      NaN      NaN     51.0\n",
      "e     84.0     91.0     25.0      NaN\n",
      "f     46.0     24.0     19.0     30.0\n",
      "g      NaN      NaN      NaN      NaN\n",
      "h     64.0     73.0     46.0     10.0\n"
     ]
    }
   ],
   "source": [
    "import pandas as pd\n",
    "import numpy as np\n",
    "data=np.random.randint(10,100,15).reshape(5,3)\n",
    "df=pd.DataFrame(data,index=[\"a\",\"c\",\"e\",\"f\",\"h\"],columns=[\"column1\",\"column2\",\"column3\"])\n",
    "df=df.reindex([\"a\",\"b\",\"c\",\"d\",\"e\",\"f\",\"g\",\"h\"])\n",
    "newColumn=[np.nan,30,np.nan,51,np.nan,30,np.nan,10]\n",
    "df[\"column4\"]=newColumn\n",
    "result=df\n",
    "print(result)"
   ]
  },
  {
   "cell_type": "code",
   "execution_count": 12,
   "id": "1fa1f6c2",
   "metadata": {},
   "outputs": [
    {
     "name": "stdout",
     "output_type": "stream",
     "text": [
      "   column2  column3\n",
      "a     62.0     30.0\n",
      "b      NaN      NaN\n",
      "c     27.0     33.0\n",
      "d      NaN      NaN\n",
      "e     16.0     78.0\n",
      "f     68.0     24.0\n",
      "g      NaN      NaN\n",
      "h     20.0     48.0\n"
     ]
    }
   ],
   "source": [
    "result=df.drop(\"column1\",axis=1)#column1 sutununu sil\n",
    "print(result)\n"
   ]
  },
  {
   "cell_type": "code",
   "execution_count": 11,
   "id": "43bbd520",
   "metadata": {},
   "outputs": [
    {
     "name": "stdout",
     "output_type": "stream",
     "text": [
      "   column3\n",
      "a     30.0\n",
      "b      NaN\n",
      "c     33.0\n",
      "d      NaN\n",
      "e     78.0\n",
      "f     24.0\n",
      "g      NaN\n",
      "h     48.0\n"
     ]
    }
   ],
   "source": [
    "result=df.drop([\"column1\",\"column2\"],axis=1)#column1 ve column2 sutununu sil\n",
    "print(result)"
   ]
  },
  {
   "cell_type": "code",
   "execution_count": 13,
   "id": "76254a0b",
   "metadata": {},
   "outputs": [
    {
     "name": "stdout",
     "output_type": "stream",
     "text": [
      "   column1  column2  column3\n",
      "b      NaN      NaN      NaN\n",
      "c     63.0     27.0     33.0\n",
      "d      NaN      NaN      NaN\n",
      "e     90.0     16.0     78.0\n",
      "f     19.0     68.0     24.0\n",
      "g      NaN      NaN      NaN\n",
      "h     73.0     20.0     48.0\n"
     ]
    }
   ],
   "source": [
    "result=df.drop([\"a\"],axis=0)#a satırını sil satır olduğunu axis=0 olarak belirliyoruz\n",
    "print(result)"
   ]
  },
  {
   "cell_type": "code",
   "execution_count": 15,
   "id": "eaf1bdb1",
   "metadata": {},
   "outputs": [
    {
     "name": "stdout",
     "output_type": "stream",
     "text": [
      "   column1  column2  column3\n",
      "c     63.0     27.0     33.0\n",
      "d      NaN      NaN      NaN\n",
      "e     90.0     16.0     78.0\n",
      "f     19.0     68.0     24.0\n",
      "g      NaN      NaN      NaN\n"
     ]
    }
   ],
   "source": [
    "result=df.drop([\"a\",\"b\",\"h\"],axis=0)\n",
    "print(result)"
   ]
  },
  {
   "cell_type": "code",
   "execution_count": 20,
   "id": "1cc01b87",
   "metadata": {},
   "outputs": [
    {
     "name": "stdout",
     "output_type": "stream",
     "text": [
      "   column1  column2  column3  column4\n",
      "a    False    False    False     True\n",
      "b     True     True     True    False\n",
      "c    False    False    False     True\n",
      "d     True     True     True    False\n",
      "e    False    False    False     True\n",
      "f    False    False    False    False\n",
      "g     True     True     True     True\n",
      "h    False    False    False    False\n",
      "column1    3\n",
      "column2    3\n",
      "column3    3\n",
      "column4    4\n",
      "dtype: int64\n"
     ]
    }
   ],
   "source": [
    "result=df.isnull()\n",
    "print(result)\n",
    "result = df.isnull().sum()\n",
    "print(result)"
   ]
  },
  {
   "cell_type": "code",
   "execution_count": 21,
   "id": "0c6f6c66",
   "metadata": {},
   "outputs": [
    {
     "name": "stdout",
     "output_type": "stream",
     "text": [
      "3\n"
     ]
    }
   ],
   "source": [
    "result = df[\"column1\"].isnull().sum()\n",
    "print(result)"
   ]
  },
  {
   "cell_type": "code",
   "execution_count": 22,
   "id": "05aae1ab",
   "metadata": {},
   "outputs": [
    {
     "name": "stdout",
     "output_type": "stream",
     "text": [
      "   column1  column2  column3  column4\n",
      "a     56.0     51.0     96.0      NaN\n",
      "b      NaN      NaN      NaN     30.0\n",
      "c     65.0     43.0     81.0      NaN\n",
      "d      NaN      NaN      NaN     51.0\n",
      "e     84.0     91.0     25.0      NaN\n",
      "f     46.0     24.0     19.0     30.0\n",
      "g      NaN      NaN      NaN      NaN\n",
      "h     64.0     73.0     46.0     10.0\n"
     ]
    }
   ],
   "source": [
    "print(df)"
   ]
  },
  {
   "cell_type": "code",
   "execution_count": 24,
   "id": "ae7a2215",
   "metadata": {},
   "outputs": [
    {
     "name": "stdout",
     "output_type": "stream",
     "text": [
      "   column1  column2  column3  column4\n",
      "b      NaN      NaN      NaN     30.0\n",
      "d      NaN      NaN      NaN     51.0\n",
      "g      NaN      NaN      NaN      NaN\n"
     ]
    }
   ],
   "source": [
    "result = df[df[\"column1\"].isnull()]\n",
    "print(result)"
   ]
  },
  {
   "cell_type": "code",
   "execution_count": 25,
   "id": "b6e7c488",
   "metadata": {},
   "outputs": [
    {
     "name": "stdout",
     "output_type": "stream",
     "text": [
      "b   NaN\n",
      "d   NaN\n",
      "g   NaN\n",
      "Name: column1, dtype: float64\n"
     ]
    }
   ],
   "source": [
    "result = df[df[\"column1\"].isnull()][\"column1\"]\n",
    "print(result)"
   ]
  },
  {
   "cell_type": "code",
   "execution_count": 26,
   "id": "0529a6f2",
   "metadata": {},
   "outputs": [
    {
     "name": "stdout",
     "output_type": "stream",
     "text": [
      "a    56.0\n",
      "c    65.0\n",
      "e    84.0\n",
      "f    46.0\n",
      "h    64.0\n",
      "Name: column1, dtype: float64\n"
     ]
    }
   ],
   "source": [
    "result = df[df[\"column1\"].notnull()][\"column1\"]\n",
    "print(result)"
   ]
  },
  {
   "cell_type": "code",
   "execution_count": 28,
   "id": "11ae0002",
   "metadata": {},
   "outputs": [
    {
     "name": "stdout",
     "output_type": "stream",
     "text": [
      "a    56.0\n",
      "c    65.0\n",
      "e    84.0\n",
      "f    46.0\n",
      "h    64.0\n",
      "Name: column1, dtype: float64\n"
     ]
    }
   ],
   "source": [
    "result = df[df[\"column1\"].notnull()]\n",
    "print(result)"
   ]
  },
  {
   "cell_type": "code",
   "execution_count": 30,
   "id": "e84d1127",
   "metadata": {},
   "outputs": [
    {
     "name": "stdout",
     "output_type": "stream",
     "text": [
      "   column1  column2  column3  column4\n",
      "f     46.0     24.0     19.0     30.0\n",
      "h     64.0     73.0     46.0     10.0\n"
     ]
    }
   ],
   "source": [
    "result=df.dropna(axis=0)#satırları nan olanları sil\n",
    "print(result)"
   ]
  },
  {
   "cell_type": "code",
   "execution_count": 31,
   "id": "a28ce05c",
   "metadata": {},
   "outputs": [
    {
     "name": "stdout",
     "output_type": "stream",
     "text": [
      "Empty DataFrame\n",
      "Columns: []\n",
      "Index: [a, b, c, d, e, f, g, h]\n"
     ]
    }
   ],
   "source": [
    "result=df.dropna(axis=1)#sutunlari nan olanları sil\n",
    "print(result)"
   ]
  },
  {
   "cell_type": "code",
   "execution_count": 32,
   "id": "f98e84c8",
   "metadata": {},
   "outputs": [
    {
     "name": "stdout",
     "output_type": "stream",
     "text": [
      "   column1  column2  column3  column4\n",
      "f     46.0     24.0     19.0     30.0\n",
      "h     64.0     73.0     46.0     10.0\n"
     ]
    }
   ],
   "source": [
    "result=df.dropna(how=\"any\")#1 tanesi bile nansa satiri siler\n",
    "print(result)"
   ]
  },
  {
   "cell_type": "code",
   "execution_count": 34,
   "id": "f8db1b3d",
   "metadata": {},
   "outputs": [
    {
     "name": "stdout",
     "output_type": "stream",
     "text": [
      "   column1  column2  column3  column4\n",
      "a     56.0     51.0     96.0      NaN\n",
      "b      NaN      NaN      NaN     30.0\n",
      "c     65.0     43.0     81.0      NaN\n",
      "d      NaN      NaN      NaN     51.0\n",
      "e     84.0     91.0     25.0      NaN\n",
      "f     46.0     24.0     19.0     30.0\n",
      "h     64.0     73.0     46.0     10.0\n"
     ]
    }
   ],
   "source": [
    "result=df.dropna(how=\"all\")#tum satirlar nansa siler\n",
    "print(result)"
   ]
  },
  {
   "cell_type": "code",
   "execution_count": 37,
   "id": "e5b4a545",
   "metadata": {},
   "outputs": [
    {
     "name": "stdout",
     "output_type": "stream",
     "text": [
      "   column1  column2  column3  column4\n",
      "a     56.0     51.0     96.0      NaN\n",
      "c     65.0     43.0     81.0      NaN\n",
      "e     84.0     91.0     25.0      NaN\n",
      "f     46.0     24.0     19.0     30.0\n",
      "h     64.0     73.0     46.0     10.0\n"
     ]
    }
   ],
   "source": [
    "result=df.dropna(subset=[\"column1\",\"column2\"],how=\"all\")\n",
    "print(result)"
   ]
  },
  {
   "cell_type": "code",
   "execution_count": 38,
   "id": "8296ca9d",
   "metadata": {},
   "outputs": [
    {
     "name": "stdout",
     "output_type": "stream",
     "text": [
      "   column1  column2  column3  column4\n",
      "a     56.0     51.0     96.0      NaN\n",
      "c     65.0     43.0     81.0      NaN\n",
      "e     84.0     91.0     25.0      NaN\n",
      "f     46.0     24.0     19.0     30.0\n",
      "h     64.0     73.0     46.0     10.0\n"
     ]
    }
   ],
   "source": [
    "result=df.dropna(subset=[\"column1\",\"column2\"],how=\"any\")\n",
    "print(result)"
   ]
  },
  {
   "cell_type": "code",
   "execution_count": 40,
   "id": "6ebb407f",
   "metadata": {},
   "outputs": [
    {
     "name": "stdout",
     "output_type": "stream",
     "text": [
      "   column1  column2  column3  column4\n",
      "a     56.0     51.0     96.0      NaN\n",
      "b      NaN      NaN      NaN     30.0\n",
      "c     65.0     43.0     81.0      NaN\n",
      "d      NaN      NaN      NaN     51.0\n",
      "e     84.0     91.0     25.0      NaN\n",
      "f     46.0     24.0     19.0     30.0\n",
      "h     64.0     73.0     46.0     10.0\n"
     ]
    }
   ],
   "source": [
    "result=df.dropna(thresh=2)#en az 2 tane normal veri\n",
    "print(result)"
   ]
  },
  {
   "cell_type": "code",
   "execution_count": 41,
   "id": "d1bad75d",
   "metadata": {},
   "outputs": [
    {
     "name": "stdout",
     "output_type": "stream",
     "text": [
      "   column1  column2  column3  column4\n",
      "f     46.0     24.0     19.0     30.0\n",
      "h     64.0     73.0     46.0     10.0\n"
     ]
    }
   ],
   "source": [
    "result=df.dropna(thresh=4)#en az 4 tane normal veri\n",
    "print(result)"
   ]
  },
  {
   "cell_type": "code",
   "execution_count": 44,
   "id": "85d8a4ac",
   "metadata": {},
   "outputs": [
    {
     "name": "stdout",
     "output_type": "stream",
     "text": [
      "   column1  column2  column3  column4\n",
      "a     56.0     51.0     96.0      NaN\n",
      "c     65.0     43.0     81.0      NaN\n",
      "e     84.0     91.0     25.0      NaN\n",
      "f     46.0     24.0     19.0     30.0\n",
      "h     64.0     73.0     46.0     10.0\n"
     ]
    }
   ],
   "source": [
    "result=df.dropna(thresh=3)#en az 3 tane normal veri\n",
    "print(result)"
   ]
  },
  {
   "cell_type": "code",
   "execution_count": 45,
   "id": "e6cebc0f",
   "metadata": {},
   "outputs": [
    {
     "name": "stdout",
     "output_type": "stream",
     "text": [
      "    column1   column2   column3   column4\n",
      "a      56.0      51.0      96.0  no input\n",
      "b  no input  no input  no input      30.0\n",
      "c      65.0      43.0      81.0  no input\n",
      "d  no input  no input  no input      51.0\n",
      "e      84.0      91.0      25.0  no input\n",
      "f      46.0      24.0      19.0      30.0\n",
      "g  no input  no input  no input  no input\n",
      "h      64.0      73.0      46.0      10.0\n"
     ]
    }
   ],
   "source": [
    "result=df.fillna(value=\"no input\")#nan olan degerleri no input ile degistirdik\n",
    "print(result)"
   ]
  },
  {
   "cell_type": "code",
   "execution_count": 46,
   "id": "53903061",
   "metadata": {},
   "outputs": [
    {
     "name": "stdout",
     "output_type": "stream",
     "text": [
      "   column1  column2  column3  column4\n",
      "a     56.0     51.0     96.0      1.0\n",
      "b      1.0      1.0      1.0     30.0\n",
      "c     65.0     43.0     81.0      1.0\n",
      "d      1.0      1.0      1.0     51.0\n",
      "e     84.0     91.0     25.0      1.0\n",
      "f     46.0     24.0     19.0     30.0\n",
      "g      1.0      1.0      1.0      1.0\n",
      "h     64.0     73.0     46.0     10.0\n"
     ]
    }
   ],
   "source": [
    "result=df.fillna(value=1)#nan olan degerleri 1 ile degistirdik\n",
    "print(result)"
   ]
  },
  {
   "cell_type": "code",
   "execution_count": 47,
   "id": "e966e9e8",
   "metadata": {},
   "outputs": [
    {
     "name": "stdout",
     "output_type": "stream",
     "text": [
      "column1    315.0\n",
      "column2    282.0\n",
      "column3    267.0\n",
      "column4    121.0\n",
      "dtype: float64\n"
     ]
    }
   ],
   "source": [
    "result=df.sum()#kolonlarin toplami\n",
    "print(result)"
   ]
  },
  {
   "cell_type": "code",
   "execution_count": 48,
   "id": "a2fd11c6",
   "metadata": {},
   "outputs": [
    {
     "name": "stdout",
     "output_type": "stream",
     "text": [
      "985.0\n"
     ]
    }
   ],
   "source": [
    "result=df.sum().sum()#hepsinin toplamu\n",
    "print(result)"
   ]
  },
  {
   "cell_type": "code",
   "execution_count": 49,
   "id": "035bca1f",
   "metadata": {},
   "outputs": [
    {
     "name": "stdout",
     "output_type": "stream",
     "text": [
      "32\n"
     ]
    }
   ],
   "source": [
    "result=df.size#eleman sayisi toplamu\n",
    "print(result)"
   ]
  },
  {
   "cell_type": "code",
   "execution_count": 52,
   "id": "e1a598b8",
   "metadata": {},
   "outputs": [
    {
     "name": "stdout",
     "output_type": "stream",
     "text": [
      "column1    3\n",
      "column2    3\n",
      "column3    3\n",
      "column4    4\n",
      "dtype: int64\n"
     ]
    }
   ],
   "source": [
    "result=df.isnull().sum()#kolonlarin null eleman sayisi toplamu\n",
    "print(result)"
   ]
  },
  {
   "cell_type": "code",
   "execution_count": 53,
   "id": "e8baa415",
   "metadata": {},
   "outputs": [
    {
     "name": "stdout",
     "output_type": "stream",
     "text": [
      "13\n"
     ]
    }
   ],
   "source": [
    "result=df.isnull().sum().sum()#toplam null eleman sayisi toplamu\n",
    "print(result)"
   ]
  },
  {
   "cell_type": "code",
   "execution_count": 59,
   "id": "d16d9a55",
   "metadata": {},
   "outputs": [
    {
     "name": "stdout",
     "output_type": "stream",
     "text": [
      "     column1    column2    column3    column4\n",
      "a  56.000000  51.000000  96.000000  51.842105\n",
      "b  51.842105  51.842105  51.842105  30.000000\n",
      "c  65.000000  43.000000  81.000000  51.842105\n",
      "d  51.842105  51.842105  51.842105  51.000000\n",
      "e  84.000000  91.000000  25.000000  51.842105\n",
      "f  46.000000  24.000000  19.000000  30.000000\n",
      "g  51.842105  51.842105  51.842105  51.842105\n",
      "h  64.000000  73.000000  46.000000  10.000000\n"
     ]
    }
   ],
   "source": [
    "def ortalama(df):#null yazan yerlere ortalama yaz\n",
    "    toplam=df.sum().sum()\n",
    "    adet=df.size-df.isnull().sum().sum()\n",
    "    return toplam/adet\n",
    "result=df.fillna(value=ortalama(df))\n",
    "print(result)"
   ]
  },
  {
   "cell_type": "code",
   "execution_count": null,
   "id": "8e0823a5",
   "metadata": {},
   "outputs": [],
   "source": []
  }
 ],
 "metadata": {
  "kernelspec": {
   "display_name": "Python 3 (ipykernel)",
   "language": "python",
   "name": "python3"
  },
  "language_info": {
   "codemirror_mode": {
    "name": "ipython",
    "version": 3
   },
   "file_extension": ".py",
   "mimetype": "text/x-python",
   "name": "python",
   "nbconvert_exporter": "python",
   "pygments_lexer": "ipython3",
   "version": "3.9.12"
  }
 },
 "nbformat": 4,
 "nbformat_minor": 5
}
