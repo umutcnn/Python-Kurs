{
 "cells": [
  {
   "cell_type": "code",
   "execution_count": 4,
   "id": "8649d7f5",
   "metadata": {},
   "outputs": [
    {
     "name": "stdout",
     "output_type": "stream",
     "text": [
      "a    2.492781\n",
      "b   -1.326856\n",
      "c   -0.770304\n",
      "Name: column1, dtype: float64\n",
      "<class 'list'>\n"
     ]
    }
   ],
   "source": [
    "import pandas as pd\n",
    "from numpy.random import randn\n",
    "df=pd.DataFrame(randn(3,3),index=[\"a\",\"b\",\"c\"],columns=[\"column1\",\"column2\",\"column3\"])\n",
    "resul=df\n",
    "result=df[\"column1\"]\n",
    "print(result)\n",
    "result=type([\"column1\"])\n",
    "print(result)"
   ]
  },
  {
   "cell_type": "code",
   "execution_count": 6,
   "id": "a5909f94",
   "metadata": {},
   "outputs": [
    {
     "name": "stdout",
     "output_type": "stream",
     "text": [
      "    column1   column2\n",
      "a  2.492781  0.749776\n",
      "b -1.326856  1.082039\n",
      "c -0.770304  1.749224\n"
     ]
    }
   ],
   "source": [
    "result=df[[\"column1\",\"column2\"]]\n",
    "print(result)"
   ]
  },
  {
   "cell_type": "code",
   "execution_count": 8,
   "id": "69045581",
   "metadata": {},
   "outputs": [
    {
     "name": "stdout",
     "output_type": "stream",
     "text": [
      "column1    2.492781\n",
      "column2    0.749776\n",
      "column3    0.426660\n",
      "Name: a, dtype: float64\n",
      "<class 'pandas.core.series.Series'>\n"
     ]
    }
   ],
   "source": [
    "result=df.loc[\"a\"]\n",
    "print(result)\n",
    "result=type(df.loc[\"a\"])\n",
    "print(result)"
   ]
  },
  {
   "cell_type": "code",
   "execution_count": null,
   "id": "3bcac6d3",
   "metadata": {},
   "outputs": [],
   "source": [
    "#loc['row','column']=> loc[\"row\"] =>lod[\":\",\"column\"]"
   ]
  },
  {
   "cell_type": "code",
   "execution_count": 10,
   "id": "c3e97bbb",
   "metadata": {},
   "outputs": [
    {
     "name": "stdout",
     "output_type": "stream",
     "text": [
      "a    2.492781\n",
      "b   -1.326856\n",
      "c   -0.770304\n",
      "Name: column1, dtype: float64\n"
     ]
    }
   ],
   "source": [
    "result=df.loc[:,\"column1\"]\n",
    "print(result)"
   ]
  },
  {
   "cell_type": "code",
   "execution_count": 11,
   "id": "d84b2282",
   "metadata": {},
   "outputs": [
    {
     "name": "stdout",
     "output_type": "stream",
     "text": [
      "    column1   column2\n",
      "a  2.492781  0.749776\n",
      "b -1.326856  1.082039\n",
      "c -0.770304  1.749224\n"
     ]
    }
   ],
   "source": [
    "result=df.loc[:,[\"column1\",\"column2\"]]#sutunlara elleme sadece su kolonları getir\n",
    "print(result)"
   ]
  },
  {
   "cell_type": "code",
   "execution_count": 12,
   "id": "864fa580",
   "metadata": {},
   "outputs": [
    {
     "name": "stdout",
     "output_type": "stream",
     "text": [
      "    column1   column2   column3\n",
      "a  2.492781  0.749776  0.426660\n",
      "b -1.326856  1.082039  0.782942\n",
      "c -0.770304  1.749224  0.168523\n"
     ]
    }
   ],
   "source": [
    "result=df.loc[:,\"column1\":\"column3\"]#sutunlara elleme col1den basla col3 e kadar sırasıyla getir\n",
    "print(result)"
   ]
  },
  {
   "cell_type": "code",
   "execution_count": 13,
   "id": "0690e73b",
   "metadata": {},
   "outputs": [
    {
     "name": "stdout",
     "output_type": "stream",
     "text": [
      "    column1   column2\n",
      "a  2.492781  0.749776\n",
      "b -1.326856  1.082039\n",
      "c -0.770304  1.749224\n"
     ]
    }
   ],
   "source": [
    "result=df.loc[:,\"column1\":\"column2\"]\n",
    "print(result)"
   ]
  },
  {
   "cell_type": "code",
   "execution_count": 14,
   "id": "9de7c838",
   "metadata": {},
   "outputs": [
    {
     "name": "stdout",
     "output_type": "stream",
     "text": [
      "    column1   column2\n",
      "a  2.492781  0.749776\n",
      "b -1.326856  1.082039\n",
      "c -0.770304  1.749224\n"
     ]
    }
   ],
   "source": [
    "result=df.loc[:,:\"column2\"]\n",
    "print(result)"
   ]
  },
  {
   "cell_type": "code",
   "execution_count": 15,
   "id": "c01e1a71",
   "metadata": {},
   "outputs": [
    {
     "name": "stdout",
     "output_type": "stream",
     "text": [
      "    column1   column2\n",
      "a  2.492781  0.749776\n",
      "b -1.326856  1.082039\n"
     ]
    }
   ],
   "source": [
    "result=df.loc[\"a\":\"b\",\":\"column2\"]\n",
    "print(result)"
   ]
  },
  {
   "cell_type": "code",
   "execution_count": 16,
   "id": "351e4d32",
   "metadata": {},
   "outputs": [
    {
     "name": "stdout",
     "output_type": "stream",
     "text": [
      "    column1   column2\n",
      "a  2.492781  0.749776\n",
      "b -1.326856  1.082039\n"
     ]
    }
   ],
   "source": [
    "result=df.loc[:\"b\",:\"column2\"]\n",
    "print(result)"
   ]
  },
  {
   "cell_type": "code",
   "execution_count": null,
   "id": "1eb0ac21",
   "metadata": {},
   "outputs": [],
   "source": [
    "result=df.loc[\"a\":\"b\",:\"column2\"]\n",
    "print(result)"
   ]
  },
  {
   "cell_type": "code",
   "execution_count": 20,
   "id": "6502b502",
   "metadata": {},
   "outputs": [
    {
     "name": "stdout",
     "output_type": "stream",
     "text": [
      "column1   -0.770304\n",
      "column2    1.749224\n",
      "column3    0.168523\n",
      "Name: c, dtype: float64\n"
     ]
    }
   ],
   "source": [
    "result=df.iloc[2]#indexle de getirebiliriz\n",
    "print(result)"
   ]
  },
  {
   "cell_type": "code",
   "execution_count": 21,
   "id": "649590ab",
   "metadata": {},
   "outputs": [
    {
     "name": "stdout",
     "output_type": "stream",
     "text": [
      "0.7497764834429661\n"
     ]
    }
   ],
   "source": [
    "result=df.loc[\"a\",\"column2\"]#tek deger getirir\n",
    "print(result)"
   ]
  },
  {
   "cell_type": "code",
   "execution_count": 22,
   "id": "bfba51d7",
   "metadata": {},
   "outputs": [
    {
     "name": "stdout",
     "output_type": "stream",
     "text": [
      "-0.7703036755398515\n"
     ]
    }
   ],
   "source": [
    "result=df.loc[\"c\",\"column1\"]#tek deger getirir\n",
    "print(result)"
   ]
  },
  {
   "cell_type": "code",
   "execution_count": 23,
   "id": "631eaa32",
   "metadata": {},
   "outputs": [
    {
     "name": "stdout",
     "output_type": "stream",
     "text": [
      "a    2.492781\n",
      "c   -0.770304\n",
      "Name: column1, dtype: float64\n"
     ]
    }
   ],
   "source": [
    "result=df.loc[[\"a\",\"c\"],\"column1\"]\n",
    "print(result)"
   ]
  },
  {
   "cell_type": "code",
   "execution_count": 24,
   "id": "2d070c40",
   "metadata": {},
   "outputs": [
    {
     "name": "stdout",
     "output_type": "stream",
     "text": [
      "    column1   column2\n",
      "a  2.492781  0.749776\n",
      "c -0.770304  1.749224\n"
     ]
    }
   ],
   "source": [
    "result=df.loc[[\"a\",\"c\"],[\"column1\",\"column2\"]]\n",
    "print(result)"
   ]
  },
  {
   "cell_type": "code",
   "execution_count": 26,
   "id": "15524ac7",
   "metadata": {},
   "outputs": [
    {
     "name": "stdout",
     "output_type": "stream",
     "text": [
      "    column1   column2   column3   column4\n",
      "a  2.492781  0.749776  0.426660  0.005368\n",
      "b -1.326856  1.082039  0.782942 -0.139578\n",
      "c -0.770304  1.749224  0.168523  0.620196\n"
     ]
    }
   ],
   "source": [
    "df[\"column4\"]=pd.Series(randn(3),[\"a\",\"b\",\"c\"])\n",
    "print(df)"
   ]
  },
  {
   "cell_type": "code",
   "execution_count": 37,
   "id": "40f67cf8",
   "metadata": {},
   "outputs": [
    {
     "name": "stdout",
     "output_type": "stream",
     "text": [
      "    column1   column2   column3   column4   column5\n",
      "a  2.492781  0.749776  0.426660  0.005368  2.919441\n",
      "b -1.326856  1.082039  0.782942 -0.139578 -0.543914\n",
      "c -0.770304  1.749224  0.168523  0.620196 -0.601781\n"
     ]
    }
   ],
   "source": [
    "df[\"column5\"]=df[\"column1\"]+df[\"column3\"]\n",
    "print(df)"
   ]
  },
  {
   "cell_type": "code",
   "execution_count": 33,
   "id": "80128935",
   "metadata": {},
   "outputs": [
    {
     "name": "stdout",
     "output_type": "stream",
     "text": [
      "    column1   column2   column3   column4\n",
      "a  2.492781  0.749776  0.426660  0.005368\n",
      "b -1.326856  1.082039  0.782942 -0.139578\n",
      "c -0.770304  1.749224  0.168523  0.620196\n",
      "    column1   column2   column3   column4   column5\n",
      "a  2.492781  0.749776  0.426660  0.005368  2.919441\n",
      "b -1.326856  1.082039  0.782942 -0.139578 -0.543914\n",
      "c -0.770304  1.749224  0.168523  0.620196 -0.601781\n"
     ]
    }
   ],
   "source": [
    "print(df.drop(\"column5\",axis=1))#5. kolonu yukarıdan assagiya siler\n",
    "print(df)"
   ]
  },
  {
   "cell_type": "code",
   "execution_count": 38,
   "id": "0eb77e66",
   "metadata": {},
   "outputs": [
    {
     "name": "stdout",
     "output_type": "stream",
     "text": [
      "    column1   column2   column3   column4\n",
      "a  2.492781  0.749776  0.426660  0.005368\n",
      "b -1.326856  1.082039  0.782942 -0.139578\n",
      "c -0.770304  1.749224  0.168523  0.620196\n"
     ]
    }
   ],
   "source": [
    "(df.drop(\"column5\",axis=1,inplace=True))#inplace=True yazmadiğimiz surece anlik degisiklikler yapar\n",
    "\n",
    "print(df)"
   ]
  }
 ],
 "metadata": {
  "kernelspec": {
   "display_name": "Python 3 (ipykernel)",
   "language": "python",
   "name": "python3"
  },
  "language_info": {
   "codemirror_mode": {
    "name": "ipython",
    "version": 3
   },
   "file_extension": ".py",
   "mimetype": "text/x-python",
   "name": "python",
   "nbconvert_exporter": "python",
   "pygments_lexer": "ipython3",
   "version": "3.9.12"
  }
 },
 "nbformat": 4,
 "nbformat_minor": 5
}
