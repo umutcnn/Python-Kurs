{
 "cells": [
  {
   "cell_type": "code",
   "execution_count": 2,
   "id": "657c6e97",
   "metadata": {},
   "outputs": [],
   "source": [
    "import pandas as pd"
   ]
  },
  {
   "cell_type": "code",
   "execution_count": 5,
   "id": "c2145899",
   "metadata": {},
   "outputs": [],
   "source": [
    "df=pd.read_csv('imdb_top_1000.csv')#csv uzantili dosya okur\n"
   ]
  },
  {
   "cell_type": "code",
   "execution_count": 6,
   "id": "99e6ac5c",
   "metadata": {},
   "outputs": [
    {
     "name": "stdout",
     "output_type": "stream",
     "text": [
      "                                           Poster_Link  \\\n",
      "0    https://m.media-amazon.com/images/M/MV5BMDFkYT...   \n",
      "1    https://m.media-amazon.com/images/M/MV5BM2MyNj...   \n",
      "2    https://m.media-amazon.com/images/M/MV5BMTMxNT...   \n",
      "3    https://m.media-amazon.com/images/M/MV5BMWMwMG...   \n",
      "4    https://m.media-amazon.com/images/M/MV5BMWU4N2...   \n",
      "..                                                 ...   \n",
      "995  https://m.media-amazon.com/images/M/MV5BNGEwMT...   \n",
      "996  https://m.media-amazon.com/images/M/MV5BODk3Yj...   \n",
      "997  https://m.media-amazon.com/images/M/MV5BM2U3Yz...   \n",
      "998  https://m.media-amazon.com/images/M/MV5BZTBmMj...   \n",
      "999  https://m.media-amazon.com/images/M/MV5BMTY5OD...   \n",
      "\n",
      "                 Series_Title Released_Year Certificate  Runtime  \\\n",
      "0    The Shawshank Redemption          1994           A  142 min   \n",
      "1               The Godfather          1972           A  175 min   \n",
      "2             The Dark Knight          2008          UA  152 min   \n",
      "3      The Godfather: Part II          1974           A  202 min   \n",
      "4                12 Angry Men          1957           U   96 min   \n",
      "..                        ...           ...         ...      ...   \n",
      "995    Breakfast at Tiffany's          1961           A  115 min   \n",
      "996                     Giant          1956           G  201 min   \n",
      "997     From Here to Eternity          1953      Passed  118 min   \n",
      "998                  Lifeboat          1944         NaN   97 min   \n",
      "999              The 39 Steps          1935         NaN   86 min   \n",
      "\n",
      "                        Genre  IMDB_Rating  \\\n",
      "0                       Drama          9.3   \n",
      "1                Crime, Drama          9.2   \n",
      "2        Action, Crime, Drama          9.0   \n",
      "3                Crime, Drama          9.0   \n",
      "4                Crime, Drama          9.0   \n",
      "..                        ...          ...   \n",
      "995    Comedy, Drama, Romance          7.6   \n",
      "996            Drama, Western          7.6   \n",
      "997       Drama, Romance, War          7.6   \n",
      "998                Drama, War          7.6   \n",
      "999  Crime, Mystery, Thriller          7.6   \n",
      "\n",
      "                                              Overview  Meta_score  \\\n",
      "0    Two imprisoned men bond over a number of years...        80.0   \n",
      "1    An organized crime dynasty's aging patriarch t...       100.0   \n",
      "2    When the menace known as the Joker wreaks havo...        84.0   \n",
      "3    The early life and career of Vito Corleone in ...        90.0   \n",
      "4    A jury holdout attempts to prevent a miscarria...        96.0   \n",
      "..                                                 ...         ...   \n",
      "995  A young New York socialite becomes interested ...        76.0   \n",
      "996  Sprawling epic covering the life of a Texas ca...        84.0   \n",
      "997  In Hawaii in 1941, a private is cruelly punish...        85.0   \n",
      "998  Several survivors of a torpedoed merchant ship...        78.0   \n",
      "999  A man in London tries to help a counter-espion...        93.0   \n",
      "\n",
      "                 Director              Star1              Star2  \\\n",
      "0          Frank Darabont        Tim Robbins     Morgan Freeman   \n",
      "1    Francis Ford Coppola      Marlon Brando          Al Pacino   \n",
      "2       Christopher Nolan     Christian Bale       Heath Ledger   \n",
      "3    Francis Ford Coppola          Al Pacino     Robert De Niro   \n",
      "4            Sidney Lumet        Henry Fonda        Lee J. Cobb   \n",
      "..                    ...                ...                ...   \n",
      "995         Blake Edwards     Audrey Hepburn     George Peppard   \n",
      "996        George Stevens   Elizabeth Taylor        Rock Hudson   \n",
      "997        Fred Zinnemann     Burt Lancaster   Montgomery Clift   \n",
      "998      Alfred Hitchcock  Tallulah Bankhead        John Hodiak   \n",
      "999      Alfred Hitchcock       Robert Donat  Madeleine Carroll   \n",
      "\n",
      "              Star3           Star4  No_of_Votes        Gross  \n",
      "0        Bob Gunton  William Sadler      2343110   28,341,469  \n",
      "1        James Caan    Diane Keaton      1620367  134,966,411  \n",
      "2     Aaron Eckhart   Michael Caine      2303232  534,858,444  \n",
      "3     Robert Duvall    Diane Keaton      1129952   57,300,000  \n",
      "4     Martin Balsam    John Fiedler       689845    4,360,000  \n",
      "..              ...             ...          ...          ...  \n",
      "995   Patricia Neal     Buddy Ebsen       166544          NaN  \n",
      "996      James Dean   Carroll Baker        34075          NaN  \n",
      "997    Deborah Kerr      Donna Reed        43374   30,500,000  \n",
      "998   Walter Slezak  William Bendix        26471          NaN  \n",
      "999  Lucie Mannheim  Godfrey Tearle        51853          NaN  \n",
      "\n",
      "[1000 rows x 16 columns]\n"
     ]
    }
   ],
   "source": [
    "result=df\n",
    "print(result)"
   ]
  },
  {
   "cell_type": "code",
   "execution_count": 7,
   "id": "190ed53e",
   "metadata": {},
   "outputs": [
    {
     "name": "stdout",
     "output_type": "stream",
     "text": [
      "Index(['Poster_Link', 'Series_Title', 'Released_Year', 'Certificate',\n",
      "       'Runtime', 'Genre', 'IMDB_Rating', 'Overview', 'Meta_score', 'Director',\n",
      "       'Star1', 'Star2', 'Star3', 'Star4', 'No_of_Votes', 'Gross'],\n",
      "      dtype='object')\n"
     ]
    }
   ],
   "source": [
    "result=df.columns\n",
    "print(result)"
   ]
  },
  {
   "cell_type": "code",
   "execution_count": 8,
   "id": "767f38bb",
   "metadata": {},
   "outputs": [
    {
     "name": "stdout",
     "output_type": "stream",
     "text": [
      "<bound method DataFrame.info of                                            Poster_Link  \\\n",
      "0    https://m.media-amazon.com/images/M/MV5BMDFkYT...   \n",
      "1    https://m.media-amazon.com/images/M/MV5BM2MyNj...   \n",
      "2    https://m.media-amazon.com/images/M/MV5BMTMxNT...   \n",
      "3    https://m.media-amazon.com/images/M/MV5BMWMwMG...   \n",
      "4    https://m.media-amazon.com/images/M/MV5BMWU4N2...   \n",
      "..                                                 ...   \n",
      "995  https://m.media-amazon.com/images/M/MV5BNGEwMT...   \n",
      "996  https://m.media-amazon.com/images/M/MV5BODk3Yj...   \n",
      "997  https://m.media-amazon.com/images/M/MV5BM2U3Yz...   \n",
      "998  https://m.media-amazon.com/images/M/MV5BZTBmMj...   \n",
      "999  https://m.media-amazon.com/images/M/MV5BMTY5OD...   \n",
      "\n",
      "                 Series_Title Released_Year Certificate  Runtime  \\\n",
      "0    The Shawshank Redemption          1994           A  142 min   \n",
      "1               The Godfather          1972           A  175 min   \n",
      "2             The Dark Knight          2008          UA  152 min   \n",
      "3      The Godfather: Part II          1974           A  202 min   \n",
      "4                12 Angry Men          1957           U   96 min   \n",
      "..                        ...           ...         ...      ...   \n",
      "995    Breakfast at Tiffany's          1961           A  115 min   \n",
      "996                     Giant          1956           G  201 min   \n",
      "997     From Here to Eternity          1953      Passed  118 min   \n",
      "998                  Lifeboat          1944         NaN   97 min   \n",
      "999              The 39 Steps          1935         NaN   86 min   \n",
      "\n",
      "                        Genre  IMDB_Rating  \\\n",
      "0                       Drama          9.3   \n",
      "1                Crime, Drama          9.2   \n",
      "2        Action, Crime, Drama          9.0   \n",
      "3                Crime, Drama          9.0   \n",
      "4                Crime, Drama          9.0   \n",
      "..                        ...          ...   \n",
      "995    Comedy, Drama, Romance          7.6   \n",
      "996            Drama, Western          7.6   \n",
      "997       Drama, Romance, War          7.6   \n",
      "998                Drama, War          7.6   \n",
      "999  Crime, Mystery, Thriller          7.6   \n",
      "\n",
      "                                              Overview  Meta_score  \\\n",
      "0    Two imprisoned men bond over a number of years...        80.0   \n",
      "1    An organized crime dynasty's aging patriarch t...       100.0   \n",
      "2    When the menace known as the Joker wreaks havo...        84.0   \n",
      "3    The early life and career of Vito Corleone in ...        90.0   \n",
      "4    A jury holdout attempts to prevent a miscarria...        96.0   \n",
      "..                                                 ...         ...   \n",
      "995  A young New York socialite becomes interested ...        76.0   \n",
      "996  Sprawling epic covering the life of a Texas ca...        84.0   \n",
      "997  In Hawaii in 1941, a private is cruelly punish...        85.0   \n",
      "998  Several survivors of a torpedoed merchant ship...        78.0   \n",
      "999  A man in London tries to help a counter-espion...        93.0   \n",
      "\n",
      "                 Director              Star1              Star2  \\\n",
      "0          Frank Darabont        Tim Robbins     Morgan Freeman   \n",
      "1    Francis Ford Coppola      Marlon Brando          Al Pacino   \n",
      "2       Christopher Nolan     Christian Bale       Heath Ledger   \n",
      "3    Francis Ford Coppola          Al Pacino     Robert De Niro   \n",
      "4            Sidney Lumet        Henry Fonda        Lee J. Cobb   \n",
      "..                    ...                ...                ...   \n",
      "995         Blake Edwards     Audrey Hepburn     George Peppard   \n",
      "996        George Stevens   Elizabeth Taylor        Rock Hudson   \n",
      "997        Fred Zinnemann     Burt Lancaster   Montgomery Clift   \n",
      "998      Alfred Hitchcock  Tallulah Bankhead        John Hodiak   \n",
      "999      Alfred Hitchcock       Robert Donat  Madeleine Carroll   \n",
      "\n",
      "              Star3           Star4  No_of_Votes        Gross  \n",
      "0        Bob Gunton  William Sadler      2343110   28,341,469  \n",
      "1        James Caan    Diane Keaton      1620367  134,966,411  \n",
      "2     Aaron Eckhart   Michael Caine      2303232  534,858,444  \n",
      "3     Robert Duvall    Diane Keaton      1129952   57,300,000  \n",
      "4     Martin Balsam    John Fiedler       689845    4,360,000  \n",
      "..              ...             ...          ...          ...  \n",
      "995   Patricia Neal     Buddy Ebsen       166544          NaN  \n",
      "996      James Dean   Carroll Baker        34075          NaN  \n",
      "997    Deborah Kerr      Donna Reed        43374   30,500,000  \n",
      "998   Walter Slezak  William Bendix        26471          NaN  \n",
      "999  Lucie Mannheim  Godfrey Tearle        51853          NaN  \n",
      "\n",
      "[1000 rows x 16 columns]>\n"
     ]
    }
   ],
   "source": [
    "result=df.info\n",
    "print(result)"
   ]
  },
  {
   "cell_type": "code",
   "execution_count": 9,
   "id": "0456f8a2",
   "metadata": {},
   "outputs": [
    {
     "name": "stdout",
     "output_type": "stream",
     "text": [
      "                                         Poster_Link  \\\n",
      "0  https://m.media-amazon.com/images/M/MV5BMDFkYT...   \n",
      "1  https://m.media-amazon.com/images/M/MV5BM2MyNj...   \n",
      "2  https://m.media-amazon.com/images/M/MV5BMTMxNT...   \n",
      "3  https://m.media-amazon.com/images/M/MV5BMWMwMG...   \n",
      "4  https://m.media-amazon.com/images/M/MV5BMWU4N2...   \n",
      "\n",
      "               Series_Title Released_Year Certificate  Runtime  \\\n",
      "0  The Shawshank Redemption          1994           A  142 min   \n",
      "1             The Godfather          1972           A  175 min   \n",
      "2           The Dark Knight          2008          UA  152 min   \n",
      "3    The Godfather: Part II          1974           A  202 min   \n",
      "4              12 Angry Men          1957           U   96 min   \n",
      "\n",
      "                  Genre  IMDB_Rating  \\\n",
      "0                 Drama          9.3   \n",
      "1          Crime, Drama          9.2   \n",
      "2  Action, Crime, Drama          9.0   \n",
      "3          Crime, Drama          9.0   \n",
      "4          Crime, Drama          9.0   \n",
      "\n",
      "                                            Overview  Meta_score  \\\n",
      "0  Two imprisoned men bond over a number of years...        80.0   \n",
      "1  An organized crime dynasty's aging patriarch t...       100.0   \n",
      "2  When the menace known as the Joker wreaks havo...        84.0   \n",
      "3  The early life and career of Vito Corleone in ...        90.0   \n",
      "4  A jury holdout attempts to prevent a miscarria...        96.0   \n",
      "\n",
      "               Director           Star1           Star2          Star3  \\\n",
      "0        Frank Darabont     Tim Robbins  Morgan Freeman     Bob Gunton   \n",
      "1  Francis Ford Coppola   Marlon Brando       Al Pacino     James Caan   \n",
      "2     Christopher Nolan  Christian Bale    Heath Ledger  Aaron Eckhart   \n",
      "3  Francis Ford Coppola       Al Pacino  Robert De Niro  Robert Duvall   \n",
      "4          Sidney Lumet     Henry Fonda     Lee J. Cobb  Martin Balsam   \n",
      "\n",
      "            Star4  No_of_Votes        Gross  \n",
      "0  William Sadler      2343110   28,341,469  \n",
      "1    Diane Keaton      1620367  134,966,411  \n",
      "2   Michael Caine      2303232  534,858,444  \n",
      "3    Diane Keaton      1129952   57,300,000  \n",
      "4    John Fiedler       689845    4,360,000  \n"
     ]
    }
   ],
   "source": [
    "result=df.head()\n",
    "print(result)"
   ]
  },
  {
   "cell_type": "code",
   "execution_count": 10,
   "id": "26c2800c",
   "metadata": {},
   "outputs": [
    {
     "name": "stdout",
     "output_type": "stream",
     "text": [
      "                                         Poster_Link  \\\n",
      "0  https://m.media-amazon.com/images/M/MV5BMDFkYT...   \n",
      "1  https://m.media-amazon.com/images/M/MV5BM2MyNj...   \n",
      "2  https://m.media-amazon.com/images/M/MV5BMTMxNT...   \n",
      "3  https://m.media-amazon.com/images/M/MV5BMWMwMG...   \n",
      "4  https://m.media-amazon.com/images/M/MV5BMWU4N2...   \n",
      "5  https://m.media-amazon.com/images/M/MV5BNzA5ZD...   \n",
      "6  https://m.media-amazon.com/images/M/MV5BNGNhMD...   \n",
      "7  https://m.media-amazon.com/images/M/MV5BNDE4OT...   \n",
      "8  https://m.media-amazon.com/images/M/MV5BMjAxMz...   \n",
      "9  https://m.media-amazon.com/images/M/MV5BMmEzNT...   \n",
      "\n",
      "                                    Series_Title Released_Year Certificate  \\\n",
      "0                       The Shawshank Redemption          1994           A   \n",
      "1                                  The Godfather          1972           A   \n",
      "2                                The Dark Knight          2008          UA   \n",
      "3                         The Godfather: Part II          1974           A   \n",
      "4                                   12 Angry Men          1957           U   \n",
      "5  The Lord of the Rings: The Return of the King          2003           U   \n",
      "6                                   Pulp Fiction          1994           A   \n",
      "7                               Schindler's List          1993           A   \n",
      "8                                      Inception          2010          UA   \n",
      "9                                     Fight Club          1999           A   \n",
      "\n",
      "   Runtime                      Genre  IMDB_Rating  \\\n",
      "0  142 min                      Drama          9.3   \n",
      "1  175 min               Crime, Drama          9.2   \n",
      "2  152 min       Action, Crime, Drama          9.0   \n",
      "3  202 min               Crime, Drama          9.0   \n",
      "4   96 min               Crime, Drama          9.0   \n",
      "5  201 min   Action, Adventure, Drama          8.9   \n",
      "6  154 min               Crime, Drama          8.9   \n",
      "7  195 min  Biography, Drama, History          8.9   \n",
      "8  148 min  Action, Adventure, Sci-Fi          8.8   \n",
      "9  139 min                      Drama          8.8   \n",
      "\n",
      "                                            Overview  Meta_score  \\\n",
      "0  Two imprisoned men bond over a number of years...        80.0   \n",
      "1  An organized crime dynasty's aging patriarch t...       100.0   \n",
      "2  When the menace known as the Joker wreaks havo...        84.0   \n",
      "3  The early life and career of Vito Corleone in ...        90.0   \n",
      "4  A jury holdout attempts to prevent a miscarria...        96.0   \n",
      "5  Gandalf and Aragorn lead the World of Men agai...        94.0   \n",
      "6  The lives of two mob hitmen, a boxer, a gangst...        94.0   \n",
      "7  In German-occupied Poland during World War II,...        94.0   \n",
      "8  A thief who steals corporate secrets through t...        74.0   \n",
      "9  An insomniac office worker and a devil-may-car...        66.0   \n",
      "\n",
      "               Director              Star1                 Star2  \\\n",
      "0        Frank Darabont        Tim Robbins        Morgan Freeman   \n",
      "1  Francis Ford Coppola      Marlon Brando             Al Pacino   \n",
      "2     Christopher Nolan     Christian Bale          Heath Ledger   \n",
      "3  Francis Ford Coppola          Al Pacino        Robert De Niro   \n",
      "4          Sidney Lumet        Henry Fonda           Lee J. Cobb   \n",
      "5         Peter Jackson        Elijah Wood       Viggo Mortensen   \n",
      "6     Quentin Tarantino      John Travolta           Uma Thurman   \n",
      "7      Steven Spielberg        Liam Neeson         Ralph Fiennes   \n",
      "8     Christopher Nolan  Leonardo DiCaprio  Joseph Gordon-Levitt   \n",
      "9         David Fincher          Brad Pitt         Edward Norton   \n",
      "\n",
      "               Star3             Star4  No_of_Votes        Gross  \n",
      "0         Bob Gunton    William Sadler      2343110   28,341,469  \n",
      "1         James Caan      Diane Keaton      1620367  134,966,411  \n",
      "2      Aaron Eckhart     Michael Caine      2303232  534,858,444  \n",
      "3      Robert Duvall      Diane Keaton      1129952   57,300,000  \n",
      "4      Martin Balsam      John Fiedler       689845    4,360,000  \n",
      "5       Ian McKellen     Orlando Bloom      1642758  377,845,905  \n",
      "6  Samuel L. Jackson      Bruce Willis      1826188  107,928,762  \n",
      "7       Ben Kingsley  Caroline Goodall      1213505   96,898,818  \n",
      "8        Elliot Page      Ken Watanabe      2067042  292,576,195  \n",
      "9          Meat Loaf      Zach Grenier      1854740   37,030,102  \n"
     ]
    }
   ],
   "source": [
    "result=df.head(10)\n",
    "print(result)"
   ]
  },
  {
   "cell_type": "code",
   "execution_count": 11,
   "id": "5ae92967",
   "metadata": {},
   "outputs": [
    {
     "name": "stdout",
     "output_type": "stream",
     "text": [
      "                                           Poster_Link  \\\n",
      "995  https://m.media-amazon.com/images/M/MV5BNGEwMT...   \n",
      "996  https://m.media-amazon.com/images/M/MV5BODk3Yj...   \n",
      "997  https://m.media-amazon.com/images/M/MV5BM2U3Yz...   \n",
      "998  https://m.media-amazon.com/images/M/MV5BZTBmMj...   \n",
      "999  https://m.media-amazon.com/images/M/MV5BMTY5OD...   \n",
      "\n",
      "               Series_Title Released_Year Certificate  Runtime  \\\n",
      "995  Breakfast at Tiffany's          1961           A  115 min   \n",
      "996                   Giant          1956           G  201 min   \n",
      "997   From Here to Eternity          1953      Passed  118 min   \n",
      "998                Lifeboat          1944         NaN   97 min   \n",
      "999            The 39 Steps          1935         NaN   86 min   \n",
      "\n",
      "                        Genre  IMDB_Rating  \\\n",
      "995    Comedy, Drama, Romance          7.6   \n",
      "996            Drama, Western          7.6   \n",
      "997       Drama, Romance, War          7.6   \n",
      "998                Drama, War          7.6   \n",
      "999  Crime, Mystery, Thriller          7.6   \n",
      "\n",
      "                                              Overview  Meta_score  \\\n",
      "995  A young New York socialite becomes interested ...        76.0   \n",
      "996  Sprawling epic covering the life of a Texas ca...        84.0   \n",
      "997  In Hawaii in 1941, a private is cruelly punish...        85.0   \n",
      "998  Several survivors of a torpedoed merchant ship...        78.0   \n",
      "999  A man in London tries to help a counter-espion...        93.0   \n",
      "\n",
      "             Director              Star1              Star2           Star3  \\\n",
      "995     Blake Edwards     Audrey Hepburn     George Peppard   Patricia Neal   \n",
      "996    George Stevens   Elizabeth Taylor        Rock Hudson      James Dean   \n",
      "997    Fred Zinnemann     Burt Lancaster   Montgomery Clift    Deborah Kerr   \n",
      "998  Alfred Hitchcock  Tallulah Bankhead        John Hodiak   Walter Slezak   \n",
      "999  Alfred Hitchcock       Robert Donat  Madeleine Carroll  Lucie Mannheim   \n",
      "\n",
      "              Star4  No_of_Votes       Gross  \n",
      "995     Buddy Ebsen       166544         NaN  \n",
      "996   Carroll Baker        34075         NaN  \n",
      "997      Donna Reed        43374  30,500,000  \n",
      "998  William Bendix        26471         NaN  \n",
      "999  Godfrey Tearle        51853         NaN  \n"
     ]
    }
   ],
   "source": [
    "result=df.tail()\n",
    "print(result)"
   ]
  },
  {
   "cell_type": "code",
   "execution_count": 12,
   "id": "b82de2a9",
   "metadata": {},
   "outputs": [
    {
     "name": "stdout",
     "output_type": "stream",
     "text": [
      "                                           Poster_Link  \\\n",
      "990  https://m.media-amazon.com/images/M/MV5BYjRmY2...   \n",
      "991  https://m.media-amazon.com/images/M/MV5BMzAyND...   \n",
      "992  https://m.media-amazon.com/images/M/MV5BMjAwMT...   \n",
      "993  https://m.media-amazon.com/images/M/MV5BYTE4YW...   \n",
      "994  https://m.media-amazon.com/images/M/MV5BZjQyMG...   \n",
      "995  https://m.media-amazon.com/images/M/MV5BNGEwMT...   \n",
      "996  https://m.media-amazon.com/images/M/MV5BODk3Yj...   \n",
      "997  https://m.media-amazon.com/images/M/MV5BM2U3Yz...   \n",
      "998  https://m.media-amazon.com/images/M/MV5BZTBmMj...   \n",
      "999  https://m.media-amazon.com/images/M/MV5BMTY5OD...   \n",
      "\n",
      "               Series_Title Released_Year Certificate  Runtime  \\\n",
      "990            Giù la testa          1971          PG  157 min   \n",
      "991          Kelly's Heroes          1970          GP  144 min   \n",
      "992         The Jungle Book          1967           U   78 min   \n",
      "993                  Blowup          1966           A  111 min   \n",
      "994      A Hard Day's Night          1964           U   87 min   \n",
      "995  Breakfast at Tiffany's          1961           A  115 min   \n",
      "996                   Giant          1956           G  201 min   \n",
      "997   From Here to Eternity          1953      Passed  118 min   \n",
      "998                Lifeboat          1944         NaN   97 min   \n",
      "999            The 39 Steps          1935         NaN   86 min   \n",
      "\n",
      "                            Genre  IMDB_Rating  \\\n",
      "990           Drama, War, Western          7.6   \n",
      "991        Adventure, Comedy, War          7.6   \n",
      "992  Animation, Adventure, Family          7.6   \n",
      "993      Drama, Mystery, Thriller          7.6   \n",
      "994        Comedy, Music, Musical          7.6   \n",
      "995        Comedy, Drama, Romance          7.6   \n",
      "996                Drama, Western          7.6   \n",
      "997           Drama, Romance, War          7.6   \n",
      "998                    Drama, War          7.6   \n",
      "999      Crime, Mystery, Thriller          7.6   \n",
      "\n",
      "                                              Overview  Meta_score  \\\n",
      "990  A low-life bandit and an I.R.A. explosives exp...        77.0   \n",
      "991  A group of U.S. soldiers sneaks across enemy l...        50.0   \n",
      "992  Bagheera the Panther and Baloo the Bear have a...        65.0   \n",
      "993  A fashion photographer unknowingly captures a ...        82.0   \n",
      "994  Over two \"typical\" days in the life of The Bea...        96.0   \n",
      "995  A young New York socialite becomes interested ...        76.0   \n",
      "996  Sprawling epic covering the life of a Texas ca...        84.0   \n",
      "997  In Hawaii in 1941, a private is cruelly punish...        85.0   \n",
      "998  Several survivors of a torpedoed merchant ship...        78.0   \n",
      "999  A man in London tries to help a counter-espion...        93.0   \n",
      "\n",
      "                   Director              Star1              Star2  \\\n",
      "990            Sergio Leone        Rod Steiger       James Coburn   \n",
      "991         Brian G. Hutton     Clint Eastwood      Telly Savalas   \n",
      "992     Wolfgang Reitherman        Phil Harris    Sebastian Cabot   \n",
      "993  Michelangelo Antonioni     David Hemmings   Vanessa Redgrave   \n",
      "994          Richard Lester        John Lennon     Paul McCartney   \n",
      "995           Blake Edwards     Audrey Hepburn     George Peppard   \n",
      "996          George Stevens   Elizabeth Taylor        Rock Hudson   \n",
      "997          Fred Zinnemann     Burt Lancaster   Montgomery Clift   \n",
      "998        Alfred Hitchcock  Tallulah Bankhead        John Hodiak   \n",
      "999        Alfred Hitchcock       Robert Donat  Madeleine Carroll   \n",
      "\n",
      "               Star3             Star4  No_of_Votes        Gross  \n",
      "990     Romolo Valli       Maria Monti        30144      696,690  \n",
      "991      Don Rickles  Carroll O'Connor        45338    1,378,435  \n",
      "992      Louis Prima  Bruce Reitherman       166409  141,843,612  \n",
      "993      Sarah Miles       John Castle        56513          NaN  \n",
      "994  George Harrison       Ringo Starr        40351   13,780,024  \n",
      "995    Patricia Neal       Buddy Ebsen       166544          NaN  \n",
      "996       James Dean     Carroll Baker        34075          NaN  \n",
      "997     Deborah Kerr        Donna Reed        43374   30,500,000  \n",
      "998    Walter Slezak    William Bendix        26471          NaN  \n",
      "999   Lucie Mannheim    Godfrey Tearle        51853          NaN  \n"
     ]
    }
   ],
   "source": [
    "result=df.tail(10)\n",
    "print(result)"
   ]
  },
  {
   "cell_type": "code",
   "execution_count": 13,
   "id": "5003f0f3",
   "metadata": {},
   "outputs": [
    {
     "name": "stdout",
     "output_type": "stream",
     "text": [
      "0      https://m.media-amazon.com/images/M/MV5BMDFkYT...\n",
      "1      https://m.media-amazon.com/images/M/MV5BM2MyNj...\n",
      "2      https://m.media-amazon.com/images/M/MV5BMTMxNT...\n",
      "3      https://m.media-amazon.com/images/M/MV5BMWMwMG...\n",
      "4      https://m.media-amazon.com/images/M/MV5BMWU4N2...\n",
      "                             ...                        \n",
      "995    https://m.media-amazon.com/images/M/MV5BNGEwMT...\n",
      "996    https://m.media-amazon.com/images/M/MV5BODk3Yj...\n",
      "997    https://m.media-amazon.com/images/M/MV5BM2U3Yz...\n",
      "998    https://m.media-amazon.com/images/M/MV5BZTBmMj...\n",
      "999    https://m.media-amazon.com/images/M/MV5BMTY5OD...\n",
      "Name: Poster_Link, Length: 1000, dtype: object\n"
     ]
    }
   ],
   "source": [
    "result=df[\"Poster_Link\"]\n",
    "print(result)"
   ]
  },
  {
   "cell_type": "code",
   "execution_count": 14,
   "id": "bab76594",
   "metadata": {},
   "outputs": [
    {
     "name": "stdout",
     "output_type": "stream",
     "text": [
      "0    https://m.media-amazon.com/images/M/MV5BMDFkYT...\n",
      "1    https://m.media-amazon.com/images/M/MV5BM2MyNj...\n",
      "2    https://m.media-amazon.com/images/M/MV5BMTMxNT...\n",
      "3    https://m.media-amazon.com/images/M/MV5BMWMwMG...\n",
      "4    https://m.media-amazon.com/images/M/MV5BMWU4N2...\n",
      "Name: Poster_Link, dtype: object\n"
     ]
    }
   ],
   "source": [
    "result=df[\"Poster_Link\"].head()\n",
    "print(result)"
   ]
  },
  {
   "cell_type": "code",
   "execution_count": 16,
   "id": "43fc156e",
   "metadata": {},
   "outputs": [
    {
     "name": "stdout",
     "output_type": "stream",
     "text": [
      "                                         Poster_Link              Series_Title\n",
      "0  https://m.media-amazon.com/images/M/MV5BMDFkYT...  The Shawshank Redemption\n",
      "1  https://m.media-amazon.com/images/M/MV5BM2MyNj...             The Godfather\n",
      "2  https://m.media-amazon.com/images/M/MV5BMTMxNT...           The Dark Knight\n",
      "3  https://m.media-amazon.com/images/M/MV5BMWMwMG...    The Godfather: Part II\n",
      "4  https://m.media-amazon.com/images/M/MV5BMWU4N2...              12 Angry Men\n"
     ]
    }
   ],
   "source": [
    "result=df[[\"Poster_Link\",\"Series_Title\"]].head()\n",
    "print(result)"
   ]
  },
  {
   "cell_type": "code",
   "execution_count": 18,
   "id": "ea7653ef",
   "metadata": {},
   "outputs": [
    {
     "name": "stdout",
     "output_type": "stream",
     "text": [
      "                                           Poster_Link            Series_Title\n",
      "993  https://m.media-amazon.com/images/M/MV5BYTE4YW...                  Blowup\n",
      "994  https://m.media-amazon.com/images/M/MV5BZjQyMG...      A Hard Day's Night\n",
      "995  https://m.media-amazon.com/images/M/MV5BNGEwMT...  Breakfast at Tiffany's\n",
      "996  https://m.media-amazon.com/images/M/MV5BODk3Yj...                   Giant\n",
      "997  https://m.media-amazon.com/images/M/MV5BM2U3Yz...   From Here to Eternity\n",
      "998  https://m.media-amazon.com/images/M/MV5BZTBmMj...                Lifeboat\n",
      "999  https://m.media-amazon.com/images/M/MV5BMTY5OD...            The 39 Steps\n"
     ]
    }
   ],
   "source": [
    "result=df[[\"Poster_Link\",\"Series_Title\"]].tail(7)\n",
    "print(result)"
   ]
  },
  {
   "cell_type": "code",
   "execution_count": 23,
   "id": "21fa8638",
   "metadata": {},
   "outputs": [
    {
     "name": "stdout",
     "output_type": "stream",
     "text": [
      "                                         Poster_Link  \\\n",
      "5  https://m.media-amazon.com/images/M/MV5BNzA5ZD...   \n",
      "6  https://m.media-amazon.com/images/M/MV5BNGNhMD...   \n",
      "7  https://m.media-amazon.com/images/M/MV5BNDE4OT...   \n",
      "8  https://m.media-amazon.com/images/M/MV5BMjAxMz...   \n",
      "9  https://m.media-amazon.com/images/M/MV5BMmEzNT...   \n",
      "\n",
      "                                    Series_Title  \n",
      "5  The Lord of the Rings: The Return of the King  \n",
      "6                                   Pulp Fiction  \n",
      "7                               Schindler's List  \n",
      "8                                      Inception  \n",
      "9                                     Fight Club  \n"
     ]
    }
   ],
   "source": [
    "result=df[5:][[\"Poster_Link\",\"Series_Title\"]].head()\n",
    "print(result)"
   ]
  },
  {
   "cell_type": "code",
   "execution_count": 25,
   "id": "b6ce2755",
   "metadata": {},
   "outputs": [
    {
     "name": "stdout",
     "output_type": "stream",
     "text": [
      "                                          Poster_Link  \\\n",
      "5   https://m.media-amazon.com/images/M/MV5BNzA5ZD...   \n",
      "6   https://m.media-amazon.com/images/M/MV5BNGNhMD...   \n",
      "7   https://m.media-amazon.com/images/M/MV5BNDE4OT...   \n",
      "8   https://m.media-amazon.com/images/M/MV5BMjAxMz...   \n",
      "9   https://m.media-amazon.com/images/M/MV5BMmEzNT...   \n",
      "10  https://m.media-amazon.com/images/M/MV5BN2EyZj...   \n",
      "11  https://m.media-amazon.com/images/M/MV5BNWIwOD...   \n",
      "12  https://m.media-amazon.com/images/M/MV5BOTQ5ND...   \n",
      "13  https://m.media-amazon.com/images/M/MV5BZGMxZT...   \n",
      "14  https://m.media-amazon.com/images/M/MV5BNzQzOT...   \n",
      "\n",
      "                                         Series_Title  \n",
      "5       The Lord of the Rings: The Return of the King  \n",
      "6                                        Pulp Fiction  \n",
      "7                                    Schindler's List  \n",
      "8                                           Inception  \n",
      "9                                          Fight Club  \n",
      "10  The Lord of the Rings: The Fellowship of the Ring  \n",
      "11                                       Forrest Gump  \n",
      "12                    Il buono, il brutto, il cattivo  \n",
      "13              The Lord of the Rings: The Two Towers  \n",
      "14                                         The Matrix  \n"
     ]
    }
   ],
   "source": [
    "result=df[5:15][[\"Poster_Link\",\"Series_Title\"]]\n",
    "print(result)"
   ]
  },
  {
   "cell_type": "code",
   "execution_count": 30,
   "id": "58e790d0",
   "metadata": {},
   "outputs": [
    {
     "name": "stdout",
     "output_type": "stream",
     "text": [
      "                                          Poster_Link  IMDB_Rating\n",
      "0   https://m.media-amazon.com/images/M/MV5BMDFkYT...          9.3\n",
      "1   https://m.media-amazon.com/images/M/MV5BM2MyNj...          9.2\n",
      "2   https://m.media-amazon.com/images/M/MV5BMTMxNT...          9.0\n",
      "3   https://m.media-amazon.com/images/M/MV5BMWMwMG...          9.0\n",
      "4   https://m.media-amazon.com/images/M/MV5BMWU4N2...          9.0\n",
      "5   https://m.media-amazon.com/images/M/MV5BNzA5ZD...          8.9\n",
      "6   https://m.media-amazon.com/images/M/MV5BNGNhMD...          8.9\n",
      "7   https://m.media-amazon.com/images/M/MV5BNDE4OT...          8.9\n",
      "8   https://m.media-amazon.com/images/M/MV5BMjAxMz...          8.8\n",
      "9   https://m.media-amazon.com/images/M/MV5BMmEzNT...          8.8\n",
      "10  https://m.media-amazon.com/images/M/MV5BN2EyZj...          8.8\n",
      "11  https://m.media-amazon.com/images/M/MV5BNWIwOD...          8.8\n",
      "12  https://m.media-amazon.com/images/M/MV5BOTQ5ND...          8.8\n",
      "13  https://m.media-amazon.com/images/M/MV5BZGMxZT...          8.7\n",
      "14  https://m.media-amazon.com/images/M/MV5BNzQzOT...          8.7\n",
      "15  https://m.media-amazon.com/images/M/MV5BY2NkZj...          8.7\n",
      "16  https://m.media-amazon.com/images/M/MV5BYmU1ND...          8.7\n",
      "17  https://m.media-amazon.com/images/M/MV5BZjA0OW...          8.7\n",
      "18  https://m.media-amazon.com/images/M/MV5BNjViNW...          8.6\n",
      "19  https://m.media-amazon.com/images/M/MV5BYWZjMj...          8.6\n",
      "20  https://m.media-amazon.com/images/M/MV5BOTc2ZT...          8.6\n",
      "21  https://m.media-amazon.com/images/M/MV5BZjdkOT...          8.6\n",
      "22  https://m.media-amazon.com/images/M/MV5BOTMwYj...          8.6\n",
      "23  https://m.media-amazon.com/images/M/MV5BMjlmZm...          8.6\n",
      "24  https://m.media-amazon.com/images/M/MV5BZjhkMD...          8.6\n",
      "25  https://m.media-amazon.com/images/M/MV5BMTUxMz...          8.6\n",
      "26  https://m.media-amazon.com/images/M/MV5BYmJmM2...          8.6\n",
      "27  https://m.media-amazon.com/images/M/MV5BOTUwOD...          8.6\n",
      "28  https://m.media-amazon.com/images/M/MV5BNjNhZT...          8.6\n",
      "29  https://m.media-amazon.com/images/M/MV5BNzVlY2...          8.6\n",
      "30  https://m.media-amazon.com/images/M/MV5BYjBmYT...          8.6\n",
      "31  https://m.media-amazon.com/images/M/MV5BOWE4ZD...          8.6\n",
      "32  https://m.media-amazon.com/images/M/MV5BZjc4ND...          8.6\n",
      "33  https://m.media-amazon.com/images/M/MV5BNGVjNW...          8.5\n",
      "34  https://m.media-amazon.com/images/M/MV5BOTA5ND...          8.5\n",
      "35  https://m.media-amazon.com/images/M/MV5BMTYxND...          8.5\n",
      "36  https://m.media-amazon.com/images/M/MV5BMjA4ND...          8.5\n",
      "37  https://m.media-amazon.com/images/M/MV5BMTI1MT...          8.5\n",
      "38  https://m.media-amazon.com/images/M/MV5BOWRiZD...          8.5\n",
      "39  https://m.media-amazon.com/images/M/MV5BMDliMm...          8.5\n",
      "40  https://m.media-amazon.com/images/M/MV5BZjA0MT...          8.5\n",
      "41  https://m.media-amazon.com/images/M/MV5BYTViNj...          8.5\n",
      "42  https://m.media-amazon.com/images/M/MV5BODllNW...          8.5\n",
      "43  https://m.media-amazon.com/images/M/MV5BYTYxNG...          8.5\n",
      "44  https://m.media-amazon.com/images/M/MV5BMGU2Nz...          8.5\n",
      "45  https://m.media-amazon.com/images/M/MV5BM2FhYj...          8.5\n",
      "46  https://m.media-amazon.com/images/M/MV5BZmY2Nj...          8.5\n",
      "47  https://m.media-amazon.com/images/M/MV5BZmU0M2...          8.5\n",
      "48  https://m.media-amazon.com/images/M/MV5BZGI5Mj...          8.5\n",
      "49  https://m.media-amazon.com/images/M/MV5BNTQwND...          8.5\n"
     ]
    }
   ],
   "source": [
    "result=df[df[\"IMDB_Rating\"]>=8.0][[\"Poster_Link\",\"IMDB_Rating\"]].head(50)\n",
    "print(result)"
   ]
  },
  {
   "cell_type": "code",
   "execution_count": 53,
   "id": "41f888f5",
   "metadata": {},
   "outputs": [
    {
     "name": "stdout",
     "output_type": "stream",
     "text": [
      "                                           Poster_Link Released_Year\n",
      "133  https://m.media-amazon.com/images/M/MV5BMTYzOD...          2015\n",
      "136  https://m.media-amazon.com/images/M/MV5BYmJhZm...          2015\n",
      "181  https://m.media-amazon.com/images/M/MV5BZThiZj...          1961\n",
      "182  https://m.media-amazon.com/images/M/MV5BNDc2OD...          1961\n",
      "203  https://m.media-amazon.com/images/M/MV5BMjE4Nz...          2015\n",
      "213  https://m.media-amazon.com/images/M/MV5BOTgxMD...          2015\n",
      "218  https://m.media-amazon.com/images/M/MV5BMjIyOT...          2015\n",
      "223  https://m.media-amazon.com/images/M/MV5BN2EwM2...          2015\n",
      "325  https://m.media-amazon.com/images/M/MV5BMjE1Nj...          2015\n",
      "326  https://m.media-amazon.com/images/M/MV5BYTdhNj...          2015\n",
      "329  https://m.media-amazon.com/images/M/MV5BMTc2MT...          2015\n",
      "331  https://m.media-amazon.com/images/M/MV5BYWVlMj...          2015\n",
      "343  https://m.media-amazon.com/images/M/MV5BMDE5OW...          2015\n",
      "434  https://m.media-amazon.com/images/M/MV5BNjhjOD...          1961\n",
      "477  https://m.media-amazon.com/images/M/MV5BOTAzOD...          2015\n",
      "581  https://m.media-amazon.com/images/M/MV5BMjA0Mz...          2015\n",
      "584  https://m.media-amazon.com/images/M/MV5BMjA1MT...          2015\n",
      "600  https://m.media-amazon.com/images/M/MV5BNDc4MT...          2015\n",
      "606  https://m.media-amazon.com/images/M/MV5BMTA5Mz...          2015\n",
      "707  https://m.media-amazon.com/images/M/MV5BNGQyNj...          1961\n",
      "726  https://m.media-amazon.com/images/M/MV5BMjE0ND...          2015\n",
      "732  https://m.media-amazon.com/images/M/MV5BNTA1Nz...          2015\n",
      "741  https://m.media-amazon.com/images/M/MV5BNjg0OT...          2015\n",
      "747  https://m.media-amazon.com/images/M/MV5BMTYwMz...          2015\n",
      "885  https://m.media-amazon.com/images/M/MV5BMTc5Nz...          2015\n",
      "886  https://m.media-amazon.com/images/M/MV5BMTkwOD...          2015\n",
      "890  https://m.media-amazon.com/images/M/MV5BMjIxOT...          2015\n",
      "893  https://m.media-amazon.com/images/M/MV5BMjA5Nj...          2015\n",
      "894  https://m.media-amazon.com/images/M/MV5BNmZkYj...          2015\n",
      "995  https://m.media-amazon.com/images/M/MV5BNGEwMT...          1961\n"
     ]
    }
   ],
   "source": [
    "result=df[(df[\"Released_Year\"]=='1961') | (df[\"Released_Year\"]=='2015')][[\"Poster_Link\",\"Released_Year\"]]\n",
    "print(result)\n",
    "\n",
    "\n"
   ]
  },
  {
   "cell_type": "code",
   "execution_count": 59,
   "id": "f3f8d563",
   "metadata": {},
   "outputs": [
    {
     "name": "stdout",
     "output_type": "stream",
     "text": [
      "     No_of_Votes  IMDB_Rating\n",
      "0        2343110          9.3\n",
      "1        1620367          9.2\n",
      "2        2303232          9.0\n",
      "3        1129952          9.0\n",
      "4         689845          9.0\n",
      "..           ...          ...\n",
      "982       166588          7.6\n",
      "985       121731          7.6\n",
      "988       184966          7.6\n",
      "992       166409          7.6\n",
      "995       166544          7.6\n",
      "\n",
      "[751 rows x 2 columns]\n"
     ]
    }
   ],
   "source": [
    "result=df[(df[\"No_of_Votes\"]>100000) | ((df[\"IMDB_Rating\"]>=8) & (df[\"IMDB_Rating\"]<=9))][[\"No_of_Votes\",\"IMDB_Rating\"]]\n",
    "print(result)"
   ]
  },
  {
   "cell_type": "code",
   "execution_count": null,
   "id": "0291c3de",
   "metadata": {},
   "outputs": [],
   "source": []
  }
 ],
 "metadata": {
  "kernelspec": {
   "display_name": "Python 3 (ipykernel)",
   "language": "python",
   "name": "python3"
  },
  "language_info": {
   "codemirror_mode": {
    "name": "ipython",
    "version": 3
   },
   "file_extension": ".py",
   "mimetype": "text/x-python",
   "name": "python",
   "nbconvert_exporter": "python",
   "pygments_lexer": "ipython3",
   "version": "3.9.12"
  }
 },
 "nbformat": 4,
 "nbformat_minor": 5
}
