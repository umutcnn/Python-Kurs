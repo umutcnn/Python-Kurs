{
 "cells": [
  {
   "cell_type": "code",
   "execution_count": 4,
   "id": "dd42c7e2",
   "metadata": {},
   "outputs": [
    {
     "name": "stdout",
     "output_type": "stream",
     "text": [
      "   apples  oranges\n",
      "0       3        0\n",
      "1       2        3\n",
      "2       0        7\n",
      "3       1        2\n"
     ]
    }
   ],
   "source": [
    "import pandas as pd\n",
    "s1=pd.Series([3,2,0,1])\n",
    "s2=pd.Series([0,3,7,2])\n",
    "data=dict(apples=s1,oranges=s2)\n",
    "df=pd.DataFrame(data)\n",
    "print(df)"
   ]
  },
  {
   "cell_type": "code",
   "execution_count": 5,
   "id": "171b8a80",
   "metadata": {},
   "outputs": [
    {
     "name": "stdout",
     "output_type": "stream",
     "text": [
      "Empty DataFrame\n",
      "Columns: []\n",
      "Index: []\n"
     ]
    }
   ],
   "source": [
    "df=pd.DataFrame()\n",
    "print(df)"
   ]
  },
  {
   "cell_type": "code",
   "execution_count": 6,
   "id": "99ae9086",
   "metadata": {},
   "outputs": [
    {
     "name": "stdout",
     "output_type": "stream",
     "text": [
      "   0\n",
      "0  1\n",
      "1  2\n",
      "2  3\n",
      "3  4\n"
     ]
    }
   ],
   "source": [
    "df=pd.DataFrame([1,2,3,4])\n",
    "print(df)"
   ]
  },
  {
   "cell_type": "code",
   "execution_count": 7,
   "id": "a884ef41",
   "metadata": {},
   "outputs": [
    {
     "name": "stdout",
     "output_type": "stream",
     "text": [
      "       0   1\n",
      "0  ahmet  50\n",
      "1    ali  60\n",
      "2   ayşe  70\n",
      "3  ayhan  20\n"
     ]
    }
   ],
   "source": [
    "df=pd.DataFrame([[\"ahmet\",50],[\"ali\",60],[\"ayşe\",70],[\"ayhan\",20],])\n",
    "print(df)"
   ]
  },
  {
   "cell_type": "code",
   "execution_count": 11,
   "id": "fce77d67",
   "metadata": {},
   "outputs": [
    {
     "name": "stdout",
     "output_type": "stream",
     "text": [
      "    name  grande\n",
      "1  ahmet      50\n",
      "2    ali      60\n",
      "3   ayşe      70\n",
      "4  ayhan      20\n"
     ]
    }
   ],
   "source": [
    "data=[[\"ahmet\",50],[\"ali\",60],[\"ayşe\",70],[\"ayhan\",20]]\n",
    "df=pd.DataFrame(data, columns=['name','grande'],index=[1,2,3,4])\n",
    "print(df)"
   ]
  },
  {
   "cell_type": "code",
   "execution_count": 15,
   "id": "ebb5c231",
   "metadata": {},
   "outputs": [
    {
     "name": "stdout",
     "output_type": "stream",
     "text": [
      "    name  grande\n",
      "1  ahmet    50.0\n",
      "2    ali    60.0\n",
      "3   ayşe    70.0\n",
      "4  ayhan    20.0\n"
     ]
    },
    {
     "name": "stderr",
     "output_type": "stream",
     "text": [
      "C:\\Users\\UMUT\\AppData\\Local\\Temp\\ipykernel_17000\\1785154534.py:2: FutureWarning: Could not cast to float64, falling back to object. This behavior is deprecated. In a future version, when a dtype is passed to 'DataFrame', either all columns will be cast to that dtype, or a TypeError will be raised.\n",
      "  df=pd.DataFrame(data,index=[1,2,3,4], columns=['name','grande'],dtype=float)\n"
     ]
    }
   ],
   "source": [
    "data=[[\"ahmet\",50],[\"ali\",60],[\"ayşe\",70],[\"ayhan\",20]]\n",
    "df=pd.DataFrame(data,index=[1,2,3,4], columns=['name','grande'],dtype=float)\n",
    "print(df)"
   ]
  },
  {
   "cell_type": "code",
   "execution_count": 20,
   "id": "3d654c78",
   "metadata": {},
   "outputs": [
    {
     "name": "stdout",
     "output_type": "stream",
     "text": [
      "      name   not\n",
      "210  ahmet  50.0\n",
      "232    ali  60.0\n",
      "236   ayşe  70.0\n",
      "456  ayhan  20.0\n"
     ]
    },
    {
     "name": "stderr",
     "output_type": "stream",
     "text": [
      "C:\\Users\\UMUT\\AppData\\Local\\Temp\\ipykernel_17000\\882662723.py:3: FutureWarning: Could not cast to float64, falling back to object. This behavior is deprecated. In a future version, when a dtype is passed to 'DataFrame', either all columns will be cast to that dtype, or a TypeError will be raised.\n",
      "  df=pd.DataFrame(data,index=[\"210\",\"232\",\"236\",\"456\"], columns=['name','not'],dtype=float)\n"
     ]
    }
   ],
   "source": [
    "dict={\"name\":[\"ahmet\",\"ali\",\"ayşe\",\"ayhan\"],\n",
    "     \"not\":[50,60,70,20]}\n",
    "df=pd.DataFrame(data,index=[\"210\",\"232\",\"236\",\"456\"], columns=['name','not'],dtype=float)\n",
    "print(df)"
   ]
  },
  {
   "cell_type": "code",
   "execution_count": 31,
   "id": "ebf7d14a",
   "metadata": {},
   "outputs": [
    {
     "name": "stdout",
     "output_type": "stream",
     "text": [
      "    name  grande number\n",
      "0   umut      20    362\n",
      "1   ayse      30    123\n",
      "2    ali      40    321\n",
      "3    can      50    258\n",
      "4  ahmet      60    951\n",
      "5  derya      80    753\n"
     ]
    }
   ],
   "source": [
    "dict_list=[\n",
    "    {\"name\":\"umut\",\"grande\":20,\"number\":\"362\"},\n",
    "    {\"name\":\"ayse\",\"grande\":30,\"number\":\"123\"},\n",
    "    {\"name\":\"ali\",\"grande\":40,\"number\":\"321\"},\n",
    "    {\"name\":\"can\",\"grande\":50,\"number\":\"258\"},\n",
    "    {\"name\":\"ahmet\",\"grande\":60,\"number\":\"951\"},\n",
    "    {\"name\":\"derya\",\"grande\":80,\"number\":\"753\"}\n",
    "]\n",
    "df=pd.DataFrame(dict_list, columns=['name','grande',\"number\"])\n",
    "print(df)"
   ]
  },
  {
   "cell_type": "code",
   "execution_count": null,
   "id": "efea7b60",
   "metadata": {},
   "outputs": [],
   "source": []
  }
 ],
 "metadata": {
  "kernelspec": {
   "display_name": "Python 3 (ipykernel)",
   "language": "python",
   "name": "python3"
  },
  "language_info": {
   "codemirror_mode": {
    "name": "ipython",
    "version": 3
   },
   "file_extension": ".py",
   "mimetype": "text/x-python",
   "name": "python",
   "nbconvert_exporter": "python",
   "pygments_lexer": "ipython3",
   "version": "3.9.12"
  }
 },
 "nbformat": 4,
 "nbformat_minor": 5
}
