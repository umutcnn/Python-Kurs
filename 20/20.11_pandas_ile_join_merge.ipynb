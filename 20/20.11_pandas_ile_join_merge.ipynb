{
 "cells": [
  {
   "cell_type": "code",
   "execution_count": 18,
   "id": "2a0cef69",
   "metadata": {},
   "outputs": [
    {
     "name": "stdout",
     "output_type": "stream",
     "text": [
      "   costumerId firstName lastName\n",
      "0           1      umut   yıldız\n",
      "1           2       can  korkmaz\n",
      "2           3     hasan    celik\n",
      "3           4     canan   toprak\n",
      "   orderId  costumerId  orderDate\n",
      "0       10           1  210-07-04\n",
      "1       11           2  210-08-04\n",
      "2       12           5  210-09-04\n",
      "3       13           7  210-10-04\n"
     ]
    }
   ],
   "source": [
    "import pandas as pd\n",
    "costomers={\n",
    "    \"costumerId\":[1,2,3,4],\n",
    "    \"firstName\":[\"umut\",\"can\",\"hasan\",\"canan\"],\n",
    "    \"lastName\":[\"yıldız\",\"korkmaz\",\"celik\",\"toprak\"]\n",
    "}\n",
    "orders={\n",
    "    \"orderId\":[10,11,12,13],\n",
    "    \"costumerId\":[1,2,5,7],\n",
    "    \"orderDate\":[\"210-07-04\",\"210-08-04\",\"210-09-04\",\"210-10-04\"]\n",
    "}\n",
    "df_costumers=pd.DataFrame(costomers,columns=[\"costumerId\",\"firstName\",\"lastName\"])\n",
    "df_orders=pd.DataFrame(orders,columns=[\"orderId\",\"costumerId\",\"orderDate\"])\n",
    "print(df_costumers)\n",
    "print(df_orders)\n"
   ]
  },
  {
   "cell_type": "code",
   "execution_count": 21,
   "id": "a7c68b6a",
   "metadata": {},
   "outputs": [
    {
     "name": "stdout",
     "output_type": "stream",
     "text": [
      "   costumerId firstName lastName  orderId  orderDate\n",
      "0           1      umut   yıldız       10  210-07-04\n",
      "1           2       can  korkmaz       11  210-08-04\n"
     ]
    }
   ],
   "source": [
    "result=pd.merge(df_costumers,df_orders,how=\"inner\")\n",
    "print(result)"
   ]
  },
  {
   "cell_type": "code",
   "execution_count": 22,
   "id": "2c361f58",
   "metadata": {},
   "outputs": [
    {
     "name": "stdout",
     "output_type": "stream",
     "text": [
      "   costumerId firstName lastName  orderId  orderDate\n",
      "0           1      umut   yıldız     10.0  210-07-04\n",
      "1           2       can  korkmaz     11.0  210-08-04\n",
      "2           3     hasan    celik      NaN        NaN\n",
      "3           4     canan   toprak      NaN        NaN\n"
     ]
    }
   ],
   "source": [
    "result=pd.merge(df_costumers,df_orders,how=\"left\")\n",
    "print(result)"
   ]
  },
  {
   "cell_type": "code",
   "execution_count": 23,
   "id": "92fcc0da",
   "metadata": {},
   "outputs": [
    {
     "name": "stdout",
     "output_type": "stream",
     "text": [
      "   costumerId firstName lastName  orderId  orderDate\n",
      "0           1      umut   yıldız       10  210-07-04\n",
      "1           2       can  korkmaz       11  210-08-04\n",
      "2           5       NaN      NaN       12  210-09-04\n",
      "3           7       NaN      NaN       13  210-10-04\n"
     ]
    }
   ],
   "source": [
    "result=pd.merge(df_costumers,df_orders,how=\"right\")\n",
    "print(result)"
   ]
  },
  {
   "cell_type": "code",
   "execution_count": 28,
   "id": "c137efdb",
   "metadata": {},
   "outputs": [
    {
     "name": "stdout",
     "output_type": "stream",
     "text": [
      "   costumerId firstName lastName\n",
      "0           1      umut   yıldız\n",
      "1           2       can  korkmaz\n",
      "2           3     hasan    celik\n",
      "3           4     canan   toprak\n",
      "0           4    ceylan    bilge\n",
      "1           5    yagmur    celik\n",
      "2           6     cinar  korkmaz\n",
      "3           7    cengiz   yıldız\n",
      "   costumerId firstName lastName  costumerId firstName lastName\n",
      "0           1      umut   yıldız           4    ceylan    bilge\n",
      "1           2       can  korkmaz           5    yagmur    celik\n",
      "2           3     hasan    celik           6     cinar  korkmaz\n",
      "3           4     canan   toprak           7    cengiz   yıldız\n",
      "   costumerId firstName lastName\n",
      "0           1      umut   yıldız\n",
      "1           2       can  korkmaz\n",
      "2           3     hasan    celik\n",
      "3           4     canan   toprak\n",
      "4           4    ceylan    bilge\n",
      "5           5    yagmur    celik\n",
      "6           6     cinar  korkmaz\n",
      "7           7    cengiz   yıldız\n"
     ]
    }
   ],
   "source": [
    "costomersA={\n",
    "    \"costumerId\":[1,2,3,4],\n",
    "    \"firstName\":[\"umut\",\"can\",\"hasan\",\"canan\"],\n",
    "    \"lastName\":[\"yıldız\",\"korkmaz\",\"celik\",\"toprak\"]\n",
    "}\n",
    "costomersB={\n",
    "    \"costumerId\":[4,5,6,7],\n",
    "    \"firstName\":[\"ceylan\",\"yagmur\",\"cinar\",\"cengiz\"],\n",
    "    \"lastName\":[\"bilge\",\"celik\",\"korkmaz\",\"yıldız\"]\n",
    "}\n",
    "\n",
    "df_costumersA=pd.DataFrame(costomersA,columns=[\"costumerId\",\"firstName\",\"lastName\"])\n",
    "df_costumersB=pd.DataFrame(costomersB,columns=[\"costumerId\",\"firstName\",\"lastName\"])\n",
    "\n",
    "result=pd.concat([df_costumersA,df_costumersB])\n",
    "print(result)#ikisini birlestirir\n",
    "result=pd.concat([df_costumersA,df_costumersB],axis=1)\n",
    "print(result)#ikisini birlestirir\n",
    "\n",
    "result=pd.merge(df_costumersA,df_costumersB,how=\"outer\")\n",
    "print(result)"
   ]
  },
  {
   "cell_type": "code",
   "execution_count": null,
   "id": "d374b652",
   "metadata": {},
   "outputs": [],
   "source": []
  },
  {
   "cell_type": "code",
   "execution_count": null,
   "id": "2329aeee",
   "metadata": {},
   "outputs": [],
   "source": []
  }
 ],
 "metadata": {
  "kernelspec": {
   "display_name": "Python 3 (ipykernel)",
   "language": "python",
   "name": "python3"
  },
  "language_info": {
   "codemirror_mode": {
    "name": "ipython",
    "version": 3
   },
   "file_extension": ".py",
   "mimetype": "text/x-python",
   "name": "python",
   "nbconvert_exporter": "python",
   "pygments_lexer": "ipython3",
   "version": "3.9.12"
  }
 },
 "nbformat": 4,
 "nbformat_minor": 5
}
