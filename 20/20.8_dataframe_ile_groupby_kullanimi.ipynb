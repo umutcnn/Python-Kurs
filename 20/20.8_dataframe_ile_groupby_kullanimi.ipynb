{
 "cells": [
  {
   "cell_type": "code",
   "execution_count": 6,
   "id": "45605e97",
   "metadata": {},
   "outputs": [],
   "source": [
    "import pandas as pd\n",
    "\n"
   ]
  },
  {
   "cell_type": "code",
   "execution_count": 27,
   "id": "97f00c22",
   "metadata": {},
   "outputs": [
    {
     "name": "stdout",
     "output_type": "stream",
     "text": [
      "29250\n",
      "{'bilgi işlem': [1, 5], 'insan kaynakları': [0, 3, 6], 'muhasebe': [2, 4]}\n"
     ]
    }
   ],
   "source": [
    "personeller={\n",
    "    \"çalışan\":[\"ali\",\"umut\",\"ayşe\",\"can\",\"cenk\",\"rıza\",\"mustafa\"],\n",
    "    \"departman\":[\"insan kaynakları\",\"bilgi işlem\",\"muhasebe\",\"insan kaynakları\",\"muhasebe\",\"bilgi işlem\",\"insan kaynakları\" ],\n",
    "    \"yaş\":[30,25,45,50,23,34,42],\n",
    "    \"semt\":[\"kadikoy\",\"tuzla\",\"maltepe\",\"tuzla\",\"maltepe\",\"tuzla\",\"kadikoy\"],\n",
    "    \"maas\":[5000,3000,4000,3500,2750,6500,4500]  \n",
    "}\n",
    "df = pd.DataFrame(personeller)\n",
    "result=df\n",
    "result=df[\"maas\"].sum()\n",
    "print(result)\n",
    "result=df.groupby(\"departman\").groups\n",
    "print(result)"
   ]
  },
  {
   "cell_type": "code",
   "execution_count": 28,
   "id": "d714353a",
   "metadata": {},
   "outputs": [
    {
     "name": "stdout",
     "output_type": "stream",
     "text": [
      "{('bilgi işlem', 'tuzla'): [1, 5], ('insan kaynakları', 'kadikoy'): [0, 6], ('insan kaynakları', 'tuzla'): [3], ('muhasebe', 'maltepe'): [2, 4]}\n"
     ]
    }
   ],
   "source": [
    "result=df.groupby([\"departman\",\"semt\"]).groups\n",
    "print(result)"
   ]
  },
  {
   "cell_type": "code",
   "execution_count": 29,
   "id": "b5e36fa4",
   "metadata": {},
   "outputs": [
    {
     "name": "stdout",
     "output_type": "stream",
     "text": [
      "{'kadikoy': [0, 6], 'maltepe': [2, 4], 'tuzla': [1, 3, 5]}\n",
      "kadikoy\n",
      "   çalışan         departman  yaş     semt  maas\n",
      "0      ali  insan kaynakları   30  kadikoy  5000\n",
      "6  mustafa  insan kaynakları   42  kadikoy  4500\n",
      "maltepe\n",
      "  çalışan departman  yaş     semt  maas\n",
      "2    ayşe  muhasebe   45  maltepe  4000\n",
      "4    cenk  muhasebe   23  maltepe  2750\n",
      "tuzla\n",
      "  çalışan         departman  yaş   semt  maas\n",
      "1    umut       bilgi işlem   25  tuzla  3000\n",
      "3     can  insan kaynakları   50  tuzla  3500\n",
      "5    rıza       bilgi işlem   34  tuzla  6500\n"
     ]
    }
   ],
   "source": [
    "result=df.groupby([\"semt\"]).groups\n",
    "print(result)\n",
    "for name, group in df.groupby(\"semt\"):\n",
    "    print(name)\n",
    "    print(group)"
   ]
  },
  {
   "cell_type": "code",
   "execution_count": 30,
   "id": "40c36826",
   "metadata": {},
   "outputs": [
    {
     "name": "stdout",
     "output_type": "stream",
     "text": [
      "bilgi işlem\n",
      "  çalışan    departman  yaş   semt  maas\n",
      "1    umut  bilgi işlem   25  tuzla  3000\n",
      "5    rıza  bilgi işlem   34  tuzla  6500\n",
      "insan kaynakları\n",
      "   çalışan         departman  yaş     semt  maas\n",
      "0      ali  insan kaynakları   30  kadikoy  5000\n",
      "3      can  insan kaynakları   50    tuzla  3500\n",
      "6  mustafa  insan kaynakları   42  kadikoy  4500\n",
      "muhasebe\n",
      "  çalışan departman  yaş     semt  maas\n",
      "2    ayşe  muhasebe   45  maltepe  4000\n",
      "4    cenk  muhasebe   23  maltepe  2750\n"
     ]
    }
   ],
   "source": [
    "for name, group in df.groupby(\"departman\"):\n",
    "    print(name)\n",
    "    print(group)"
   ]
  },
  {
   "cell_type": "code",
   "execution_count": 31,
   "id": "3f61cccf",
   "metadata": {},
   "outputs": [
    {
     "name": "stdout",
     "output_type": "stream",
     "text": [
      "   çalışan         departman  yaş     semt  maas\n",
      "0      ali  insan kaynakları   30  kadikoy  5000\n",
      "6  mustafa  insan kaynakları   42  kadikoy  4500\n"
     ]
    }
   ],
   "source": [
    "result=df.groupby(\"semt\").get_group(\"kadikoy\")\n",
    "print(result)"
   ]
  },
  {
   "cell_type": "code",
   "execution_count": 32,
   "id": "6e0a3ddd",
   "metadata": {},
   "outputs": [
    {
     "name": "stdout",
     "output_type": "stream",
     "text": [
      "  çalışan departman  yaş     semt  maas\n",
      "2    ayşe  muhasebe   45  maltepe  4000\n",
      "4    cenk  muhasebe   23  maltepe  2750\n"
     ]
    }
   ],
   "source": [
    "result=df.groupby(\"departman\").get_group(\"muhasebe\")\n",
    "print(result)"
   ]
  },
  {
   "cell_type": "code",
   "execution_count": 33,
   "id": "9e3ba05f",
   "metadata": {},
   "outputs": [
    {
     "name": "stdout",
     "output_type": "stream",
     "text": [
      "   çalışan         departman  yaş     semt  maas\n",
      "0      ali  insan kaynakları   30  kadikoy  5000\n",
      "3      can  insan kaynakları   50    tuzla  3500\n",
      "6  mustafa  insan kaynakları   42  kadikoy  4500\n"
     ]
    }
   ],
   "source": [
    "result=df.groupby(\"departman\").get_group(\"insan kaynakları\")\n",
    "print(result)"
   ]
  },
  {
   "cell_type": "code",
   "execution_count": 36,
   "id": "934c48f3",
   "metadata": {},
   "outputs": [
    {
     "name": "stdout",
     "output_type": "stream",
     "text": [
      "                  yaş   maas\n",
      "departman                   \n",
      "bilgi işlem        59   9500\n",
      "insan kaynakları  122  13000\n",
      "muhasebe           68   6750\n"
     ]
    }
   ],
   "source": [
    "result=df.groupby(\"departman\").sum()#topla\n",
    "print(result)"
   ]
  },
  {
   "cell_type": "code",
   "execution_count": 41,
   "id": "585b1e96",
   "metadata": {},
   "outputs": [
    {
     "name": "stdout",
     "output_type": "stream",
     "text": [
      "                        yaş         maas\n",
      "departman                               \n",
      "bilgi işlem       29.500000  4750.000000\n",
      "insan kaynakları  40.666667  4333.333333\n",
      "muhasebe          34.000000  3375.000000\n"
     ]
    }
   ],
   "source": [
    "result=df.groupby(\"departman\").mean()#ortalama bul\n",
    "print(result)"
   ]
  },
  {
   "cell_type": "code",
   "execution_count": 38,
   "id": "2c1616bb",
   "metadata": {},
   "outputs": [
    {
     "name": "stdout",
     "output_type": "stream",
     "text": [
      "departman\n",
      "bilgi işlem         4750.000000\n",
      "insan kaynakları    4333.333333\n",
      "muhasebe            3375.000000\n",
      "Name: maas, dtype: float64\n"
     ]
    }
   ],
   "source": [
    "result=df.groupby(\"departman\")[\"maas\"].mean()\n",
    "print(result)"
   ]
  },
  {
   "cell_type": "code",
   "execution_count": 40,
   "id": "207d98c8",
   "metadata": {},
   "outputs": [
    {
     "name": "stdout",
     "output_type": "stream",
     "text": [
      "semt\n",
      "kadikoy    36.000000\n",
      "maltepe    34.000000\n",
      "tuzla      36.333333\n",
      "Name: yaş, dtype: float64\n"
     ]
    }
   ],
   "source": [
    "result=df.groupby(\"semt\")[\"yaş\"].mean()\n",
    "print(result)"
   ]
  },
  {
   "cell_type": "code",
   "execution_count": 42,
   "id": "f9ab0060",
   "metadata": {},
   "outputs": [
    {
     "name": "stdout",
     "output_type": "stream",
     "text": [
      "semt\n",
      "kadikoy    4750.000000\n",
      "maltepe    3375.000000\n",
      "tuzla      4333.333333\n",
      "Name: maas, dtype: float64\n"
     ]
    }
   ],
   "source": [
    "result=df.groupby(\"semt\")[\"maas\"].mean()\n",
    "print(result)"
   ]
  },
  {
   "cell_type": "code",
   "execution_count": 44,
   "id": "7374558b",
   "metadata": {},
   "outputs": [
    {
     "name": "stdout",
     "output_type": "stream",
     "text": [
      "semt\n",
      "kadikoy    2\n",
      "maltepe    2\n",
      "tuzla      3\n",
      "Name: çalışan, dtype: int64\n"
     ]
    }
   ],
   "source": [
    "result=df.groupby(\"semt\")[\"çalışan\"].count()\n",
    "print(result)"
   ]
  },
  {
   "cell_type": "code",
   "execution_count": 45,
   "id": "943759cf",
   "metadata": {},
   "outputs": [
    {
     "name": "stdout",
     "output_type": "stream",
     "text": [
      "departman\n",
      "bilgi işlem         34\n",
      "insan kaynakları    50\n",
      "muhasebe            45\n",
      "Name: yaş, dtype: int64\n"
     ]
    }
   ],
   "source": [
    "result=df.groupby(\"departman\")[\"yaş\"].max()\n",
    "print(result)"
   ]
  },
  {
   "cell_type": "code",
   "execution_count": 46,
   "id": "2465a4e4",
   "metadata": {},
   "outputs": [
    {
     "name": "stdout",
     "output_type": "stream",
     "text": [
      "departman\n",
      "bilgi işlem         6500\n",
      "insan kaynakları    5000\n",
      "muhasebe            4000\n",
      "Name: maas, dtype: int64\n"
     ]
    }
   ],
   "source": [
    "result=df.groupby(\"departman\")[\"maas\"].max()\n",
    "print(result)"
   ]
  },
  {
   "cell_type": "code",
   "execution_count": 47,
   "id": "f0af9b06",
   "metadata": {},
   "outputs": [
    {
     "name": "stdout",
     "output_type": "stream",
     "text": [
      "departman\n",
      "bilgi işlem         3000\n",
      "insan kaynakları    3500\n",
      "muhasebe            2750\n",
      "Name: maas, dtype: int64\n"
     ]
    }
   ],
   "source": [
    "result=df.groupby(\"departman\")[\"maas\"].min()\n",
    "print(result)"
   ]
  },
  {
   "cell_type": "code",
   "execution_count": 48,
   "id": "3b54893c",
   "metadata": {},
   "outputs": [
    {
     "name": "stdout",
     "output_type": "stream",
     "text": [
      "4000\n"
     ]
    }
   ],
   "source": [
    "result=df.groupby(\"departman\")[\"maas\"].max()[\"muhasebe\"]\n",
    "print(result)"
   ]
  },
  {
   "cell_type": "code",
   "execution_count": 50,
   "id": "ac16c010",
   "metadata": {},
   "outputs": [
    {
     "name": "stdout",
     "output_type": "stream",
     "text": [
      "                        yaş         maas\n",
      "departman                               \n",
      "bilgi işlem       29.500000  4750.000000\n",
      "insan kaynakları  40.666667  4333.333333\n",
      "muhasebe          34.000000  3375.000000\n"
     ]
    }
   ],
   "source": [
    "import numpy as np\n",
    "result=df.groupby(\"departman\").agg(np.mean)\n",
    "print(result)"
   ]
  },
  {
   "cell_type": "code",
   "execution_count": 52,
   "id": "82bc6a39",
   "metadata": {},
   "outputs": [
    {
     "name": "stdout",
     "output_type": "stream",
     "text": [
      "                    sum         mean  amax  amin\n",
      "departman                                       \n",
      "bilgi işlem        9500  4750.000000  6500  3000\n",
      "insan kaynakları  13000  4333.333333  5000  3500\n",
      "muhasebe           6750  3375.000000  4000  2750\n"
     ]
    }
   ],
   "source": [
    "result=df.groupby(\"departman\")[\"maas\"].agg([np.sum,np.mean,np.max,np.min])\n",
    "print(result)"
   ]
  },
  {
   "cell_type": "code",
   "execution_count": null,
   "id": "837006c7",
   "metadata": {},
   "outputs": [],
   "source": []
  }
 ],
 "metadata": {
  "kernelspec": {
   "display_name": "Python 3 (ipykernel)",
   "language": "python",
   "name": "python3"
  },
  "language_info": {
   "codemirror_mode": {
    "name": "ipython",
    "version": 3
   },
   "file_extension": ".py",
   "mimetype": "text/x-python",
   "name": "python",
   "nbconvert_exporter": "python",
   "pygments_lexer": "ipython3",
   "version": "3.9.12"
  }
 },
 "nbformat": 4,
 "nbformat_minor": 5
}
