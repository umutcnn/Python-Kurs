{
 "cells": [
  {
   "cell_type": "code",
   "execution_count": 1,
   "id": "757430ed",
   "metadata": {},
   "outputs": [],
   "source": [
    "import pandas as pd\n",
    "import numpy as np"
   ]
  },
  {
   "cell_type": "code",
   "execution_count": 4,
   "id": "8589389b",
   "metadata": {},
   "outputs": [
    {
     "name": "stdout",
     "output_type": "stream",
     "text": [
      "[[61 20 74 89 28]\n",
      " [69 87 35 58 66]\n",
      " [69 32 28 82 88]\n",
      " [63 70 70 28 90]\n",
      " [65 23 22 48 72]\n",
      " [91 41 56 26 43]\n",
      " [23 52 96 24 21]\n",
      " [45 54 18 18 83]\n",
      " [10 47 93 86 32]\n",
      " [95 39 27 56 61]\n",
      " [13 14 44 72 21]\n",
      " [68 77 50 99 84]\n",
      " [34 53 75 61 18]\n",
      " [40 70 31 95 33]\n",
      " [29 73 80 66 49]]\n"
     ]
    }
   ],
   "source": [
    "data=np.random.randint(10,100,75).reshape(15,5)\n",
    "print(data)"
   ]
  },
  {
   "cell_type": "code",
   "execution_count": 8,
   "id": "c3ba7872",
   "metadata": {},
   "outputs": [
    {
     "name": "stdout",
     "output_type": "stream",
     "text": [
      "    column1  column2  column3  column4  column5\n",
      "0        91       24       71       42       44\n",
      "1        57       16       93       47       62\n",
      "2        44       75       10       52       32\n",
      "3        47       58       18       21       26\n",
      "4        54       21       91       43       91\n",
      "5        97       60       85       27       89\n",
      "6        49       68       43       54       94\n",
      "7        44       59       64       56       75\n",
      "8        62       25       16       78       22\n",
      "9        61       28       61       60       85\n",
      "10       65       90       71       95       84\n",
      "11       59       80       47       73       79\n",
      "12       13       82       77       23       35\n",
      "13       62       97       24       67       23\n",
      "14       83       26       69       27       34\n"
     ]
    }
   ],
   "source": [
    "df=pd.DataFrame(data,columns=[\"column1\",\"column2\",\"column3\",\"column4\",\"column5\"])\n",
    "result=df\n",
    "print(result)"
   ]
  },
  {
   "cell_type": "code",
   "execution_count": 10,
   "id": "2a7c32a2",
   "metadata": {},
   "outputs": [
    {
     "name": "stdout",
     "output_type": "stream",
     "text": [
      "Index(['column1', 'column2', 'column3', 'column4', 'column5'], dtype='object')\n"
     ]
    }
   ],
   "source": [
    "result=df.columns\n",
    "print(result)"
   ]
  },
  {
   "cell_type": "code",
   "execution_count": 13,
   "id": "1a410ed3",
   "metadata": {},
   "outputs": [
    {
     "name": "stdout",
     "output_type": "stream",
     "text": [
      "   column1  column2  column3  column4  column5\n",
      "0       91       24       71       42       44\n",
      "1       57       16       93       47       62\n",
      "2       44       75       10       52       32\n",
      "3       47       58       18       21       26\n",
      "4       54       21       91       43       91\n"
     ]
    }
   ],
   "source": [
    "result=df.head(5)#baştan bes kayit\n",
    "print(result)"
   ]
  },
  {
   "cell_type": "code",
   "execution_count": 14,
   "id": "94fe4975",
   "metadata": {},
   "outputs": [
    {
     "name": "stdout",
     "output_type": "stream",
     "text": [
      "   column1  column2  column3  column4  column5\n",
      "0       91       24       71       42       44\n",
      "1       57       16       93       47       62\n",
      "2       44       75       10       52       32\n",
      "3       47       58       18       21       26\n",
      "4       54       21       91       43       91\n",
      "5       97       60       85       27       89\n",
      "6       49       68       43       54       94\n",
      "7       44       59       64       56       75\n",
      "8       62       25       16       78       22\n",
      "9       61       28       61       60       85\n"
     ]
    }
   ],
   "source": [
    "result=df.head(10)\n",
    "print(result)"
   ]
  },
  {
   "cell_type": "code",
   "execution_count": 15,
   "id": "aeca2768",
   "metadata": {},
   "outputs": [
    {
     "name": "stdout",
     "output_type": "stream",
     "text": [
      "    column1  column2  column3  column4  column5\n",
      "10       65       90       71       95       84\n",
      "11       59       80       47       73       79\n",
      "12       13       82       77       23       35\n",
      "13       62       97       24       67       23\n",
      "14       83       26       69       27       34\n"
     ]
    }
   ],
   "source": [
    "result=df.tail(5)#sondan bes kayit\n",
    "print(result)"
   ]
  },
  {
   "cell_type": "code",
   "execution_count": 19,
   "id": "3b53bb85",
   "metadata": {},
   "outputs": [
    {
     "name": "stdout",
     "output_type": "stream",
     "text": [
      "0    91\n",
      "1    57\n",
      "2    44\n",
      "3    47\n",
      "4    54\n",
      "Name: column1, dtype: int32\n"
     ]
    }
   ],
   "source": [
    "result=df[\"column1\"].head()#column1 in bastan 5 verisini getir\n",
    "print(result)"
   ]
  },
  {
   "cell_type": "code",
   "execution_count": 20,
   "id": "d59d3e5b",
   "metadata": {},
   "outputs": [
    {
     "name": "stdout",
     "output_type": "stream",
     "text": [
      "0    91\n",
      "1    57\n",
      "2    44\n",
      "3    47\n",
      "4    54\n",
      "Name: column1, dtype: int32\n"
     ]
    }
   ],
   "source": [
    "result=df.column1.head()#column1 in bastan 5 verisini getir\n",
    "print(result)"
   ]
  },
  {
   "cell_type": "code",
   "execution_count": 25,
   "id": "98b6a02c",
   "metadata": {},
   "outputs": [
    {
     "name": "stdout",
     "output_type": "stream",
     "text": [
      "   column1  column2\n",
      "0       91       24\n",
      "1       57       16\n",
      "2       44       75\n",
      "3       47       58\n",
      "4       54       21\n"
     ]
    }
   ],
   "source": [
    "result=df[[\"column1\",\"column2\"]].head(5)#column1 ve column2 nin bastan 5 verisini getir\n",
    "print(result)"
   ]
  },
  {
   "cell_type": "code",
   "execution_count": null,
   "id": "9386b1c2",
   "metadata": {},
   "outputs": [],
   "source": [
    "result=df[[\"column1\",\"column2\"]].tail(5)#column1 in bastan 5 verisini getir\n",
    "print(result)"
   ]
  },
  {
   "cell_type": "code",
   "execution_count": 33,
   "id": "ff24b2cf",
   "metadata": {},
   "outputs": [
    {
     "name": "stdout",
     "output_type": "stream",
     "text": [
      "   column1  column2\n",
      "5       97       60\n",
      "6       49       68\n",
      "7       44       59\n",
      "8       62       25\n",
      "9       61       28\n"
     ]
    }
   ],
   "source": [
    "result=df[5:15][[\"column1\",\"column2\"]].head()\n",
    "print(result)"
   ]
  },
  {
   "cell_type": "code",
   "execution_count": 32,
   "id": "b8ec4293",
   "metadata": {},
   "outputs": [
    {
     "name": "stdout",
     "output_type": "stream",
     "text": [
      "    column1  column2\n",
      "10       65       90\n",
      "11       59       80\n",
      "12       13       82\n",
      "13       62       97\n",
      "14       83       26\n"
     ]
    }
   ],
   "source": [
    "result=df[5:15][[\"column1\",\"column2\"]].tail()\n",
    "print(result)"
   ]
  },
  {
   "cell_type": "code",
   "execution_count": 35,
   "id": "cf10b29a",
   "metadata": {},
   "outputs": [
    {
     "name": "stdout",
     "output_type": "stream",
     "text": [
      "    column1  column2  column3  column4  column5\n",
      "0      True    False     True    False    False\n",
      "1      True    False     True    False     True\n",
      "2     False     True    False     True    False\n",
      "3     False     True    False    False    False\n",
      "4      True    False     True    False     True\n",
      "5      True     True     True    False     True\n",
      "6     False     True    False     True     True\n",
      "7     False     True     True     True     True\n",
      "8      True    False    False     True    False\n",
      "9      True    False     True     True     True\n",
      "10     True     True     True     True     True\n",
      "11     True     True    False     True     True\n",
      "12    False     True     True    False    False\n",
      "13     True     True    False     True    False\n",
      "14     True    False     True    False    False\n"
     ]
    }
   ],
   "source": [
    "result=df>50\n",
    "print(result)"
   ]
  },
  {
   "cell_type": "code",
   "execution_count": 36,
   "id": "8cffef2c",
   "metadata": {},
   "outputs": [
    {
     "name": "stdout",
     "output_type": "stream",
     "text": [
      "    column1  column2  column3  column4  column5\n",
      "0      91.0      NaN     71.0      NaN      NaN\n",
      "1      57.0      NaN     93.0      NaN     62.0\n",
      "2       NaN     75.0      NaN     52.0      NaN\n",
      "3       NaN     58.0      NaN      NaN      NaN\n",
      "4      54.0      NaN     91.0      NaN     91.0\n",
      "5      97.0     60.0     85.0      NaN     89.0\n",
      "6       NaN     68.0      NaN     54.0     94.0\n",
      "7       NaN     59.0     64.0     56.0     75.0\n",
      "8      62.0      NaN      NaN     78.0      NaN\n",
      "9      61.0      NaN     61.0     60.0     85.0\n",
      "10     65.0     90.0     71.0     95.0     84.0\n",
      "11     59.0     80.0      NaN     73.0     79.0\n",
      "12      NaN     82.0     77.0      NaN      NaN\n",
      "13     62.0     97.0      NaN     67.0      NaN\n",
      "14     83.0      NaN     69.0      NaN      NaN\n"
     ]
    }
   ],
   "source": [
    "result=df[df>50]\n",
    "print(result)"
   ]
  },
  {
   "cell_type": "code",
   "execution_count": 37,
   "id": "556317ac",
   "metadata": {},
   "outputs": [
    {
     "name": "stdout",
     "output_type": "stream",
     "text": [
      "    column1  column2  column3  column4  column5\n",
      "0       NaN     24.0      NaN     42.0     44.0\n",
      "1       NaN     16.0      NaN      NaN     62.0\n",
      "2      44.0      NaN     10.0     52.0     32.0\n",
      "3       NaN     58.0     18.0      NaN     26.0\n",
      "4      54.0      NaN      NaN      NaN      NaN\n",
      "5       NaN     60.0      NaN      NaN      NaN\n",
      "6       NaN     68.0      NaN     54.0     94.0\n",
      "7      44.0      NaN     64.0     56.0      NaN\n",
      "8      62.0      NaN     16.0     78.0     22.0\n",
      "9       NaN     28.0      NaN     60.0      NaN\n",
      "10      NaN     90.0      NaN      NaN     84.0\n",
      "11      NaN     80.0      NaN      NaN      NaN\n",
      "12      NaN     82.0      NaN      NaN      NaN\n",
      "13     62.0      NaN     24.0      NaN      NaN\n",
      "14      NaN     26.0      NaN      NaN     34.0\n"
     ]
    }
   ],
   "source": [
    "result=df[df%2==0]\n",
    "print(result)"
   ]
  },
  {
   "cell_type": "code",
   "execution_count": 43,
   "id": "582d24e9",
   "metadata": {},
   "outputs": [
    {
     "name": "stdout",
     "output_type": "stream",
     "text": [
      "    column1\n",
      "0        91\n",
      "1        57\n",
      "4        54\n",
      "5        97\n",
      "8        62\n",
      "9        61\n",
      "10       65\n",
      "11       59\n",
      "13       62\n",
      "14       83\n"
     ]
    }
   ],
   "source": [
    "result=df[df[\"column1\"]>50][[\"column1\"]]# column1 içerisinden 50 den buyuk gelen sayilari listele\n",
    "print(result)"
   ]
  },
  {
   "cell_type": "code",
   "execution_count": 45,
   "id": "546435f4",
   "metadata": {},
   "outputs": [
    {
     "name": "stdout",
     "output_type": "stream",
     "text": [
      "    column1\n",
      "1        57\n",
      "4        54\n",
      "8        62\n",
      "9        61\n",
      "10       65\n",
      "11       59\n",
      "13       62\n"
     ]
    }
   ],
   "source": [
    "result=df[(df[\"column1\"]>50) & (df[\"column1\"]<70)][[\"column1\"]]# column1 içerisinden 50 den buyuk ve 70 ten kücük gelen sayilari listele\n",
    "print(result)"
   ]
  },
  {
   "cell_type": "code",
   "execution_count": 46,
   "id": "fcda2e26",
   "metadata": {},
   "outputs": [
    {
     "name": "stdout",
     "output_type": "stream",
     "text": [
      "    column1  column2\n",
      "0        91       24\n",
      "1        57       16\n",
      "4        54       21\n",
      "5        97       60\n",
      "8        62       25\n",
      "9        61       28\n",
      "14       83       26\n"
     ]
    }
   ],
   "source": [
    "result=df[(df[\"column1\"]>50) & (df[\"column2\"]<70)][[\"column1\",\"column2\"]]\n",
    "print(result)"
   ]
  },
  {
   "cell_type": "code",
   "execution_count": 47,
   "id": "14f8439e",
   "metadata": {},
   "outputs": [
    {
     "name": "stdout",
     "output_type": "stream",
     "text": [
      "    column1  column2\n",
      "0        91       24\n",
      "1        57       16\n",
      "3        47       58\n",
      "4        54       21\n",
      "5        97       60\n",
      "6        49       68\n",
      "7        44       59\n",
      "8        62       25\n",
      "9        61       28\n",
      "10       65       90\n",
      "11       59       80\n",
      "13       62       97\n",
      "14       83       26\n"
     ]
    }
   ],
   "source": [
    "result=df[(df[\"column1\"]>50) | (df[\"column2\"]<70)][[\"column1\",\"column2\"]] #veya koşulu\n",
    "print(result)"
   ]
  },
  {
   "cell_type": "code",
   "execution_count": 48,
   "id": "1df4f3c3",
   "metadata": {},
   "outputs": [
    {
     "name": "stdout",
     "output_type": "stream",
     "text": [
      "    column1  column2\n",
      "0        91       24\n",
      "1        57       16\n",
      "2        44       75\n",
      "3        47       58\n",
      "4        54       21\n",
      "5        97       60\n",
      "6        49       68\n",
      "7        44       59\n",
      "8        62       25\n",
      "9        61       28\n",
      "10       65       90\n",
      "11       59       80\n",
      "12       13       82\n",
      "13       62       97\n",
      "14       83       26\n"
     ]
    }
   ],
   "source": [
    "result=df[(df[\"column1\"]>50) | (df[\"column2\"]>50)][[\"column1\",\"column2\"]] #veya koşulu\n",
    "print(result)"
   ]
  },
  {
   "cell_type": "code",
   "execution_count": 50,
   "id": "c78449e4",
   "metadata": {},
   "outputs": [
    {
     "name": "stdout",
     "output_type": "stream",
     "text": [
      "    column1\n",
      "4        54\n",
      "8        62\n",
      "13       62\n"
     ]
    }
   ],
   "source": [
    "result=df.query(\"column1>=50&column1%2==0\")\n",
    "print(result)"
   ]
  },
  {
   "cell_type": "code",
   "execution_count": null,
   "id": "75166917",
   "metadata": {},
   "outputs": [],
   "source": [
    "result=df.query(\"column1>=50&column1%2==0\")[[\"column1\"]]\n",
    "print(result)"
   ]
  },
  {
   "cell_type": "code",
   "execution_count": 51,
   "id": "d8b9dc03",
   "metadata": {},
   "outputs": [
    {
     "name": "stdout",
     "output_type": "stream",
     "text": [
      "    column1\n",
      "0        91\n",
      "1        57\n",
      "2        44\n",
      "4        54\n",
      "5        97\n",
      "7        44\n",
      "8        62\n",
      "9        61\n",
      "10       65\n",
      "11       59\n",
      "13       62\n",
      "14       83\n"
     ]
    }
   ],
   "source": [
    "result=df.query(\"column1>=50|column1%2==0\")[[\"column1\"]]\n",
    "print(result)"
   ]
  },
  {
   "cell_type": "code",
   "execution_count": null,
   "id": "d7465741",
   "metadata": {},
   "outputs": [],
   "source": []
  },
  {
   "cell_type": "code",
   "execution_count": null,
   "id": "3612e252",
   "metadata": {},
   "outputs": [],
   "source": []
  },
  {
   "cell_type": "code",
   "execution_count": null,
   "id": "d459ca2d",
   "metadata": {},
   "outputs": [],
   "source": []
  }
 ],
 "metadata": {
  "kernelspec": {
   "display_name": "Python 3 (ipykernel)",
   "language": "python",
   "name": "python3"
  },
  "language_info": {
   "codemirror_mode": {
    "name": "ipython",
    "version": 3
   },
   "file_extension": ".py",
   "mimetype": "text/x-python",
   "name": "python",
   "nbconvert_exporter": "python",
   "pygments_lexer": "ipython3",
   "version": "3.9.12"
  }
 },
 "nbformat": 4,
 "nbformat_minor": 5
}
