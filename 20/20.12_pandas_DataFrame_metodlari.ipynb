{
 "cells": [
  {
   "cell_type": "code",
   "execution_count": 23,
   "id": "8800fa33",
   "metadata": {},
   "outputs": [
    {
     "name": "stdout",
     "output_type": "stream",
     "text": [
      "   column1  column2 column3\n",
      "0        1       10     abc\n",
      "1        2       20    bcaa\n",
      "2        3       13     ade\n",
      "3        4       20      cb\n",
      "4        5       25     dea\n"
     ]
    }
   ],
   "source": [
    "import pandas as pd\n",
    "import numpy as np\n",
    "data={\n",
    "    \"column1\":[1,2,3,4,5],\n",
    "    \"column2\":[10,20,13,20,25],\n",
    "    \"column3\":[\"abc\",\"bcaa\",\"ade\",\"cb\",\"dea\"]\n",
    "    \n",
    "}\n",
    "\n",
    "df=pd.DataFrame(data)\n",
    "result=df\n",
    "print(result)"
   ]
  },
  {
   "cell_type": "code",
   "execution_count": 4,
   "id": "a78f6685",
   "metadata": {},
   "outputs": [
    {
     "name": "stdout",
     "output_type": "stream",
     "text": [
      "[10 20 13 25]\n"
     ]
    }
   ],
   "source": [
    "result=df[\"column2\"].unique()#tekrarlamayan degerleri karsimiza getirir\n",
    "print(result)"
   ]
  },
  {
   "cell_type": "code",
   "execution_count": 5,
   "id": "cd45cbed",
   "metadata": {},
   "outputs": [
    {
     "name": "stdout",
     "output_type": "stream",
     "text": [
      "4\n"
     ]
    }
   ],
   "source": [
    "result=df[\"column2\"].nunique()#tekrerlananları çıkardıktan sonra kac tane kalır\n",
    "print(result)"
   ]
  },
  {
   "cell_type": "code",
   "execution_count": 11,
   "id": "82505ed8",
   "metadata": {},
   "outputs": [
    {
     "name": "stdout",
     "output_type": "stream",
     "text": [
      "20    2\n",
      "10    1\n",
      "13    1\n",
      "25    1\n",
      "Name: column2, dtype: int64\n"
     ]
    }
   ],
   "source": [
    "result=df[\"column2\"].value_counts()#elemanlardan kac tane oldugunu listeler\n",
    "print(result)"
   ]
  },
  {
   "cell_type": "code",
   "execution_count": 12,
   "id": "9dc13d85",
   "metadata": {},
   "outputs": [
    {
     "name": "stdout",
     "output_type": "stream",
     "text": [
      "0     2\n",
      "1     4\n",
      "2     6\n",
      "3     8\n",
      "4    10\n",
      "Name: column1, dtype: int64\n"
     ]
    }
   ],
   "source": [
    "result=df[\"column1\"]*2\n",
    "print(result)"
   ]
  },
  {
   "cell_type": "code",
   "execution_count": 19,
   "id": "4e63cd40",
   "metadata": {},
   "outputs": [
    {
     "name": "stdout",
     "output_type": "stream",
     "text": [
      "0     1\n",
      "1     4\n",
      "2     9\n",
      "3    16\n",
      "4    25\n",
      "Name: column1, dtype: int64\n"
     ]
    }
   ],
   "source": [
    "def kareAl(x):\n",
    "    return x*x\n",
    "result=df[\"column1\"].apply(kareAl)\n",
    "print(result)"
   ]
  },
  {
   "cell_type": "code",
   "execution_count": 20,
   "id": "dda3222d",
   "metadata": {},
   "outputs": [
    {
     "name": "stdout",
     "output_type": "stream",
     "text": [
      "0     1\n",
      "1     4\n",
      "2     9\n",
      "3    16\n",
      "4    25\n",
      "Name: column1, dtype: int64\n"
     ]
    }
   ],
   "source": [
    "kareAl2=lambda x:x*x\n",
    "result=df[\"column1\"].apply(kareAl2)\n",
    "print(result)"
   ]
  },
  {
   "cell_type": "code",
   "execution_count": 21,
   "id": "16efefb3",
   "metadata": {},
   "outputs": [
    {
     "name": "stdout",
     "output_type": "stream",
     "text": [
      "0     1\n",
      "1     4\n",
      "2     9\n",
      "3    16\n",
      "4    25\n",
      "Name: column1, dtype: int64\n"
     ]
    }
   ],
   "source": [
    "result=df[\"column1\"].apply(lambda x:x*x)\n",
    "print(result)"
   ]
  },
  {
   "cell_type": "code",
   "execution_count": 25,
   "id": "658b72e5",
   "metadata": {},
   "outputs": [
    {
     "name": "stdout",
     "output_type": "stream",
     "text": [
      "   column1  column2 column3  column4\n",
      "0        1       10     abc        3\n",
      "1        2       20    bcaa        4\n",
      "2        3       13     ade        3\n",
      "3        4       20      cb        2\n",
      "4        5       25     dea        3\n"
     ]
    }
   ],
   "source": [
    "df[\"column4\"]=df[\"column3\"].apply(len)\n",
    "print(df)"
   ]
  },
  {
   "cell_type": "code",
   "execution_count": 27,
   "id": "6bb7d33c",
   "metadata": {},
   "outputs": [
    {
     "name": "stdout",
     "output_type": "stream",
     "text": [
      "Index(['column1', 'column2', 'column3', 'column4'], dtype='object')\n"
     ]
    }
   ],
   "source": [
    "result=df.columns\n",
    "print(result)"
   ]
  },
  {
   "cell_type": "code",
   "execution_count": 30,
   "id": "300a8f5d",
   "metadata": {},
   "outputs": [
    {
     "name": "stdout",
     "output_type": "stream",
     "text": [
      "4\n"
     ]
    }
   ],
   "source": [
    "result=len(df.columns)\n",
    "print(result)"
   ]
  },
  {
   "cell_type": "code",
   "execution_count": 31,
   "id": "059127f8",
   "metadata": {},
   "outputs": [
    {
     "name": "stdout",
     "output_type": "stream",
     "text": [
      "RangeIndex(start=0, stop=5, step=1)\n"
     ]
    }
   ],
   "source": [
    "result=df.index\n",
    "print(result)"
   ]
  },
  {
   "cell_type": "code",
   "execution_count": 32,
   "id": "e2325768",
   "metadata": {},
   "outputs": [
    {
     "name": "stdout",
     "output_type": "stream",
     "text": [
      "5\n"
     ]
    }
   ],
   "source": [
    "result=len(df.index)\n",
    "print(result)"
   ]
  },
  {
   "cell_type": "code",
   "execution_count": 33,
   "id": "39f92b49",
   "metadata": {},
   "outputs": [
    {
     "name": "stdout",
     "output_type": "stream",
     "text": [
      "<bound method DataFrame.info of    column1  column2 column3  column4\n",
      "0        1       10     abc        3\n",
      "1        2       20    bcaa        4\n",
      "2        3       13     ade        3\n",
      "3        4       20      cb        2\n",
      "4        5       25     dea        3>\n"
     ]
    }
   ],
   "source": [
    "result=df.info\n",
    "print(result)"
   ]
  },
  {
   "cell_type": "code",
   "execution_count": 34,
   "id": "8b3e0fad",
   "metadata": {},
   "outputs": [
    {
     "name": "stdout",
     "output_type": "stream",
     "text": [
      "   column1  column2 column3  column4\n",
      "0        1       10     abc        3\n",
      "2        3       13     ade        3\n",
      "1        2       20    bcaa        4\n",
      "3        4       20      cb        2\n",
      "4        5       25     dea        3\n"
     ]
    }
   ],
   "source": [
    "result=df.sort_values(\"column2\")#buyukten kucuge sıralar\n",
    "print(result)"
   ]
  },
  {
   "cell_type": "code",
   "execution_count": 35,
   "id": "cf116df5",
   "metadata": {},
   "outputs": [
    {
     "name": "stdout",
     "output_type": "stream",
     "text": [
      "   column1  column2 column3  column4\n",
      "0        1       10     abc        3\n",
      "2        3       13     ade        3\n",
      "1        2       20    bcaa        4\n",
      "3        4       20      cb        2\n",
      "4        5       25     dea        3\n"
     ]
    }
   ],
   "source": [
    "result=df.sort_values(\"column3\")#alfabetik sıralar\n",
    "print(result)"
   ]
  },
  {
   "cell_type": "code",
   "execution_count": 36,
   "id": "1de823ac",
   "metadata": {},
   "outputs": [
    {
     "name": "stdout",
     "output_type": "stream",
     "text": [
      "   column1  column2 column3  column4\n",
      "4        5       25     dea        3\n",
      "3        4       20      cb        2\n",
      "1        2       20    bcaa        4\n",
      "2        3       13     ade        3\n",
      "0        1       10     abc        3\n"
     ]
    }
   ],
   "source": [
    "result=df.sort_values(\"column3\",ascending=False)#kucukten buyuge \n",
    "print(result)"
   ]
  },
  {
   "cell_type": "code",
   "execution_count": 41,
   "id": "b364fab1",
   "metadata": {},
   "outputs": [
    {
     "name": "stdout",
     "output_type": "stream",
     "text": [
      "h\n"
     ]
    }
   ],
   "source": [
    "x=\"hello\"[0]\n",
    "print(x)"
   ]
  },
  {
   "cell_type": "code",
   "execution_count": null,
   "id": "71d88492",
   "metadata": {},
   "outputs": [],
   "source": []
  }
 ],
 "metadata": {
  "kernelspec": {
   "display_name": "Python 3 (ipykernel)",
   "language": "python",
   "name": "python3"
  },
  "language_info": {
   "codemirror_mode": {
    "name": "ipython",
    "version": 3
   },
   "file_extension": ".py",
   "mimetype": "text/x-python",
   "name": "python",
   "nbconvert_exporter": "python",
   "pygments_lexer": "ipython3",
   "version": "3.9.12"
  }
 },
 "nbformat": 4,
 "nbformat_minor": 5
}
