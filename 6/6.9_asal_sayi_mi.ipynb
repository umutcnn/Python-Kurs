{
 "cells": [
  {
   "cell_type": "code",
   "execution_count": 11,
   "id": "2df30cec",
   "metadata": {},
   "outputs": [
    {
     "name": "stdout",
     "output_type": "stream",
     "text": [
      "bir sayi giriniz: 4\n",
      "4 sayisi asal sayi degildir\n"
     ]
    }
   ],
   "source": [
    "x=int(input(\"bir sayi giriniz: \"))\n",
    "sayac=0\n",
    "for i in range(1,x+1):\n",
    "    if x%i==0:\n",
    "        sayac+=1\n",
    "if sayac>2:\n",
    "    print(f\"{x} sayisi asal sayi degildir\")\n",
    "else:\n",
    "    print(f\"{x} sayisi asal sayi asaldir\")\n",
    "    "
   ]
  },
  {
   "cell_type": "code",
   "execution_count": null,
   "id": "8166ba84",
   "metadata": {},
   "outputs": [],
   "source": []
  },
  {
   "cell_type": "code",
   "execution_count": null,
   "id": "fd061fe2",
   "metadata": {},
   "outputs": [],
   "source": []
  }
 ],
 "metadata": {
  "kernelspec": {
   "display_name": "Python 3 (ipykernel)",
   "language": "python",
   "name": "python3"
  },
  "language_info": {
   "codemirror_mode": {
    "name": "ipython",
    "version": 3
   },
   "file_extension": ".py",
   "mimetype": "text/x-python",
   "name": "python",
   "nbconvert_exporter": "python",
   "pygments_lexer": "ipython3",
   "version": "3.9.12"
  }
 },
 "nbformat": 4,
 "nbformat_minor": 5
}
