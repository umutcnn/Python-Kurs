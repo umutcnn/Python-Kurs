{
 "cells": [
  {
   "cell_type": "code",
   "execution_count": 2,
   "id": "1d7b3e32",
   "metadata": {},
   "outputs": [
    {
     "name": "stdout",
     "output_type": "stream",
     "text": [
      "u\n",
      "m\n",
      "u\n",
      "t\n",
      " \n",
      "c\n",
      "n\n",
      " \n",
      "y\n",
      "ı\n",
      "l\n",
      "d\n",
      "ı\n",
      "r\n"
     ]
    }
   ],
   "source": [
    "name='umut can yıldır'\n",
    "for letter in name:\n",
    "    if(letter=='a'):\n",
    "        continue   #continue devam et\n",
    "    print(letter)"
   ]
  },
  {
   "cell_type": "code",
   "execution_count": 4,
   "id": "67a52086",
   "metadata": {},
   "outputs": [
    {
     "name": "stdout",
     "output_type": "stream",
     "text": [
      "0\n",
      "1\n"
     ]
    }
   ],
   "source": [
    "x=0\n",
    "while x<5:\n",
    "    if x==2:\n",
    "        break #bitir \n",
    "    print(x)\n",
    "    x+=1"
   ]
  },
  {
   "cell_type": "code",
   "execution_count": 1,
   "id": "360ea6f1",
   "metadata": {},
   "outputs": [
    {
     "name": "stdout",
     "output_type": "stream",
     "text": [
      "toplam: 2499\n"
     ]
    }
   ],
   "source": [
    "x=1\n",
    "result=0\n",
    "while(x<100):\n",
    "    x+=1\n",
    "    if x%2==0:\n",
    "        continue\n",
    "    result+=x\n",
    "print(f'toplam: {result}')"
   ]
  },
  {
   "cell_type": "code",
   "execution_count": null,
   "id": "3b0cb88b",
   "metadata": {},
   "outputs": [],
   "source": []
  }
 ],
 "metadata": {
  "kernelspec": {
   "display_name": "Python 3 (ipykernel)",
   "language": "python",
   "name": "python3"
  },
  "language_info": {
   "codemirror_mode": {
    "name": "ipython",
    "version": 3
   },
   "file_extension": ".py",
   "mimetype": "text/x-python",
   "name": "python",
   "nbconvert_exporter": "python",
   "pygments_lexer": "ipython3",
   "version": "3.9.12"
  }
 },
 "nbformat": 4,
 "nbformat_minor": 5
}
