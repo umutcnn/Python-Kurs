{
 "cells": [
  {
   "cell_type": "code",
   "execution_count": 4,
   "id": "70ba5bbe",
   "metadata": {},
   "outputs": [
    {
     "name": "stdout",
     "output_type": "stream",
     "text": [
      "5\n",
      "25\n",
      "45\n",
      "65\n",
      "85\n"
     ]
    }
   ],
   "source": [
    "list=[1,2,3]\n",
    "for item in range(5,100,20):\n",
    "    print(item)"
   ]
  },
  {
   "cell_type": "code",
   "execution_count": 15,
   "id": "11f883e5",
   "metadata": {},
   "outputs": [
    {
     "name": "stdout",
     "output_type": "stream",
     "text": [
      "[1, 2, 3, 5, 15, 25, 35, 45, 55, 65, 75, 85, 95]\n"
     ]
    }
   ],
   "source": [
    "list=[1,2,3]\n",
    "for i in range(5,100,10):\n",
    "    list+=[i]\n",
    "print(list)"
   ]
  },
  {
   "cell_type": "code",
   "execution_count": 16,
   "id": "7cee3e56",
   "metadata": {},
   "outputs": [
    {
     "name": "stdout",
     "output_type": "stream",
     "text": [
      "index 0 letter: h\n",
      "index 1 letter: e\n",
      "index 2 letter: l\n",
      "index 3 letter: l\n",
      "index 4 letter: o\n",
      "index 5 letter:  \n",
      "index 6 letter: t\n",
      "index 7 letter: h\n",
      "index 8 letter: e\n",
      "index 9 letter: r\n",
      "index 10 letter: e\n"
     ]
    }
   ],
   "source": [
    "#enumerate \n",
    "index=0\n",
    "greeting='hello there'\n",
    "for letter in greeting:\n",
    "    print(f'index {index} letter: {letter}')\n",
    "    index+=1"
   ]
  },
  {
   "cell_type": "code",
   "execution_count": 17,
   "id": "5783ec12",
   "metadata": {},
   "outputs": [
    {
     "name": "stdout",
     "output_type": "stream",
     "text": [
      "index 0 letter: h\n",
      "index 1 letter: e\n",
      "index 2 letter: l\n",
      "index 3 letter: l\n",
      "index 4 letter: o\n",
      "index 5 letter:  \n",
      "index 6 letter: t\n",
      "index 7 letter: h\n",
      "index 8 letter: e\n",
      "index 9 letter: r\n",
      "index 10 letter: e\n"
     ]
    }
   ],
   "source": [
    "greeting='hello there'\n",
    "for index,letter in enumerate(greeting):\n",
    "    print(f'index {index} letter: {letter}')\n",
    "    index+=1"
   ]
  },
  {
   "cell_type": "code",
   "execution_count": 35,
   "id": "015bc576",
   "metadata": {},
   "outputs": [
    {
     "name": "stdout",
     "output_type": "stream",
     "text": [
      "(1, 'a', 100)\n",
      "(2, 'b', 200)\n",
      "(3, 'c', 300)\n",
      "(4, 'd', 400)\n",
      "(5, 'e', 500)\n",
      "[1, 'a', 100, 2, 'b', 200, 3, 'c', 300, 4, 'd', 400, 5, 'e', 500]\n",
      "1\n",
      "2\n",
      "3\n",
      "4\n",
      "5\n"
     ]
    }
   ],
   "source": [
    "#zip\n",
    "list1=[1,2,3,4,5]\n",
    "list2=['a','b','c','d','e']\n",
    "list3=[100,200,300,400,500]\n",
    "listt=[]\n",
    "for i in zip(list1,list2,list3):\n",
    "    listt+=i\n",
    "    print(i)\n",
    "print(listt)\n",
    "for a,b,c in zip(list1,list2,list3):\n",
    "    print(a,b,c)\n"
   ]
  },
  {
   "cell_type": "code",
   "execution_count": null,
   "id": "65a7aa8e",
   "metadata": {},
   "outputs": [],
   "source": []
  }
 ],
 "metadata": {
  "kernelspec": {
   "display_name": "Python 3 (ipykernel)",
   "language": "python",
   "name": "python3"
  },
  "language_info": {
   "codemirror_mode": {
    "name": "ipython",
    "version": 3
   },
   "file_extension": ".py",
   "mimetype": "text/x-python",
   "name": "python",
   "nbconvert_exporter": "python",
   "pygments_lexer": "ipython3",
   "version": "3.9.12"
  }
 },
 "nbformat": 4,
 "nbformat_minor": 5
}
