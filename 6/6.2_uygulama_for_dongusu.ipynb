{
 "cells": [
  {
   "cell_type": "code",
   "execution_count": 1,
   "id": "f4722b25",
   "metadata": {},
   "outputs": [
    {
     "name": "stdout",
     "output_type": "stream",
     "text": [
      "3\n",
      "9\n",
      "12\n",
      "21\n"
     ]
    }
   ],
   "source": [
    "sayilar=[1,3,5,7,9,12,19,21]\n",
    "#sayilar listesindeki 3 ün katı olan sayılari yazdir\n",
    "for sayi in sayilar:\n",
    "    if sayi%3==0:\n",
    "        print(sayi)"
   ]
  },
  {
   "cell_type": "code",
   "execution_count": 2,
   "id": "85377f7c",
   "metadata": {},
   "outputs": [
    {
     "name": "stdout",
     "output_type": "stream",
     "text": [
      "77\n"
     ]
    }
   ],
   "source": [
    "sayiT=0\n",
    "for sayi in sayilar:\n",
    "    sayiT+=sayi\n",
    "print(sayiT)"
   ]
  },
  {
   "cell_type": "code",
   "execution_count": 3,
   "id": "56dc733c",
   "metadata": {},
   "outputs": [
    {
     "name": "stdout",
     "output_type": "stream",
     "text": [
      "1\n",
      "9\n",
      "25\n",
      "49\n",
      "81\n",
      "361\n",
      "441\n"
     ]
    }
   ],
   "source": [
    "for sayi in sayilar:\n",
    "    if sayi%2==1 :\n",
    "        print(sayi**2)"
   ]
  },
  {
   "cell_type": "code",
   "execution_count": 5,
   "id": "483fbcba",
   "metadata": {},
   "outputs": [
    {
     "name": "stdout",
     "output_type": "stream",
     "text": [
      "izmir\n",
      "rize\n"
     ]
    }
   ],
   "source": [
    "sehirler=['kocaeli','istanbul','ankara','izmir','rize']\n",
    "for i in sehirler:\n",
    "    if len(i)<=5:\n",
    "        print(i)"
   ]
  },
  {
   "cell_type": "code",
   "execution_count": 6,
   "id": "6748c174",
   "metadata": {},
   "outputs": [
    {
     "name": "stdout",
     "output_type": "stream",
     "text": [
      "25000\n"
     ]
    }
   ],
   "source": [
    "urunler=[\n",
    "    {'name':'samsung s6','prince': '3000'},\n",
    "    {'name':'samsung s7','prince': '4000'},\n",
    "    {'name':'samsung s8','prince': '5000'},\n",
    "    {'name':'samsung s9','prince': '6000'},\n",
    "    {'name':'samsung s10','prince': '7000'}    \n",
    "]\n",
    "toplam=0\n",
    "for urun in urunler:\n",
    "    toplam+=int(urun['prince'])\n",
    "print(toplam)"
   ]
  },
  {
   "cell_type": "code",
   "execution_count": 8,
   "id": "48c222cf",
   "metadata": {},
   "outputs": [
    {
     "name": "stdout",
     "output_type": "stream",
     "text": [
      "samsung s6\n",
      "samsung s7\n",
      "samsung s8\n"
     ]
    }
   ],
   "source": [
    "for urun in urunler:\n",
    "    if int(urun['prince'])<=5000:\n",
    "        print(urun['name'])\n",
    "    \n"
   ]
  },
  {
   "cell_type": "code",
   "execution_count": null,
   "id": "ef603169",
   "metadata": {},
   "outputs": [],
   "source": []
  }
 ],
 "metadata": {
  "kernelspec": {
   "display_name": "Python 3 (ipykernel)",
   "language": "python",
   "name": "python3"
  },
  "language_info": {
   "codemirror_mode": {
    "name": "ipython",
    "version": 3
   },
   "file_extension": ".py",
   "mimetype": "text/x-python",
   "name": "python",
   "nbconvert_exporter": "python",
   "pygments_lexer": "ipython3",
   "version": "3.9.12"
  }
 },
 "nbformat": 4,
 "nbformat_minor": 5
}
