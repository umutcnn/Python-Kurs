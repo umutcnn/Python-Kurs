{
 "cells": [
  {
   "cell_type": "code",
   "execution_count": 3,
   "id": "656bdb3e",
   "metadata": {},
   "outputs": [
    {
     "name": "stdout",
     "output_type": "stream",
     "text": [
      "tahmin et: 3\n",
      "tebrikler 1 defada bildiniz. toplam puaniniz: 80\n"
     ]
    }
   ],
   "source": [
    "import random\n",
    "sayi=random.randint(1,3)\n",
    "hak=int(input(\"kaç hakkiniz olmasini istersiniz\"))\n",
    "while(hak>0):\n",
    "    tahmin=int(input(\"tahmin et: \"))\n",
    "    hak-=1\n",
    "    if(tahmin==sayi):\n",
    "        print(f\"tebrikler {5-hak} defada bildiniz. toplam puaniniz: {100-20*(5-hak)}\")\n",
    "        break\n",
    "    elif sayi>tahmin:\n",
    "        print(\"yukari\")\n",
    "    elif sayi<tahmin:\n",
    "        print(\"assagi\")\n",
    "    if hak==0:\n",
    "        print(f\"hakkiniz bitti. tutulan sayi{sayi}\")"
   ]
  },
  {
   "cell_type": "code",
   "execution_count": null,
   "id": "d499cd18",
   "metadata": {},
   "outputs": [],
   "source": []
  },
  {
   "cell_type": "code",
   "execution_count": null,
   "id": "124dcf5e",
   "metadata": {},
   "outputs": [],
   "source": []
  }
 ],
 "metadata": {
  "kernelspec": {
   "display_name": "Python 3 (ipykernel)",
   "language": "python",
   "name": "python3"
  },
  "language_info": {
   "codemirror_mode": {
    "name": "ipython",
    "version": 3
   },
   "file_extension": ".py",
   "mimetype": "text/x-python",
   "name": "python",
   "nbconvert_exporter": "python",
   "pygments_lexer": "ipython3",
   "version": "3.9.12"
  }
 },
 "nbformat": 4,
 "nbformat_minor": 5
}
