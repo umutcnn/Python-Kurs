{
 "cells": [
  {
   "cell_type": "code",
   "execution_count": 2,
   "id": "e7c39b52",
   "metadata": {},
   "outputs": [
    {
     "name": "stdout",
     "output_type": "stream",
     "text": [
      "1\n",
      "3\n",
      "5\n",
      "7\n",
      "9\n",
      "12\n",
      "19\n",
      "21\n"
     ]
    }
   ],
   "source": [
    "sayilar=[1,3,5,7,9,12,19,21]\n",
    "x=0\n",
    "while(len(sayilar)>x):\n",
    "    print(sayilar[x])\n",
    "    x+=1"
   ]
  },
  {
   "cell_type": "code",
   "execution_count": 4,
   "id": "68fdaf9f",
   "metadata": {},
   "outputs": [
    {
     "name": "stdout",
     "output_type": "stream",
     "text": [
      "baslangıc degerini giriniz25\n",
      "bitis degerini giriniz63\n",
      "25\n",
      "27\n",
      "29\n",
      "31\n",
      "33\n",
      "35\n",
      "37\n",
      "39\n",
      "41\n",
      "43\n",
      "45\n",
      "47\n",
      "49\n",
      "51\n",
      "53\n",
      "55\n",
      "57\n",
      "59\n",
      "61\n"
     ]
    }
   ],
   "source": [
    "bas=int(input(\"baslangıc degerini giriniz\"))\n",
    "bit=int(input(\"bitis degerini giriniz\"))\n",
    "while(bas!=bit):\n",
    "    if(bas%2==1):\n",
    "        print(bas)\n",
    "    bas+=1"
   ]
  },
  {
   "cell_type": "code",
   "execution_count": 5,
   "id": "fa30d6a2",
   "metadata": {},
   "outputs": [
    {
     "name": "stdout",
     "output_type": "stream",
     "text": [
      "100\n",
      "99\n",
      "98\n",
      "97\n",
      "96\n",
      "95\n",
      "94\n",
      "93\n",
      "92\n",
      "91\n",
      "90\n",
      "89\n",
      "88\n",
      "87\n",
      "86\n",
      "85\n",
      "84\n",
      "83\n",
      "82\n",
      "81\n",
      "80\n",
      "79\n",
      "78\n",
      "77\n",
      "76\n",
      "75\n",
      "74\n",
      "73\n",
      "72\n",
      "71\n",
      "70\n",
      "69\n",
      "68\n",
      "67\n",
      "66\n",
      "65\n",
      "64\n",
      "63\n",
      "62\n",
      "61\n",
      "60\n",
      "59\n",
      "58\n",
      "57\n",
      "56\n",
      "55\n",
      "54\n",
      "53\n",
      "52\n",
      "51\n",
      "50\n",
      "49\n",
      "48\n",
      "47\n",
      "46\n",
      "45\n",
      "44\n",
      "43\n",
      "42\n",
      "41\n",
      "40\n",
      "39\n",
      "38\n",
      "37\n",
      "36\n",
      "35\n",
      "34\n",
      "33\n",
      "32\n",
      "31\n",
      "30\n",
      "29\n",
      "28\n",
      "27\n",
      "26\n",
      "25\n",
      "24\n",
      "23\n",
      "22\n",
      "21\n",
      "20\n",
      "19\n",
      "18\n",
      "17\n",
      "16\n",
      "15\n",
      "14\n",
      "13\n",
      "12\n",
      "11\n",
      "10\n",
      "9\n",
      "8\n",
      "7\n",
      "6\n",
      "5\n",
      "4\n",
      "3\n",
      "2\n",
      "1\n"
     ]
    }
   ],
   "source": [
    "i=100\n",
    "while i>0:\n",
    "    print(i)\n",
    "    i-=1"
   ]
  },
  {
   "cell_type": "code",
   "execution_count": 2,
   "id": "0b577c93",
   "metadata": {},
   "outputs": [
    {
     "name": "stdout",
     "output_type": "stream",
     "text": [
      "sayi: 12\n",
      "sayi: 5\n",
      "sayi: 9\n",
      "sayi: 1\n",
      "sayi: 5\n",
      "[1, 5, 5, 9, 12]\n"
     ]
    }
   ],
   "source": [
    "numbers=[]\n",
    "i=0\n",
    "while i<5:\n",
    "    sayi= int(input(\"sayi: \"))\n",
    "    numbers.append(sayi)\n",
    "    i+=1\n",
    "numbers.sort()\n",
    "print(numbers)"
   ]
  },
  {
   "cell_type": "code",
   "execution_count": 4,
   "id": "7e35d3e3",
   "metadata": {},
   "outputs": [
    {
     "name": "stdout",
     "output_type": "stream",
     "text": [
      "kac adet urun eklemek istiyorsunuz: 2\n",
      "urun ismitelefon\n",
      "urun fiyati500\n",
      "urun ismielma\n",
      "urun fiyati10\n",
      "urun aditelefon urun fiyati: 500\n",
      "urun adielma urun fiyati: 10\n"
     ]
    }
   ],
   "source": [
    "urunler=[]\n",
    "adet=int(input(\"kac adet urun eklemek istiyorsunuz: \"))\n",
    "i=0\n",
    "while i<adet:\n",
    "    name=input(\"urun ismi\")\n",
    "    prince=input(\"urun fiyati\")\n",
    "    urunler.append({\n",
    "        'name':name,\n",
    "        'price':prince\n",
    "    })\n",
    "    i+=1\n",
    "for urun in urunler: \n",
    "    print(f\"urun adi: {urun['name']} urun fiyati: {urun['price']}\")"
   ]
  },
  {
   "cell_type": "code",
   "execution_count": null,
   "id": "41c1cbc8",
   "metadata": {},
   "outputs": [],
   "source": []
  }
 ],
 "metadata": {
  "kernelspec": {
   "display_name": "Python 3 (ipykernel)",
   "language": "python",
   "name": "python3"
  },
  "language_info": {
   "codemirror_mode": {
    "name": "ipython",
    "version": 3
   },
   "file_extension": ".py",
   "mimetype": "text/x-python",
   "name": "python",
   "nbconvert_exporter": "python",
   "pygments_lexer": "ipython3",
   "version": "3.9.12"
  }
 },
 "nbformat": 4,
 "nbformat_minor": 5
}
