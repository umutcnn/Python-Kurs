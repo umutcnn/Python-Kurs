{
 "cells": [
  {
   "cell_type": "code",
   "execution_count": 2,
   "id": "6bbcec33",
   "metadata": {},
   "outputs": [
    {
     "name": "stdout",
     "output_type": "stream",
     "text": [
      "0 ve 100 arasında bir sayi giriniz25\n",
      "sayi 0-100 arasinda mi: True\n"
     ]
    }
   ],
   "source": [
    "x=int(input(\"0 ve 100 arasında bir sayi giriniz\"))\n",
    "result = (x>0) and (x<=100)\n",
    "print(f\"sayi 0-100 arasinda mi: {result}\")"
   ]
  },
  {
   "cell_type": "code",
   "execution_count": 5,
   "id": "56c55653",
   "metadata": {},
   "outputs": [
    {
     "name": "stdout",
     "output_type": "stream",
     "text": [
      "pozitif ve vift bir sayi giriniz25\n",
      "sayi pozitif ve cift mi: False\n"
     ]
    }
   ],
   "source": [
    "x=int(input(\"pozitif ve vift bir sayi giriniz\"))\n",
    "result = (x>0) and (x%2==0)\n",
    "print(f\"sayi pozitif ve cift mi: {result}\")"
   ]
  },
  {
   "cell_type": "code",
   "execution_count": 6,
   "id": "7f38fed5",
   "metadata": {},
   "outputs": [
    {
     "name": "stdout",
     "output_type": "stream",
     "text": [
      "Emailinizi girinizumutcan@gmail.com\n",
      "Sifrenizi girinizabc123\n",
      "Girdiginiz e posta ve sifre: True\n"
     ]
    }
   ],
   "source": [
    "email=\"umutcan@gmail.com\"\n",
    "password=\"abc123\"\n",
    "girilen_email=input(\"Emailinizi giriniz\")\n",
    "girilen_password=input(\"Sifrenizi giriniz\")\n",
    "dogru_mu=(email==girilen_email)and(password==girilen_password)\n",
    "print(f\"Girdiginiz e posta ve sifre: {dogru_mu}\")"
   ]
  },
  {
   "cell_type": "code",
   "execution_count": 11,
   "id": "ddd14e31",
   "metadata": {},
   "outputs": [
    {
     "name": "stdout",
     "output_type": "stream",
     "text": [
      "x: giriniz: 5\n",
      "y: giriniz: 9\n",
      "z: giriniz: 12\n",
      "x en buyuk sayidir: False\n",
      "y en buyuk sayidir: False\n",
      "z en buyuk sayidir: True\n"
     ]
    }
   ],
   "source": [
    "x=int(input(\"x: giriniz: \"))\n",
    "y=int(input(\"y: giriniz: \"))\n",
    "z=int(input(\"z: giriniz: \"))\n",
    "\n",
    "result=(x>y) and  (x>z)\n",
    "print(f\"x en buyuk sayidir: {result}\")\n",
    "\n",
    "result=(y>x) and  (y>z)\n",
    "print(f\"y en buyuk sayidir: {result}\")\n",
    "\n",
    "result=(z>x) and  (z>y)\n",
    "print(f\"z en buyuk sayidir: {result}\")"
   ]
  },
  {
   "cell_type": "code",
   "execution_count": 10,
   "id": "a95437c6",
   "metadata": {},
   "outputs": [
    {
     "name": "stdout",
     "output_type": "stream",
     "text": [
      "vize1 notunu giriniz70\n",
      "vize2 notunu giriniz100\n",
      "final notunu giriniz40\n",
      "ogrencinin ortalamasi: 67.0 ve gecme durumu: False\n",
      "ogrencinin ortalamasi: 67.0 ve gecme durumu: True\n"
     ]
    }
   ],
   "source": [
    "vize1=int(input(\"vize1 notunu giriniz\"))\n",
    "vize2=int(input(\"vize2 notunu giriniz\"))\n",
    "final=int(input(\"final notunu giriniz\"))\n",
    "ort=(((vize1+vize2)/2)*0.6+(final*0.4))\n",
    "gecti=(ort>50)and (final>=50)  \n",
    "print(f\"ogrencinin ortalamasi: {ort} ve gecme durumu: {gecti}\")\n",
    "gecti=(ort>50)or (final>=70)  \n",
    "print(f\"ogrencinin ortalamasi: {ort} ve gecme durumu: {gecti}\")"
   ]
  },
  {
   "cell_type": "code",
   "execution_count": 14,
   "id": "3e4d60a5",
   "metadata": {},
   "outputs": [
    {
     "name": "stdout",
     "output_type": "stream",
     "text": [
      "adinizi girinizumut can\n",
      "kilonuzu giriniz92\n",
      "boyunuzu giriniz1.80\n",
      "adı: umut can, kilo indexin : 28.39506172839506ve durumu: zayifFalse\n",
      "adı: umut can, kilo indexin : 28.39506172839506ve durumu: normalFalse\n",
      "adı: umut can, kilo indexin : 28.39506172839506ve durumu: fazla kiloluTrue\n",
      "adı: umut can, kilo indexin : 28.39506172839506ve durumu: obezFalse\n"
     ]
    }
   ],
   "source": [
    "ad=input(\"adinizi giriniz: \")\n",
    "kilo=float(input(\"kilonuzu giriniz: \"))\n",
    "boy=float(input(\"boyunuzu giriniz: \"))\n",
    "    \n",
    "kilo_index=(kilo/(boy**2))    \n",
    "zayif=(kilo_index>=0)and(kilo_index<=18.4)  \n",
    "normal=(kilo_index>18.5)and  (kilo_index<=24.9)\n",
    "f_kilolu=(kilo_index>25)and  (kilo_index<=29.9)\n",
    "obez=(kilo_index>30)and  (kilo_index<=34.9)\n",
    "    \n",
    "print(f\"adı: {ad}, kilo indexin : {kilo_index}ve durumu: zayif: {zayif}\") \n",
    "print(f\"adı: {ad}, kilo indexin : {kilo_index}ve durumu: normal: {normal}\")\n",
    "print(f\"adı: {ad}, kilo indexin : {kilo_index}ve durumu: fazla kilolu: {f_kilolu}\")\n",
    "print(f\"adı: {ad}, kilo indexin : {kilo_index}ve durumu: obez: {obez}\")"
   ]
  },
  {
   "cell_type": "code",
   "execution_count": null,
   "id": "1846c3c5",
   "metadata": {},
   "outputs": [],
   "source": []
  }
 ],
 "metadata": {
  "kernelspec": {
   "display_name": "Python 3 (ipykernel)",
   "language": "python",
   "name": "python3"
  },
  "language_info": {
   "codemirror_mode": {
    "name": "ipython",
    "version": 3
   },
   "file_extension": ".py",
   "mimetype": "text/x-python",
   "name": "python",
   "nbconvert_exporter": "python",
   "pygments_lexer": "ipython3",
   "version": "3.9.12"
  }
 },
 "nbformat": 4,
 "nbformat_minor": 5
}
