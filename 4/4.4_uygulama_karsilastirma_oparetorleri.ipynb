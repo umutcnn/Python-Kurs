{
 "cells": [
  {
   "cell_type": "code",
   "execution_count": 1,
   "id": "e612b419",
   "metadata": {},
   "outputs": [
    {
     "name": "stdout",
     "output_type": "stream",
     "text": [
      "a: 25\n",
      "b: 5\n",
      "a: 25 b:5 den buyuktur: True\n"
     ]
    }
   ],
   "source": [
    "a=int(input(\"a: \"))\n",
    "b=int(input(\"b: \"))\n",
    "result=a>b\n",
    "print(f\"a: {a} b:{b} den buyuktur: {result}\")"
   ]
  },
  {
   "cell_type": "code",
   "execution_count": 5,
   "id": "a5504367",
   "metadata": {},
   "outputs": [
    {
     "name": "stdout",
     "output_type": "stream",
     "text": [
      "vize1 notunu giriniz: 80\n",
      "vize2 notunu giriniz: 50\n",
      "final notunu giriniz: 90\n",
      "not ortalamanız 75.0 ve dersten gecme durumunuz True\n"
     ]
    }
   ],
   "source": [
    "vize1=int(input(\"vize1 notunu giriniz: \"))\n",
    "vize2=int(input(\"vize2 notunu giriniz: \"))\n",
    "final=int(input(\"final notunu giriniz: \"))\n",
    "ort=(((vize1+vize2)*0.6)/2)+(final*0.4)\n",
    "print(f\"not ortalamanız {ort} ve dersten gecme durumunuz {ort>=50}\")"
   ]
  },
  {
   "cell_type": "code",
   "execution_count": 7,
   "id": "f6345453",
   "metadata": {},
   "outputs": [
    {
     "name": "stdout",
     "output_type": "stream",
     "text": [
      "sayi giriniz: 5\n",
      "girilen sayi çift olma durumu False\n"
     ]
    }
   ],
   "source": [
    "sayi=int(input(\"sayi giriniz: \"))\n",
    "tekcift = sayi%2==0\n",
    "print(f\"girilen sayi çift olma durumu {tekcift}\")"
   ]
  },
  {
   "cell_type": "code",
   "execution_count": 9,
   "id": "42d690d6",
   "metadata": {},
   "outputs": [
    {
     "name": "stdout",
     "output_type": "stream",
     "text": [
      "sayi giriniz: 25\n",
      "girilen sayinin pozitif olma durumu True\n"
     ]
    }
   ],
   "source": [
    "sayi=int(input(\"sayi giriniz: \"))\n",
    "pozitifMi = sayi>0\n",
    "print(f\"girilen sayinin pozitif olma durumu {pozitifMi}\")"
   ]
  },
  {
   "cell_type": "code",
   "execution_count": 11,
   "id": "5088ec2d",
   "metadata": {},
   "outputs": [
    {
     "name": "stdout",
     "output_type": "stream",
     "text": [
      "email: email@umutcan.com\n",
      "password: abc123\n",
      "mail bilgisi dogru olma durumu True\n",
      "mail bilgisi dogru olma durumu True\n"
     ]
    }
   ],
   "source": [
    "email='email@umutcan.com'\n",
    "password='abc123'\n",
    "girilenEmail=input(\"email: \")\n",
    "girilenPassword=input(\"password: \")\n",
    "isEmail=(email==girilenEmail.lower().strip())\n",
    "ispassword=(password== girilenPassword.lower())\n",
    "print(f\"mail bilgisi dogru olma durumu {isEmail}\")\n",
    "print(f\"mail bilgisi dogru olma durumu {ispassword}\")"
   ]
  },
  {
   "cell_type": "code",
   "execution_count": null,
   "id": "ab956e2c",
   "metadata": {},
   "outputs": [],
   "source": []
  }
 ],
 "metadata": {
  "kernelspec": {
   "display_name": "Python 3 (ipykernel)",
   "language": "python",
   "name": "python3"
  },
  "language_info": {
   "codemirror_mode": {
    "name": "ipython",
    "version": 3
   },
   "file_extension": ".py",
   "mimetype": "text/x-python",
   "name": "python",
   "nbconvert_exporter": "python",
   "pygments_lexer": "ipython3",
   "version": "3.9.12"
  }
 },
 "nbformat": 4,
 "nbformat_minor": 5
}
