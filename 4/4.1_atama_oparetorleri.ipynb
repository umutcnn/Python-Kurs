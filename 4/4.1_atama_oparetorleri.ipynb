{
 "cells": [
  {
   "cell_type": "code",
   "execution_count": 1,
   "id": "90465995",
   "metadata": {},
   "outputs": [
    {
     "name": "stdout",
     "output_type": "stream",
     "text": [
      "5 10 20\n",
      "10 5 20\n"
     ]
    }
   ],
   "source": [
    "x=5\n",
    "y=10\n",
    "z=20\n",
    "print(x,y,z)\n",
    "x,y,z=5,10,20\n",
    "\n",
    "print(x,y,z)"
   ]
  },
  {
   "cell_type": "code",
   "execution_count": 9,
   "id": "d7f8030f",
   "metadata": {},
   "outputs": [
    {
     "name": "stdout",
     "output_type": "stream",
     "text": [
      "90 80 20\n",
      "95\n",
      "100\n",
      "95\n",
      "475\n",
      "95.0\n",
      "0.0\n",
      "16\n",
      "1048576\n"
     ]
    }
   ],
   "source": [
    "x,y=80,90\n",
    "x,y=y,x\n",
    "print(x,y,z)\n",
    "x=x+5\n",
    "print(x)\n",
    "x+=5\n",
    "print(x)\n",
    "x-=5\n",
    "print(x)\n",
    "x*=5\n",
    "print(x)\n",
    "x/=5\n",
    "print(x)\n",
    "x%=5\n",
    "print(x)\n",
    "y//=5\n",
    "print(y)\n",
    "y**=5\n",
    "print(y)"
   ]
  },
  {
   "cell_type": "code",
   "execution_count": 12,
   "id": "5cc1c0a5",
   "metadata": {},
   "outputs": [
    {
     "name": "stdout",
     "output_type": "stream",
     "text": [
      "(1, 2, 3)\n",
      "<class 'tuple'>\n",
      "1 2 3\n"
     ]
    }
   ],
   "source": [
    "values=1,2,3\n",
    "print(values)\n",
    "print(type(values))\n",
    "x,y,z=values\n",
    "print(x,y,z)"
   ]
  },
  {
   "cell_type": "code",
   "execution_count": 14,
   "id": "8eaa0757",
   "metadata": {},
   "outputs": [
    {
     "name": "stdout",
     "output_type": "stream",
     "text": [
      "(1, 2, 3, 4, 5)\n",
      "1 2 [3, 4, 5]\n"
     ]
    }
   ],
   "source": [
    "values=1,2,3,4,5\n",
    "print(values)\n",
    "x,y,*z=values\n",
    "print(x,y,z)\n",
    "print(x,y,z[1])"
   ]
  },
  {
   "cell_type": "code",
   "execution_count": null,
   "id": "d6f2975e",
   "metadata": {},
   "outputs": [],
   "source": []
  }
 ],
 "metadata": {
  "kernelspec": {
   "display_name": "Python 3 (ipykernel)",
   "language": "python",
   "name": "python3"
  },
  "language_info": {
   "codemirror_mode": {
    "name": "ipython",
    "version": 3
   },
   "file_extension": ".py",
   "mimetype": "text/x-python",
   "name": "python",
   "nbconvert_exporter": "python",
   "pygments_lexer": "ipython3",
   "version": "3.9.12"
  }
 },
 "nbformat": 4,
 "nbformat_minor": 5
}
