{
 "cells": [
  {
   "cell_type": "code",
   "execution_count": 2,
   "id": "b610dd4e",
   "metadata": {},
   "outputs": [],
   "source": [
    "x,y,z=2,5,10\n",
    "numbers=1,5,7,10,6"
   ]
  },
  {
   "cell_type": "code",
   "execution_count": 3,
   "id": "aeb82b91",
   "metadata": {},
   "outputs": [
    {
     "name": "stdout",
     "output_type": "stream",
     "text": [
      "sayi 1 giriniz: 25\n",
      "sayi 2 giriniz: 2\n",
      "33\n"
     ]
    }
   ],
   "source": [
    "a=int(input(\"sayi 1 giriniz: \"))\n",
    "b=int(input(\"sayi 2 giriniz: \"))\n",
    "result=(a*b)-(x+y+z)\n",
    "print(result)"
   ]
  },
  {
   "cell_type": "code",
   "execution_count": 4,
   "id": "387aafcd",
   "metadata": {},
   "outputs": [
    {
     "name": "stdout",
     "output_type": "stream",
     "text": [
      "2\n"
     ]
    }
   ],
   "source": [
    "result=y//x#y nin x e kalansız bolumu\n",
    "print(result)"
   ]
  },
  {
   "cell_type": "code",
   "execution_count": 5,
   "id": "e413c828",
   "metadata": {},
   "outputs": [
    {
     "name": "stdout",
     "output_type": "stream",
     "text": [
      "2\n"
     ]
    }
   ],
   "source": [
    "mod=(x+y+z)%3#x+y+z nin toplamının 3e bolumunden kalan\n",
    "print(mod)"
   ]
  },
  {
   "cell_type": "code",
   "execution_count": 6,
   "id": "c55362a2",
   "metadata": {},
   "outputs": [
    {
     "name": "stdout",
     "output_type": "stream",
     "text": [
      "25\n"
     ]
    }
   ],
   "source": [
    "print(y**2)#y kare"
   ]
  },
  {
   "cell_type": "code",
   "execution_count": 8,
   "id": "b11647a4",
   "metadata": {},
   "outputs": [
    {
     "name": "stdout",
     "output_type": "stream",
     "text": [
      "6\n"
     ]
    }
   ],
   "source": [
    "x,*y,z=numbers#x 0. indexdeki degeri alır. z son index. y ise geri kalanını alir .\n",
    "print(z)"
   ]
  },
  {
   "cell_type": "code",
   "execution_count": 9,
   "id": "436c9e4b",
   "metadata": {},
   "outputs": [
    {
     "name": "stdout",
     "output_type": "stream",
     "text": [
      "216\n"
     ]
    }
   ],
   "source": [
    "print(z**3)"
   ]
  },
  {
   "cell_type": "code",
   "execution_count": 10,
   "id": "6c292393",
   "metadata": {},
   "outputs": [
    {
     "name": "stdout",
     "output_type": "stream",
     "text": [
      "22\n"
     ]
    }
   ],
   "source": [
    "result=y[0]+y[1]+y[2]\n",
    "print(result)"
   ]
  },
  {
   "cell_type": "code",
   "execution_count": null,
   "id": "a71542ff",
   "metadata": {},
   "outputs": [],
   "source": []
  }
 ],
 "metadata": {
  "kernelspec": {
   "display_name": "Python 3 (ipykernel)",
   "language": "python",
   "name": "python3"
  },
  "language_info": {
   "codemirror_mode": {
    "name": "ipython",
    "version": 3
   },
   "file_extension": ".py",
   "mimetype": "text/x-python",
   "name": "python",
   "nbconvert_exporter": "python",
   "pygments_lexer": "ipython3",
   "version": "3.9.12"
  }
 },
 "nbformat": 4,
 "nbformat_minor": 5
}
