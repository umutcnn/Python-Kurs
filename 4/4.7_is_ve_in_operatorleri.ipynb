{
 "cells": [
  {
   "cell_type": "code",
   "execution_count": 4,
   "id": "948329a2",
   "metadata": {},
   "outputs": [
    {
     "name": "stdout",
     "output_type": "stream",
     "text": [
      "True\n",
      "True\n",
      "True\n",
      "False\n"
     ]
    }
   ],
   "source": [
    "x=y=[1,2,3]\n",
    "z=[1,2,3]\n",
    "\n",
    "print(x==y)#objelerin ayni olup olmadiğini bize dondurecek\n",
    "print(x==z)\n",
    "print(x is y)\n",
    "print(x is z)#ayni adresi tutup tutmadiğini bize dondurecek"
   ]
  },
  {
   "cell_type": "code",
   "execution_count": 5,
   "id": "698d0dc6",
   "metadata": {},
   "outputs": [
    {
     "name": "stdout",
     "output_type": "stream",
     "text": [
      "True\n",
      "False\n",
      "True\n"
     ]
    }
   ],
   "source": [
    "x=y=[1,2,3]\n",
    "y=[2,4]\n",
    "del x[2]\n",
    "y[1]=1\n",
    "y.reverse()\n",
    "print(x == y)\n",
    "print(x is y)\n",
    "print(x is not y)"
   ]
  },
  {
   "cell_type": "code",
   "execution_count": 6,
   "id": "f24fccea",
   "metadata": {},
   "outputs": [
    {
     "name": "stdout",
     "output_type": "stream",
     "text": [
      "True\n"
     ]
    }
   ],
   "source": [
    "x=['apple','banana']\n",
    "print('banana' in x)"
   ]
  },
  {
   "cell_type": "code",
   "execution_count": 7,
   "id": "1bc8d734",
   "metadata": {},
   "outputs": [
    {
     "name": "stdout",
     "output_type": "stream",
     "text": [
      "True\n"
     ]
    }
   ],
   "source": [
    "name='umut can'\n",
    "print('a' in name)"
   ]
  },
  {
   "cell_type": "code",
   "execution_count": null,
   "id": "67ce1904",
   "metadata": {},
   "outputs": [],
   "source": []
  }
 ],
 "metadata": {
  "kernelspec": {
   "display_name": "Python 3 (ipykernel)",
   "language": "python",
   "name": "python3"
  },
  "language_info": {
   "codemirror_mode": {
    "name": "ipython",
    "version": 3
   },
   "file_extension": ".py",
   "mimetype": "text/x-python",
   "name": "python",
   "nbconvert_exporter": "python",
   "pygments_lexer": "ipython3",
   "version": "3.9.12"
  }
 },
 "nbformat": 4,
 "nbformat_minor": 5
}
