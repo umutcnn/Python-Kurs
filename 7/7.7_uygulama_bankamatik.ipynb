{
 "cells": [
  {
   "cell_type": "code",
   "execution_count": 1,
   "id": "95fc60d2",
   "metadata": {},
   "outputs": [
    {
     "name": "stdout",
     "output_type": "stream",
     "text": [
      "123456789 nolu hesabinizda 3000 tl bulunmaktadır. Ek hesap limitiniz ise 2000 tl bulunmaktadir\n",
      "Merhaba umut can yıldız\n",
      "paranizi alabilirsiniz\n",
      "123456789 nolu hesabinizda 1000 tl bulunmaktadır. Ek hesap limitiniz ise 2000 tl bulunmaktadir\n"
     ]
    }
   ],
   "source": [
    "#bankamatik uygulamasi\n",
    "UmutHesap = {\n",
    "    'ad':'umut can yıldız',\n",
    "    'hesapNo': '123456789',\n",
    "    'bakiye': 3000,\n",
    "    'ekHesap':2000\n",
    " }\n",
    "AliHesap = {\n",
    "    'ad': 'ali turhan',\n",
    "    'hesapNo':'12345678',\n",
    "    'bakiye':2000,\n",
    "    'ekHesap':1000\n",
    "}\n",
    "def paraCek(hesap,miktar):\n",
    "    print(f\"Merhaba {hesap['ad']}\")\n",
    "    if(hesap['bakiye']>=miktar):\n",
    "        hesap['bakiye']-=miktar\n",
    "        print('paranizi alabilirsiniz')\n",
    "    else:\n",
    "        toplam=hesap['bakiye']+hesap['ekHesap']\n",
    "        if(toplam>=miktar):\n",
    "            ekHesapKullanimi=input('ek hesap kullanilsin mi(e/h)?')\n",
    "            if(ekHesapKullanimi==e):\n",
    "                ekHesapKullanilacakMiktar=miktar-hesap['bakiye']\n",
    "                hesap['bakiye']=0\n",
    "                hesap['ekHesap']-=ekHesapKullanilacakMiktar\n",
    "                print('paranizi aliniz')\n",
    "                bakiyeSorgula(hesap)\n",
    "            else:\n",
    "                print(f\"{hesap['hesapNo']} nolu hesabınızda {hesap['bakiye']} bulunmaktadir\")\n",
    "        else:\n",
    "            print(\"üzgünüz bakiye yetersiz\")\n",
    "            bakiyeSorgula(UmutHesap)\n",
    "def bakiyeSorgula(hesap):\n",
    "    print(f\"{hesap['hesapNo']} nolu hesabinizda {hesap['bakiye']} tl bulunmaktadır. Ek hesap limitiniz ise {hesap['ekHesap']} tl bulunmaktadir\")\n",
    "\n",
    "paraCek(UmutHesap,2000)"
   ]
  },
  {
   "cell_type": "code",
   "execution_count": null,
   "id": "4152273d",
   "metadata": {},
   "outputs": [],
   "source": []
  },
  {
   "cell_type": "code",
   "execution_count": null,
   "id": "459a1567",
   "metadata": {},
   "outputs": [],
   "source": []
  }
 ],
 "metadata": {
  "kernelspec": {
   "display_name": "Python 3 (ipykernel)",
   "language": "python",
   "name": "python3"
  },
  "language_info": {
   "codemirror_mode": {
    "name": "ipython",
    "version": 3
   },
   "file_extension": ".py",
   "mimetype": "text/x-python",
   "name": "python",
   "nbconvert_exporter": "python",
   "pygments_lexer": "ipython3",
   "version": "3.9.12"
  }
 },
 "nbformat": 4,
 "nbformat_minor": 5
}
