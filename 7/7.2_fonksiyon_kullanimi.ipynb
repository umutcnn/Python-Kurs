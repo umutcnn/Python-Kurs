{
 "cells": [
  {
   "cell_type": "code",
   "execution_count": 1,
   "id": "d347e5c7",
   "metadata": {},
   "outputs": [
    {
     "name": "stdout",
     "output_type": "stream",
     "text": [
      "hello\n"
     ]
    }
   ],
   "source": [
    "def sayHello():\n",
    "    print('hello')\n",
    "    \n",
    "sayHello()"
   ]
  },
  {
   "cell_type": "code",
   "execution_count": 2,
   "id": "a287cec8",
   "metadata": {},
   "outputs": [
    {
     "name": "stdout",
     "output_type": "stream",
     "text": [
      "hello umut\n"
     ]
    }
   ],
   "source": [
    "def sayHello(name):\n",
    "    print(f'hello {name}')\n",
    "    \n",
    "sayHello('umut')"
   ]
  },
  {
   "cell_type": "code",
   "execution_count": 3,
   "id": "2ffe5af4",
   "metadata": {},
   "outputs": [
    {
     "name": "stdout",
     "output_type": "stream",
     "text": [
      "hello umut\n",
      "hello user\n"
     ]
    }
   ],
   "source": [
    "def sayHello(name='user'):\n",
    "    print(f'hello {name}')\n",
    "    \n",
    "sayHello('umut')\n",
    "sayHello()"
   ]
  },
  {
   "cell_type": "code",
   "execution_count": 4,
   "id": "fd6bc4ec",
   "metadata": {},
   "outputs": [
    {
     "name": "stdout",
     "output_type": "stream",
     "text": [
      "helloumut\n"
     ]
    }
   ],
   "source": [
    "def sayHello(name='user'):\n",
    "    return 'hello'+name\n",
    "    \n",
    "msg=sayHello(' umut')\n",
    "print(msg)"
   ]
  },
  {
   "cell_type": "code",
   "execution_count": 6,
   "id": "cfec5808",
   "metadata": {},
   "outputs": [
    {
     "name": "stdout",
     "output_type": "stream",
     "text": [
      "13\n"
     ]
    }
   ],
   "source": [
    "def total(num1,num2):\n",
    "         return num1+num2\n",
    "toplam=total(5,8)\n",
    "print(toplam)"
   ]
  },
  {
   "cell_type": "code",
   "execution_count": 7,
   "id": "e14db26e",
   "metadata": {},
   "outputs": [
    {
     "name": "stdout",
     "output_type": "stream",
     "text": [
      "2\n",
      "9\n"
     ]
    }
   ],
   "source": [
    "def yasHesapla(dogumYili):\n",
    "    return 2019-dogumYili\n",
    "ageUmut=yasHesapla(2017)\n",
    "print(ageUmut)\n",
    "ageUmutt=yasHesapla(2010)\n",
    "print(ageUmutt)"
   ]
  },
  {
   "cell_type": "code",
   "execution_count": 10,
   "id": "4650b025",
   "metadata": {},
   "outputs": [
    {
     "name": "stdout",
     "output_type": "stream",
     "text": [
      "emekliliginize 29 yıl kaldi\n",
      "zaten emekli oldunuz\n",
      "emekliliginize 20 yıl kaldi\n",
      "Help on function emekliligeKacYilKaldi in module __main__:\n",
      "\n",
      "emekliligeKacYilKaldi(dogumYili, isim)\n",
      "    DOCSTRING\n",
      "    dogum yiliniza gore emekliliginize kac yil kaldi\n",
      "\n",
      "None\n"
     ]
    }
   ],
   "source": [
    "def yasHesapla(dogumYili):\n",
    "    return 2019-dogumYili\n",
    "\n",
    "\n",
    "\n",
    "def emekliligeKacYilKaldi(dogumYili, isim):\n",
    "    '''\n",
    "    DOCSTRING\n",
    "    dogum yiliniza gore emekliliginize kac yil kaldi\n",
    "    '''\n",
    "    yas=yasHesapla(dogumYili)\n",
    "    emeklilik=65-yas\n",
    "    if(emeklilik>0):\n",
    "        print(f'emekliliginize {emeklilik} yıl kaldi')\n",
    "    else:\n",
    "        print('zaten emekli oldunuz')\n",
    "emekliligeKacYilKaldi(1983,'ali')\n",
    "emekliligeKacYilKaldi(1950,'ali')\n",
    "emekliligeKacYilKaldi(1974,'ali')\n",
    "print(help(emekliligeKacYilKaldi))"
   ]
  },
  {
   "cell_type": "code",
   "execution_count": null,
   "id": "08d5dc27",
   "metadata": {},
   "outputs": [],
   "source": []
  }
 ],
 "metadata": {
  "kernelspec": {
   "display_name": "Python 3 (ipykernel)",
   "language": "python",
   "name": "python3"
  },
  "language_info": {
   "codemirror_mode": {
    "name": "ipython",
    "version": 3
   },
   "file_extension": ".py",
   "mimetype": "text/x-python",
   "name": "python",
   "nbconvert_exporter": "python",
   "pygments_lexer": "ipython3",
   "version": "3.9.12"
  }
 },
 "nbformat": 4,
 "nbformat_minor": 5
}
