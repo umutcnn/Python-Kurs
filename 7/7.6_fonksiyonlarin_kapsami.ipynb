{
 "cells": [
  {
   "cell_type": "code",
   "execution_count": 2,
   "id": "8c2b6543",
   "metadata": {},
   "outputs": [
    {
     "name": "stdout",
     "output_type": "stream",
     "text": [
      "local x\n",
      "global x\n"
     ]
    }
   ],
   "source": [
    "x='global x'\n",
    "def function():\n",
    "    x='local x'\n",
    "    print(x)\n",
    "function()\n",
    "print(x)"
   ]
  },
  {
   "cell_type": "code",
   "execution_count": 4,
   "id": "11351d59",
   "metadata": {},
   "outputs": [
    {
     "name": "stdout",
     "output_type": "stream",
     "text": [
      "ada\n",
      "cinar\n"
     ]
    }
   ],
   "source": [
    "name='cinar'\n",
    "def changeName(new_name):\n",
    "    name=new_name\n",
    "    print(name)\n",
    "changeName('ada')\n",
    "print(name)"
   ]
  },
  {
   "cell_type": "code",
   "execution_count": 6,
   "id": "c84990cb",
   "metadata": {},
   "outputs": [
    {
     "name": "stdout",
     "output_type": "stream",
     "text": [
      "hellocinar\n"
     ]
    }
   ],
   "source": [
    "name='global string'\n",
    "def greeting():\n",
    "    name='cinar'\n",
    "    def hello():\n",
    "        print('hello'+name)\n",
    "    hello()\n",
    "greeting()\n",
    "#eger fonksiyonun icerisinde ayni isimde bir tanimlama yapildiysa global olan degisken yok sayilir ve \n",
    "#fonksiyonun içerisindeki kullanilir. "
   ]
  },
  {
   "cell_type": "code",
   "execution_count": 13,
   "id": "47c64075",
   "metadata": {},
   "outputs": [
    {
     "name": "stdout",
     "output_type": "stream",
     "text": [
      "x : 50 \n",
      "changed x to 100\n",
      "100\n"
     ]
    }
   ],
   "source": [
    "x=50\n",
    "def test():\n",
    "    global x\n",
    "    print(f'x : {x} ')\n",
    "    \n",
    "    x=100\n",
    "    print(f'changed x to {x}')\n",
    "test()\n",
    "print(x)\n",
    "#en üstte kullandigimiz global x degiskenini iceriye aldik ve artik içerideki islemlere gore en üstteki x in degeri degisir"
   ]
  },
  {
   "cell_type": "code",
   "execution_count": null,
   "id": "643602ef",
   "metadata": {},
   "outputs": [],
   "source": []
  }
 ],
 "metadata": {
  "kernelspec": {
   "display_name": "Python 3 (ipykernel)",
   "language": "python",
   "name": "python3"
  },
  "language_info": {
   "codemirror_mode": {
    "name": "ipython",
    "version": 3
   },
   "file_extension": ".py",
   "mimetype": "text/x-python",
   "name": "python",
   "nbconvert_exporter": "python",
   "pygments_lexer": "ipython3",
   "version": "3.9.12"
  }
 },
 "nbformat": 4,
 "nbformat_minor": 5
}
