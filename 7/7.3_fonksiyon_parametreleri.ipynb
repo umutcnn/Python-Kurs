{
 "cells": [
  {
   "cell_type": "code",
   "execution_count": 1,
   "id": "90a43aec",
   "metadata": {},
   "outputs": [
    {
     "name": "stdout",
     "output_type": "stream",
     "text": [
      "ada\n",
      "yigit\n"
     ]
    }
   ],
   "source": [
    "def changeName(n):\n",
    "    n='ada'\n",
    "    print(n)\n",
    "name='yigit'\n",
    "changeName(name)\n",
    "print(name)"
   ]
  },
  {
   "cell_type": "code",
   "execution_count": 3,
   "id": "3b556a9e",
   "metadata": {},
   "outputs": [
    {
     "name": "stdout",
     "output_type": "stream",
     "text": [
      "['istanbul', 'izmir']\n"
     ]
    }
   ],
   "source": [
    "def change(n):\n",
    "    n[0]='istanbul'\n",
    "sehirler=['ankara', 'izmir']\n",
    "change(sehirler)\n",
    "print(sehirler)"
   ]
  },
  {
   "cell_type": "code",
   "execution_count": 8,
   "id": "491ae942",
   "metadata": {},
   "outputs": [
    {
     "name": "stdout",
     "output_type": "stream",
     "text": [
      "['istanbul', 'izmir']\n"
     ]
    }
   ],
   "source": [
    "def change(n):\n",
    "    n[0]='istanbul'\n",
    "sehirler=['ankara', 'izmir']\n",
    "n=sehirler\n",
    "n[0]='istanbul'\n",
    "print(sehirler)"
   ]
  },
  {
   "cell_type": "code",
   "execution_count": 6,
   "id": "9bd04845",
   "metadata": {},
   "outputs": [
    {
     "name": "stdout",
     "output_type": "stream",
     "text": [
      "['ankara', 'izmir']\n"
     ]
    }
   ],
   "source": [
    "def change(n):\n",
    "    n[0]='istanbul'\n",
    "sehirler=['ankara', 'izmir']\n",
    "n=sehirler[:]#n ye tüm bilgileri at slicing\n",
    "n[0]='istanbul'\n",
    "print(sehirler)"
   ]
  },
  {
   "cell_type": "code",
   "execution_count": 9,
   "id": "e922c2bc",
   "metadata": {},
   "outputs": [
    {
     "name": "stdout",
     "output_type": "stream",
     "text": [
      "['ankara', 'izmir']\n"
     ]
    }
   ],
   "source": [
    "def change(n):\n",
    "    n[0]='istanbul'\n",
    "sehirler=['ankara', 'izmir']\n",
    "change(sehirler[:])\n",
    "print(sehirler)"
   ]
  },
  {
   "cell_type": "code",
   "execution_count": 11,
   "id": "c8e02322",
   "metadata": {},
   "outputs": [
    {
     "name": "stdout",
     "output_type": "stream",
     "text": [
      "30\n"
     ]
    }
   ],
   "source": [
    "def add(a,b):\n",
    "    return sum((a,b))#toplam fonksiyonu\n",
    "print(add(10,20))"
   ]
  },
  {
   "cell_type": "code",
   "execution_count": 10,
   "id": "afd71a75",
   "metadata": {},
   "outputs": [
    {
     "name": "stdout",
     "output_type": "stream",
     "text": [
      "30\n",
      "60\n"
     ]
    }
   ],
   "source": [
    "def add(a,b,c=0):\n",
    "    return sum((a,b,c))#toplam fonksiyonu\n",
    "print(add(10,20))\n",
    "print(add(10,20,30))"
   ]
  },
  {
   "cell_type": "code",
   "execution_count": 19,
   "id": "5392879f",
   "metadata": {},
   "outputs": [
    {
     "name": "stdout",
     "output_type": "stream",
     "text": [
      "(10, 20)\n",
      "30\n",
      "(10, 20, 30)\n",
      "60\n",
      "(10, 20, 30, 35, 60, 50, 100)\n",
      "305\n"
     ]
    }
   ],
   "source": [
    "def add(*params):#parametreler tuple\n",
    "    print(type(params))\n",
    "    print(params)\n",
    "    return sum((params))#toplam fonksiyonu\n",
    "    \n",
    "print(add(10,20))\n",
    "print(add(10,20,30))\n",
    "print(add(10,20,30,35,60,50,100))\n"
   ]
  },
  {
   "cell_type": "code",
   "execution_count": 20,
   "id": "ea120d95",
   "metadata": {},
   "outputs": [],
   "source": [
    "def add(*params):\n",
    "    sum=0\n",
    "    for n in params:\n",
    "        sum =sum +n\n",
    "    return sum\n",
    "    "
   ]
  },
  {
   "cell_type": "code",
   "execution_count": 24,
   "id": "62d5ab07",
   "metadata": {},
   "outputs": [
    {
     "name": "stdout",
     "output_type": "stream",
     "text": [
      "name in cinar\n",
      "age in 2\n",
      "city in istanbul\n",
      "name in umut\n",
      "age in 8\n",
      "city in bursa\n",
      "phone in 1234567895\n",
      "name in ali\n",
      "age in 3\n",
      "city in sakarya\n",
      "phone in 1234567895\n",
      "mail in ali@mail.com\n"
     ]
    }
   ],
   "source": [
    "def displayUser(**args):#gonderilenenler dictionary\n",
    "    print(type(args))\n",
    "    for key,value in args.items():\n",
    "        print('{} in {}'.format(key,value))\n",
    "    \n",
    "displayUser(name='cinar',age=2,city='istanbul')\n",
    "displayUser(name='umut',age=8,city='bursa',phone='1234567895')\n",
    "displayUser(name='ali',age=3,city='sakarya',phone='1234567895',mail='ali@mail.com')"
   ]
  },
  {
   "cell_type": "code",
   "execution_count": 26,
   "id": "0720a0a4",
   "metadata": {},
   "outputs": [
    {
     "name": "stdout",
     "output_type": "stream",
     "text": [
      "10\n",
      "20\n",
      "(30, 40, 50)\n",
      "{'key1': 'value1', 'key2': 'value2'}\n"
     ]
    }
   ],
   "source": [
    "def myfunc(a,b,*args,**kwargs):\n",
    "    print(a)\n",
    "    print(b)\n",
    "    print(args)\n",
    "    print(kwargs)\n",
    "myfunc(10,20,30,40,50,key1='value1',key2='value2') "
   ]
  },
  {
   "cell_type": "code",
   "execution_count": 27,
   "id": "a6f67efd",
   "metadata": {},
   "outputs": [
    {
     "name": "stdout",
     "output_type": "stream",
     "text": [
      "10\n",
      "20\n",
      "30\n",
      "(40, 50)\n",
      "{'key1': 'value1', 'key2': 'value2'}\n"
     ]
    }
   ],
   "source": [
    "def myfunc(a,b,c,*args,**kwargs):\n",
    "    print(a)\n",
    "    print(b)\n",
    "    print(c)\n",
    "    print(args)\n",
    "    print(kwargs)\n",
    "myfunc(10,20,30,40,50,key1='value1',key2='value2') "
   ]
  },
  {
   "cell_type": "code",
   "execution_count": null,
   "id": "56a1ece7",
   "metadata": {},
   "outputs": [],
   "source": []
  }
 ],
 "metadata": {
  "kernelspec": {
   "display_name": "Python 3 (ipykernel)",
   "language": "python",
   "name": "python3"
  },
  "language_info": {
   "codemirror_mode": {
    "name": "ipython",
    "version": 3
   },
   "file_extension": ".py",
   "mimetype": "text/x-python",
   "name": "python",
   "nbconvert_exporter": "python",
   "pygments_lexer": "ipython3",
   "version": "3.9.12"
  }
 },
 "nbformat": 4,
 "nbformat_minor": 5
}
