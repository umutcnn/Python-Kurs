{
 "cells": [
  {
   "cell_type": "code",
   "execution_count": 1,
   "id": "723b5cce",
   "metadata": {},
   "outputs": [
    {
     "name": "stdout",
     "output_type": "stream",
     "text": [
      "yazdirmak istediginiz sey nedir: umut\n",
      "yazdirmak istediginiz sey nedir: 12\n",
      "umut\n",
      "umut\n",
      "umut\n",
      "umut\n",
      "umut\n",
      "umut\n",
      "umut\n",
      "umut\n",
      "umut\n",
      "umut\n",
      "umut\n",
      "umut\n"
     ]
    }
   ],
   "source": [
    "kelime=input(\"yazdirmak istediginiz sey nedir: \")\n",
    "sayi=int(input(\"yazdirmak istediginiz sey nedir: \"))\n",
    "for i in range(sayi):\n",
    "    print(kelime)\n",
    "    i+=1\n",
    "    "
   ]
  },
  {
   "cell_type": "code",
   "execution_count": 7,
   "id": "040e7cf8",
   "metadata": {},
   "outputs": [
    {
     "name": "stdout",
     "output_type": "stream",
     "text": [
      "yazdirmak istediginiz sey nedir: umut\n",
      "yazdirmak istediginiz seyi kac kere yazayim: 5\n",
      "umut\n",
      "umut\n",
      "umut\n",
      "umut\n",
      "umut\n",
      "\n"
     ]
    }
   ],
   "source": [
    "def yazdir(kelime,adet):\n",
    "    print(kelime*adet)\n",
    "kelime=input(\"yazdirmak istediginiz sey nedir: \")\n",
    "sayi=int(input(\"yazdirmak istediginiz seyi kac kere yazayim: \"))\n",
    "yazdir(kelime+\"\\n\",sayi)"
   ]
  },
  {
   "cell_type": "code",
   "execution_count": 8,
   "id": "6c26ba73",
   "metadata": {},
   "outputs": [
    {
     "name": "stdout",
     "output_type": "stream",
     "text": [
      "[10, 20, 30, 'umut can', 'yildiz']\n"
     ]
    }
   ],
   "source": [
    "def listeyeCevir(*params):\n",
    "    liste=[]\n",
    "    for param in params:\n",
    "        liste.append(param)\n",
    "    return(liste)\n",
    "result =listeyeCevir(10,20,30,'umut can','yildiz')\n",
    "print(result)"
   ]
  },
  {
   "cell_type": "code",
   "execution_count": 12,
   "id": "148a539e",
   "metadata": {},
   "outputs": [
    {
     "name": "stdout",
     "output_type": "stream",
     "text": [
      "sayi1: 10\n",
      "sayi2: 30\n",
      "11\n",
      "13\n",
      "17\n",
      "19\n",
      "23\n",
      "29\n"
     ]
    }
   ],
   "source": [
    "def asalSayiBul(sayi1,sayi2):\n",
    "    for sayi in range(sayi1,sayi2):\n",
    "        if sayi>1:\n",
    "            for i in range(2,sayi):\n",
    "                if sayi%i==0:\n",
    "                    break\n",
    "            else:\n",
    "                print(sayi)\n",
    "                    \n",
    "sayi1=int(input(\"sayi1: \"))\n",
    "sayi2=int(input(\"sayi2: \"))\n",
    "asalSayiBul(sayi1,sayi2)"
   ]
  },
  {
   "cell_type": "code",
   "execution_count": 18,
   "id": "57c4d4ec",
   "metadata": {},
   "outputs": [
    {
     "name": "stdout",
     "output_type": "stream",
     "text": [
      "sayi: 36\n",
      "[2, 3, 4, 6, 9, 12, 18]\n"
     ]
    }
   ],
   "source": [
    "#kendisine gonderilen bir sayinin tam bolenlerinin tutuldugu bir liste\n",
    "def tamBolen(sayi):\n",
    "    tamBolenler=[]\n",
    "    for i in range(2,sayi):\n",
    "        if sayi%i==0:\n",
    "            tamBolenler.append(i)\n",
    "    print(tamBolen)\n",
    "\n",
    "\n",
    "sayi=int(input(\"sayi: \"))\n",
    "tamBolen(sayi)"
   ]
  },
  {
   "cell_type": "code",
   "execution_count": null,
   "id": "55519115",
   "metadata": {},
   "outputs": [],
   "source": []
  }
 ],
 "metadata": {
  "kernelspec": {
   "display_name": "Python 3 (ipykernel)",
   "language": "python",
   "name": "python3"
  },
  "language_info": {
   "codemirror_mode": {
    "name": "ipython",
    "version": 3
   },
   "file_extension": ".py",
   "mimetype": "text/x-python",
   "name": "python",
   "nbconvert_exporter": "python",
   "pygments_lexer": "ipython3",
   "version": "3.9.12"
  }
 },
 "nbformat": 4,
 "nbformat_minor": 5
}
