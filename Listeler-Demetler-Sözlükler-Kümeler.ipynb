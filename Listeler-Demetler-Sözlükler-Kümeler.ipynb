{
 "cells": [
  {
   "cell_type": "markdown",
   "id": "50df59c0",
   "metadata": {},
   "source": [
    "# Listeler"
   ]
  },
  {
   "cell_type": "code",
   "execution_count": 1,
   "id": "281b51fe",
   "metadata": {},
   "outputs": [
    {
     "name": "stdout",
     "output_type": "stream",
     "text": [
      "<class 'list'>\n",
      "['Python', 1, 'c', 'c++', 'java', 'html', 'css', 'javascript', 'angular', 'rect native', 2316549]\n"
     ]
    }
   ],
   "source": [
    "liste=[\"Python\",1,\"c\",\"c++\",\"java\",\"html\",\"css\",\"javascript\",\"angular\",\"rect native\",2316549]\n",
    "print(type(liste))\n",
    "print(liste)"
   ]
  },
  {
   "cell_type": "raw",
   "id": "ca6c9fdc",
   "metadata": {},
   "source": [
    "Liste elemanlarına erişim"
   ]
  },
  {
   "cell_type": "code",
   "execution_count": 2,
   "id": "14b482ef",
   "metadata": {},
   "outputs": [
    {
     "name": "stdout",
     "output_type": "stream",
     "text": [
      "1\n"
     ]
    }
   ],
   "source": [
    "liste=[1,2,3,4,5,6]\n",
    "print(liste[0])"
   ]
  },
  {
   "cell_type": "raw",
   "id": "164416b3",
   "metadata": {},
   "source": [
    "liste elemanlarına döngu ile erisim"
   ]
  },
  {
   "cell_type": "code",
   "execution_count": 3,
   "id": "f91ca1c9",
   "metadata": {},
   "outputs": [
    {
     "name": "stdout",
     "output_type": "stream",
     "text": [
      "1 2 3 4 5 6 "
     ]
    }
   ],
   "source": [
    "liste=[1,2,3,4,5,6]\n",
    "for a in liste:\n",
    "    print(a, end=\" \")\n",
    "    "
   ]
  },
  {
   "cell_type": "raw",
   "id": "92aee855",
   "metadata": {},
   "source": [
    "liste eleman sayısı bulma len()"
   ]
  },
  {
   "cell_type": "code",
   "execution_count": 6,
   "id": "5bbb2eaf",
   "metadata": {},
   "outputs": [
    {
     "name": "stdout",
     "output_type": "stream",
     "text": [
      "6\n"
     ]
    }
   ],
   "source": [
    "liste=[1,2,3,4,5,6]\n",
    "a=len(liste)\n",
    "print(a)"
   ]
  },
  {
   "cell_type": "raw",
   "id": "d5b28210",
   "metadata": {},
   "source": [
    "liste eleman index bulma "
   ]
  },
  {
   "cell_type": "code",
   "execution_count": 19,
   "id": "a69bd075",
   "metadata": {},
   "outputs": [
    {
     "name": "stdout",
     "output_type": "stream",
     "text": [
      "0. indekx deki deger 1 tir\n",
      "1. indekx deki deger 2 tir\n",
      "2. indekx deki deger 3 tir\n",
      "3. indekx deki deger 4 tir\n",
      "4. indekx deki deger 5 tir\n",
      "5. indekx deki deger 6 tir\n"
     ]
    }
   ],
   "source": [
    "for i in range(len(liste)):\n",
    "    print(\"{}. indekx deki deger {} tir\".format(i,liste[i]))\n",
    "    "
   ]
  },
  {
   "cell_type": "raw",
   "id": "40778c7e",
   "metadata": {},
   "source": [
    "liste elemanların değerini degistirme"
   ]
  },
  {
   "cell_type": "code",
   "execution_count": null,
   "id": "0f686215",
   "metadata": {},
   "outputs": [],
   "source": [
    "liste=[1,2,3,4,5,6]\n",
    "print(liste)\n",
    "liste[0]=0\n",
    "liste[1]=1\n",
    "liste[2]=2\n",
    "print(liste)"
   ]
  },
  {
   "cell_type": "raw",
   "id": "e1ce0d42",
   "metadata": {},
   "source": [
    "listeyi parçalama liste[baslangic_indeksi:bitis_indeksi:artis_miktari]"
   ]
  },
  {
   "cell_type": "code",
   "execution_count": 22,
   "id": "8764d4af",
   "metadata": {},
   "outputs": [
    {
     "name": "stdout",
     "output_type": "stream",
     "text": [
      "[2, 4]\n"
     ]
    }
   ],
   "source": [
    "liste=[1,2,3,4,5]\n",
    "liste2=liste[1:4:2]\n",
    "print(liste2)"
   ]
  },
  {
   "cell_type": "raw",
   "id": "20a2bf95",
   "metadata": {},
   "source": [
    "iki liste birlestirme"
   ]
  },
  {
   "cell_type": "code",
   "execution_count": 24,
   "id": "d25f2dfe",
   "metadata": {},
   "outputs": [
    {
     "name": "stdout",
     "output_type": "stream",
     "text": [
      "[1, 2, 3, 4, 5, 6, 7, 8, 9, 10]\n"
     ]
    }
   ],
   "source": [
    "liste=[1,2,3,4,5]\n",
    "liste1=[6,7,8,9,10]\n",
    "liste2=liste+liste1\n",
    "print(liste2)"
   ]
  },
  {
   "cell_type": "raw",
   "id": "89fec532",
   "metadata": {},
   "source": [
    "listeye sonradan eleman ekleme"
   ]
  },
  {
   "cell_type": "code",
   "execution_count": 26,
   "id": "1a674e71",
   "metadata": {},
   "outputs": [
    {
     "name": "stdout",
     "output_type": "stream",
     "text": [
      "[1, 2, 3, 4, 5]\n",
      "[1, 2, 3, 4, 5, 6]\n"
     ]
    }
   ],
   "source": [
    "print(liste)\n",
    "liste+=[6]\n",
    "print(liste)"
   ]
  },
  {
   "cell_type": "raw",
   "id": "1d96e7f2",
   "metadata": {},
   "source": [
    "listeyi ayni elemanlar ile cogaltma mesela liste = [1,2] olsun cogalttiktan sonra liste=[1,2,1,2] olur"
   ]
  },
  {
   "cell_type": "code",
   "execution_count": 28,
   "id": "ec29f66f",
   "metadata": {},
   "outputs": [
    {
     "name": "stdout",
     "output_type": "stream",
     "text": [
      "[1, 2, 3]\n",
      "[1, 2, 3, 1, 2, 3]\n"
     ]
    }
   ],
   "source": [
    "liste=[1,2,3]\n",
    "print(liste)\n",
    "liste*=2\n",
    "print(liste)"
   ]
  },
  {
   "cell_type": "raw",
   "id": "0347bbc7",
   "metadata": {},
   "source": [
    "Listeye eleman ekleme append insert\n",
    "append= direk sona ekler\n",
    "insert= senden index ve eklenmek istedigin girdiyi ister"
   ]
  },
  {
   "cell_type": "code",
   "execution_count": 30,
   "id": "ed7bc436",
   "metadata": {},
   "outputs": [
    {
     "name": "stdout",
     "output_type": "stream",
     "text": [
      "[1, 2, 3]\n",
      "[1, 2, 3, 5]\n"
     ]
    }
   ],
   "source": [
    "liste=[1,2,3]\n",
    "print(liste)\n",
    "liste.append(5)\n",
    "print(liste)"
   ]
  },
  {
   "cell_type": "code",
   "execution_count": 31,
   "id": "714b7e9e",
   "metadata": {},
   "outputs": [
    {
     "name": "stdout",
     "output_type": "stream",
     "text": [
      "[1, 2, 3, 4, 5]\n",
      "[10, 1, 2, 3, 4, 5]\n"
     ]
    }
   ],
   "source": [
    "liste=[1,2,3,4,5]\n",
    "print(liste)\n",
    "liste.insert(0,10)\n",
    "print(liste)"
   ]
  },
  {
   "cell_type": "raw",
   "id": "9c303121",
   "metadata": {},
   "source": [
    "Listeye eleman silme remove del pop\n",
    "remove=listeden belirtilen bir degeri cikarmak icin kullanilir\n",
    "del=listenin belirtilen indeksinden bir deger silmek icin kullanilir ya da komple listeyi silmek icin kullanilir\n",
    "pop= listenin son elemanini veya indeksteki elemai silmeyi ve sildigimiz elemani bir degiskene atmak icin kullanilir "
   ]
  },
  {
   "cell_type": "code",
   "execution_count": 1,
   "id": "6f3d5b35",
   "metadata": {},
   "outputs": [
    {
     "name": "stdout",
     "output_type": "stream",
     "text": [
      "[1, 2, 3, 4, 5]\n",
      "sildirmek istedigin sayiyi yaz5\n",
      "[1, 2, 3, 4]\n"
     ]
    }
   ],
   "source": [
    "liste=[1,2,3,4,5]\n",
    "print(liste)\n",
    "sayi=int(input(\"sildirmek istedigin sayiyi yaz: \"))\n",
    "liste.remove(sayi)\n",
    "print(liste)"
   ]
  },
  {
   "cell_type": "code",
   "execution_count": 7,
   "id": "4136cd65",
   "metadata": {},
   "outputs": [
    {
     "name": "stdout",
     "output_type": "stream",
     "text": [
      "[1, 2, 3, 4, 5]\n",
      "[2, 3, 4, 5]\n"
     ]
    }
   ],
   "source": [
    "liste=[1,2,3,4,5]\n",
    "print(liste)\n",
    "del(liste[0])\n",
    "print(liste)\n",
    "del liste\n",
    "# print(liste) sildigin icin bir daha listeye erisemezsin"
   ]
  },
  {
   "cell_type": "code",
   "execution_count": 5,
   "id": "74116da1",
   "metadata": {},
   "outputs": [
    {
     "name": "stdout",
     "output_type": "stream",
     "text": [
      "[1, 2, 3, 4, 5]\n",
      "[1, 2, 3, 4]\n",
      "5\n",
      "[1, 3, 4]\n",
      "2\n"
     ]
    }
   ],
   "source": [
    "liste=[1,2,3,4,5]\n",
    "print(liste)\n",
    "x=liste.pop()\n",
    "print(liste)\n",
    "print(x)\n",
    "x=liste.pop(1)\n",
    "print(liste)\n",
    "print(x)"
   ]
  },
  {
   "cell_type": "raw",
   "id": "a0b31452",
   "metadata": {},
   "source": [
    "Listede eleman kontrolu\n",
    "in= eger bir eleman fonksiyon icinde var ise True yok ise False sonucu verir.\n",
    "not in= eger keleman liste icinde ver ise False yok ise True komutu verir.\n",
    "index= aradiginiz eleman eger ki listede varsa, kacıncı indexte oldugunu verir, eleman listede yoksa Value Error verir."
   ]
  },
  {
   "cell_type": "code",
   "execution_count": 9,
   "id": "ce498c30",
   "metadata": {},
   "outputs": [
    {
     "name": "stdout",
     "output_type": "stream",
     "text": [
      "liste icersinde olup olmadıgını ogrenmek istedigin sayiyi gir11\n",
      "uzgunum bu sayi listede yok\n"
     ]
    }
   ],
   "source": [
    "liste=[10,20,30,40,50]\n",
    "sayi=int(input(\"liste icersinde olup olmadıgını ogrenmek istedigin sayiyi gir: \"))\n",
    "a=sayi in liste\n",
    "if a==True:\n",
    "    print(\"Bu sayi listede vardir\")\n",
    "else:\n",
    "    print(\"uzgunum bu sayi listede yok\")"
   ]
  },
  {
   "cell_type": "code",
   "execution_count": 11,
   "id": "30368034",
   "metadata": {},
   "outputs": [
    {
     "name": "stdout",
     "output_type": "stream",
     "text": [
      "False\n"
     ]
    }
   ],
   "source": [
    "liste=[10,20,30,40,50]\n",
    "print(10 not in liste)"
   ]
  },
  {
   "cell_type": "code",
   "execution_count": 12,
   "id": "1d88bf0c",
   "metadata": {},
   "outputs": [
    {
     "name": "stdout",
     "output_type": "stream",
     "text": [
      "liste icersinde olup olmadıgını ogrenmek istedigin sayiyi gir: 10\n",
      "0\n"
     ]
    }
   ],
   "source": [
    "liste=[10,20,30,40,50]\n",
    "sayi=int(input(\"listede kacıncı sırada oldugunu ogrenmek istedigin sayiyi gir: \"))\n",
    "print(liste.index(sayi))"
   ]
  },
  {
   "cell_type": "raw",
   "id": "8a90df06",
   "metadata": {},
   "source": [
    "Liste sıralama ve tersine cevirme\n",
    "sort= listenin elemanlarını buyukten kucuge dogru siralar\n",
    "reverse= listenin elemanlarini tersine cevirir, bastaki sona sondaki basa gelir"
   ]
  },
  {
   "cell_type": "code",
   "execution_count": 2,
   "id": "a6cc3c27",
   "metadata": {},
   "outputs": [
    {
     "name": "stdout",
     "output_type": "stream",
     "text": [
      "[100, 20, 350, 10, 50]\n",
      "[10, 20, 50, 100, 350]\n",
      "[350, 100, 50, 20, 10]\n"
     ]
    }
   ],
   "source": [
    "liste=[100,20,350,10,50]\n",
    "print(liste)\n",
    "liste.sort()\n",
    "print(liste)\n",
    "liste.reverse()\n",
    "print(liste)\n"
   ]
  },
  {
   "cell_type": "markdown",
   "id": "db66de54",
   "metadata": {},
   "source": [
    "count: Listede bir elemanın kaç kere geçtigi\n",
    "min: listenin en küçük elemanını\n",
    "max: listenin en büyük elemanını\n",
    "sum: listedeki elemanlarin toplamini verir"
   ]
  },
  {
   "cell_type": "code",
   "execution_count": 5,
   "id": "4f47c593",
   "metadata": {
    "scrolled": true
   },
   "outputs": [
    {
     "name": "stdout",
     "output_type": "stream",
     "text": [
      "3\n",
      "10\n",
      "350\n",
      "650\n"
     ]
    }
   ],
   "source": [
    "liste=[100,20,350,10,50,50,50,20]\n",
    "print(liste.count(50))\n",
    "print(min(liste))\n",
    "print(max(liste))\n",
    "print(sum(liste))\n"
   ]
  },
  {
   "cell_type": "markdown",
   "id": "3c5f850b",
   "metadata": {},
   "source": [
    "Liste eleman üretme yöntemleri"
   ]
  },
  {
   "cell_type": "code",
   "execution_count": 2,
   "id": "ce409e4d",
   "metadata": {},
   "outputs": [
    {
     "name": "stdout",
     "output_type": "stream",
     "text": [
      "[0, 1, 2, 3, 4]\n"
     ]
    }
   ],
   "source": [
    "liste=[i for i in range(5)] #sol taraf atayacagımız değer sağ taraf ise listeye eklenecek eleman sayisi\n",
    "print(liste)"
   ]
  },
  {
   "cell_type": "code",
   "execution_count": 3,
   "id": "6a570536",
   "metadata": {},
   "outputs": [
    {
     "name": "stdout",
     "output_type": "stream",
     "text": [
      "[0, 4, 16, 36, 64]\n"
     ]
    }
   ],
   "source": [
    "liste2=[i**2 for i in range(9) if i%2==0]\n",
    "print(liste2)"
   ]
  },
  {
   "cell_type": "markdown",
   "id": "565a29be",
   "metadata": {},
   "source": [
    "# Demetler\n",
    "Listeden en önemli farkı, demetler oluşturulduktan sonra yeni eleman eklenemez, güncellenemez, silinemez."
   ]
  },
  {
   "cell_type": "markdown",
   "id": "b175608c",
   "metadata": {},
   "source": [
    "demetler tuple() ve () ile tanımlanır"
   ]
  },
  {
   "cell_type": "code",
   "execution_count": null,
   "id": "04cad043",
   "metadata": {},
   "outputs": [],
   "source": [
    "demet1 = tuple()\n",
    "demet2 =()\n",
    "print(type(demet1))\n",
    "print(type(demet2))"
   ]
  },
  {
   "cell_type": "code",
   "execution_count": 7,
   "id": "c40d612f",
   "metadata": {},
   "outputs": [
    {
     "name": "stdout",
     "output_type": "stream",
     "text": [
      "0 0\n",
      "1 1\n",
      "4 2\n",
      "9 3\n",
      "16 4\n",
      "25 5\n",
      "36 6\n"
     ]
    }
   ],
   "source": [
    "demet= (0,1,2,3,4,5,6)\n",
    "for i in range(len(demet)):\n",
    "    print(i**2,demet[i])\n"
   ]
  },
  {
   "cell_type": "code",
   "execution_count": 10,
   "id": "f3a86be1",
   "metadata": {},
   "outputs": [
    {
     "name": "stdout",
     "output_type": "stream",
     "text": [
      "(0, 1, 2, 3, 4, 5, 6)\n",
      "(2, 4)\n",
      "(0, 1, 2)\n",
      "(0, 2, 4, 6)\n",
      "(6, 5, 4, 3, 2, 1, 0)\n"
     ]
    }
   ],
   "source": [
    "demet= (0,1,2,3,4,5,6)\n",
    "print(demet)\n",
    "demet2=demet[2:5:2]#baslangıc : bitis : artıs miktari\n",
    "demet3=demet[:3]\n",
    "demet4=demet[::2]\n",
    "demet5=demet[::-1]#demeti tersten yazdirma\n",
    "print(demet2)\n",
    "print(demet3)\n",
    "print(demet4)\n",
    "print(demet5)"
   ]
  },
  {
   "cell_type": "raw",
   "id": "f5e869af",
   "metadata": {},
   "source": [
    "Demet içerisinde eleman kontrolu nasil yapilir? \n",
    "in: eger bir eleman demet icinde varsa True, yoksa False dondurur\n",
    "not: eger demet icinde varsa False, yoksa True dondurur\n",
    "index: aradigin eleman demet icinde varsa kacinci indeste oldugunu verir yoksa Value Error verir"
   ]
  },
  {
   "cell_type": "code",
   "execution_count": 1,
   "id": "bf6cb8cd",
   "metadata": {},
   "outputs": [
    {
     "name": "stdout",
     "output_type": "stream",
     "text": [
      "3.9.12\n"
     ]
    }
   ],
   "source": [
    "from platform import python_version\n",
    "print(python_version())"
   ]
  },
  {
   "cell_type": "code",
   "execution_count": null,
   "id": "cebf8982",
   "metadata": {},
   "outputs": [],
   "source": []
  }
 ],
 "metadata": {
  "kernelspec": {
   "display_name": "Python 3 (ipykernel)",
   "language": "python",
   "name": "python3"
  },
  "language_info": {
   "codemirror_mode": {
    "name": "ipython",
    "version": 3
   },
   "file_extension": ".py",
   "mimetype": "text/x-python",
   "name": "python",
   "nbconvert_exporter": "python",
   "pygments_lexer": "ipython3",
   "version": "3.9.12"
  }
 },
 "nbformat": 4,
 "nbformat_minor": 5
}
