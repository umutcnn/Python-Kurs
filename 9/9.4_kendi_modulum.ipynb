{
 "cells": [
  {
   "cell_type": "code",
   "execution_count": 1,
   "id": "8d660968",
   "metadata": {},
   "outputs": [
    {
     "name": "stdout",
     "output_type": "stream",
     "text": [
      "modul eklendi\n"
     ]
    }
   ],
   "source": [
    "'''\n",
    "    modül hakkında\n",
    "'''\n",
    "\n",
    "print(\"modul eklendi\")\n",
    "number=10\n",
    "numbers=[1,2,3]\n",
    "person={\n",
    "    \"name\":\"ali\",\n",
    "    \"age\": \"25\",\n",
    "    \"city\":\"istanbul\"\n",
    "       }\n",
    "def func(x):\n",
    "    '''\n",
    "    fonksiyon hakkinda bilgilendirma\n",
    "    '''\n",
    "    print(f'x:')\n",
    "class Person:\n",
    "    def speak(self):\n",
    "        print(\"I am speking\")"
   ]
  },
  {
   "cell_type": "code",
   "execution_count": 2,
   "id": "1c63db8a",
   "metadata": {},
   "outputs": [
    {
     "ename": "ModuleNotFoundError",
     "evalue": "No module named 'mod'",
     "output_type": "error",
     "traceback": [
      "\u001b[1;31m---------------------------------------------------------------------------\u001b[0m",
      "\u001b[1;31mModuleNotFoundError\u001b[0m                       Traceback (most recent call last)",
      "Input \u001b[1;32mIn [2]\u001b[0m, in \u001b[0;36m<cell line: 1>\u001b[1;34m()\u001b[0m\n\u001b[1;32m----> 1\u001b[0m \u001b[38;5;28;01mimport\u001b[39;00m \u001b[38;5;21;01mmod\u001b[39;00m\n",
      "\u001b[1;31mModuleNotFoundError\u001b[0m: No module named 'mod'"
     ]
    }
   ],
   "source": [
    "import mod"
   ]
  },
  {
   "cell_type": "code",
   "execution_count": null,
   "id": "bf6cf9bc",
   "metadata": {},
   "outputs": [],
   "source": []
  }
 ],
 "metadata": {
  "kernelspec": {
   "display_name": "Python 3 (ipykernel)",
   "language": "python",
   "name": "python3"
  },
  "language_info": {
   "codemirror_mode": {
    "name": "ipython",
    "version": 3
   },
   "file_extension": ".py",
   "mimetype": "text/x-python",
   "name": "python",
   "nbconvert_exporter": "python",
   "pygments_lexer": "ipython3",
   "version": "3.9.12"
  }
 },
 "nbformat": 4,
 "nbformat_minor": 5
}
