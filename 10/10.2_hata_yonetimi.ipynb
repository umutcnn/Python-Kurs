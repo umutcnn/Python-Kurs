{
 "cells": [
  {
   "cell_type": "code",
   "execution_count": 1,
   "id": "837987ae",
   "metadata": {},
   "outputs": [
    {
     "name": "stdout",
     "output_type": "stream",
     "text": [
      "x: 10\n",
      "y: 0\n",
      "y için 0 girilemez\n"
     ]
    }
   ],
   "source": [
    "try:\n",
    "    x=int(input(\"x: \"))\n",
    "    y=int(input(\"y: \"))\n",
    "    print(x/y)\n",
    "except ZeroDivisionError:\n",
    "    print('y için 0 girilemez')\n",
    "except ValueError:\n",
    "    print('x ve y için sayisal deger girdiniz')"
   ]
  },
  {
   "cell_type": "code",
   "execution_count": 3,
   "id": "7c8d5468",
   "metadata": {},
   "outputs": [
    {
     "name": "stdout",
     "output_type": "stream",
     "text": [
      "x: 5\n",
      "y: as\n",
      "yanlıs bilgi girdiniz\n"
     ]
    }
   ],
   "source": [
    "try:\n",
    "    x=int(input(\"x: \"))\n",
    "    y=int(input(\"y: \"))\n",
    "    print(x/y)\n",
    "except (ZeroDivisionError,ValueError):\n",
    "    print('yanlıs bilgi girdiniz')"
   ]
  },
  {
   "cell_type": "code",
   "execution_count": 4,
   "id": "4f07adbe",
   "metadata": {},
   "outputs": [
    {
     "name": "stdout",
     "output_type": "stream",
     "text": [
      "x: 5\n",
      "y: dsa\n",
      "yanlıs bilgi girdiniz\n",
      "invalid literal for int() with base 10: 'dsa'\n"
     ]
    }
   ],
   "source": [
    "try:\n",
    "    x=int(input(\"x: \"))\n",
    "    y=int(input(\"y: \"))\n",
    "    print(x/y)\n",
    "except (ZeroDivisionError,ValueError)as e:\n",
    "    print('yanlıs bilgi girdiniz')\n",
    "    print(e)"
   ]
  },
  {
   "cell_type": "code",
   "execution_count": null,
   "id": "37263075",
   "metadata": {},
   "outputs": [],
   "source": [
    "  while True:\n",
    "    try:\n",
    "        x=int(input(\"x: \"))\n",
    "        y=int(input(\"y: \"))\n",
    "        print(x/y)\n",
    "    except :\n",
    "        print('yanlıs bilgi girdiniz')\n",
    "    else:\n",
    "        break\n",
    "        "
   ]
  },
  {
   "cell_type": "code",
   "execution_count": 7,
   "id": "638a521d",
   "metadata": {},
   "outputs": [
    {
     "name": "stdout",
     "output_type": "stream",
     "text": [
      "x: 10\n",
      "y: 0\n",
      "yanlıs bilgi girdiniz division by zero\n",
      "x: 10\n",
      "y: 5\n",
      "2.0\n"
     ]
    }
   ],
   "source": [
    "while True:\n",
    "    try:\n",
    "        x=int(input(\"x: \"))\n",
    "        y=int(input(\"y: \"))\n",
    "        print(x/y)\n",
    "    except Exception as ex:\n",
    "        print('yanlıs bilgi girdiniz',ex)\n",
    "    else:\n",
    "        break\n",
    "    finally:\n",
    "        print(\"try except sonlandi\")\n"
   ]
  },
  {
   "cell_type": "code",
   "execution_count": null,
   "id": "5c174a73",
   "metadata": {},
   "outputs": [],
   "source": []
  }
 ],
 "metadata": {
  "kernelspec": {
   "display_name": "Python 3 (ipykernel)",
   "language": "python",
   "name": "python3"
  },
  "language_info": {
   "codemirror_mode": {
    "name": "ipython",
    "version": 3
   },
   "file_extension": ".py",
   "mimetype": "text/x-python",
   "name": "python",
   "nbconvert_exporter": "python",
   "pygments_lexer": "ipython3",
   "version": "3.9.12"
  }
 },
 "nbformat": 4,
 "nbformat_minor": 5
}
