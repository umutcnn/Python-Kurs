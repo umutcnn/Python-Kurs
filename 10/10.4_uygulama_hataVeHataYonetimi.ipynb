{
 "cells": [
  {
   "cell_type": "code",
   "execution_count": 2,
   "id": "039ffa48",
   "metadata": {},
   "outputs": [
    {
     "name": "stdout",
     "output_type": "stream",
     "text": [
      "1\n",
      "2\n",
      "10\n",
      "50\n"
     ]
    }
   ],
   "source": [
    "liste=[\"1\",\"2\",\"5a\",\"10b\",\"abc\",\"10\",\"50\"]\n",
    "\n",
    "for x in liste:\n",
    "    try:\n",
    "        result=int(x)\n",
    "        print(result)\n",
    "    except ValueError:\n",
    "        continue"
   ]
  },
  {
   "cell_type": "code",
   "execution_count": 3,
   "id": "80b6e5b8",
   "metadata": {},
   "outputs": [
    {
     "name": "stdout",
     "output_type": "stream",
     "text": [
      "sayi: 10a\n",
      "geçersiz sayi\n",
      "sayi: 10\n",
      "girdiginiz sayi 10.0\n",
      "sayi: q\n"
     ]
    }
   ],
   "source": [
    "while True:\n",
    "    sayi=input(\"sayi: \")\n",
    "    if sayi=='q':\n",
    "        break\n",
    "    try:\n",
    "        result=float(sayi)\n",
    "        print('girdiginiz sayi', result)\n",
    "    except ValueError:\n",
    "        print('geçersiz sayi')\n",
    "        continue\n",
    "        "
   ]
  },
  {
   "cell_type": "code",
   "execution_count": 8,
   "id": "53fee41b",
   "metadata": {},
   "outputs": [
    {
     "name": "stdout",
     "output_type": "stream",
     "text": [
      "parola: umut\n"
     ]
    }
   ],
   "source": [
    "def checkPassword(parpla): \n",
    "    turkce_karakterler='şçğüöıİ'\n",
    "    for i in parola:\n",
    "        if i in turkce_karakterler:\n",
    "            raise TypeError('parola turkce karakterler içeremez')\n",
    "        else:\n",
    "            pass\n",
    "\n",
    "parola=input('parola: ')\n",
    "\n",
    "try:\n",
    "    checkPassword(parola)\n",
    "except TypeError as err:\n",
    "    print(err)"
   ]
  },
  {
   "cell_type": "code",
   "execution_count": 13,
   "id": "324f5ad8",
   "metadata": {},
   "outputs": [
    {
     "name": "stdout",
     "output_type": "stream",
     "text": [
      "120\n",
      "3628800\n",
      "2432902008176640000\n",
      "negatif deger\n",
      "invalid literal for int() with base 10: '10a'\n"
     ]
    }
   ],
   "source": [
    "def faktoriyel(x):\n",
    "    x=int(x)\n",
    "    if x<0:\n",
    "        raise ValueError('negatif deger')\n",
    "    result=1\n",
    "    for i in range(1,x+1):\n",
    "        result*=i\n",
    "    return(result)\n",
    "\n",
    "\n",
    "\n",
    "for x in [5,10,20,-3,'10a']:\n",
    "    try:\n",
    "        y=faktoriyel(x)\n",
    "    except ValueError as err:\n",
    "        print(err)\n",
    "        continue\n",
    "    print(y)"
   ]
  },
  {
   "cell_type": "code",
   "execution_count": null,
   "id": "f6181369",
   "metadata": {},
   "outputs": [],
   "source": []
  }
 ],
 "metadata": {
  "kernelspec": {
   "display_name": "Python 3 (ipykernel)",
   "language": "python",
   "name": "python3"
  },
  "language_info": {
   "codemirror_mode": {
    "name": "ipython",
    "version": 3
   },
   "file_extension": ".py",
   "mimetype": "text/x-python",
   "name": "python",
   "nbconvert_exporter": "python",
   "pygments_lexer": "ipython3",
   "version": "3.9.12"
  }
 },
 "nbformat": 4,
 "nbformat_minor": 5
}
