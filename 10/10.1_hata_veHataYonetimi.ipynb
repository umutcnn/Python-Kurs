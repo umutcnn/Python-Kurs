{
 "cells": [
  {
   "cell_type": "code",
   "execution_count": null,
   "id": "318d8685",
   "metadata": {},
   "outputs": [],
   "source": [
    "#error=>hata\n",
    "#error\n",
    "#print(a)==>name error\n",
    "#print('1a2')==>value error\n",
    "#print(10/0)==>zeroDivision error\n",
    "#print('denem'e)==>syntax error\n",
    "#error handling =>hata yontemi"
   ]
  }
 ],
 "metadata": {
  "kernelspec": {
   "display_name": "Python 3 (ipykernel)",
   "language": "python",
   "name": "python3"
  },
  "language_info": {
   "codemirror_mode": {
    "name": "ipython",
    "version": 3
   },
   "file_extension": ".py",
   "mimetype": "text/x-python",
   "name": "python",
   "nbconvert_exporter": "python",
   "pygments_lexer": "ipython3",
   "version": "3.9.12"
  }
 },
 "nbformat": 4,
 "nbformat_minor": 5
}
