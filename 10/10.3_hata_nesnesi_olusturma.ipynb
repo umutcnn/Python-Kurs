{
 "cells": [
  {
   "cell_type": "code",
   "execution_count": 1,
   "id": "288567c0",
   "metadata": {},
   "outputs": [
    {
     "ename": "Exception",
     "evalue": "x 5 ten buyuk deger alamaz",
     "output_type": "error",
     "traceback": [
      "\u001b[1;31m---------------------------------------------------------------------------\u001b[0m",
      "\u001b[1;31mException\u001b[0m                                 Traceback (most recent call last)",
      "Input \u001b[1;32mIn [1]\u001b[0m, in \u001b[0;36m<cell line: 2>\u001b[1;34m()\u001b[0m\n\u001b[0;32m      1\u001b[0m x\u001b[38;5;241m=\u001b[39m\u001b[38;5;241m10\u001b[39m\n\u001b[0;32m      2\u001b[0m \u001b[38;5;28;01mif\u001b[39;00m x \u001b[38;5;241m>\u001b[39m\u001b[38;5;241m5\u001b[39m:\n\u001b[1;32m----> 3\u001b[0m     \u001b[38;5;28;01mraise\u001b[39;00m \u001b[38;5;167;01mException\u001b[39;00m(\u001b[38;5;124m\"\u001b[39m\u001b[38;5;124mx 5 ten buyuk deger alamaz\u001b[39m\u001b[38;5;124m\"\u001b[39m)\n",
      "\u001b[1;31mException\u001b[0m: x 5 ten buyuk deger alamaz"
     ]
    }
   ],
   "source": [
    "x=10\n",
    "if x >5:\n",
    "    raise Exception(\"x 5 ten buyuk deger alamaz\")"
   ]
  },
  {
   "cell_type": "code",
   "execution_count": 17,
   "id": "c07fd95f",
   "metadata": {},
   "outputs": [
    {
     "name": "stdout",
     "output_type": "stream",
     "text": [
      "gecerli parola olusturdunuz\n",
      "gecerli parola olusturdunuz\n",
      "validation tamamlandi\n"
     ]
    }
   ],
   "source": [
    "def check_password(psw):\n",
    "    import re\n",
    "    if len(psw)<8:\n",
    "        raise Exception(\"parola en az 8 karakterli olmalidir\")\n",
    "    elif not re.search(\"[a-z]\",psw):\n",
    "        raise Exception(\"parola kucuk harf icermelidir\")\n",
    "    elif not re.search(\"[A-Z]\",psw):\n",
    "        raise Exception(\"parola buyuk harf icermelidir\")\n",
    "    elif not re.search(\"[0-9]\",psw):\n",
    "        raise Exception(\"parola rakam icermelidir\")\n",
    "    elif not re.search(\"[_@$]\",psw):\n",
    "        raise Exception(\"parola alpha numeric icermelidir\")\n",
    "    elif re.search(\"\\s\",psw):\n",
    "        raise Exception(\"parola bosluk icermemelidir\")\n",
    "    else:\n",
    "        print(\"gecerli parola olusturdunuz\")\n",
    "password=\"123546789aA_\"\n",
    "\n",
    "try:\n",
    "    check_password(password)\n",
    "except Exception as ex:\n",
    "    print(ex)\n",
    "else:\n",
    "        print(\"gecerli parola olusturdunuz\")\n",
    "finally:\n",
    "    print(\"validation tamamlandi\")"
   ]
  },
  {
   "cell_type": "code",
   "execution_count": 20,
   "id": "be2df4d0",
   "metadata": {},
   "outputs": [
    {
     "ename": "Exception",
     "evalue": "name alanı fazla karakter iceriyor",
     "output_type": "error",
     "traceback": [
      "\u001b[1;31m---------------------------------------------------------------------------\u001b[0m",
      "\u001b[1;31mException\u001b[0m                                 Traceback (most recent call last)",
      "Input \u001b[1;32mIn [20]\u001b[0m, in \u001b[0;36m<cell line: 7>\u001b[1;34m()\u001b[0m\n\u001b[0;32m      5\u001b[0m         \u001b[38;5;28;01melse\u001b[39;00m:\n\u001b[0;32m      6\u001b[0m             \u001b[38;5;28mself\u001b[39m\u001b[38;5;241m.\u001b[39mname\u001b[38;5;241m=\u001b[39mname\n\u001b[1;32m----> 7\u001b[0m p\u001b[38;5;241m=\u001b[39m\u001b[43mPerson\u001b[49m\u001b[43m(\u001b[49m\u001b[38;5;124;43m\"\u001b[39;49m\u001b[38;5;124;43maliiiiiiiiiiiiiiiiiiiiiiiiiiiii\u001b[39;49m\u001b[38;5;124;43m\"\u001b[39;49m\u001b[43m,\u001b[49m\u001b[38;5;241;43m2001\u001b[39;49m\u001b[43m)\u001b[49m\n",
      "Input \u001b[1;32mIn [20]\u001b[0m, in \u001b[0;36mPerson.__init__\u001b[1;34m(self, name, year)\u001b[0m\n\u001b[0;32m      2\u001b[0m \u001b[38;5;28;01mdef\u001b[39;00m \u001b[38;5;21m__init__\u001b[39m(\u001b[38;5;28mself\u001b[39m,name,year):\n\u001b[0;32m      3\u001b[0m     \u001b[38;5;28;01mif\u001b[39;00m \u001b[38;5;28mlen\u001b[39m(name)\u001b[38;5;241m>\u001b[39m\u001b[38;5;241m10\u001b[39m:\n\u001b[1;32m----> 4\u001b[0m         \u001b[38;5;28;01mraise\u001b[39;00m \u001b[38;5;167;01mException\u001b[39;00m(\u001b[38;5;124m\"\u001b[39m\u001b[38;5;124mname alanı fazla karakter iceriyor\u001b[39m\u001b[38;5;124m\"\u001b[39m)\n\u001b[0;32m      5\u001b[0m     \u001b[38;5;28;01melse\u001b[39;00m:\n\u001b[0;32m      6\u001b[0m         \u001b[38;5;28mself\u001b[39m\u001b[38;5;241m.\u001b[39mname\u001b[38;5;241m=\u001b[39mname\n",
      "\u001b[1;31mException\u001b[0m: name alanı fazla karakter iceriyor"
     ]
    }
   ],
   "source": [
    "class Person:\n",
    "    def __init__(self,name,year):\n",
    "        if len(name)>10:\n",
    "            raise Exception(\"name alanı fazla karakter iceriyor\")\n",
    "        else:\n",
    "            self.name=name\n",
    "p=Person(\"aliiiiiiiiiiiiiiiiiiiiiiiiiiiii\",2001)"
   ]
  },
  {
   "cell_type": "code",
   "execution_count": null,
   "id": "8b491274",
   "metadata": {},
   "outputs": [],
   "source": []
  }
 ],
 "metadata": {
  "kernelspec": {
   "display_name": "Python 3 (ipykernel)",
   "language": "python",
   "name": "python3"
  },
  "language_info": {
   "codemirror_mode": {
    "name": "ipython",
    "version": 3
   },
   "file_extension": ".py",
   "mimetype": "text/x-python",
   "name": "python",
   "nbconvert_exporter": "python",
   "pygments_lexer": "ipython3",
   "version": "3.9.12"
  }
 },
 "nbformat": 4,
 "nbformat_minor": 5
}
