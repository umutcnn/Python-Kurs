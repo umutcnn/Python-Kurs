{
 "cells": [
  {
   "cell_type": "code",
   "execution_count": null,
   "id": "f66b6234",
   "metadata": {},
   "outputs": [],
   "source": [
    "4-0.5"
   ]
  },
  {
   "cell_type": "code",
   "execution_count": null,
   "id": "79a1ec3b",
   "metadata": {},
   "outputs": [],
   "source": [
    "0.5*2"
   ]
  },
  {
   "cell_type": "code",
   "execution_count": null,
   "id": "9759e1e7",
   "metadata": {},
   "outputs": [],
   "source": [
    "2+2"
   ]
  },
  {
   "cell_type": "code",
   "execution_count": null,
   "id": "77e748cc",
   "metadata": {},
   "outputs": [],
   "source": [
    "1/2"
   ]
  },
  {
   "cell_type": "code",
   "execution_count": null,
   "id": "299fe57a",
   "metadata": {},
   "outputs": [],
   "source": [
    "20/2.0"
   ]
  },
  {
   "cell_type": "code",
   "execution_count": null,
   "id": "3ce1e41b",
   "metadata": {},
   "outputs": [],
   "source": [
    "2**3 #üst alır"
   ]
  },
  {
   "cell_type": "code",
   "execution_count": null,
   "id": "9c15a447",
   "metadata": {},
   "outputs": [],
   "source": [
    "3**4"
   ]
  },
  {
   "cell_type": "code",
   "execution_count": null,
   "id": "c3d8aa8b",
   "metadata": {},
   "outputs": [],
   "source": [
    "3**0.5"
   ]
  },
  {
   "cell_type": "code",
   "execution_count": null,
   "id": "49d5e347",
   "metadata": {},
   "outputs": [],
   "source": [
    "10%2 #mod alır"
   ]
  },
  {
   "cell_type": "code",
   "execution_count": null,
   "id": "8ade9ccc",
   "metadata": {},
   "outputs": [],
   "source": [
    "11%2"
   ]
  },
  {
   "cell_type": "code",
   "execution_count": null,
   "id": "ed7dbb26",
   "metadata": {},
   "outputs": [],
   "source": [
    "15456212%5"
   ]
  },
  {
   "cell_type": "code",
   "execution_count": null,
   "id": "76e882ea",
   "metadata": {},
   "outputs": [],
   "source": [
    "10//3 #bölümü verir"
   ]
  },
  {
   "cell_type": "code",
   "execution_count": null,
   "id": "52b95a33",
   "metadata": {},
   "outputs": [],
   "source": [
    "15//4"
   ]
  },
  {
   "cell_type": "code",
   "execution_count": null,
   "id": "2b8d31cc",
   "metadata": {},
   "outputs": [],
   "source": [
    "-15//4"
   ]
  },
  {
   "cell_type": "code",
   "execution_count": null,
   "id": "6d5402be",
   "metadata": {},
   "outputs": [],
   "source": [
    "10//3"
   ]
  },
  {
   "cell_type": "code",
   "execution_count": null,
   "id": "2f90371e",
   "metadata": {},
   "outputs": [],
   "source": [
    "-10//3"
   ]
  }
 ],
 "metadata": {
  "kernelspec": {
   "display_name": "Python 3 (ipykernel)",
   "language": "python",
   "name": "python3"
  },
  "language_info": {
   "codemirror_mode": {
    "name": "ipython",
    "version": 3
   },
   "file_extension": ".py",
   "mimetype": "text/x-python",
   "name": "python",
   "nbconvert_exporter": "python",
   "pygments_lexer": "ipython3",
   "version": "3.9.12"
  }
 },
 "nbformat": 4,
 "nbformat_minor": 5
}
