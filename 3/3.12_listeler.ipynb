{
 "cells": [
  {
   "cell_type": "code",
   "execution_count": 1,
   "id": "2fb640d0",
   "metadata": {},
   "outputs": [
    {
     "name": "stdout",
     "output_type": "stream",
     "text": [
      "['hello', 'there.', 'my', 'name', 'is', 'umut', 'can', 'yıldız']\n"
     ]
    }
   ],
   "source": [
    "message=\" hello there. my name is umut can yıldız\".split()\n",
    "print(message)\n",
    "print(message[0])"
   ]
  },
  {
   "cell_type": "code",
   "execution_count": 2,
   "id": "a6bd0d6a",
   "metadata": {},
   "outputs": [
    {
     "name": "stdout",
     "output_type": "stream",
     "text": [
      "[1, 2, 3]\n",
      "['bir', 2, True, 5.6]\n"
     ]
    }
   ],
   "source": [
    "my_list=[1,2,3]\n",
    "print(my_list)\n",
    "my_list=['bir',2,True,5.6]\n",
    "print(my_list)\n"
   ]
  },
  {
   "cell_type": "code",
   "execution_count": 4,
   "id": "3e31c7ff",
   "metadata": {},
   "outputs": [
    {
     "name": "stdout",
     "output_type": "stream",
     "text": [
      "['one', 'two', 'there', 'four', 'fife', 'six']\n",
      "6\n",
      "5\n",
      "hello\n"
     ]
    }
   ],
   "source": [
    "list1=['one','two','there']\n",
    "list2=['four','fife','six']\n",
    "numbers=list1+list2\n",
    "print(numbers)\n",
    "print(len(numbers))\n",
    "print(len(numbers[2]))\n",
    "print(message[0])"
   ]
  },
  {
   "cell_type": "code",
   "execution_count": 14,
   "id": "f3675395",
   "metadata": {},
   "outputs": [
    {
     "name": "stdout",
     "output_type": "stream",
     "text": [
      "['umut can', 21]\n",
      "['yıldız', 23]\n",
      "[['umut can', 21], ['yıldız', 23]]\n",
      "yıldız\n",
      "['yıldız', 23]\n"
     ]
    }
   ],
   "source": [
    "userA=[\"umut can\",21]\n",
    "userB=[\"yıldız\",23]\n",
    "users= [userA,userB]\n",
    "print(userA)\n",
    "print(userB)\n",
    "print(users)\n",
    "print(users[1][0])#usersin içerisinde userB ye ulaş daha sonra adını yazdır\n",
    "a=users[1]\n",
    "print(a)"
   ]
  }
 ],
 "metadata": {
  "kernelspec": {
   "display_name": "Python 3 (ipykernel)",
   "language": "python",
   "name": "python3"
  },
  "language_info": {
   "codemirror_mode": {
    "name": "ipython",
    "version": 3
   },
   "file_extension": ".py",
   "mimetype": "text/x-python",
   "name": "python",
   "nbconvert_exporter": "python",
   "pygments_lexer": "ipython3",
   "version": "3.9.12"
  }
 },
 "nbformat": 4,
 "nbformat_minor": 5
}
