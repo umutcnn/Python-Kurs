{
 "cells": [
  {
   "cell_type": "code",
   "execution_count": 1,
   "id": "9319a4a5",
   "metadata": {},
   "outputs": [
    {
     "name": "stdout",
     "output_type": "stream",
     "text": [
      "34\n"
     ]
    }
   ],
   "source": [
    "sehirler=[\"kocaeli\",\"istanbul\"]#liste seklinde tanımlarsak boyle\n",
    "plakalar=[41,34]\n",
    "print(plakalar[sehirler.index(\"istanbul\")])"
   ]
  },
  {
   "cell_type": "code",
   "execution_count": 2,
   "id": "daefce8a",
   "metadata": {},
   "outputs": [],
   "source": [
    "plakalar={'kocaeli': 40,'istanbul':34}#birbiri ile baglantili şeyleri boyle yazabiliriz\n",
    "print(plakalar['kocaeli'])\n",
    "print(plakalar['istanbul'])"
   ]
  },
  {
   "cell_type": "code",
   "execution_count": 4,
   "id": "d4fb84f6",
   "metadata": {},
   "outputs": [
    {
     "name": "stdout",
     "output_type": "stream",
     "text": [
      "{'kocaeli': 'new value', 'istanbul': 34, 'ankara': 6}\n"
     ]
    }
   ],
   "source": [
    "plakalar['ankara']=6\n",
    "plakalar['kocaeli']=\"new value\"\n",
    "\n",
    "print(plakalar)"
   ]
  },
  {
   "cell_type": "code",
   "execution_count": 9,
   "id": "8b1e58b0",
   "metadata": {},
   "outputs": [
    {
     "name": "stdout",
     "output_type": "stream",
     "text": [
      "{'age': 8, 'roles': ['admin', 'user'], 'email': 'berkay@hotmail.com', 'addres': 'bursa', 'phone': '1232587496'}\n",
      "8\n",
      "berkay@hotmail.com\n",
      "bursa\n",
      "1232587496\n",
      "['admin', 'user']\n"
     ]
    }
   ],
   "source": [
    "users={\n",
    "    'umut can':{\n",
    "        'age':21,\n",
    "        'roles':['user'],\n",
    "        'email':'umut_can@gmail.com',\n",
    "        'addres':'sakarya',\n",
    "        'phone':'1232587496'\n",
    "    },\n",
    "    'berkay': {\n",
    "         'age':8,\n",
    "        'roles':['admin','user'],\n",
    "        'email':'berkay@hotmail.com',\n",
    "        'addres':'bursa',\n",
    "        'phone':'1232587496'\n",
    "}\n",
    "}\n",
    "print(users['berkay'])\n",
    "print(users['berkay']['age'])\n",
    "print(users['berkay']['email'])\n",
    "print(users['berkay']['addres'])\n",
    "print(users['berkay']['phone'])\n",
    "print(users['berkay']['roles'])"
   ]
  },
  {
   "cell_type": "code",
   "execution_count": null,
   "id": "227a8b56",
   "metadata": {},
   "outputs": [],
   "source": []
  }
 ],
 "metadata": {
  "kernelspec": {
   "display_name": "Python 3 (ipykernel)",
   "language": "python",
   "name": "python3"
  },
  "language_info": {
   "codemirror_mode": {
    "name": "ipython",
    "version": 3
   },
   "file_extension": ".py",
   "mimetype": "text/x-python",
   "name": "python",
   "nbconvert_exporter": "python",
   "pygments_lexer": "ipython3",
   "version": "3.9.12"
  }
 },
 "nbformat": 4,
 "nbformat_minor": 5
}
