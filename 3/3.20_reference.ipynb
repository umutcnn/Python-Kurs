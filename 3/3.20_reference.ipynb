{
 "cells": [
  {
   "cell_type": "raw",
   "id": "01659c35",
   "metadata": {},
   "source": [
    "x=5\n",
    "y=25\n",
    "x=y\n",
    "y=10\n",
    "print(x,y)"
   ]
  },
  {
   "cell_type": "markdown",
   "id": "cd8b51db",
   "metadata": {},
   "source": [
    "# B de yaptıgın degisiklik ay yı etkiler"
   ]
  },
  {
   "cell_type": "code",
   "execution_count": 3,
   "id": "e422d852",
   "metadata": {},
   "outputs": [
    {
     "name": "stdout",
     "output_type": "stream",
     "text": [
      "['grape', 'banana'] ['grape', 'banana']\n"
     ]
    }
   ],
   "source": [
    "a=[\"apple\",\"banana\"]\n",
    "b=[\"apple\",\"banana\"]\n",
    "a=b\n",
    "b[0]=\"grape\"\n",
    "print(a,b)"
   ]
  },
  {
   "cell_type": "code",
   "execution_count": null,
   "id": "1467849d",
   "metadata": {},
   "outputs": [],
   "source": []
  }
 ],
 "metadata": {
  "kernelspec": {
   "display_name": "Python 3 (ipykernel)",
   "language": "python",
   "name": "python3"
  },
  "language_info": {
   "codemirror_mode": {
    "name": "ipython",
    "version": 3
   },
   "file_extension": ".py",
   "mimetype": "text/x-python",
   "name": "python",
   "nbconvert_exporter": "python",
   "pygments_lexer": "ipython3",
   "version": "3.9.12"
  }
 },
 "nbformat": 4,
 "nbformat_minor": 5
}
