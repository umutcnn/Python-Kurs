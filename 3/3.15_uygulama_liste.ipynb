{
 "cells": [
  {
   "cell_type": "code",
   "execution_count": 17,
   "id": "8c3eafbb",
   "metadata": {},
   "outputs": [],
   "source": [
    "names=[\"ali\",\"yagmur\",\"hakan\",\"deniz\"]\n",
    "years=[1998,2000,1998,1987]\n"
   ]
  },
  {
   "cell_type": "code",
   "execution_count": 4,
   "id": "ffc2ecfa",
   "metadata": {},
   "outputs": [
    {
     "name": "stdout",
     "output_type": "stream",
     "text": [
      "['ali', 'yagmur', 'hakan', 'deniz', 'cenk']\n"
     ]
    }
   ],
   "source": [
    "names.append(\"cenk\")\n",
    "print(names)"
   ]
  },
  {
   "cell_type": "code",
   "execution_count": 5,
   "id": "f3e5b7ca",
   "metadata": {},
   "outputs": [
    {
     "name": "stdout",
     "output_type": "stream",
     "text": [
      "['ali', 'yagmur', 'hakan', 'deniz', 'cenk', 'sena']\n"
     ]
    }
   ],
   "source": [
    "names.insert(len(names),\"sena\")\n",
    "print(names)"
   ]
  },
  {
   "cell_type": "code",
   "execution_count": 9,
   "id": "d3622d5d",
   "metadata": {},
   "outputs": [
    {
     "name": "stdout",
     "output_type": "stream",
     "text": [
      "['ali', 'yagmur', 'hakan']\n",
      "['ali', 'hakan']\n"
     ]
    }
   ],
   "source": [
    "names.remove(\"deniz\")\n",
    "print(names)\n",
    "names.pop(1)\n",
    "print(names)"
   ]
  },
  {
   "cell_type": "code",
   "execution_count": 12,
   "id": "ccce85dc",
   "metadata": {},
   "outputs": [
    {
     "name": "stdout",
     "output_type": "stream",
     "text": [
      "3\n",
      "['ali', 'yagmur', 'hakan']\n"
     ]
    }
   ],
   "source": [
    "index=names.index(\"deniz\")\n",
    "print(index)\n",
    "names.pop(index)\n",
    "print(names)"
   ]
  },
  {
   "cell_type": "code",
   "execution_count": 14,
   "id": "dae62c4a",
   "metadata": {},
   "outputs": [
    {
     "name": "stdout",
     "output_type": "stream",
     "text": [
      "True\n",
      "0\n"
     ]
    }
   ],
   "source": [
    "result=\"ali\" in names\n",
    "print(result)\n",
    "index=names.index(\"ali\")\n",
    "print(index)"
   ]
  },
  {
   "cell_type": "code",
   "execution_count": 15,
   "id": "354c364f",
   "metadata": {},
   "outputs": [
    {
     "name": "stdout",
     "output_type": "stream",
     "text": [
      "['hakan', 'yagmur', 'ali']\n"
     ]
    }
   ],
   "source": [
    "names.reverse()\n",
    "print(names)"
   ]
  },
  {
   "cell_type": "code",
   "execution_count": 19,
   "id": "65a4a5a1",
   "metadata": {},
   "outputs": [
    {
     "name": "stdout",
     "output_type": "stream",
     "text": [
      "['ali', 'deniz', 'hakan', 'yagmur']\n"
     ]
    }
   ],
   "source": [
    "names.sort()\n",
    "print(names)"
   ]
  },
  {
   "cell_type": "code",
   "execution_count": 22,
   "id": "5610e028",
   "metadata": {},
   "outputs": [
    {
     "name": "stdout",
     "output_type": "stream",
     "text": [
      "[1987, 1998, 1998, 2000]\n"
     ]
    }
   ],
   "source": [
    "years.sort()\n",
    "print(years)"
   ]
  },
  {
   "cell_type": "code",
   "execution_count": null,
   "id": "0cf2d1ee",
   "metadata": {},
   "outputs": [],
   "source": [
    "str=\"chevrolet,dacia\"\n",
    "result=str.split(',')\n",
    "print(result)"
   ]
  },
  {
   "cell_type": "code",
   "execution_count": 23,
   "id": "65c28f24",
   "metadata": {},
   "outputs": [
    {
     "name": "stdout",
     "output_type": "stream",
     "text": [
      "1987\n",
      "2000\n"
     ]
    }
   ],
   "source": [
    "min=min(years)\n",
    "print(min)\n",
    "max=max(years)\n",
    "print(max)"
   ]
  },
  {
   "cell_type": "code",
   "execution_count": 24,
   "id": "4d61bc56",
   "metadata": {},
   "outputs": [
    {
     "name": "stdout",
     "output_type": "stream",
     "text": [
      "0\n"
     ]
    }
   ],
   "source": [
    "result=years.count(1998)\n",
    "print(result)"
   ]
  },
  {
   "cell_type": "code",
   "execution_count": null,
   "id": "494ea8b2",
   "metadata": {},
   "outputs": [],
   "source": [
    "years.clear()\n",
    "print(years)"
   ]
  },
  {
   "cell_type": "code",
   "execution_count": 32,
   "id": "f7cf9d51",
   "metadata": {},
   "outputs": [
    {
     "name": "stdout",
     "output_type": "stream",
     "text": [
      "ekle: 3\n",
      "ekle: 6\n",
      "ekle: 9\n"
     ]
    }
   ],
   "source": [
    "markalar=[]\n",
    "for i in range(3):\n",
    "    markalar+=input(\"ekle: \")\n",
    "    "
   ]
  },
  {
   "cell_type": "code",
   "execution_count": 36,
   "id": "953af0a0",
   "metadata": {},
   "outputs": [
    {
     "name": "stdout",
     "output_type": "stream",
     "text": [
      "['3', '6', '9', '25']\n"
     ]
    }
   ],
   "source": [
    "print(markalar)"
   ]
  },
  {
   "cell_type": "code",
   "execution_count": 34,
   "id": "a4d1daed",
   "metadata": {},
   "outputs": [
    {
     "name": "stdout",
     "output_type": "stream",
     "text": [
      "marka: 25\n"
     ]
    }
   ],
   "source": [
    "\n",
    "marka=input(\"marka: \")\n",
    "markalar.append(marka)"
   ]
  },
  {
   "cell_type": "code",
   "execution_count": 35,
   "id": "a7642037",
   "metadata": {},
   "outputs": [
    {
     "name": "stdout",
     "output_type": "stream",
     "text": [
      "['3', '6', '9', '25']\n"
     ]
    }
   ],
   "source": [
    "print(markalar)"
   ]
  },
  {
   "cell_type": "code",
   "execution_count": null,
   "id": "81a55aa5",
   "metadata": {},
   "outputs": [],
   "source": []
  }
 ],
 "metadata": {
  "kernelspec": {
   "display_name": "Python 3 (ipykernel)",
   "language": "python",
   "name": "python3"
  },
  "language_info": {
   "codemirror_mode": {
    "name": "ipython",
    "version": 3
   },
   "file_extension": ".py",
   "mimetype": "text/x-python",
   "name": "python",
   "nbconvert_exporter": "python",
   "pygments_lexer": "ipython3",
   "version": "3.9.12"
  }
 },
 "nbformat": 4,
 "nbformat_minor": 5
}
