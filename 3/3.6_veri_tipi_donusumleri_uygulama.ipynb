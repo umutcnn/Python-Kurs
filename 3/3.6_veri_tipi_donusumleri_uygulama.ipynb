{
 "cells": [
  {
   "cell_type": "code",
   "execution_count": 5,
   "id": "66fd4b4d",
   "metadata": {},
   "outputs": [
    {
     "name": "stdout",
     "output_type": "stream",
     "text": [
      "yaric capi giriniz: 3\n",
      "dairenin alanı 28.26 , Cevresi  18.84\n"
     ]
    }
   ],
   "source": [
    "r=int(input(\"yaric capi giriniz: \"))\n",
    "pi=3.14\n",
    "alan=pi*(r**2)\n",
    "cevre=2*pi*r\n",
    "print(\"dairenin alanı\",alan,\", Cevresi \",cevre)"
   ]
  },
  {
   "cell_type": "code",
   "execution_count": null,
   "id": "8c50726b",
   "metadata": {},
   "outputs": [],
   "source": []
  }
 ],
 "metadata": {
  "kernelspec": {
   "display_name": "Python 3 (ipykernel)",
   "language": "python",
   "name": "python3"
  },
  "language_info": {
   "codemirror_mode": {
    "name": "ipython",
    "version": 3
   },
   "file_extension": ".py",
   "mimetype": "text/x-python",
   "name": "python",
   "nbconvert_exporter": "python",
   "pygments_lexer": "ipython3",
   "version": "3.9.12"
  }
 },
 "nbformat": 4,
 "nbformat_minor": 5
}
