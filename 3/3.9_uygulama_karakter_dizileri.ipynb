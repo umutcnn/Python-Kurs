{
 "cells": [
  {
   "cell_type": "code",
   "execution_count": 1,
   "id": "48066e55",
   "metadata": {},
   "outputs": [],
   "source": [
    "website=\"http://www.umutcanyildiz.com\"\n",
    "course=\"python ogreniyorum\""
   ]
  },
  {
   "cell_type": "code",
   "execution_count": 2,
   "id": "24e2a1d7",
   "metadata": {},
   "outputs": [
    {
     "name": "stdout",
     "output_type": "stream",
     "text": [
      "18\n"
     ]
    }
   ],
   "source": [
    "course_size=len(course)\n",
    "print(course_size)"
   ]
  },
  {
   "cell_type": "code",
   "execution_count": 5,
   "id": "f2c4801d",
   "metadata": {},
   "outputs": [
    {
     "name": "stdout",
     "output_type": "stream",
     "text": [
      "www\n"
     ]
    }
   ],
   "source": [
    "print(website[7:10])"
   ]
  },
  {
   "cell_type": "code",
   "execution_count": 10,
   "id": "c72ea214",
   "metadata": {},
   "outputs": [
    {
     "name": "stdout",
     "output_type": "stream",
     "text": [
      "com\n"
     ]
    }
   ],
   "source": [
    "print(website[-3:])"
   ]
  },
  {
   "cell_type": "code",
   "execution_count": 12,
   "id": "a9cd1657",
   "metadata": {},
   "outputs": [
    {
     "name": "stdout",
     "output_type": "stream",
     "text": [
      "python ogreniyo\n",
      "hon ogreniyorum\n"
     ]
    }
   ],
   "source": [
    "print(course[:15])\n",
    "print(course[-15:])"
   ]
  },
  {
   "cell_type": "code",
   "execution_count": 16,
   "id": "680c3454",
   "metadata": {},
   "outputs": [
    {
     "name": "stdout",
     "output_type": "stream",
     "text": [
      "muroyinergo nohtyp\n"
     ]
    }
   ],
   "source": [
    "print(course[::-1])//tersten yazdir"
   ]
  },
  {
   "cell_type": "code",
   "execution_count": 17,
   "id": "03e830af",
   "metadata": {},
   "outputs": [
    {
     "name": "stdout",
     "output_type": "stream",
     "text": [
      "11111\n"
     ]
    }
   ],
   "source": [
    "s=\"12345\"*5\n",
    "print(s[::5])"
   ]
  },
  {
   "cell_type": "code",
   "execution_count": null,
   "id": "1698779a",
   "metadata": {},
   "outputs": [],
   "source": [
    "name, surname,age,job=\"umut can\",\"yıldız\",32,\"muhendis\"\n",
    "print(f\"benim adim {name} {surname} yasım {age} meslegim {job}\")"
   ]
  },
  {
   "cell_type": "code",
   "execution_count": 34,
   "id": "907a91ab",
   "metadata": {},
   "outputs": [
    {
     "name": "stdout",
     "output_type": "stream",
     "text": [
      "hello World\n",
      "hello World\n"
     ]
    }
   ],
   "source": [
    "yazi=\"hello world\"\n",
    "yazi=yazi[0:6]+\"W\"+yazi[-4:]\n",
    "print(yazi)\n",
    "yazi=yazi[:6]+yazi[6].upper()+yazi[7:]\n",
    "print(yazi)"
   ]
  },
  {
   "cell_type": "code",
   "execution_count": 36,
   "id": "7a59cf0c",
   "metadata": {},
   "outputs": [
    {
     "name": "stdout",
     "output_type": "stream",
     "text": [
      "abc abc abc \n"
     ]
    }
   ],
   "source": [
    "yazi=\"abc \"*3\n",
    "print(yazi)"
   ]
  }
 ],
 "metadata": {
  "kernelspec": {
   "display_name": "Python 3 (ipykernel)",
   "language": "python",
   "name": "python3"
  },
  "language_info": {
   "codemirror_mode": {
    "name": "ipython",
    "version": 3
   },
   "file_extension": ".py",
   "mimetype": "text/x-python",
   "name": "python",
   "nbconvert_exporter": "python",
   "pygments_lexer": "ipython3",
   "version": "3.9.12"
  }
 },
 "nbformat": 4,
 "nbformat_minor": 5
}
