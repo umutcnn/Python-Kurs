{
 "cells": [
  {
   "cell_type": "code",
   "execution_count": 5,
   "id": "9722b1b9",
   "metadata": {},
   "outputs": [
    {
     "name": "stdout",
     "output_type": "stream",
     "text": [
      "my name is umut yıldız\n",
      "my name is yıldız umut\n",
      "my name is umut yıldız\n",
      "my name is umut yıldız. ı am 21 years old\n"
     ]
    }
   ],
   "source": [
    "name=\"umut\"\n",
    "surname=\"yıldız\"\n",
    "age=21\n",
    "print(\"my name is {} {}\".format(name,surname))\n",
    "print(\"my name is {1} {0}\".format(name,surname))\n",
    "print(\"my name is {n} {s}\".format(n=name,s=surname))\n",
    "print(\"my name is {n} {s}. ı am {y} years old\".format(n=name,s=surname,y=age))\n"
   ]
  },
  {
   "cell_type": "code",
   "execution_count": 12,
   "id": "24728db9",
   "metadata": {},
   "outputs": [
    {
     "name": "stdout",
     "output_type": "stream",
     "text": [
      "thr result is 0.2857142857142857\n",
      "thr result is        0.286\n"
     ]
    }
   ],
   "source": [
    "result=200/700\n",
    "print(\"thr result is {}\".format(result))\n",
    "print(\"thr result is {r:1.3}\".format(r=result))# . dan once 1 rakam, . dan sonra 3 rakam gelmesini temsil eder\n"
   ]
  },
  {
   "cell_type": "code",
   "execution_count": null,
   "id": "d5d93936",
   "metadata": {},
   "outputs": [],
   "source": [
    "print(f\"my name is {name} {surname}. ı am {age} years old\")"
   ]
  },
  {
   "cell_type": "code",
   "execution_count": null,
   "id": "e5ff4a46",
   "metadata": {},
   "outputs": [],
   "source": []
  }
 ],
 "metadata": {
  "kernelspec": {
   "display_name": "Python 3 (ipykernel)",
   "language": "python",
   "name": "python3"
  },
  "language_info": {
   "codemirror_mode": {
    "name": "ipython",
    "version": 3
   },
   "file_extension": ".py",
   "mimetype": "text/x-python",
   "name": "python",
   "nbconvert_exporter": "python",
   "pygments_lexer": "ipython3",
   "version": "3.9.12"
  }
 },
 "nbformat": 4,
 "nbformat_minor": 5
}
