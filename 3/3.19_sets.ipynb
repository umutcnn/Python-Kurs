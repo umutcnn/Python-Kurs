{
 "cells": [
  {
   "cell_type": "code",
   "execution_count": 1,
   "id": "1a0ec8c2",
   "metadata": {},
   "outputs": [
    {
     "name": "stdout",
     "output_type": "stream",
     "text": [
      "apple\n",
      "orange\n",
      "banana\n"
     ]
    }
   ],
   "source": [
    "fruits={'orange','apple','banana'}\n",
    "#print(fruits[0])  indexle ulaşamazsiniz\n",
    "for i in fruits:\n",
    "    print(i)\n"
   ]
  },
  {
   "cell_type": "code",
   "execution_count": 2,
   "id": "430c9cf8",
   "metadata": {},
   "outputs": [
    {
     "name": "stdout",
     "output_type": "stream",
     "text": [
      "apple\n",
      "orange\n",
      "cherry\n",
      "banana\n"
     ]
    }
   ],
   "source": [
    "fruits.add('cherry')\n",
    "for i in fruits:\n",
    "    print(i)"
   ]
  },
  {
   "cell_type": "code",
   "execution_count": 3,
   "id": "51174145",
   "metadata": {},
   "outputs": [
    {
     "name": "stdout",
     "output_type": "stream",
     "text": [
      "orange\n",
      "banana\n",
      "mango\n",
      "apple\n",
      "grape\n",
      "cherry\n"
     ]
    }
   ],
   "source": [
    "fruits.update(['mango','grape','apple'])#elemanlar tekrarlanmaz \n",
    "for i in fruits:\n",
    "    print(i)"
   ]
  },
  {
   "cell_type": "code",
   "execution_count": 5,
   "id": "10f00f8b",
   "metadata": {},
   "outputs": [
    {
     "name": "stdout",
     "output_type": "stream",
     "text": [
      "{1, 2, 4, 5}\n"
     ]
    }
   ],
   "source": [
    "mylist=[1,2,5,4,4,2,1]\n",
    "print(set(mylist))#tekrarlanan elemanlar liste icerisinden cıkartilir"
   ]
  },
  {
   "cell_type": "code",
   "execution_count": 7,
   "id": "77467e15",
   "metadata": {},
   "outputs": [
    {
     "name": "stdout",
     "output_type": "stream",
     "text": [
      "orange\n",
      "banana\n",
      "apple\n",
      "grape\n",
      "cherry\n"
     ]
    }
   ],
   "source": [
    "fruits.remove('mango')#eleman siler\n",
    "for i in fruits:\n",
    "    print(i)"
   ]
  },
  {
   "cell_type": "code",
   "execution_count": 10,
   "id": "41ead650",
   "metadata": {},
   "outputs": [
    {
     "name": "stdout",
     "output_type": "stream",
     "text": [
      "banana\n",
      "apple\n",
      "grape\n",
      "cherry\n",
      "**************************************************\n",
      "apple\n",
      "grape\n",
      "cherry\n"
     ]
    }
   ],
   "source": [
    "for i in fruits:\n",
    "    print(i)\n",
    "print('*'*50)\n",
    "fruits.pop()#herhangibi bir eleman silinebilir\n",
    "for i in fruits:\n",
    "    print(i)"
   ]
  },
  {
   "cell_type": "code",
   "execution_count": null,
   "id": "daf600ae",
   "metadata": {},
   "outputs": [],
   "source": [
    "fruits.clear()"
   ]
  }
 ],
 "metadata": {
  "kernelspec": {
   "display_name": "Python 3 (ipykernel)",
   "language": "python",
   "name": "python3"
  },
  "language_info": {
   "codemirror_mode": {
    "name": "ipython",
    "version": 3
   },
   "file_extension": ".py",
   "mimetype": "text/x-python",
   "name": "python",
   "nbconvert_exporter": "python",
   "pygments_lexer": "ipython3",
   "version": "3.9.12"
  }
 },
 "nbformat": 4,
 "nbformat_minor": 5
}
