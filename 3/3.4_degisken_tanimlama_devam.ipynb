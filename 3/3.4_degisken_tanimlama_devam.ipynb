{
 "cells": [
  {
   "cell_type": "code",
   "execution_count": 2,
   "id": "bfda961e",
   "metadata": {},
   "outputs": [
    {
     "name": "stdout",
     "output_type": "stream",
     "text": [
      "21\n"
     ]
    }
   ],
   "source": [
    "musteriAdi=\"umut can\"\n",
    "musteriSoyadi=\"yıldız\"\n",
    "musteriAdSoyad=musteriAdi+' '+musteriSoyadi\n",
    "musteriCinsiyet=True \n",
    "musteriTc='12345678912'\n",
    "musteriDogumTarihi=2001\n",
    "musteriAdresi=\"sakarya/Serdivan\"\n",
    "musteriYasi=2022-musteriDogumTarihi\n",
    "print(musteriYasi)"
   ]
  },
  {
   "cell_type": "code",
   "execution_count": 3,
   "id": "27d81609",
   "metadata": {},
   "outputs": [
    {
     "name": "stdout",
     "output_type": "stream",
     "text": [
      "1567.45\n"
     ]
    }
   ],
   "source": [
    "order1=110\n",
    "order2=1100.5\n",
    "order3=356.95\n",
    "total=order1+order2+order3\n",
    "print(total)"
   ]
  },
  {
   "cell_type": "code",
   "execution_count": null,
   "id": "3d4cde41",
   "metadata": {},
   "outputs": [],
   "source": []
  }
 ],
 "metadata": {
  "kernelspec": {
   "display_name": "Python 3 (ipykernel)",
   "language": "python",
   "name": "python3"
  },
  "language_info": {
   "codemirror_mode": {
    "name": "ipython",
    "version": 3
   },
   "file_extension": ".py",
   "mimetype": "text/x-python",
   "name": "python",
   "nbconvert_exporter": "python",
   "pygments_lexer": "ipython3",
   "version": "3.9.12"
  }
 },
 "nbformat": 4,
 "nbformat_minor": 5
}
