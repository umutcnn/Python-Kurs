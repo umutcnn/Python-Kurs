{
 "cells": [
  {
   "cell_type": "code",
   "execution_count": 6,
   "id": "5ec2864c",
   "metadata": {},
   "outputs": [
    {
     "name": "stdout",
     "output_type": "stream",
     "text": [
      "1. sayi: 2\n",
      "2. sayi: 5\n",
      "1. sayinin type  <class 'str'>\n",
      "2. sayinin type  <class 'str'>\n",
      "25\n",
      "1. sayi: 2\n",
      "2. sayi: 5\n",
      "1. sayinin type  <class 'int'>\n",
      "2. sayinin type  <class 'int'>\n",
      "7\n"
     ]
    }
   ],
   "source": [
    "x=input(\"1. sayi: \")\n",
    "y=input(\"2. sayi: \")\n",
    "print(\"1. sayinin type \" , type(x))\n",
    "print(\"2. sayinin type \" , type(y))\n",
    "toplam=x+y\n",
    "print(toplam)\n",
    "x=int(input(\"1. sayi: \"))\n",
    "y=int(input(\"2. sayi: \"))\n",
    "print(\"1. sayinin type \" , type(x))\n",
    "print(\"2. sayinin type \" , type(y))\n",
    "toplam=x+y\n",
    "print(toplam)"
   ]
  },
  {
   "cell_type": "code",
   "execution_count": 10,
   "id": "2e9f58a4",
   "metadata": {},
   "outputs": [
    {
     "name": "stdout",
     "output_type": "stream",
     "text": [
      "<class 'int'>\n",
      "<class 'float'>\n",
      "<class 'str'>\n",
      "<class 'bool'>\n",
      "x sayisinin type  <class 'int'>\n",
      "5\n",
      "x sayisinin type  <class 'float'>\n",
      "5.0\n"
     ]
    }
   ],
   "source": [
    "x=5               #int\n",
    "y=2.5             #float\n",
    "name='umut can'   #string\n",
    "isOnline=True     #boolean\n",
    "print(type(x))\n",
    "print(type(y))\n",
    "print(type(name))\n",
    "print(type(isOnline))\n",
    "\n",
    "\n",
    "#intten float donusturme\n",
    "print(\"x sayisinin type \" , type(x))\n",
    "print(x)\n",
    "x=float(x)\n",
    "print(\"x sayisinin type \" , type(x))\n",
    "print(x)"
   ]
  },
  {
   "cell_type": "code",
   "execution_count": null,
   "id": "ebb5d8cc",
   "metadata": {},
   "outputs": [],
   "source": []
  }
 ],
 "metadata": {
  "kernelspec": {
   "display_name": "Python 3 (ipykernel)",
   "language": "python",
   "name": "python3"
  },
  "language_info": {
   "codemirror_mode": {
    "name": "ipython",
    "version": 3
   },
   "file_extension": ".py",
   "mimetype": "text/x-python",
   "name": "python",
   "nbconvert_exporter": "python",
   "pygments_lexer": "ipython3",
   "version": "3.9.12"
  }
 },
 "nbformat": 4,
 "nbformat_minor": 5
}
