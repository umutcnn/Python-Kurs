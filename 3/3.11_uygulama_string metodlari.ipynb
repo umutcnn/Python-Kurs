{
 "cells": [
  {
   "cell_type": "code",
   "execution_count": 24,
   "id": "63fb02ad",
   "metadata": {},
   "outputs": [],
   "source": [
    "website=\"http://www.umutcanyildiz.com\"\n",
    "course=\"Python kursunuz: Baştan sona python programlama Rehberiniz(40 saat)\""
   ]
  },
  {
   "cell_type": "code",
   "execution_count": 1,
   "id": "2fa0a2bf",
   "metadata": {},
   "outputs": [
    {
     "name": "stdout",
     "output_type": "stream",
     "text": [
      "hello world\n"
     ]
    }
   ],
   "source": [
    "' hello world yazisinin basındaki ve sonundaki osluklari sil' \n",
    "result=' hello world '.strip()\n",
    "print(result)\n",
    "result=' hello world '.lstrip()\n",
    "print(result)\n",
    "result=' hello world '.rstrip()\n",
    "print(result)"
   ]
  },
  {
   "cell_type": "code",
   "execution_count": 5,
   "id": "7a42ffd7",
   "metadata": {},
   "outputs": [
    {
     "name": "stdout",
     "output_type": "stream",
     "text": [
      "www.umutcanyildiz.com\n"
     ]
    }
   ],
   "source": [
    "result=website.lstrip('/:pth')\n",
    "print(result)"
   ]
  },
  {
   "cell_type": "code",
   "execution_count": 7,
   "id": "a438ad9a",
   "metadata": {},
   "outputs": [
    {
     "name": "stdout",
     "output_type": "stream",
     "text": [
      "umutcanyildiz\n"
     ]
    }
   ],
   "source": [
    "result=\"www.umutcanyildiz.com\".strip('w.moc')\n",
    "print(result)"
   ]
  },
  {
   "cell_type": "code",
   "execution_count": 10,
   "id": "c43ff196",
   "metadata": {},
   "outputs": [
    {
     "name": "stdout",
     "output_type": "stream",
     "text": [
      " hello there. my name is umut can yıldız\n",
      " HELLO THERE. MY NAME IS UMUT CAN YILDIZ\n",
      " Hello There. My Name Is Umut Can Yıldız\n"
     ]
    }
   ],
   "source": [
    "result=course.lower()\n",
    "print(result)\n",
    "result=course.upper()\n",
    "print(result)\n",
    "result=course.title()\n",
    "print(result)"
   ]
  },
  {
   "cell_type": "code",
   "execution_count": 13,
   "id": "594f3751",
   "metadata": {},
   "outputs": [
    {
     "name": "stdout",
     "output_type": "stream",
     "text": [
      "1\n",
      "1\n",
      "1\n"
     ]
    }
   ],
   "source": [
    "result=website.count('a')#kac tane a var\n",
    "print(result)\n",
    "result=website.count('www')\n",
    "print(result)\n",
    "result=website.count('www',0,10)#0 ile 10 index arasinda kac tane www vardir\n",
    "print(result)"
   ]
  },
  {
   "cell_type": "code",
   "execution_count": 14,
   "id": "605cb6a3",
   "metadata": {},
   "outputs": [
    {
     "name": "stdout",
     "output_type": "stream",
     "text": [
      "False\n",
      "True\n",
      "False\n"
     ]
    }
   ],
   "source": [
    "result=website.startswith('www')#www ile mi basliyor\n",
    "print(result)\n",
    "result=website.startswith('http')\n",
    "print(result)\n",
    "result=website.endswith('com')#com ile mi bitiyor\n",
    "print(result)"
   ]
  },
  {
   "cell_type": "code",
   "execution_count": 26,
   "id": "c25117d4",
   "metadata": {},
   "outputs": [
    {
     "name": "stdout",
     "output_type": "stream",
     "text": [
      "25\n",
      "-1\n",
      "0\n",
      "29\n"
     ]
    }
   ],
   "source": [
    "result=website.find('com')#websitenin içerisinde com var mi varsa indexini döndür\n",
    "print(result)\n",
    "result=website.find('com',0,10)#0,10 indexleri arasinda com var mi\n",
    "print(result)\n",
    "result=course.find('Python')\n",
    "print(result)\n",
    "result=course.rfind('python')\n",
    "print(result)"
   ]
  },
  {
   "cell_type": "code",
   "execution_count": 27,
   "id": "6424d337",
   "metadata": {},
   "outputs": [
    {
     "name": "stdout",
     "output_type": "stream",
     "text": [
      "25\n"
     ]
    }
   ],
   "source": [
    "result=website.index(\"com\")\n",
    "print(result)"
   ]
  },
  {
   "cell_type": "code",
   "execution_count": 31,
   "id": "4d34e4f0",
   "metadata": {},
   "outputs": [
    {
     "name": "stdout",
     "output_type": "stream",
     "text": [
      "False\n",
      "True\n",
      "False\n",
      "True\n"
     ]
    }
   ],
   "source": [
    "result=course.isalpha()#gelen ifadenin hepsi harf mi\n",
    "print(result)\n",
    "result='course'.isalpha()\n",
    "print(result)\n",
    "result=course.isdigit()#gelen ifadenin hepsi rakam mi\n",
    "print(result)\n",
    "result='1235'.isdigit()#gelen ifadenin hepsi rakam mi\n",
    "print(result)"
   ]
  },
  {
   "cell_type": "code",
   "execution_count": 36,
   "id": "48ebe92f",
   "metadata": {},
   "outputs": [
    {
     "name": "stdout",
     "output_type": "stream",
     "text": [
      "*********************contents*********************\n",
      "contents******************************************\n",
      "******************************************contents\n"
     ]
    }
   ],
   "source": [
    "result=\"contents\".center(50,'*')#ortala\n",
    "print(result)\n",
    "result=\"contents\".ljust(50,'*')#sola yasla\n",
    "print(result)\n",
    "result=\"contents\".rjust(50,'*')#sağa yasla\n",
    "print(result)"
   ]
  },
  {
   "cell_type": "code",
   "execution_count": 38,
   "id": "cac6efaf",
   "metadata": {},
   "outputs": [
    {
     "name": "stdout",
     "output_type": "stream",
     "text": [
      "Python-kursunuz:-Baştan-sona python programlama Rehberiniz(40 saat)\n"
     ]
    }
   ],
   "source": [
    "result=course.replace(' ','-')\n",
    "print(result)\n",
    "result=course.replace(' ','-',3)#3 tane boslugu - yap\n",
    "print(result)\n",
    "result=course.replace(' ','')\n",
    "print(result)"
   ]
  },
  {
   "cell_type": "code",
   "execution_count": 39,
   "id": "6e965b16",
   "metadata": {},
   "outputs": [
    {
     "name": "stdout",
     "output_type": "stream",
     "text": [
      " hello there\n"
     ]
    }
   ],
   "source": [
    "result=' hello world '.replace('world ','there')#\n",
    "print(result)"
   ]
  },
  {
   "cell_type": "code",
   "execution_count": 40,
   "id": "0d742948",
   "metadata": {},
   "outputs": [
    {
     "name": "stdout",
     "output_type": "stream",
     "text": [
      "['Python', 'kursunuz:', 'Baştan', 'sona', 'python', 'programlama', 'Rehberiniz(40', 'saat)']\n",
      "Baştan\n"
     ]
    }
   ],
   "source": [
    "result=course.split(' ')\n",
    "print(result)\n",
    "result=result[2]\n",
    "print(result)\n",
    "result=result[5]\n",
    "print(result)"
   ]
  },
  {
   "cell_type": "code",
   "execution_count": null,
   "id": "45672480",
   "metadata": {},
   "outputs": [],
   "source": []
  }
 ],
 "metadata": {
  "kernelspec": {
   "display_name": "Python 3 (ipykernel)",
   "language": "python",
   "name": "python3"
  },
  "language_info": {
   "codemirror_mode": {
    "name": "ipython",
    "version": 3
   },
   "file_extension": ".py",
   "mimetype": "text/x-python",
   "name": "python",
   "nbconvert_exporter": "python",
   "pygments_lexer": "ipython3",
   "version": "3.9.12"
  }
 },
 "nbformat": 4,
 "nbformat_minor": 5
}
