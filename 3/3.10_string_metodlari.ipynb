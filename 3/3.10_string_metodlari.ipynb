{
 "cells": [
  {
   "cell_type": "code",
   "execution_count": 13,
   "id": "8abadba5",
   "metadata": {},
   "outputs": [
    {
     "name": "stdout",
     "output_type": "stream",
     "text": [
      " HELLO THERE. MY NAME IS UMUT CAN YILDIZ\n",
      " hello there. my name is umut can yildiz\n",
      " Hello There. My Name Is Umut Can Yildiz\n",
      " hello there. my name is umut can yildiz\n",
      "hello there. my name is umut can yildiz\n",
      "['hello there', ' my name is umut can yildiz']\n",
      "hello there\n",
      "hello there--- my name is umut can yildiz\n"
     ]
    }
   ],
   "source": [
    "message=\" hello there. my name is umut can yıldız\"\n",
    "message=message.upper()#hepsi buyuk \n",
    "print(message)\n",
    "message=message.lower()#hepsi kucuk \n",
    "print(message)\n",
    "message=message.title()#ilk harf buyuk \n",
    "print(message)\n",
    "message=message.capitalize()#ilk harf buyuk\n",
    "print(message)\n",
    "message=message.strip()#Basta bosluk varsa silinir\n",
    "print(message)\n",
    "#message=message.split()#ifadeyi kelime kelime ayırır\n",
    "#print(message)\n",
    "#print(message[0])\n",
    "message=message.split('.')#noktalardan noktalara ayır\n",
    "print(message)\n",
    "print(message[0])\n",
    "message='---'.join(message)\n",
    "print(message)"
   ]
  },
  {
   "cell_type": "code",
   "execution_count": 14,
   "id": "e5dfdaca",
   "metadata": {},
   "outputs": [
    {
     "name": "stdout",
     "output_type": "stream",
     "text": [
      "26\n"
     ]
    }
   ],
   "source": [
    "index=message.find('umut')\n",
    "print(index)"
   ]
  },
  {
   "cell_type": "code",
   "execution_count": 17,
   "id": "46e07f5f",
   "metadata": {},
   "outputs": [
    {
     "name": "stdout",
     "output_type": "stream",
     "text": [
      "True\n"
     ]
    }
   ],
   "source": [
    "isFound=message.startswith('h')#h harfi ile mi basliyor\n",
    "print(isFound)"
   ]
  },
  {
   "cell_type": "code",
   "execution_count": 19,
   "id": "2be1ca62",
   "metadata": {},
   "outputs": [
    {
     "name": "stdout",
     "output_type": "stream",
     "text": [
      "True\n"
     ]
    }
   ],
   "source": [
    "isFound=message.endswith('z')#z harfi ile mi bitiyor\n",
    "print(isFound)"
   ]
  },
  {
   "cell_type": "code",
   "execution_count": 24,
   "id": "a6774569",
   "metadata": {},
   "outputs": [
    {
     "name": "stdout",
     "output_type": "stream",
     "text": [
      "hello*there---*my*name*is*can*can*yildiz\n",
      "hello*there---*my*name*is*can*can*yildiz\n"
     ]
    }
   ],
   "source": [
    "message=message.replace(\"umut\",\"can\")#soldaki yerine sağdakini yaz\n",
    "print(message)\n",
    "message=message.replace(\"ç\",\"c\").replace(\"ö\",\"o\").replace(\"ü\",\"u\").replace(\"ş\",\"s\").replace(\"ğ\",\"g\")\n",
    "print(message)"
   ]
  },
  {
   "cell_type": "code",
   "execution_count": null,
   "id": "098b6c69",
   "metadata": {},
   "outputs": [],
   "source": [
    "message=message.center(100)#100 karakterlik bir alan olusturur ve o alanda ortalar\n",
    "print(message)"
   ]
  }
 ],
 "metadata": {
  "kernelspec": {
   "display_name": "Python 3 (ipykernel)",
   "language": "python",
   "name": "python3"
  },
  "language_info": {
   "codemirror_mode": {
    "name": "ipython",
    "version": 3
   },
   "file_extension": ".py",
   "mimetype": "text/x-python",
   "name": "python",
   "nbconvert_exporter": "python",
   "pygments_lexer": "ipython3",
   "version": "3.9.12"
  }
 },
 "nbformat": 4,
 "nbformat_minor": 5
}
