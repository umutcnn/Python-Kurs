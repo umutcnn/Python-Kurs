{
 "cells": [
  {
   "cell_type": "code",
   "execution_count": null,
   "id": "bdac4964",
   "metadata": {},
   "outputs": [],
   "source": [
    "student={\n",
    "    '123':{\n",
    "        'ad':'umut can yıldız'\n",
    "        'soyad':'umut can yıldız'\n",
    "        'telefon':'1232587496'\n",
    "    }}"
   ]
  },
  {
   "cell_type": "code",
   "execution_count": 1,
   "id": "f4c5c8f7",
   "metadata": {},
   "outputs": [
    {
     "name": "stdout",
     "output_type": "stream",
     "text": [
      "ogrenci no: 123\n",
      "ogrenci adı: umut can\n",
      "ogrenci soyadı: yıldız\n",
      "ogrenci telefon: 123456\n",
      "{'123': {'ad': 'umut can', 'soyad': 'yıldız', 'telefon': '123456'}}\n"
     ]
    }
   ],
   "source": [
    "ogrenciler={}\n",
    "number=input(\"ogrenci no: \")\n",
    "name=input(\"ogrenci adı: \")\n",
    "surname=input(\"ogrenci soyadı: \")\n",
    "phone=input(\"ogrenci telefon: \")\n",
    "ogrenciler[number]={\n",
    "    'ad' : name,\n",
    "    'soyad' :surname,\n",
    "    'telefon' :phone\n",
    "}\n",
    "\n",
    "print(ogrenciler)"
   ]
  },
  {
   "cell_type": "code",
   "execution_count": 2,
   "id": "e2ee8a6b",
   "metadata": {},
   "outputs": [
    {
     "name": "stdout",
     "output_type": "stream",
     "text": [
      "ogrenci no: 321\n",
      "ogrenci adı: berkay\n",
      "ogrenci soyadı: yıldız\n",
      "ogrenci telefon: 654\n",
      "{'123': {'ad': 'umut can', 'soyad': 'yıldız', 'telefon': '123456'}, 'ad': 'berkay', 'soyad': 'yıldız', 'telefon': '654'}\n"
     ]
    }
   ],
   "source": [
    "number=input(\"ogrenci no: \")\n",
    "name=input(\"ogrenci adı: \")\n",
    "surname=input(\"ogrenci soyadı: \")\n",
    "phone=input(\"ogrenci telefon: \")\n",
    "ogrenciler.update({\n",
    "    'ad' : name,\n",
    "    'soyad' :surname,\n",
    "    'telefon' :phone\n",
    "})\n",
    "print(ogrenciler)"
   ]
  },
  {
   "cell_type": "code",
   "execution_count": 8,
   "id": "31b4d761",
   "metadata": {},
   "outputs": [
    {
     "name": "stdout",
     "output_type": "stream",
     "text": [
      "**************************************************\n",
      "ogrenci no123\n",
      "aradiginiz 123 nolu ogrencinin adi: umut can soyadi: yıldız ve telefonu ise 123456\n"
     ]
    }
   ],
   "source": [
    "print('*'*50)\n",
    "ogrNo=input('ogrenci no: ')\n",
    "ogrenci=ogrenciler[ogrNo]\n",
    "print(f\"aradiginiz {ogrNo} nolu ogrencinin adi: {ogrenci['ad']} soyadi: {ogrenci['soyad']} ve telefonu ise {ogrenci['telefon']}\")"
   ]
  },
  {
   "cell_type": "code",
   "execution_count": null,
   "id": "c0751e1e",
   "metadata": {},
   "outputs": [],
   "source": []
  },
  {
   "cell_type": "code",
   "execution_count": null,
   "id": "63ecf570",
   "metadata": {},
   "outputs": [],
   "source": []
  }
 ],
 "metadata": {
  "kernelspec": {
   "display_name": "Python 3 (ipykernel)",
   "language": "python",
   "name": "python3"
  },
  "language_info": {
   "codemirror_mode": {
    "name": "ipython",
    "version": 3
   },
   "file_extension": ".py",
   "mimetype": "text/x-python",
   "name": "python",
   "nbconvert_exporter": "python",
   "pygments_lexer": "ipython3",
   "version": "3.9.12"
  }
 },
 "nbformat": 4,
 "nbformat_minor": 5
}
