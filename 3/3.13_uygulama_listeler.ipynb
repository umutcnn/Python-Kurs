{
 "cells": [
  {
   "cell_type": "code",
   "execution_count": 5,
   "id": "bde52b66",
   "metadata": {},
   "outputs": [],
   "source": [
    "arabalar=[\"bmw\",\"mercedes\",\"opel\",\"mazda\"]\n"
   ]
  },
  {
   "cell_type": "code",
   "execution_count": 6,
   "id": "023f882e",
   "metadata": {},
   "outputs": [
    {
     "name": "stdout",
     "output_type": "stream",
     "text": [
      "4\n"
     ]
    }
   ],
   "source": [
    "result=len(arabalar)\n",
    "print(result)"
   ]
  },
  {
   "cell_type": "code",
   "execution_count": 7,
   "id": "6aa199f7",
   "metadata": {},
   "outputs": [
    {
     "name": "stdout",
     "output_type": "stream",
     "text": [
      "bmw\n",
      "opel\n"
     ]
    }
   ],
   "source": [
    "result=arabalar[0]\n",
    "print(result)\n",
    "result=arabalar[2]\n",
    "print(result)\n",
    "result=arabalar[-2]\n",
    "print(result)"
   ]
  },
  {
   "cell_type": "code",
   "execution_count": 9,
   "id": "de827ae4",
   "metadata": {},
   "outputs": [
    {
     "name": "stdout",
     "output_type": "stream",
     "text": [
      "['bmw', 'mercedes', 'opel', 'toyota']\n"
     ]
    }
   ],
   "source": [
    "arabalar[-1]='toyota'#mazdayi toyota  yap\n",
    "result=arabalar\n",
    "print(arabalar)"
   ]
  },
  {
   "cell_type": "code",
   "execution_count": 11,
   "id": "061dbb3f",
   "metadata": {},
   "outputs": [
    {
     "name": "stdout",
     "output_type": "stream",
     "text": [
      "True\n",
      "False\n"
     ]
    }
   ],
   "source": [
    "result='mercedes' in arabalar #arabaların içerisinde mercedes markasi var mı\n",
    "print(result)\n",
    "result='tesla' in arabalar #arabaların içerisinde mercedes markasi var mı\n",
    "print(result)"
   ]
  },
  {
   "cell_type": "code",
   "execution_count": 12,
   "id": "b931a774",
   "metadata": {},
   "outputs": [
    {
     "name": "stdout",
     "output_type": "stream",
     "text": [
      "opel\n"
     ]
    }
   ],
   "source": [
    "result=arabalar[-2]\n",
    "print(result)"
   ]
  },
  {
   "cell_type": "code",
   "execution_count": 15,
   "id": "59c92f01",
   "metadata": {},
   "outputs": [
    {
     "name": "stdout",
     "output_type": "stream",
     "text": [
      "['bmw', 'mercedes', 'opel']\n",
      "['bmw', 'mercedes', 'opel']\n",
      "['opel', 'toyota']\n"
     ]
    }
   ],
   "source": [
    "result=arabalar[0:3]#ilk 3 elemanını listele\n",
    "print(result)\n",
    "result=arabalar[:3]\n",
    "print(result)\n",
    "result=arabalar[-2:]\n",
    "print(result)"
   ]
  },
  {
   "cell_type": "code",
   "execution_count": 19,
   "id": "3190735f",
   "metadata": {},
   "outputs": [
    {
     "name": "stdout",
     "output_type": "stream",
     "text": [
      "['toyota', 'renault']\n"
     ]
    }
   ],
   "source": [
    "arabalar[-2:]='toyota','renault'#son iki elemanı değistir\n",
    "result=arabalar[-2:]\n",
    "print(result)"
   ]
  },
  {
   "cell_type": "code",
   "execution_count": 20,
   "id": "3d275b99",
   "metadata": {},
   "outputs": [
    {
     "name": "stdout",
     "output_type": "stream",
     "text": [
      "['bmw', 'mercedes', 'toyota', 'renault', 'audi', 'nissan']\n"
     ]
    }
   ],
   "source": [
    "result=arabalar + [\"audi\",\"nissan\"]#2 tane daha ekle\n",
    "print(result)"
   ]
  },
  {
   "cell_type": "code",
   "execution_count": 23,
   "id": "bbe2b09e",
   "metadata": {},
   "outputs": [
    {
     "name": "stdout",
     "output_type": "stream",
     "text": [
      "['bmw', 'mercedes', 'toyota']\n"
     ]
    }
   ],
   "source": [
    "del arabalar[-1]#sonuncu indexte bulunan elemanı sil\n",
    "result=arabalar\n",
    "print(result)"
   ]
  },
  {
   "cell_type": "code",
   "execution_count": 24,
   "id": "40667426",
   "metadata": {},
   "outputs": [
    {
     "name": "stdout",
     "output_type": "stream",
     "text": [
      "['toyota', 'mercedes', 'bmw']\n"
     ]
    }
   ],
   "source": [
    "result=arabalar[::-1]#tersten yazdir\n",
    "print(result)"
   ]
  },
  {
   "cell_type": "code",
   "execution_count": 2,
   "id": "5f9de157",
   "metadata": {},
   "outputs": [],
   "source": [
    "studentA=[\"umut can\",\"yıldız\",\"2001\",[70,60,70]]\n",
    "studentB=[\"sadık\",\"turhan\",\"1975\",[80,80,70]]\n",
    "studentC=[\"ali\",\"yıldız\",\"1980\",[70,70,90]]"
   ]
  },
  {
   "cell_type": "code",
   "execution_count": 5,
   "id": "41b4ce6f",
   "metadata": {},
   "outputs": [
    {
     "name": "stdout",
     "output_type": "stream",
     "text": [
      "umut can\n",
      "turhan\n",
      "70\n"
     ]
    }
   ],
   "source": [
    "result=studentA[0]\n",
    "print(result)\n",
    "result=studentB[1]\n",
    "print(result)\n",
    "result=studentC[3][1]\n",
    "print(result)"
   ]
  },
  {
   "cell_type": "code",
   "execution_count": 9,
   "id": "e7573076",
   "metadata": {},
   "outputs": [
    {
     "name": "stdout",
     "output_type": "stream",
     "text": [
      "umut can yıldız 21 yasindadir not ortalamasi 66.66666666666667 dit\n"
     ]
    }
   ],
   "source": [
    "yas=2022-int(studentA[2])\n",
    "ort=(studentA[3][0]+studentA[3][1]+studentA[3][2])/3\n",
    "result=print(f\"{studentA[0]} {studentA[1]} {yas} yasindadir not ortalamasi {ort} dit\")"
   ]
  },
  {
   "cell_type": "code",
   "execution_count": null,
   "id": "63d5dc05",
   "metadata": {},
   "outputs": [],
   "source": []
  }
 ],
 "metadata": {
  "kernelspec": {
   "display_name": "Python 3 (ipykernel)",
   "language": "python",
   "name": "python3"
  },
  "language_info": {
   "codemirror_mode": {
    "name": "ipython",
    "version": 3
   },
   "file_extension": ".py",
   "mimetype": "text/x-python",
   "name": "python",
   "nbconvert_exporter": "python",
   "pygments_lexer": "ipython3",
   "version": "3.9.12"
  }
 },
 "nbformat": 4,
 "nbformat_minor": 5
}
