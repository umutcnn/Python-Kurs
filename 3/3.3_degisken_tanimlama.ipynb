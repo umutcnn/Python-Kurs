{
 "cells": [
  {
   "cell_type": "code",
   "execution_count": 1,
   "id": "fd6c3d27",
   "metadata": {},
   "outputs": [
    {
     "name": "stdout",
     "output_type": "stream",
     "text": [
      "3650.0\n",
      "2920.0\n"
     ]
    }
   ],
   "source": [
    "maasAli=5000\n",
    "maasAhmet=4000\n",
    "vergi=0.27\n",
    "print(maasAli-(maasAli*vergi))\n",
    "print(maasAhmet-(maasAhmet*vergi))"
   ]
  },
  {
   "cell_type": "code",
   "execution_count": null,
   "id": "a8072585",
   "metadata": {},
   "outputs": [],
   "source": [
    "#degisken tanimlama kurallari"
   ]
  },
  {
   "cell_type": "code",
   "execution_count": null,
   "id": "c3e84d3e",
   "metadata": {},
   "outputs": [],
   "source": [
    "#rakam ile başlanmaz\n",
    "number1=10\n",
    "print(number1)\n",
    "number1=20\n",
    "print(number1)\n",
    "number1 +=30 \n",
    "#+= dedigimizde degisken=degisken+30 olarak arttırırız aynı sekilde -=30 yaparsak 30 azaltırız \n",
    "#*=30 yaparsak 30 katını alırız. /=30 yaparsak 30a böleriz"
   ]
  },
  {
   "cell_type": "code",
   "execution_count": 2,
   "id": "989d86fa",
   "metadata": {},
   "outputs": [
    {
     "name": "stdout",
     "output_type": "stream",
     "text": [
      "30\n",
      "25\n"
     ]
    }
   ],
   "source": [
    "#buyuk kucuk harf duyarlılıgı\n",
    "age=30\n",
    "Age=25\n",
    "print(age)\n",
    "print(Age)"
   ]
  },
  {
   "cell_type": "code",
   "execution_count": null,
   "id": "8296ce10",
   "metadata": {},
   "outputs": [],
   "source": [
    "#turkce karakter kullanma\n",
    "yas=20 \n",
    "_age=20\n",
    "x=1               #int\n",
    "y=2.             #float\n",
    "name = 'çınar'  #string\n",
    "isStudent=True #boolean"
   ]
  },
  {
   "cell_type": "code",
   "execution_count": 8,
   "id": "ed29fc9a",
   "metadata": {},
   "outputs": [
    {
     "name": "stdout",
     "output_type": "stream",
     "text": [
      "30\n"
     ]
    }
   ],
   "source": [
    "a=10\n",
    "b=20\n",
    "a+=b\n",
    "print(a)"
   ]
  },
  {
   "cell_type": "code",
   "execution_count": 10,
   "id": "1c338991",
   "metadata": {},
   "outputs": [
    {
     "name": "stdout",
     "output_type": "stream",
     "text": [
      "umut can yıldız\n"
     ]
    }
   ],
   "source": [
    "name=\"umut can\"\n",
    "surname=\" yıldız\"\n",
    "print(name+surname)"
   ]
  },
  {
   "cell_type": "code",
   "execution_count": 11,
   "id": "69d39d75",
   "metadata": {},
   "outputs": [],
   "source": [
    "a,b,name,isStudent=(10,2.5,\"umut can\",True)\n"
   ]
  },
  {
   "cell_type": "code",
   "execution_count": null,
   "id": "9653106e",
   "metadata": {},
   "outputs": [],
   "source": []
  }
 ],
 "metadata": {
  "kernelspec": {
   "display_name": "Python 3 (ipykernel)",
   "language": "python",
   "name": "python3"
  },
  "language_info": {
   "codemirror_mode": {
    "name": "ipython",
    "version": 3
   },
   "file_extension": ".py",
   "mimetype": "text/x-python",
   "name": "python",
   "nbconvert_exporter": "python",
   "pygments_lexer": "ipython3",
   "version": "3.9.12"
  }
 },
 "nbformat": 4,
 "nbformat_minor": 5
}
