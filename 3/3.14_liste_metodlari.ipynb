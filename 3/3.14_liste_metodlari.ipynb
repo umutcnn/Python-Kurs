{
 "cells": [
  {
   "cell_type": "code",
   "execution_count": 3,
   "id": "f929b373",
   "metadata": {},
   "outputs": [
    {
     "name": "stdout",
     "output_type": "stream",
     "text": [
      "1\n",
      "50\n",
      "a\n",
      "y\n"
     ]
    }
   ],
   "source": [
    "numbers=[1,10,50,16,4,9,10]\n",
    "letters=['a','g','s','b','y','a','s']\n",
    "val=min(numbers)#kucukten buyuge siralama\n",
    "print(val)\n",
    "val=min(numbers)# buyuKTeN kucuge siralama\n",
    "val=max(numbers)\n",
    "print(val)\n",
    "val=min(letters)\n",
    "print(val)\n",
    "val=max(letters)\n",
    "print(val)"
   ]
  },
  {
   "cell_type": "code",
   "execution_count": 9,
   "id": "d9211de8",
   "metadata": {},
   "outputs": [
    {
     "name": "stdout",
     "output_type": "stream",
     "text": [
      "[79, 79, 40]\n",
      "[1, 10, 50]\n",
      "[79, 40, 40, 9, 10, '49', '49', '49']\n",
      "[1, 10, 50, 79, 40, 40, 40, 9, 10, '49', '49', '49']\n",
      "[1, 10, 50, 79, 40, 40, 40, 9, 10, '49', '49', '49', 49]\n",
      "[1, 10, 50, 79, 79, 40, 40, 40, 9, 10, '49', '49', '49', 49]\n"
     ]
    }
   ],
   "source": [
    "val=numbers[3:6]\n",
    "print(val)\n",
    "val=numbers[:3]\n",
    "print(val)\n",
    "val=numbers[4:]\n",
    "print(val)\n",
    "numbers[4]=40\n",
    "print(numbers)\n",
    "numbers.append(49)#sona ekleme\n",
    "print(numbers)\n",
    "numbers.insert(3,79)#istedigin indexe ekleme\n",
    "print(numbers)\n"
   ]
  },
  {
   "cell_type": "code",
   "execution_count": 14,
   "id": "9d27a77c",
   "metadata": {},
   "outputs": [
    {
     "name": "stdout",
     "output_type": "stream",
     "text": [
      "[1, 10, 50, 79, 79, 40, 40]\n"
     ]
    }
   ],
   "source": [
    "numbers.pop(-1)#indexle eleman silme\n",
    "numbers.remove(40)#degerle eleman silme\n",
    "print(numbers)"
   ]
  },
  {
   "cell_type": "code",
   "execution_count": 18,
   "id": "3cd0ee60",
   "metadata": {},
   "outputs": [
    {
     "name": "stdout",
     "output_type": "stream",
     "text": [
      "[1, 10, 40, 40, 50, 79, 79]\n",
      "['a', 'a', 'b', 'g', 's', 's', 'y']\n",
      "7\n",
      "7\n"
     ]
    }
   ],
   "source": [
    "numbers.sort()#liste sayisal olarak siralanir\n",
    "print(numbers)\n",
    "letters.sort()\n",
    "print(letters)\n",
    "print(len(numbers))\n",
    "print(len(letters))"
   ]
  },
  {
   "cell_type": "code",
   "execution_count": 19,
   "id": "39ee9dc0",
   "metadata": {},
   "outputs": [
    {
     "name": "stdout",
     "output_type": "stream",
     "text": [
      "2\n",
      "2\n"
     ]
    }
   ],
   "source": [
    "print(numbers.count(40))#saydırır\n",
    "print(letters.count('a'))"
   ]
  },
  {
   "cell_type": "code",
   "execution_count": null,
   "id": "737fb4e6",
   "metadata": {},
   "outputs": [],
   "source": [
    "numbers.clear()#listeyi siler\n",
    "print(numbers)"
   ]
  }
 ],
 "metadata": {
  "kernelspec": {
   "display_name": "Python 3 (ipykernel)",
   "language": "python",
   "name": "python3"
  },
  "language_info": {
   "codemirror_mode": {
    "name": "ipython",
    "version": 3
   },
   "file_extension": ".py",
   "mimetype": "text/x-python",
   "name": "python",
   "nbconvert_exporter": "python",
   "pygments_lexer": "ipython3",
   "version": "3.9.12"
  }
 },
 "nbformat": 4,
 "nbformat_minor": 5
}
