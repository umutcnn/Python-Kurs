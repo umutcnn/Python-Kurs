{
 "cells": [
  {
   "cell_type": "code",
   "execution_count": 15,
   "id": "50fff46a",
   "metadata": {},
   "outputs": [
    {
     "name": "stdout",
     "output_type": "stream",
     "text": [
      "my name is umut can yildiz and ı am 21 years old\n",
      "i\n",
      "d\n",
      "d\n",
      " na\n"
     ]
    }
   ],
   "source": [
    "name=\"umut can\"\n",
    "surname=\"yildiz\"\n",
    "age=21\n",
    "greeting=\"my name is \"+name+\" \"+surname+\" and ı am \"+str(age)+ \" years old\"\n",
    "length=len(greeting)\n",
    "print(greeting)\n",
    "print(greeting[8])#8. char yazdiriyor\n",
    "print(greeting[length-1])#len fonksiyonuyla greeting yazisinin uzunluğunu aldik ve -1 yaparak sondan bir önceki ifadeyi yazdirdik\n",
    "print(greeting[-1])#sondan bir onceki ifadeyi yazdirdik\n",
    "print(greeting[2:5])#2. indexten 5. indekse kadar yazdir\n",
    "print(greeting[4:])#4. indexten al sonuna kadar yazdir\n",
    "print(greeting[:15])#bastan al 15. indexe kadar yazdir\n",
    "print(greeting[2:40:2])#2 den basla ikiser ikiser sayarak  40. indexe kadar git \n"
   ]
  },
  {
   "cell_type": "code",
   "execution_count": null,
   "id": "2c33eee9",
   "metadata": {},
   "outputs": [],
   "source": []
  }
 ],
 "metadata": {
  "kernelspec": {
   "display_name": "Python 3 (ipykernel)",
   "language": "python",
   "name": "python3"
  },
  "language_info": {
   "codemirror_mode": {
    "name": "ipython",
    "version": 3
   },
   "file_extension": ".py",
   "mimetype": "text/x-python",
   "name": "python",
   "nbconvert_exporter": "python",
   "pygments_lexer": "ipython3",
   "version": "3.9.12"
  }
 },
 "nbformat": 4,
 "nbformat_minor": 5
}
