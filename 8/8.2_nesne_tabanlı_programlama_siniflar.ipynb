{
 "cells": [
  {
   "cell_type": "code",
   "execution_count": 11,
   "id": "7df88c51",
   "metadata": {},
   "outputs": [
    {
     "name": "stdout",
     "output_type": "stream",
     "text": [
      "init metodu çalıştı\n",
      "init metodu çalıştı\n",
      "<__main__.Person object at 0x000001CFD580FB20>\n",
      "<__main__.Person object at 0x000001CFD4513400>\n",
      "p1 name: ahmet year: 1990 address:no information\n",
      "p2 name: umut year: 2001 address:no information\n",
      "<class '__main__.Person'>\n",
      "<class '__main__.Person'>\n",
      "False\n"
     ]
    }
   ],
   "source": [
    "class Person:\n",
    "    #attiributes\n",
    "    address='no information'\n",
    "    #constructor(yapici metod)\n",
    "    def __init__(self, name, year):\n",
    "        #object attributes\n",
    "        self.name=name\n",
    "        self.year=year\n",
    "        print('init metodu alıstı')\n",
    "        #methods\n",
    "#object (instance)\n",
    "p1=Person(name='ali',year=1990)\n",
    "p2=Person(name='umut',year=2001)\n",
    "#updating\n",
    "p1.name='ahmet'\n",
    "p1.name='yıldız'\n",
    "#accessin object attributes\n",
    "print(p1)\n",
    "print(p2)\n",
    "print(f'p1 name: {p1.name} year: {p1.year} address:{p1.address}')\n",
    "print(f'p2 name: {p2.name} year: {p2.year} address:{p2.address}')\n",
    "\n",
    "print(type(p1))\n",
    "print(type(p2))\n",
    "print(p1==p2)"
   ]
  },
  {
   "cell_type": "code",
   "execution_count": null,
   "id": "596d9f81",
   "metadata": {},
   "outputs": [],
   "source": []
  }
 ],
 "metadata": {
  "kernelspec": {
   "display_name": "Python 3 (ipykernel)",
   "language": "python",
   "name": "python3"
  },
  "language_info": {
   "codemirror_mode": {
    "name": "ipython",
    "version": 3
   },
   "file_extension": ".py",
   "mimetype": "text/x-python",
   "name": "python",
   "nbconvert_exporter": "python",
   "pygments_lexer": "ipython3",
   "version": "3.9.12"
  }
 },
 "nbformat": 4,
 "nbformat_minor": 5
}
