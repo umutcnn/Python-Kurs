{
 "cells": [
  {
   "cell_type": "code",
   "execution_count": 3,
   "id": "6851dc64",
   "metadata": {},
   "outputs": [
    {
     "name": "stdout",
     "output_type": "stream",
     "text": [
      "3\n",
      "9\n",
      "<class 'list'>\n",
      "<class 'str'>\n"
     ]
    }
   ],
   "source": [
    "mylist=[1,2,3]\n",
    "myString='my string'\n",
    "print(len(mylist))\n",
    "print(len(myString))\n",
    "print(type(mylist))\n",
    "print(type(myString))\n"
   ]
  },
  {
   "cell_type": "code",
   "execution_count": 21,
   "id": "22d8a84d",
   "metadata": {},
   "outputs": [
    {
     "name": "stdout",
     "output_type": "stream",
     "text": [
      "movie objesi olusturuldu\n",
      "film adi adindaki film silindi\n"
     ]
    }
   ],
   "source": [
    "mylist=[1,2,3]\n",
    "class Movie():\n",
    "    def __init__(self,title,director,duration):\n",
    "        self.title=title\n",
    "        self.director=director\n",
    "        self.duration=duration\n",
    "        print('movie objesi olusturuldu')\n",
    "    def __str__(self):\n",
    "        return f'{self.title} by {self.director}'\n",
    "    def __len__(self):\n",
    "        return self.duration\n",
    "    def __del__(self):\n",
    "        print(f'{self.title} adindaki film silindi')\n",
    "m = Movie('film adi','yonetmen adi',120 )\n",
    "#print(mylist)\n",
    "#print(str(m))\n",
    "#print(len(m))\n",
    "del m"
   ]
  },
  {
   "cell_type": "code",
   "execution_count": null,
   "id": "cab29af1",
   "metadata": {},
   "outputs": [],
   "source": []
  },
  {
   "cell_type": "code",
   "execution_count": null,
   "id": "99dcb364",
   "metadata": {},
   "outputs": [],
   "source": []
  }
 ],
 "metadata": {
  "kernelspec": {
   "display_name": "Python 3 (ipykernel)",
   "language": "python",
   "name": "python3"
  },
  "language_info": {
   "codemirror_mode": {
    "name": "ipython",
    "version": 3
   },
   "file_extension": ".py",
   "mimetype": "text/x-python",
   "name": "python",
   "nbconvert_exporter": "python",
   "pygments_lexer": "ipython3",
   "version": "3.9.12"
  }
 },
 "nbformat": 4,
 "nbformat_minor": 5
}
