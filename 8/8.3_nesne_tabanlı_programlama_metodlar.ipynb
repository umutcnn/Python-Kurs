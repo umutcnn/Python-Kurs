{
 "cells": [
  {
   "cell_type": "code",
   "execution_count": 11,
   "id": "cd70d6e5",
   "metadata": {},
   "outputs": [
    {
     "name": "stdout",
     "output_type": "stream",
     "text": [
      "init metodu calıstı\n",
      "init metodu calıstı\n",
      "hello there I am ali\n",
      "hello there I am umut\n",
      "adim ali ve yasim32\n",
      "adim umut ve yasim21\n"
     ]
    }
   ],
   "source": [
    "class Person:\n",
    "    \n",
    "    #attiributes\n",
    "    address='no information'\n",
    "    \n",
    "    #constructor(yapici metod)\n",
    "    def __init__(self, name, year):\n",
    "        \n",
    "        #object attributes\n",
    "        self.name=name\n",
    "        self.year=year\n",
    "        print('init metodu calıstı')\n",
    "        \n",
    "        #instance methods\n",
    "    def intro(self):\n",
    "        print('hello there I am '+self.name)\n",
    "        #instance methods\n",
    "    def calculateAge(self):\n",
    "        return 2022-self.year\n",
    "    \n",
    "#object (instance)\n",
    "p1=Person(name='ali',year=1990)\n",
    "p2=Person(name='umut',year=2001)\n",
    "p1.intro()\n",
    "p2.intro()\n",
    "print(f'adim {p1.name} ve yasim {p1.calculateAge()}')\n",
    "print(f'adim {p2.name} ve yasim {p2.calculateAge()}')"
   ]
  },
  {
   "cell_type": "code",
   "execution_count": 21,
   "id": "b10fcf38",
   "metadata": {},
   "outputs": [
    {
     "name": "stdout",
     "output_type": "stream",
     "text": [
      "c1: alan = 3.14 cevre = 6.28\n",
      "c2: alan = 78.5 cevre = 31.400000000000002\n",
      "hello there I am ali\n"
     ]
    }
   ],
   "source": [
    "class Circle:\n",
    "    #class object attiribute\n",
    "    pi=3.14\n",
    "    def __init__(self,yaricap=1):\n",
    "        self.yaricap=yaricap\n",
    "        \n",
    "        \n",
    "    #metods\n",
    "    def cevreHesapla(self):\n",
    "        return 2 * self.pi * self.yaricap\n",
    "    def alanHesapla(self):\n",
    "        return self.pi*(self.yaricap**2)\n",
    "    #instance metods\n",
    "    def intro(self):\n",
    "        print(\"hello there\")\n",
    "c1=Circle()#yaricap==1    \n",
    "c2=Circle(5)\n",
    "\n",
    "\n",
    "print(f'c1: alan = {c1.alanHesapla()} cevre = {c1.cevreHesapla()}')\n",
    "print(f'c2: alan = {c2.alanHesapla()} cevre = {c2.cevreHesapla()}')\n",
    "p1.intro()\n"
   ]
  },
  {
   "cell_type": "code",
   "execution_count": null,
   "id": "8ec433f5",
   "metadata": {},
   "outputs": [],
   "source": []
  }
 ],
 "metadata": {
  "kernelspec": {
   "display_name": "Python 3 (ipykernel)",
   "language": "python",
   "name": "python3"
  },
  "language_info": {
   "codemirror_mode": {
    "name": "ipython",
    "version": 3
   },
   "file_extension": ".py",
   "mimetype": "text/x-python",
   "name": "python",
   "nbconvert_exporter": "python",
   "pygments_lexer": "ipython3",
   "version": "3.9.12"
  }
 },
 "nbformat": 4,
 "nbformat_minor": 5
}
