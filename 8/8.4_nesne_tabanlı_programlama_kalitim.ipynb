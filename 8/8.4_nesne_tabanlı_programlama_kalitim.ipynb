{
 "cells": [
  {
   "cell_type": "code",
   "execution_count": 9,
   "id": "102b2b7a",
   "metadata": {},
   "outputs": [
    {
     "name": "stdout",
     "output_type": "stream",
     "text": [
      "person Created\n",
      "person Created\n",
      "student Created\n",
      "person Created\n",
      "umut  yildiz\n",
      "can yildiz 321\n",
      "ı am a person\n",
      "ı am a person\n",
      "ı am eating\n",
      "ı am eating\n",
      "hello i am a student\n"
     ]
    }
   ],
   "source": [
    "class Person():\n",
    "    def __init__(self,fname,lname):\n",
    "        self.firstName=fname\n",
    "        self.lastName=lname\n",
    "        print('person Created')\n",
    "    \n",
    "    def who_am_i(self):\n",
    "        print(\"ı am a person\" )\n",
    "    def sayHello(self):\n",
    "        print('hello i am a student')\n",
    "    def eat(self):\n",
    "        print(\"ı am eating\")\n",
    "class Student(Person):\n",
    "    def __init__(self,fname,lname,number):\n",
    "        Person.__init__(self,fname,lname)\n",
    "        self.studentNumber=number\n",
    "        print('student Created')\n",
    "\n",
    "        \n",
    "class Teacher(Person):\n",
    "    def __init__(self,fname,lname,branch):\n",
    "        super().__init__(fname,lname)\n",
    "        self.branch=branch\n",
    "    def who_am_i(self):\n",
    "        print(f\"ı am a{self.branch} teacher\" )\n",
    "        \n",
    "p1=Person('umut ','yildiz')\n",
    "s1=Student('can','yildiz',321)\n",
    "t1=Teacher('berkay','yildiz','matematik')\n",
    "print(p1.firstName+' '+p1.lastName)\n",
    "print(s1.firstName+' '+s1.lastName+' '+str(s1.studentNumber))\n",
    "p1.who_am_i()\n",
    "s1.who_am_i()\n",
    "p1.eat()\n",
    "s1.eat()\n",
    "s1.sayHello()"
   ]
  },
  {
   "cell_type": "code",
   "execution_count": null,
   "id": "a5ffa2a7",
   "metadata": {},
   "outputs": [],
   "source": []
  }
 ],
 "metadata": {
  "kernelspec": {
   "display_name": "Python 3 (ipykernel)",
   "language": "python",
   "name": "python3"
  },
  "language_info": {
   "codemirror_mode": {
    "name": "ipython",
    "version": 3
   },
   "file_extension": ".py",
   "mimetype": "text/x-python",
   "name": "python",
   "nbconvert_exporter": "python",
   "pygments_lexer": "ipython3",
   "version": "3.9.12"
  }
 },
 "nbformat": 4,
 "nbformat_minor": 5
}
