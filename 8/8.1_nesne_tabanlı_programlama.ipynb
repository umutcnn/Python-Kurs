{
 "cells": [
  {
   "cell_type": "code",
   "execution_count": null,
   "id": "56b626de",
   "metadata": {},
   "outputs": [],
   "source": [
    "#clas \n",
    "list1=[1,2,3]\n",
    "list2=[1,2,3]\n",
    "\n",
    "result=type(list1)\n",
    "result=type(list2)"
   ]
  },
  {
   "cell_type": "code",
   "execution_count": null,
   "id": "5a184c57",
   "metadata": {},
   "outputs": [],
   "source": [
    "#instance{obje}"
   ]
  }
 ],
 "metadata": {
  "kernelspec": {
   "display_name": "Python 3 (ipykernel)",
   "language": "python",
   "name": "python3"
  },
  "language_info": {
   "codemirror_mode": {
    "name": "ipython",
    "version": 3
   },
   "file_extension": ".py",
   "mimetype": "text/x-python",
   "name": "python",
   "nbconvert_exporter": "python",
   "pygments_lexer": "ipython3",
   "version": "3.9.12"
  }
 },
 "nbformat": 4,
 "nbformat_minor": 5
}
