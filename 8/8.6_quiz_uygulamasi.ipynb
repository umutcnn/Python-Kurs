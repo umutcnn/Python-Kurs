{
 "cells": [
  {
   "cell_type": "code",
   "execution_count": 1,
   "id": "35fcd93c",
   "metadata": {},
   "outputs": [
    {
     "name": "stdout",
     "output_type": "stream",
     "text": [
      "True\n"
     ]
    }
   ],
   "source": [
    "class Question:\n",
    "    def __init__(self,text,choices,answer):\n",
    "        self.text=text\n",
    "        self.choices=choices\n",
    "        self.answer=answer\n",
    "    def checkAnswer(self,answer):\n",
    "        return self.answer==answer\n",
    "q1=Question(\"en iyi programlama dili hangisidir\",['c#','python','javascript','java'], 'python')\n",
    "q2=Question(\"en popüler dili hangisidir\",['c#','python','javascript','java'], 'python')\n",
    "q3=Question(\"en cok kazandiran dili hangisidir\",['c#','javascript','python','java'], 'python')\n",
    "list=[q1,q2,q3]\n",
    "print(q1.checkAnswer('python'))\n",
    "print(q2 .checkAnswer('c#'))\n",
    "\n",
    "\n"
   ]
  },
  {
   "cell_type": "code",
   "execution_count": 19,
   "id": "52ae9400",
   "metadata": {},
   "outputs": [
    {
     "name": "stdout",
     "output_type": "stream",
     "text": [
      "******************************************Question 1 of 5*******************************************\n",
      "soru 1: en iyi programlama dili hangisidir\n",
      "-c#\n",
      "-python\n",
      "-javascript\n",
      "-java\n",
      "cevap: python\n",
      "******************************************Question 2 of 5*******************************************\n",
      "soru 2: en popüler dili hangisidir\n",
      "-c#\n",
      "-python\n",
      "-javascript\n",
      "-java\n",
      "cevap: python\n",
      "******************************************Question 3 of 5*******************************************\n",
      "soru 3: en cok kazandiran dili hangisidir\n",
      "-c#\n",
      "-javascript\n",
      "-python\n",
      "-java\n",
      "cevap: python\n",
      "******************************************Question 4 of 5*******************************************\n",
      "soru 4: en sevilen kazandiran dili hangisidir\n",
      "-c#\n",
      "-javascript\n",
      "-python\n",
      "-java\n",
      "cevap: python\n",
      "******************************************Question 5 of 5*******************************************\n",
      "soru 5: en kolay kazandiran dili hangisidir\n",
      "-c#\n",
      "-javascript\n",
      "-python\n",
      "-java\n",
      "cevap: python\n",
      "score 5\n"
     ]
    }
   ],
   "source": [
    "class Question:\n",
    "    def __init__(self,text,choices,answer):\n",
    "        self.text=text\n",
    "        self.choices=choices\n",
    "        self.answer=answer\n",
    "    def checkAnswer(self,answer):\n",
    "        return self.answer==answer\n",
    "\n",
    "class Quiz:\n",
    "    def __init__(self,questions):\n",
    "        self.questions=questions\n",
    "        self.score=0\n",
    "        self.questionIndex=0\n",
    "        \n",
    "    def getQuestion(self):\n",
    "        return self.questions[self.questionIndex]\n",
    "        \n",
    "    def displayQuestion(self):\n",
    "        question=self.getQuestion()\n",
    "        print(f'soru {self.questionIndex+1}: {question.text}')\n",
    "        \n",
    "        for q in question.choices:\n",
    "            print('-'+q)\n",
    "            \n",
    "        answer=input('cevap: ')\n",
    "        self.guess(answer)\n",
    "        self.loadQuestion()\n",
    "        \n",
    "    def guess(self,answer):\n",
    "        question=self.getQuestion()\n",
    "        \n",
    "        if question.checkAnswer(answer):\n",
    "            self.score+=1\n",
    "        self.questionIndex+=1\n",
    "        \n",
    "    def loadQuestion(self):\n",
    "        if len(self.questions)==self.questionIndex:\n",
    "            self.showScore()\n",
    "        else:\n",
    "            self.displayProgrees()\n",
    "            self.displayQuestion()\n",
    "        \n",
    "    def showScore(self):\n",
    "        print('score',self.score)\n",
    "        \n",
    "    def displayProgrees(self):\n",
    "        totalQuestion=len(self.questions)\n",
    "        questionNumber=self.questionIndex+1\n",
    "        \n",
    "        if questionNumber>totalQuestion:\n",
    "            print(\"quiz bitti\")\n",
    "        else:\n",
    "            print(f'Question {questionNumber} of {totalQuestion}'.center(100,'*'))\n",
    "        \n",
    "q1=Question(\"en iyi programlama dili hangisidir\",['c#','python','javascript','java'], 'python')\n",
    "q2=Question(\"en popüler dili hangisidir\",['c#','python','javascript','java'], 'python')\n",
    "q3=Question(\"en cok kazandiran dili hangisidir\",['c#','javascript','python','java'], 'python')\n",
    "q4=Question(\"en sevilen kazandiran dili hangisidir\",['c#','javascript','python','java'], 'python')\n",
    "q5=Question(\"en kolay kazandiran dili hangisidir\",['c#','javascript','python','java'], 'python')\n",
    "\n",
    "questions=[q1,q2,q3,q4,q5]\n",
    "\n",
    "quiz=Quiz(questions)\n",
    "quiz.loadQuestion()"
   ]
  },
  {
   "cell_type": "code",
   "execution_count": null,
   "id": "06e37061",
   "metadata": {},
   "outputs": [],
   "source": []
  },
  {
   "cell_type": "code",
   "execution_count": null,
   "id": "4000716b",
   "metadata": {},
   "outputs": [],
   "source": []
  }
 ],
 "metadata": {
  "kernelspec": {
   "display_name": "Python 3 (ipykernel)",
   "language": "python",
   "name": "python3"
  },
  "language_info": {
   "codemirror_mode": {
    "name": "ipython",
    "version": 3
   },
   "file_extension": ".py",
   "mimetype": "text/x-python",
   "name": "python",
   "nbconvert_exporter": "python",
   "pygments_lexer": "ipython3",
   "version": "3.9.12"
  }
 },
 "nbformat": 4,
 "nbformat_minor": 5
}
